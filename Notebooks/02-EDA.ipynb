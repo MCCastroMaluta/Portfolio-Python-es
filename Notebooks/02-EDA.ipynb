{
 "cells": [
  {
   "cell_type": "markdown",
   "id": "b2c756ae",
   "metadata": {},
   "source": [
    "<div style=\"font-family: 'JetBrains Mono', monospace; font-size: 14px; color: #e2dbdbff; line-height: 1.6;\">\n",
    "\n",
    "## 📊 Exploratory Data Analysis (EDA)\n",
    "\n",
    "### ✅ Principales insights:\n",
    "\n",
    "- **29.87%** de los comercios tienen presencia web.\n",
    "- **Tandil** y **Olavarria** lideran en digitalización.\n",
    "- **Instagram 19.2%** y **Facebook 18.11** concentran la presencia en RRSS.\n",
    "- El puntaje promedio se mantiene **alto y constante (4.0 - 4.4)**.\n",
    "- **Categorías más comunes:** Hay 621 categorías registradas, lo que genera que los datos no sean precisos\n",
    "  - **Tienda de Ropa:** 7,92% con 464 registros\n",
    "  - **Tienda de Alimentación:** 6,25% con 366 registros\n",
    "  - **Comercio:** 5,68% con 333 registros\n",
    "  - **Agencia Inmobiliaria:** 3,07%\n",
    "\n",
    "</div>"
   ]
  },
  {
   "cell_type": "code",
   "execution_count": 69,
   "id": "3d0d7487",
   "metadata": {},
   "outputs": [],
   "source": [
    "# Se importan las librerias necesarias para la manipulación y visualización de datos.\n",
    "import pandas as pd\n",
    "import numpy as np\n",
    "import matplotlib.pyplot as plt\n",
    "import seaborn as sns"
   ]
  },
  {
   "cell_type": "code",
   "execution_count": 70,
   "id": "4cdeb340",
   "metadata": {},
   "outputs": [],
   "source": [
    "# Carga de datos desde archivo CSV\n",
    "df = pd.read_csv('../CleanData/Regional.csv')"
   ]
  },
  {
   "cell_type": "code",
   "execution_count": 71,
   "id": "2d47040a",
   "metadata": {},
   "outputs": [
    {
     "data": {
      "text/plain": [
       "(5859, 16)"
      ]
     },
     "execution_count": 71,
     "metadata": {},
     "output_type": "execute_result"
    }
   ],
   "source": [
    "# Obtenemos número de filas y columnas del DataFrame\n",
    "df.shape"
   ]
  },
  {
   "cell_type": "code",
   "execution_count": 72,
   "id": "f4331b09",
   "metadata": {},
   "outputs": [
    {
     "data": {
      "text/plain": [
       "93744"
      ]
     },
     "execution_count": 72,
     "metadata": {},
     "output_type": "execute_result"
    }
   ],
   "source": [
    "# Obtenemos el número de elementos en el DataFrame\n",
    "df.size"
   ]
  },
  {
   "cell_type": "code",
   "execution_count": 73,
   "id": "4b8f2179",
   "metadata": {},
   "outputs": [
    {
     "name": "stdout",
     "output_type": "stream",
     "text": [
      "<class 'pandas.core.frame.DataFrame'>\n",
      "RangeIndex: 5859 entries, 0 to 5858\n",
      "Data columns (total 16 columns):\n",
      " #   Column        Non-Null Count  Dtype  \n",
      "---  ------        --------------  -----  \n",
      " 0   title         5859 non-null   object \n",
      " 1   categoryName  5859 non-null   object \n",
      " 2   website       5859 non-null   object \n",
      " 3   street        5859 non-null   object \n",
      " 4   phone         5859 non-null   object \n",
      " 5   city          5859 non-null   object \n",
      " 6   state         5859 non-null   object \n",
      " 7   location/lat  5859 non-null   float64\n",
      " 8   location/lng  5859 non-null   float64\n",
      " 9   totalScore    5859 non-null   float64\n",
      " 10  rank          5859 non-null   int64  \n",
      " 11  imageUrl      5859 non-null   object \n",
      " 12  imagesCount   5859 non-null   float64\n",
      " 13  reviewsCount  5859 non-null   int64  \n",
      " 14  scrapedAt     5859 non-null   object \n",
      " 15  searchString  5859 non-null   object \n",
      "dtypes: float64(4), int64(2), object(10)\n",
      "memory usage: 732.5+ KB\n"
     ]
    }
   ],
   "source": [
    "# Información del DataFrame: \n",
    "# Número de filas y columnas, nombres y tipos de datos de las columnas,\n",
    "# valores no nulos en cada columna, uso de memoria\n",
    "df.info()"
   ]
  },
  {
   "cell_type": "code",
   "execution_count": 74,
   "id": "b3e9ef85",
   "metadata": {},
   "outputs": [
    {
     "data": {
      "application/vnd.microsoft.datawrangler.viewer.v0+json": {
       "columns": [
        {
         "name": "index",
         "rawType": "object",
         "type": "string"
        },
        {
         "name": "0",
         "rawType": "object",
         "type": "unknown"
        }
       ],
       "ref": "235cdee6-c862-4b56-ad13-bfe90426a59d",
       "rows": [
        [
         "title",
         "object"
        ],
        [
         "categoryName",
         "object"
        ],
        [
         "website",
         "object"
        ],
        [
         "street",
         "object"
        ],
        [
         "phone",
         "object"
        ],
        [
         "city",
         "object"
        ],
        [
         "state",
         "object"
        ],
        [
         "location/lat",
         "float64"
        ],
        [
         "location/lng",
         "float64"
        ],
        [
         "totalScore",
         "float64"
        ],
        [
         "rank",
         "int64"
        ],
        [
         "imageUrl",
         "object"
        ],
        [
         "imagesCount",
         "float64"
        ],
        [
         "reviewsCount",
         "int64"
        ],
        [
         "scrapedAt",
         "object"
        ],
        [
         "searchString",
         "object"
        ]
       ],
       "shape": {
        "columns": 1,
        "rows": 16
       }
      },
      "text/plain": [
       "title            object\n",
       "categoryName     object\n",
       "website          object\n",
       "street           object\n",
       "phone            object\n",
       "city             object\n",
       "state            object\n",
       "location/lat    float64\n",
       "location/lng    float64\n",
       "totalScore      float64\n",
       "rank              int64\n",
       "imageUrl         object\n",
       "imagesCount     float64\n",
       "reviewsCount      int64\n",
       "scrapedAt        object\n",
       "searchString     object\n",
       "dtype: object"
      ]
     },
     "execution_count": 74,
     "metadata": {},
     "output_type": "execute_result"
    }
   ],
   "source": [
    "# Análisis de tipos de datos para identificar variables numéricas y categóricas\n",
    "df.dtypes"
   ]
  },
  {
   "cell_type": "code",
   "execution_count": 75,
   "id": "cc02580f",
   "metadata": {},
   "outputs": [
    {
     "data": {
      "application/vnd.microsoft.datawrangler.viewer.v0+json": {
       "columns": [
        {
         "name": "index",
         "rawType": "int64",
         "type": "integer"
        },
        {
         "name": "scrapedAt",
         "rawType": "datetime64[ns]",
         "type": "datetime"
        }
       ],
       "ref": "15938738-5773-4f5d-bd62-1eb7d7cfeb73",
       "rows": [
        [
         "0",
         "2025-05-19 00:03:00"
        ],
        [
         "1",
         "2025-05-19 00:03:02"
        ],
        [
         "2",
         "2025-05-19 00:03:02"
        ],
        [
         "3",
         "2025-05-19 00:03:02"
        ],
        [
         "4",
         "2025-05-19 00:03:02"
        ],
        [
         "5",
         "2025-05-19 00:03:02"
        ],
        [
         "6",
         "2025-05-19 00:03:02"
        ],
        [
         "7",
         "2025-05-19 00:03:02"
        ],
        [
         "8",
         "2025-05-19 00:03:02"
        ],
        [
         "9",
         "2025-05-19 00:03:02"
        ],
        [
         "10",
         "2025-05-19 00:03:02"
        ],
        [
         "11",
         "2025-05-19 00:03:02"
        ],
        [
         "12",
         "2025-05-19 00:03:02"
        ],
        [
         "13",
         "2025-05-19 00:03:02"
        ],
        [
         "14",
         "2025-05-19 00:03:02"
        ],
        [
         "15",
         "2025-05-19 00:03:02"
        ],
        [
         "16",
         "2025-05-19 00:03:02"
        ],
        [
         "17",
         "2025-05-19 00:03:02"
        ],
        [
         "18",
         "2025-05-19 00:03:02"
        ],
        [
         "19",
         "2025-05-19 00:03:02"
        ],
        [
         "20",
         "2025-05-19 00:03:02"
        ],
        [
         "21",
         "2025-05-19 00:03:02"
        ],
        [
         "22",
         "2025-05-19 00:03:02"
        ],
        [
         "23",
         "2025-05-19 00:03:02"
        ],
        [
         "24",
         "2025-05-19 00:03:02"
        ],
        [
         "25",
         "2025-05-19 00:03:02"
        ],
        [
         "26",
         "2025-05-19 00:03:02"
        ],
        [
         "27",
         "2025-05-19 00:03:02"
        ],
        [
         "28",
         "2025-05-19 00:03:02"
        ],
        [
         "29",
         "2025-05-19 00:03:02"
        ],
        [
         "30",
         "2025-05-19 00:03:02"
        ],
        [
         "31",
         "2025-05-19 00:03:02"
        ],
        [
         "32",
         "2025-05-19 00:03:02"
        ],
        [
         "33",
         "2025-05-19 00:03:02"
        ],
        [
         "34",
         "2025-05-19 00:03:02"
        ],
        [
         "35",
         "2025-05-19 00:03:02"
        ],
        [
         "36",
         "2025-05-19 00:03:02"
        ],
        [
         "37",
         "2025-05-19 00:03:02"
        ],
        [
         "38",
         "2025-05-19 00:03:02"
        ],
        [
         "39",
         "2025-05-19 00:03:03"
        ],
        [
         "40",
         "2025-05-19 00:03:03"
        ],
        [
         "41",
         "2025-05-19 00:03:03"
        ],
        [
         "42",
         "2025-05-19 00:03:03"
        ],
        [
         "43",
         "2025-05-19 00:03:04"
        ],
        [
         "44",
         "2025-05-19 00:03:04"
        ],
        [
         "45",
         "2025-05-19 00:03:04"
        ],
        [
         "46",
         "2025-05-19 00:03:04"
        ],
        [
         "47",
         "2025-05-19 00:03:04"
        ],
        [
         "48",
         "2025-05-19 00:03:04"
        ],
        [
         "49",
         "2025-05-19 00:03:04"
        ]
       ],
       "shape": {
        "columns": 1,
        "rows": 5859
       }
      },
      "text/plain": [
       "0      2025-05-19 00:03:00\n",
       "1      2025-05-19 00:03:02\n",
       "2      2025-05-19 00:03:02\n",
       "3      2025-05-19 00:03:02\n",
       "4      2025-05-19 00:03:02\n",
       "               ...        \n",
       "5854   2025-07-30 15:10:41\n",
       "5855   2025-07-30 15:10:41\n",
       "5856   2025-07-30 15:10:56\n",
       "5857   2025-07-30 15:10:58\n",
       "5858   2025-07-30 15:10:59\n",
       "Name: scrapedAt, Length: 5859, dtype: datetime64[ns]"
      ]
     },
     "execution_count": 75,
     "metadata": {},
     "output_type": "execute_result"
    }
   ],
   "source": [
    "# Convertir fecha de scraping manteniendo formato datetime\n",
    "# Esto permite análisis temporales futuros (ej: comparar con scraping en 6 meses)\n",
    "df['scrapedAt'] = pd.to_datetime(\n",
    "    df['scrapedAt'], \n",
    "    errors='coerce',  # Maneja fechas inválidas sin romper el código\n",
    "    utc=True          # Estandariza zona horaria para comparaciones\n",
    ").dt.floor('s').dt.tz_localize(None)  # Elimina timezone para visualización limpia\n",
    "df['scrapedAt']"
   ]
  },
  {
   "cell_type": "code",
   "execution_count": 76,
   "id": "165a7743",
   "metadata": {},
   "outputs": [
    {
     "data": {
      "application/vnd.microsoft.datawrangler.viewer.v0+json": {
       "columns": [
        {
         "name": "index",
         "rawType": "int64",
         "type": "integer"
        },
        {
         "name": "title",
         "rawType": "object",
         "type": "string"
        },
        {
         "name": "categoryName",
         "rawType": "object",
         "type": "string"
        },
        {
         "name": "website",
         "rawType": "object",
         "type": "string"
        },
        {
         "name": "street",
         "rawType": "object",
         "type": "string"
        },
        {
         "name": "phone",
         "rawType": "object",
         "type": "string"
        },
        {
         "name": "city",
         "rawType": "object",
         "type": "string"
        },
        {
         "name": "state",
         "rawType": "object",
         "type": "string"
        },
        {
         "name": "location/lat",
         "rawType": "float64",
         "type": "float"
        },
        {
         "name": "location/lng",
         "rawType": "float64",
         "type": "float"
        },
        {
         "name": "totalScore",
         "rawType": "float64",
         "type": "float"
        },
        {
         "name": "rank",
         "rawType": "int64",
         "type": "integer"
        },
        {
         "name": "imageUrl",
         "rawType": "object",
         "type": "string"
        },
        {
         "name": "imagesCount",
         "rawType": "float64",
         "type": "float"
        },
        {
         "name": "reviewsCount",
         "rawType": "int64",
         "type": "integer"
        },
        {
         "name": "scrapedAt",
         "rawType": "datetime64[ns]",
         "type": "datetime"
        },
        {
         "name": "searchString",
         "rawType": "object",
         "type": "string"
        }
       ],
       "ref": "0e8925ae-ddf4-4ee8-941a-6e54f7f02302",
       "rows": [
        [
         "0",
         "La Casa De Los Trofeos",
         "Comercio",
         "Incomplete",
         "Rivadavia 496",
         "Incomplete",
         "Azul",
         "Provincia de Buenos Aires",
         "-36.7746611",
         "-59.8626234",
         "0.0",
         "1",
         "Incomplete",
         "0.0",
         "0",
         "2025-05-19 00:03:00",
         "Comercio"
        ],
        [
         "1",
         "La Escoba Loca",
         "Tienda De Artículos Para El Hogar",
         "Incomplete",
         "Colón Nte. 117",
         "+54 9 2281 50-2996",
         "Azul",
         "Provincia de Buenos Aires",
         "-36.7672813",
         "-59.851848",
         "4.8",
         "1",
         "https://lh3.googleusercontent.com/gps-cs-s/AC9h4nrQAaOmvZ2z1z4lvQMpA2KLuyQFp5o7mGWzDytv5YF0PQfwP7XAE6kj-TlUSNLzb_IKC7RiPbPlQmsIhl80ixI-u75r5xA2BufhbZirEShz8aLrep1Ejb9JV3W-W_GeTpQtjyyg=w408-h544-k-no",
         "44.0",
         "73",
         "2025-05-19 00:03:02",
         "Comercio"
        ],
        [
         "2",
         "Artículos Magali",
         "Tienda General",
         "Incomplete",
         "Monseñor Caneva Nte. 160",
         "+54 9 2281 31-0611",
         "Azul",
         "Provincia de Buenos Aires",
         "-36.7743527",
         "-59.8418982",
         "4.3",
         "2",
         "Incomplete",
         "0.0",
         "12",
         "2025-05-19 00:03:02",
         "Comercio"
        ],
        [
         "3",
         "Autoservicio San Jorge",
         "Comercio",
         "Incomplete",
         "Burgos Nte. 100",
         "+54 9 2281 42-3119",
         "Azul",
         "Provincia de Buenos Aires",
         "-36.7681448",
         "-59.8513049",
         "4.6",
         "3",
         "https://lh3.googleusercontent.com/p/AF1QipPV0VYkVvn3zfCgualFjP9POsmAYza7YT0ETBJ_=w426-h240-k-no",
         "6.0",
         "127",
         "2025-05-19 00:03:02",
         "Comercio"
        ],
        [
         "4",
         "Asociacion Latina De Exportacion Sa",
         "Comercio",
         "Incomplete",
         "Julio Argentino Roca 846",
         "+54 9 2281 43-0338",
         "Azul",
         "Provincia de Buenos Aires",
         "-36.7850672",
         "-59.8592544",
         "3.3",
         "4",
         "https://streetviewpixels-pa.googleapis.com/v1/thumbnail?panoid=WQnGTmaSbHhcH7RNl-Hcog&cb_client=search.gws-prod.gps&w=408&h=240&yaw=50.672348&pitch=0&thumbfov=100",
         "1.0",
         "4",
         "2025-05-19 00:03:02",
         "Comercio"
        ],
        [
         "5",
         "Jaque Mate",
         "Comercio",
         "Incomplete",
         "IAA, Colón 45",
         "Incomplete",
         "Azul",
         "Provincia de Buenos Aires",
         "-36.7693194",
         "-59.8543425",
         "5.0",
         "5",
         "https://lh3.googleusercontent.com/gps-cs-s/AC9h4no-ld7lXWCQUeWg4z8HfT7KG8LKlNTrSojCgOveNXmNyGPhPmAgfMZt8grKiPZpTYfnxi6M8oAxEfSXFqXK7Ru88zRv-S4pUHxmGj8txK39YtlozKMcTZXJ0Uf6O2W3jX_sDb-T6f536iM=w408-h883-k-no",
         "11.0",
         "2",
         "2025-05-19 00:03:02",
         "Comercio"
        ],
        [
         "6",
         "Eco System Sa",
         "Comercio",
         "Incomplete",
         "Av. Mujica",
         "+54 9 2281 43-0966",
         "Azul",
         "Provincia de Buenos Aires",
         "-36.7661061",
         "-59.8362925",
         "5.0",
         "6",
         "https://streetviewpixels-pa.googleapis.com/v1/thumbnail?panoid=uW1gIEYIb6eTk-GEEOD40A&cb_client=search.gws-prod.gps&w=408&h=240&yaw=133.1178&pitch=0&thumbfov=100",
         "1.0",
         "1",
         "2025-05-19 00:03:02",
         "Comercio"
        ],
        [
         "7",
         "Despensa Y Anexos Biyo",
         "Tienda De Alimentación",
         "Incomplete",
         "Aldaz 451-499",
         "+54 9 2281 49-3233",
         "Azul",
         "Provincia de Buenos Aires",
         "-36.7645249",
         "-59.8461452",
         "4.5",
         "7",
         "https://streetviewpixels-pa.googleapis.com/v1/thumbnail?panoid=NxYDTV1c0W15YmWcWI15WA&cb_client=search.gws-prod.gps&w=408&h=240&yaw=253.79605&pitch=0&thumbfov=100",
         "2.0",
         "36",
         "2025-05-19 00:03:02",
         "Comercio"
        ],
        [
         "8",
         "El Trueque Azul",
         "Comercio",
         "Incomplete",
         "Incomplete",
         "Incomplete",
         "Azul",
         "Provincia de Buenos Aires",
         "-36.7586679",
         "-59.8739276",
         "4.0",
         "8",
         "https://streetviewpixels-pa.googleapis.com/v1/thumbnail?panoid=rclGYuv_nGbWkHFrbcaQ7g&cb_client=search.gws-prod.gps&w=408&h=240&yaw=206.82645&pitch=0&thumbfov=100",
         "1.0",
         "10",
         "2025-05-19 00:03:02",
         "Comercio"
        ],
        [
         "9",
         "La Fiambreria",
         "Carnicería",
         "Incomplete",
         "Necochea 74 B7300FVB",
         "Incomplete",
         "Azul",
         "Provincia de Buenos Aires",
         "-36.7736897",
         "-59.8507104",
         "0.0",
         "9",
         "Incomplete",
         "0.0",
         "0",
         "2025-05-19 00:03:02",
         "Comercio"
        ]
       ],
       "shape": {
        "columns": 16,
        "rows": 10
       }
      },
      "text/html": [
       "<div>\n",
       "<style scoped>\n",
       "    .dataframe tbody tr th:only-of-type {\n",
       "        vertical-align: middle;\n",
       "    }\n",
       "\n",
       "    .dataframe tbody tr th {\n",
       "        vertical-align: top;\n",
       "    }\n",
       "\n",
       "    .dataframe thead th {\n",
       "        text-align: right;\n",
       "    }\n",
       "</style>\n",
       "<table border=\"1\" class=\"dataframe\">\n",
       "  <thead>\n",
       "    <tr style=\"text-align: right;\">\n",
       "      <th></th>\n",
       "      <th>title</th>\n",
       "      <th>categoryName</th>\n",
       "      <th>website</th>\n",
       "      <th>street</th>\n",
       "      <th>phone</th>\n",
       "      <th>city</th>\n",
       "      <th>state</th>\n",
       "      <th>location/lat</th>\n",
       "      <th>location/lng</th>\n",
       "      <th>totalScore</th>\n",
       "      <th>rank</th>\n",
       "      <th>imageUrl</th>\n",
       "      <th>imagesCount</th>\n",
       "      <th>reviewsCount</th>\n",
       "      <th>scrapedAt</th>\n",
       "      <th>searchString</th>\n",
       "    </tr>\n",
       "  </thead>\n",
       "  <tbody>\n",
       "    <tr>\n",
       "      <th>0</th>\n",
       "      <td>La Casa De Los Trofeos</td>\n",
       "      <td>Comercio</td>\n",
       "      <td>Incomplete</td>\n",
       "      <td>Rivadavia 496</td>\n",
       "      <td>Incomplete</td>\n",
       "      <td>Azul</td>\n",
       "      <td>Provincia de Buenos Aires</td>\n",
       "      <td>-36.774661</td>\n",
       "      <td>-59.862623</td>\n",
       "      <td>0.0</td>\n",
       "      <td>1</td>\n",
       "      <td>Incomplete</td>\n",
       "      <td>0.0</td>\n",
       "      <td>0</td>\n",
       "      <td>2025-05-19 00:03:00</td>\n",
       "      <td>Comercio</td>\n",
       "    </tr>\n",
       "    <tr>\n",
       "      <th>1</th>\n",
       "      <td>La Escoba Loca</td>\n",
       "      <td>Tienda De Artículos Para El Hogar</td>\n",
       "      <td>Incomplete</td>\n",
       "      <td>Colón Nte. 117</td>\n",
       "      <td>+54 9 2281 50-2996</td>\n",
       "      <td>Azul</td>\n",
       "      <td>Provincia de Buenos Aires</td>\n",
       "      <td>-36.767281</td>\n",
       "      <td>-59.851848</td>\n",
       "      <td>4.8</td>\n",
       "      <td>1</td>\n",
       "      <td>https://lh3.googleusercontent.com/gps-cs-s/AC9...</td>\n",
       "      <td>44.0</td>\n",
       "      <td>73</td>\n",
       "      <td>2025-05-19 00:03:02</td>\n",
       "      <td>Comercio</td>\n",
       "    </tr>\n",
       "    <tr>\n",
       "      <th>2</th>\n",
       "      <td>Artículos Magali</td>\n",
       "      <td>Tienda General</td>\n",
       "      <td>Incomplete</td>\n",
       "      <td>Monseñor Caneva Nte. 160</td>\n",
       "      <td>+54 9 2281 31-0611</td>\n",
       "      <td>Azul</td>\n",
       "      <td>Provincia de Buenos Aires</td>\n",
       "      <td>-36.774353</td>\n",
       "      <td>-59.841898</td>\n",
       "      <td>4.3</td>\n",
       "      <td>2</td>\n",
       "      <td>Incomplete</td>\n",
       "      <td>0.0</td>\n",
       "      <td>12</td>\n",
       "      <td>2025-05-19 00:03:02</td>\n",
       "      <td>Comercio</td>\n",
       "    </tr>\n",
       "    <tr>\n",
       "      <th>3</th>\n",
       "      <td>Autoservicio San Jorge</td>\n",
       "      <td>Comercio</td>\n",
       "      <td>Incomplete</td>\n",
       "      <td>Burgos Nte. 100</td>\n",
       "      <td>+54 9 2281 42-3119</td>\n",
       "      <td>Azul</td>\n",
       "      <td>Provincia de Buenos Aires</td>\n",
       "      <td>-36.768145</td>\n",
       "      <td>-59.851305</td>\n",
       "      <td>4.6</td>\n",
       "      <td>3</td>\n",
       "      <td>https://lh3.googleusercontent.com/p/AF1QipPV0V...</td>\n",
       "      <td>6.0</td>\n",
       "      <td>127</td>\n",
       "      <td>2025-05-19 00:03:02</td>\n",
       "      <td>Comercio</td>\n",
       "    </tr>\n",
       "    <tr>\n",
       "      <th>4</th>\n",
       "      <td>Asociacion Latina De Exportacion Sa</td>\n",
       "      <td>Comercio</td>\n",
       "      <td>Incomplete</td>\n",
       "      <td>Julio Argentino Roca 846</td>\n",
       "      <td>+54 9 2281 43-0338</td>\n",
       "      <td>Azul</td>\n",
       "      <td>Provincia de Buenos Aires</td>\n",
       "      <td>-36.785067</td>\n",
       "      <td>-59.859254</td>\n",
       "      <td>3.3</td>\n",
       "      <td>4</td>\n",
       "      <td>https://streetviewpixels-pa.googleapis.com/v1/...</td>\n",
       "      <td>1.0</td>\n",
       "      <td>4</td>\n",
       "      <td>2025-05-19 00:03:02</td>\n",
       "      <td>Comercio</td>\n",
       "    </tr>\n",
       "    <tr>\n",
       "      <th>5</th>\n",
       "      <td>Jaque Mate</td>\n",
       "      <td>Comercio</td>\n",
       "      <td>Incomplete</td>\n",
       "      <td>IAA, Colón 45</td>\n",
       "      <td>Incomplete</td>\n",
       "      <td>Azul</td>\n",
       "      <td>Provincia de Buenos Aires</td>\n",
       "      <td>-36.769319</td>\n",
       "      <td>-59.854343</td>\n",
       "      <td>5.0</td>\n",
       "      <td>5</td>\n",
       "      <td>https://lh3.googleusercontent.com/gps-cs-s/AC9...</td>\n",
       "      <td>11.0</td>\n",
       "      <td>2</td>\n",
       "      <td>2025-05-19 00:03:02</td>\n",
       "      <td>Comercio</td>\n",
       "    </tr>\n",
       "    <tr>\n",
       "      <th>6</th>\n",
       "      <td>Eco System Sa</td>\n",
       "      <td>Comercio</td>\n",
       "      <td>Incomplete</td>\n",
       "      <td>Av. Mujica</td>\n",
       "      <td>+54 9 2281 43-0966</td>\n",
       "      <td>Azul</td>\n",
       "      <td>Provincia de Buenos Aires</td>\n",
       "      <td>-36.766106</td>\n",
       "      <td>-59.836292</td>\n",
       "      <td>5.0</td>\n",
       "      <td>6</td>\n",
       "      <td>https://streetviewpixels-pa.googleapis.com/v1/...</td>\n",
       "      <td>1.0</td>\n",
       "      <td>1</td>\n",
       "      <td>2025-05-19 00:03:02</td>\n",
       "      <td>Comercio</td>\n",
       "    </tr>\n",
       "    <tr>\n",
       "      <th>7</th>\n",
       "      <td>Despensa Y Anexos Biyo</td>\n",
       "      <td>Tienda De Alimentación</td>\n",
       "      <td>Incomplete</td>\n",
       "      <td>Aldaz 451-499</td>\n",
       "      <td>+54 9 2281 49-3233</td>\n",
       "      <td>Azul</td>\n",
       "      <td>Provincia de Buenos Aires</td>\n",
       "      <td>-36.764525</td>\n",
       "      <td>-59.846145</td>\n",
       "      <td>4.5</td>\n",
       "      <td>7</td>\n",
       "      <td>https://streetviewpixels-pa.googleapis.com/v1/...</td>\n",
       "      <td>2.0</td>\n",
       "      <td>36</td>\n",
       "      <td>2025-05-19 00:03:02</td>\n",
       "      <td>Comercio</td>\n",
       "    </tr>\n",
       "    <tr>\n",
       "      <th>8</th>\n",
       "      <td>El Trueque Azul</td>\n",
       "      <td>Comercio</td>\n",
       "      <td>Incomplete</td>\n",
       "      <td>Incomplete</td>\n",
       "      <td>Incomplete</td>\n",
       "      <td>Azul</td>\n",
       "      <td>Provincia de Buenos Aires</td>\n",
       "      <td>-36.758668</td>\n",
       "      <td>-59.873928</td>\n",
       "      <td>4.0</td>\n",
       "      <td>8</td>\n",
       "      <td>https://streetviewpixels-pa.googleapis.com/v1/...</td>\n",
       "      <td>1.0</td>\n",
       "      <td>10</td>\n",
       "      <td>2025-05-19 00:03:02</td>\n",
       "      <td>Comercio</td>\n",
       "    </tr>\n",
       "    <tr>\n",
       "      <th>9</th>\n",
       "      <td>La Fiambreria</td>\n",
       "      <td>Carnicería</td>\n",
       "      <td>Incomplete</td>\n",
       "      <td>Necochea 74 B7300FVB</td>\n",
       "      <td>Incomplete</td>\n",
       "      <td>Azul</td>\n",
       "      <td>Provincia de Buenos Aires</td>\n",
       "      <td>-36.773690</td>\n",
       "      <td>-59.850710</td>\n",
       "      <td>0.0</td>\n",
       "      <td>9</td>\n",
       "      <td>Incomplete</td>\n",
       "      <td>0.0</td>\n",
       "      <td>0</td>\n",
       "      <td>2025-05-19 00:03:02</td>\n",
       "      <td>Comercio</td>\n",
       "    </tr>\n",
       "  </tbody>\n",
       "</table>\n",
       "</div>"
      ],
      "text/plain": [
       "                                 title                       categoryName  \\\n",
       "0               La Casa De Los Trofeos                           Comercio   \n",
       "1                       La Escoba Loca  Tienda De Artículos Para El Hogar   \n",
       "2                     Artículos Magali                     Tienda General   \n",
       "3               Autoservicio San Jorge                           Comercio   \n",
       "4  Asociacion Latina De Exportacion Sa                           Comercio   \n",
       "5                           Jaque Mate                           Comercio   \n",
       "6                        Eco System Sa                           Comercio   \n",
       "7               Despensa Y Anexos Biyo             Tienda De Alimentación   \n",
       "8                      El Trueque Azul                           Comercio   \n",
       "9                        La Fiambreria                         Carnicería   \n",
       "\n",
       "      website                    street               phone  city  \\\n",
       "0  Incomplete             Rivadavia 496          Incomplete  Azul   \n",
       "1  Incomplete            Colón Nte. 117  +54 9 2281 50-2996  Azul   \n",
       "2  Incomplete  Monseñor Caneva Nte. 160  +54 9 2281 31-0611  Azul   \n",
       "3  Incomplete           Burgos Nte. 100  +54 9 2281 42-3119  Azul   \n",
       "4  Incomplete  Julio Argentino Roca 846  +54 9 2281 43-0338  Azul   \n",
       "5  Incomplete             IAA, Colón 45          Incomplete  Azul   \n",
       "6  Incomplete                Av. Mujica  +54 9 2281 43-0966  Azul   \n",
       "7  Incomplete             Aldaz 451-499  +54 9 2281 49-3233  Azul   \n",
       "8  Incomplete                Incomplete          Incomplete  Azul   \n",
       "9  Incomplete      Necochea 74 B7300FVB          Incomplete  Azul   \n",
       "\n",
       "                       state  location/lat  location/lng  totalScore  rank  \\\n",
       "0  Provincia de Buenos Aires    -36.774661    -59.862623         0.0     1   \n",
       "1  Provincia de Buenos Aires    -36.767281    -59.851848         4.8     1   \n",
       "2  Provincia de Buenos Aires    -36.774353    -59.841898         4.3     2   \n",
       "3  Provincia de Buenos Aires    -36.768145    -59.851305         4.6     3   \n",
       "4  Provincia de Buenos Aires    -36.785067    -59.859254         3.3     4   \n",
       "5  Provincia de Buenos Aires    -36.769319    -59.854343         5.0     5   \n",
       "6  Provincia de Buenos Aires    -36.766106    -59.836292         5.0     6   \n",
       "7  Provincia de Buenos Aires    -36.764525    -59.846145         4.5     7   \n",
       "8  Provincia de Buenos Aires    -36.758668    -59.873928         4.0     8   \n",
       "9  Provincia de Buenos Aires    -36.773690    -59.850710         0.0     9   \n",
       "\n",
       "                                            imageUrl  imagesCount  \\\n",
       "0                                         Incomplete          0.0   \n",
       "1  https://lh3.googleusercontent.com/gps-cs-s/AC9...         44.0   \n",
       "2                                         Incomplete          0.0   \n",
       "3  https://lh3.googleusercontent.com/p/AF1QipPV0V...          6.0   \n",
       "4  https://streetviewpixels-pa.googleapis.com/v1/...          1.0   \n",
       "5  https://lh3.googleusercontent.com/gps-cs-s/AC9...         11.0   \n",
       "6  https://streetviewpixels-pa.googleapis.com/v1/...          1.0   \n",
       "7  https://streetviewpixels-pa.googleapis.com/v1/...          2.0   \n",
       "8  https://streetviewpixels-pa.googleapis.com/v1/...          1.0   \n",
       "9                                         Incomplete          0.0   \n",
       "\n",
       "   reviewsCount           scrapedAt searchString  \n",
       "0             0 2025-05-19 00:03:00     Comercio  \n",
       "1            73 2025-05-19 00:03:02     Comercio  \n",
       "2            12 2025-05-19 00:03:02     Comercio  \n",
       "3           127 2025-05-19 00:03:02     Comercio  \n",
       "4             4 2025-05-19 00:03:02     Comercio  \n",
       "5             2 2025-05-19 00:03:02     Comercio  \n",
       "6             1 2025-05-19 00:03:02     Comercio  \n",
       "7            36 2025-05-19 00:03:02     Comercio  \n",
       "8            10 2025-05-19 00:03:02     Comercio  \n",
       "9             0 2025-05-19 00:03:02     Comercio  "
      ]
     },
     "execution_count": 76,
     "metadata": {},
     "output_type": "execute_result"
    }
   ],
   "source": [
    "# Visualizar las primeras 10 filas para entender la estructura\n",
    "df.head(10)"
   ]
  },
  {
   "cell_type": "code",
   "execution_count": 77,
   "id": "2332fdd0",
   "metadata": {},
   "outputs": [
    {
     "data": {
      "application/vnd.microsoft.datawrangler.viewer.v0+json": {
       "columns": [
        {
         "name": "index",
         "rawType": "int64",
         "type": "integer"
        },
        {
         "name": "title",
         "rawType": "object",
         "type": "string"
        },
        {
         "name": "categoryName",
         "rawType": "object",
         "type": "string"
        },
        {
         "name": "website",
         "rawType": "object",
         "type": "string"
        },
        {
         "name": "street",
         "rawType": "object",
         "type": "string"
        },
        {
         "name": "phone",
         "rawType": "object",
         "type": "string"
        },
        {
         "name": "city",
         "rawType": "object",
         "type": "string"
        },
        {
         "name": "state",
         "rawType": "object",
         "type": "string"
        },
        {
         "name": "location/lat",
         "rawType": "float64",
         "type": "float"
        },
        {
         "name": "location/lng",
         "rawType": "float64",
         "type": "float"
        },
        {
         "name": "totalScore",
         "rawType": "float64",
         "type": "float"
        },
        {
         "name": "rank",
         "rawType": "int64",
         "type": "integer"
        },
        {
         "name": "imageUrl",
         "rawType": "object",
         "type": "string"
        },
        {
         "name": "imagesCount",
         "rawType": "float64",
         "type": "float"
        },
        {
         "name": "reviewsCount",
         "rawType": "int64",
         "type": "integer"
        },
        {
         "name": "scrapedAt",
         "rawType": "datetime64[ns]",
         "type": "datetime"
        },
        {
         "name": "searchString",
         "rawType": "object",
         "type": "string"
        }
       ],
       "ref": "09f983eb-103d-45ff-a214-338bb6ea445e",
       "rows": [
        [
         "5849",
         "Polideportivo Municipal",
         "Escuela Deportiva",
         "Incomplete",
         "Incomplete",
         "Incomplete",
         "Rauch",
         "Provincia de Buenos Aires",
         "-36.7702901",
         "-59.0998037",
         "5.0",
         "7",
         "https://lh3.googleusercontent.com/gps-cs-s/AC9h4noerQRfwKIHlmwTOvJV31R09OdzlGIC78fpRUauVxHgTSZ5BFGbPpCdeVzeSdvErraWKHAMKmbtQxusp898Dow-8zt0LNKZGcdpaItybQ8VQZPN9Sw7c4AovRlb1-1lhf5pQ0LAog=w408-h544-k-no",
         "2.0",
         "20",
         "2025-07-30 15:10:11",
         "Deportivo"
        ],
        [
         "5850",
         "Burbujas Lavandería",
         "Servicio De Lavandería",
         "Incomplete",
         "Almte. Brown 254",
         "+54 9 249 448-5227",
         "Rauch",
         "Provincia de Buenos Aires",
         "-36.7805762",
         "-59.0886083",
         "5.0",
         "16",
         "https://lh3.googleusercontent.com/gps-cs-s/AC9h4nrY3CGd_WV6aQB8euPWKPoPMm0ZpUI0ZebpJDi1XfHUAiYZMyI1MthnE7aaP_OBVzhnXm66rgzIdQjZy42bMbuJnOmRoWNhPFoKEzlc0lDXmvlEFW7KWI3pXbrN_4h2hJZmTjIb=w533-h240-k-no",
         "7.0",
         "39",
         "2025-07-30 15:10:20",
         "Ropa"
        ],
        [
         "5851",
         "Bo. Jardín Empleados De Comercio",
         "Complejo De Viviendas",
         "Incomplete",
         "Sin Nombre",
         "Incomplete",
         "Rauch",
         "Provincia de Buenos Aires",
         "-36.7761257",
         "-59.0778009",
         "4.4",
         "25",
         "Incomplete",
         "0.0",
         "30",
         "2025-07-30 15:10:24",
         "Comercio"
        ],
        [
         "5852",
         "Taller Mecánico Juan Carlos Botta",
         "Taller Mecánico",
         "Incomplete",
         "Azcuénaga 299-201",
         "+54 9 249 450-1086",
         "Rauch",
         "Provincia de Buenos Aires",
         "-36.7722445",
         "-59.0795924",
         "0.0",
         "25",
         "https://streetviewpixels-pa.googleapis.com/v1/thumbnail?panoid=HO21QREPBW_es8WhXeCYYA&cb_client=search.gws-prod.gps&w=408&h=240&yaw=320.40582&pitch=0&thumbfov=100",
         "2.0",
         "0",
         "2025-07-30 15:10:27",
         "Vehiculos"
        ],
        [
         "5853",
         "Taller Mecanico Penedo",
         "Taller De Automóviles",
         "Incomplete",
         "RP30 1400",
         "+54 9 249 434-5802",
         "Rauch",
         "Provincia de Buenos Aires",
         "-36.7635152",
         "-59.0890122",
         "0.0",
         "30",
         "https://lh3.googleusercontent.com/gps-cs-s/AC9h4nrTLtDJnsOt3fTH_mEv89zMjY3PD7cFqKZVJv8YM_oi9RYb1tSrtWEtaOBeALWmZUODaq303vAGtDAxUV3N4phSEsinHnYjAi5nLc1K7A-5GZezqzBwVROxwwQeLoINulteIdWv=w408-h816-k-no",
         "7.0",
         "0",
         "2025-07-30 15:10:35",
         "Vehiculos"
        ],
        [
         "5854",
         "Cerrajeria Hugo",
         "Cerrajero",
         "Incomplete",
         "Brandsen 1792",
         "+54 9 2297 44-2572",
         "Rauch",
         "Provincia de Buenos Aires",
         "-36.7719122",
         "-59.0896864",
         "4.6",
         "19",
         "https://lh3.googleusercontent.com/gps-cs-s/AC9h4noilSBYCPAXPbQk8XpxzrQR-cJYzW2jwM-MIxvzoJcmdPouftRPOvpcOp38K_PHDeuVrgyGcVMYqKiHbdhjR9ill7WckimQG9W0cf-9rq4ar1ONE86j6ko9bWdSzLLs1o6fSqGH=w408-h306-k-no",
         "3.0",
         "20",
         "2025-07-30 15:10:41",
         "Construccion"
        ],
        [
         "5855",
         "Signos Arte Grafico",
         "Servicios De Diseño",
         "Incomplete",
         "Av. San Martín 920",
         "+54 9 249 469-4342",
         "Rauch",
         "Provincia de Buenos Aires",
         "-36.7728347",
         "-59.0862387",
         "0.0",
         "16",
         "https://streetviewpixels-pa.googleapis.com/v1/thumbnail?panoid=vbBKdQclRq4eYvyPz5rxYQ&cb_client=search.gws-prod.gps&w=408&h=240&yaw=122.58526&pitch=0&thumbfov=100",
         "1.0",
         "0",
         "2025-07-30 15:10:41",
         "Construccion"
        ],
        [
         "5856",
         "Registro Nacional De La Propiedad Del Automotor",
         "Agencia De Registro De Automóviles",
         "Incomplete",
         "Cnel. Suárez 86",
         "+54 9 2297 44-0468",
         "Rauch",
         "Provincia de Buenos Aires",
         "-36.7766367",
         "-59.089069",
         "4.4",
         "17",
         "https://streetviewpixels-pa.googleapis.com/v1/thumbnail?panoid=SdfcKzoi80QySIVCzb6C_A&cb_client=search.gws-prod.gps&w=408&h=240&yaw=35.724316&pitch=0&thumbfov=100",
         "1.0",
         "20",
         "2025-07-30 15:10:56",
         "Vehiculos"
        ],
        [
         "5857",
         "Carpintería Tedesco Hermanos",
         "Carpintero",
         "Incomplete",
         "9 de Julio 145, B7203ABC",
         "+54 9 249 435-9904",
         "Rauch",
         "Provincia de Buenos Aires",
         "-36.7758918",
         "-59.0936775",
         "0.0",
         "28",
         "https://streetviewpixels-pa.googleapis.com/v1/thumbnail?panoid=2L8c8yBuIx-1ZnAr7R6BVg&cb_client=search.gws-prod.gps&w=408&h=240&yaw=61.96242&pitch=0&thumbfov=100",
         "2.0",
         "0",
         "2025-07-30 15:10:58",
         "Construccion"
        ],
        [
         "5858",
         "Zapatería Tofi",
         "Zapatero",
         "Incomplete",
         "Av. Gral. Paz",
         "+54 9 249 421-6088",
         "Rauch",
         "Provincia de Buenos Aires",
         "-36.7773762",
         "-59.0780092",
         "4.9",
         "29",
         "https://lh3.googleusercontent.com/gps-cs-s/AC9h4nqdzKPce2SBPm276i3_ZA-p2ISU6XerYKqE3IrOcRDhmS-PHbX8IVw8yYOwvKI54lBQNnvrG0n6qpGUCX-vYFynMDr_tmWUePDYZk15bBIBCO_0_DfERoAQf82FZ7NUdYu07qor=w408-h725-k-no",
         "3.0",
         "16",
         "2025-07-30 15:10:59",
         "Tienda"
        ]
       ],
       "shape": {
        "columns": 16,
        "rows": 10
       }
      },
      "text/html": [
       "<div>\n",
       "<style scoped>\n",
       "    .dataframe tbody tr th:only-of-type {\n",
       "        vertical-align: middle;\n",
       "    }\n",
       "\n",
       "    .dataframe tbody tr th {\n",
       "        vertical-align: top;\n",
       "    }\n",
       "\n",
       "    .dataframe thead th {\n",
       "        text-align: right;\n",
       "    }\n",
       "</style>\n",
       "<table border=\"1\" class=\"dataframe\">\n",
       "  <thead>\n",
       "    <tr style=\"text-align: right;\">\n",
       "      <th></th>\n",
       "      <th>title</th>\n",
       "      <th>categoryName</th>\n",
       "      <th>website</th>\n",
       "      <th>street</th>\n",
       "      <th>phone</th>\n",
       "      <th>city</th>\n",
       "      <th>state</th>\n",
       "      <th>location/lat</th>\n",
       "      <th>location/lng</th>\n",
       "      <th>totalScore</th>\n",
       "      <th>rank</th>\n",
       "      <th>imageUrl</th>\n",
       "      <th>imagesCount</th>\n",
       "      <th>reviewsCount</th>\n",
       "      <th>scrapedAt</th>\n",
       "      <th>searchString</th>\n",
       "    </tr>\n",
       "  </thead>\n",
       "  <tbody>\n",
       "    <tr>\n",
       "      <th>5849</th>\n",
       "      <td>Polideportivo Municipal</td>\n",
       "      <td>Escuela Deportiva</td>\n",
       "      <td>Incomplete</td>\n",
       "      <td>Incomplete</td>\n",
       "      <td>Incomplete</td>\n",
       "      <td>Rauch</td>\n",
       "      <td>Provincia de Buenos Aires</td>\n",
       "      <td>-36.770290</td>\n",
       "      <td>-59.099804</td>\n",
       "      <td>5.0</td>\n",
       "      <td>7</td>\n",
       "      <td>https://lh3.googleusercontent.com/gps-cs-s/AC9...</td>\n",
       "      <td>2.0</td>\n",
       "      <td>20</td>\n",
       "      <td>2025-07-30 15:10:11</td>\n",
       "      <td>Deportivo</td>\n",
       "    </tr>\n",
       "    <tr>\n",
       "      <th>5850</th>\n",
       "      <td>Burbujas Lavandería</td>\n",
       "      <td>Servicio De Lavandería</td>\n",
       "      <td>Incomplete</td>\n",
       "      <td>Almte. Brown 254</td>\n",
       "      <td>+54 9 249 448-5227</td>\n",
       "      <td>Rauch</td>\n",
       "      <td>Provincia de Buenos Aires</td>\n",
       "      <td>-36.780576</td>\n",
       "      <td>-59.088608</td>\n",
       "      <td>5.0</td>\n",
       "      <td>16</td>\n",
       "      <td>https://lh3.googleusercontent.com/gps-cs-s/AC9...</td>\n",
       "      <td>7.0</td>\n",
       "      <td>39</td>\n",
       "      <td>2025-07-30 15:10:20</td>\n",
       "      <td>Ropa</td>\n",
       "    </tr>\n",
       "    <tr>\n",
       "      <th>5851</th>\n",
       "      <td>Bo. Jardín Empleados De Comercio</td>\n",
       "      <td>Complejo De Viviendas</td>\n",
       "      <td>Incomplete</td>\n",
       "      <td>Sin Nombre</td>\n",
       "      <td>Incomplete</td>\n",
       "      <td>Rauch</td>\n",
       "      <td>Provincia de Buenos Aires</td>\n",
       "      <td>-36.776126</td>\n",
       "      <td>-59.077801</td>\n",
       "      <td>4.4</td>\n",
       "      <td>25</td>\n",
       "      <td>Incomplete</td>\n",
       "      <td>0.0</td>\n",
       "      <td>30</td>\n",
       "      <td>2025-07-30 15:10:24</td>\n",
       "      <td>Comercio</td>\n",
       "    </tr>\n",
       "    <tr>\n",
       "      <th>5852</th>\n",
       "      <td>Taller Mecánico Juan Carlos Botta</td>\n",
       "      <td>Taller Mecánico</td>\n",
       "      <td>Incomplete</td>\n",
       "      <td>Azcuénaga 299-201</td>\n",
       "      <td>+54 9 249 450-1086</td>\n",
       "      <td>Rauch</td>\n",
       "      <td>Provincia de Buenos Aires</td>\n",
       "      <td>-36.772244</td>\n",
       "      <td>-59.079592</td>\n",
       "      <td>0.0</td>\n",
       "      <td>25</td>\n",
       "      <td>https://streetviewpixels-pa.googleapis.com/v1/...</td>\n",
       "      <td>2.0</td>\n",
       "      <td>0</td>\n",
       "      <td>2025-07-30 15:10:27</td>\n",
       "      <td>Vehiculos</td>\n",
       "    </tr>\n",
       "    <tr>\n",
       "      <th>5853</th>\n",
       "      <td>Taller Mecanico Penedo</td>\n",
       "      <td>Taller De Automóviles</td>\n",
       "      <td>Incomplete</td>\n",
       "      <td>RP30 1400</td>\n",
       "      <td>+54 9 249 434-5802</td>\n",
       "      <td>Rauch</td>\n",
       "      <td>Provincia de Buenos Aires</td>\n",
       "      <td>-36.763515</td>\n",
       "      <td>-59.089012</td>\n",
       "      <td>0.0</td>\n",
       "      <td>30</td>\n",
       "      <td>https://lh3.googleusercontent.com/gps-cs-s/AC9...</td>\n",
       "      <td>7.0</td>\n",
       "      <td>0</td>\n",
       "      <td>2025-07-30 15:10:35</td>\n",
       "      <td>Vehiculos</td>\n",
       "    </tr>\n",
       "    <tr>\n",
       "      <th>5854</th>\n",
       "      <td>Cerrajeria Hugo</td>\n",
       "      <td>Cerrajero</td>\n",
       "      <td>Incomplete</td>\n",
       "      <td>Brandsen 1792</td>\n",
       "      <td>+54 9 2297 44-2572</td>\n",
       "      <td>Rauch</td>\n",
       "      <td>Provincia de Buenos Aires</td>\n",
       "      <td>-36.771912</td>\n",
       "      <td>-59.089686</td>\n",
       "      <td>4.6</td>\n",
       "      <td>19</td>\n",
       "      <td>https://lh3.googleusercontent.com/gps-cs-s/AC9...</td>\n",
       "      <td>3.0</td>\n",
       "      <td>20</td>\n",
       "      <td>2025-07-30 15:10:41</td>\n",
       "      <td>Construccion</td>\n",
       "    </tr>\n",
       "    <tr>\n",
       "      <th>5855</th>\n",
       "      <td>Signos Arte Grafico</td>\n",
       "      <td>Servicios De Diseño</td>\n",
       "      <td>Incomplete</td>\n",
       "      <td>Av. San Martín 920</td>\n",
       "      <td>+54 9 249 469-4342</td>\n",
       "      <td>Rauch</td>\n",
       "      <td>Provincia de Buenos Aires</td>\n",
       "      <td>-36.772835</td>\n",
       "      <td>-59.086239</td>\n",
       "      <td>0.0</td>\n",
       "      <td>16</td>\n",
       "      <td>https://streetviewpixels-pa.googleapis.com/v1/...</td>\n",
       "      <td>1.0</td>\n",
       "      <td>0</td>\n",
       "      <td>2025-07-30 15:10:41</td>\n",
       "      <td>Construccion</td>\n",
       "    </tr>\n",
       "    <tr>\n",
       "      <th>5856</th>\n",
       "      <td>Registro Nacional De La Propiedad Del Automotor</td>\n",
       "      <td>Agencia De Registro De Automóviles</td>\n",
       "      <td>Incomplete</td>\n",
       "      <td>Cnel. Suárez 86</td>\n",
       "      <td>+54 9 2297 44-0468</td>\n",
       "      <td>Rauch</td>\n",
       "      <td>Provincia de Buenos Aires</td>\n",
       "      <td>-36.776637</td>\n",
       "      <td>-59.089069</td>\n",
       "      <td>4.4</td>\n",
       "      <td>17</td>\n",
       "      <td>https://streetviewpixels-pa.googleapis.com/v1/...</td>\n",
       "      <td>1.0</td>\n",
       "      <td>20</td>\n",
       "      <td>2025-07-30 15:10:56</td>\n",
       "      <td>Vehiculos</td>\n",
       "    </tr>\n",
       "    <tr>\n",
       "      <th>5857</th>\n",
       "      <td>Carpintería Tedesco Hermanos</td>\n",
       "      <td>Carpintero</td>\n",
       "      <td>Incomplete</td>\n",
       "      <td>9 de Julio 145, B7203ABC</td>\n",
       "      <td>+54 9 249 435-9904</td>\n",
       "      <td>Rauch</td>\n",
       "      <td>Provincia de Buenos Aires</td>\n",
       "      <td>-36.775892</td>\n",
       "      <td>-59.093677</td>\n",
       "      <td>0.0</td>\n",
       "      <td>28</td>\n",
       "      <td>https://streetviewpixels-pa.googleapis.com/v1/...</td>\n",
       "      <td>2.0</td>\n",
       "      <td>0</td>\n",
       "      <td>2025-07-30 15:10:58</td>\n",
       "      <td>Construccion</td>\n",
       "    </tr>\n",
       "    <tr>\n",
       "      <th>5858</th>\n",
       "      <td>Zapatería Tofi</td>\n",
       "      <td>Zapatero</td>\n",
       "      <td>Incomplete</td>\n",
       "      <td>Av. Gral. Paz</td>\n",
       "      <td>+54 9 249 421-6088</td>\n",
       "      <td>Rauch</td>\n",
       "      <td>Provincia de Buenos Aires</td>\n",
       "      <td>-36.777376</td>\n",
       "      <td>-59.078009</td>\n",
       "      <td>4.9</td>\n",
       "      <td>29</td>\n",
       "      <td>https://lh3.googleusercontent.com/gps-cs-s/AC9...</td>\n",
       "      <td>3.0</td>\n",
       "      <td>16</td>\n",
       "      <td>2025-07-30 15:10:59</td>\n",
       "      <td>Tienda</td>\n",
       "    </tr>\n",
       "  </tbody>\n",
       "</table>\n",
       "</div>"
      ],
      "text/plain": [
       "                                                title  \\\n",
       "5849                          Polideportivo Municipal   \n",
       "5850                              Burbujas Lavandería   \n",
       "5851                 Bo. Jardín Empleados De Comercio   \n",
       "5852                Taller Mecánico Juan Carlos Botta   \n",
       "5853                           Taller Mecanico Penedo   \n",
       "5854                                  Cerrajeria Hugo   \n",
       "5855                              Signos Arte Grafico   \n",
       "5856  Registro Nacional De La Propiedad Del Automotor   \n",
       "5857                     Carpintería Tedesco Hermanos   \n",
       "5858                                   Zapatería Tofi   \n",
       "\n",
       "                            categoryName     website  \\\n",
       "5849                   Escuela Deportiva  Incomplete   \n",
       "5850              Servicio De Lavandería  Incomplete   \n",
       "5851               Complejo De Viviendas  Incomplete   \n",
       "5852                     Taller Mecánico  Incomplete   \n",
       "5853               Taller De Automóviles  Incomplete   \n",
       "5854                           Cerrajero  Incomplete   \n",
       "5855                 Servicios De Diseño  Incomplete   \n",
       "5856  Agencia De Registro De Automóviles  Incomplete   \n",
       "5857                          Carpintero  Incomplete   \n",
       "5858                            Zapatero  Incomplete   \n",
       "\n",
       "                        street               phone   city  \\\n",
       "5849                Incomplete          Incomplete  Rauch   \n",
       "5850          Almte. Brown 254  +54 9 249 448-5227  Rauch   \n",
       "5851                Sin Nombre          Incomplete  Rauch   \n",
       "5852         Azcuénaga 299-201  +54 9 249 450-1086  Rauch   \n",
       "5853                 RP30 1400  +54 9 249 434-5802  Rauch   \n",
       "5854             Brandsen 1792  +54 9 2297 44-2572  Rauch   \n",
       "5855        Av. San Martín 920  +54 9 249 469-4342  Rauch   \n",
       "5856           Cnel. Suárez 86  +54 9 2297 44-0468  Rauch   \n",
       "5857  9 de Julio 145, B7203ABC  +54 9 249 435-9904  Rauch   \n",
       "5858             Av. Gral. Paz  +54 9 249 421-6088  Rauch   \n",
       "\n",
       "                          state  location/lat  location/lng  totalScore  rank  \\\n",
       "5849  Provincia de Buenos Aires    -36.770290    -59.099804         5.0     7   \n",
       "5850  Provincia de Buenos Aires    -36.780576    -59.088608         5.0    16   \n",
       "5851  Provincia de Buenos Aires    -36.776126    -59.077801         4.4    25   \n",
       "5852  Provincia de Buenos Aires    -36.772244    -59.079592         0.0    25   \n",
       "5853  Provincia de Buenos Aires    -36.763515    -59.089012         0.0    30   \n",
       "5854  Provincia de Buenos Aires    -36.771912    -59.089686         4.6    19   \n",
       "5855  Provincia de Buenos Aires    -36.772835    -59.086239         0.0    16   \n",
       "5856  Provincia de Buenos Aires    -36.776637    -59.089069         4.4    17   \n",
       "5857  Provincia de Buenos Aires    -36.775892    -59.093677         0.0    28   \n",
       "5858  Provincia de Buenos Aires    -36.777376    -59.078009         4.9    29   \n",
       "\n",
       "                                               imageUrl  imagesCount  \\\n",
       "5849  https://lh3.googleusercontent.com/gps-cs-s/AC9...          2.0   \n",
       "5850  https://lh3.googleusercontent.com/gps-cs-s/AC9...          7.0   \n",
       "5851                                         Incomplete          0.0   \n",
       "5852  https://streetviewpixels-pa.googleapis.com/v1/...          2.0   \n",
       "5853  https://lh3.googleusercontent.com/gps-cs-s/AC9...          7.0   \n",
       "5854  https://lh3.googleusercontent.com/gps-cs-s/AC9...          3.0   \n",
       "5855  https://streetviewpixels-pa.googleapis.com/v1/...          1.0   \n",
       "5856  https://streetviewpixels-pa.googleapis.com/v1/...          1.0   \n",
       "5857  https://streetviewpixels-pa.googleapis.com/v1/...          2.0   \n",
       "5858  https://lh3.googleusercontent.com/gps-cs-s/AC9...          3.0   \n",
       "\n",
       "      reviewsCount           scrapedAt  searchString  \n",
       "5849            20 2025-07-30 15:10:11     Deportivo  \n",
       "5850            39 2025-07-30 15:10:20          Ropa  \n",
       "5851            30 2025-07-30 15:10:24      Comercio  \n",
       "5852             0 2025-07-30 15:10:27     Vehiculos  \n",
       "5853             0 2025-07-30 15:10:35     Vehiculos  \n",
       "5854            20 2025-07-30 15:10:41  Construccion  \n",
       "5855             0 2025-07-30 15:10:41  Construccion  \n",
       "5856            20 2025-07-30 15:10:56     Vehiculos  \n",
       "5857             0 2025-07-30 15:10:58  Construccion  \n",
       "5858            16 2025-07-30 15:10:59        Tienda  "
      ]
     },
     "execution_count": 77,
     "metadata": {},
     "output_type": "execute_result"
    }
   ],
   "source": [
    "# Muestra de las últimas filas del DataFrame\n",
    "df.tail(10)"
   ]
  },
  {
   "cell_type": "code",
   "execution_count": 78,
   "id": "c8ec38ba",
   "metadata": {},
   "outputs": [
    {
     "data": {
      "application/vnd.microsoft.datawrangler.viewer.v0+json": {
       "columns": [
        {
         "name": "index",
         "rawType": "int64",
         "type": "integer"
        },
        {
         "name": "title",
         "rawType": "object",
         "type": "string"
        },
        {
         "name": "categoryName",
         "rawType": "object",
         "type": "string"
        },
        {
         "name": "website",
         "rawType": "object",
         "type": "string"
        },
        {
         "name": "street",
         "rawType": "object",
         "type": "string"
        },
        {
         "name": "phone",
         "rawType": "object",
         "type": "string"
        },
        {
         "name": "city",
         "rawType": "object",
         "type": "string"
        },
        {
         "name": "state",
         "rawType": "object",
         "type": "string"
        },
        {
         "name": "location/lat",
         "rawType": "float64",
         "type": "float"
        },
        {
         "name": "location/lng",
         "rawType": "float64",
         "type": "float"
        },
        {
         "name": "totalScore",
         "rawType": "float64",
         "type": "float"
        },
        {
         "name": "rank",
         "rawType": "int64",
         "type": "integer"
        },
        {
         "name": "imageUrl",
         "rawType": "object",
         "type": "string"
        },
        {
         "name": "imagesCount",
         "rawType": "float64",
         "type": "float"
        },
        {
         "name": "reviewsCount",
         "rawType": "int64",
         "type": "integer"
        },
        {
         "name": "scrapedAt",
         "rawType": "datetime64[ns]",
         "type": "datetime"
        },
        {
         "name": "searchString",
         "rawType": "object",
         "type": "string"
        }
       ],
       "ref": "1e9bc340-1b23-4d74-a84d-18a8f7c6ddb3",
       "rows": [
        [
         "5725",
         "Expert Mundo Hogar",
         "Tienda De Muebles",
         "Incomplete",
         "Av. Pres. Juan Domingo Perón 369",
         "+54 9 2297 44-0512",
         "Rauch",
         "Provincia de Buenos Aires",
         "-36.7711076",
         "-59.092721",
         "0.0",
         "18",
         "https://streetviewpixels-pa.googleapis.com/v1/thumbnail?panoid=pw0_qNDnryimKP5-GB7NHg&cb_client=search.gws-prod.gps&w=408&h=240&yaw=208.82828&pitch=0&thumbfov=100",
         "1.0",
         "0",
         "2025-06-15 22:40:57",
         "Muebles"
        ],
        [
         "1310",
         "Espensa Avenida",
         "Tienda De Alimentación",
         "Incomplete",
         "Av. de los Trabajadores",
         "Incomplete",
         "Olavarría",
         "Provincia de Buenos Aires",
         "-36.8755642",
         "-60.3150587",
         "0.0",
         "13",
         "https://streetviewpixels-pa.googleapis.com/v1/thumbnail?panoid=jpV96FgK5L3Z1i5MB_fEdw&cb_client=search.gws-prod.gps&w=408&h=240&yaw=245.08478&pitch=0&thumbfov=100",
         "1.0",
         "0",
         "2025-06-15 23:31:30",
         "Comercio"
        ],
        [
         "4624",
         "Barros Argentinos Villa Italia",
         "Comercio",
         "Incomplete",
         "Quintana 611",
         "+54 9 249 445-4298",
         "Tandil",
         "Provincia de Buenos Aires",
         "-37.3070133",
         "-59.1430673",
         "4.4",
         "9",
         "https://streetviewpixels-pa.googleapis.com/v1/thumbnail?panoid=Ssek029KgE26TSWrZcr-Iw&cb_client=search.gws-prod.gps&w=408&h=240&yaw=67.30714&pitch=0&thumbfov=100",
         "1.0",
         "9",
         "2025-05-04 16:08:17",
         "Comercio"
        ],
        [
         "4964",
         "Kiosco El Semáforo",
         "Kiosco",
         "Incomplete",
         "Avenida Lunghi, Piccirilli &",
         "Incomplete",
         "Tandil",
         "Provincia de Buenos Aires",
         "-37.2995314",
         "-59.1714882",
         "5.0",
         "13",
         "https://lh3.googleusercontent.com/gps-cs-s/AC9h4nooM054wcfzAXlZ9wCy0xBpztgQJl_OR1OQ8uXDg-Ag8Ondviix5XCdFyVyOkaJhAdgO42YVRhVXCx-pTsd0rXZtR-2uULl22jc_VPbxcN3ZK8FoDGugUvXkxgPnlE8zbEnT4yQpg=w426-h240-k-no",
         "4.0",
         "1",
         "2025-06-15 23:38:50",
         "Comercio"
        ],
        [
         "4485",
         "Lavandería Del Sur",
         "Servicio De Lavandería",
         "Incomplete",
         "Fugl 987",
         "+54 9 249 420-9080",
         "Tandil",
         "Provincia de Buenos Aires",
         "-37.3363733",
         "-59.1238595",
         "4.2",
         "13",
         "https://lh3.googleusercontent.com/p/AF1QipPc8aQZlTyRTbeZyULM4w_QgpNxsPNJIAYcVUEM=w408-h408-k-no",
         "19.0",
         "55",
         "2025-05-29 00:17:23",
         "Servicios"
        ],
        [
         "2064",
         "Remo Cae",
         "Club Deportivo",
         "Incomplete",
         "Incomplete",
         "Incomplete",
         "Olavarría",
         "Provincia de Buenos Aires",
         "-36.8947116",
         "-60.3346654",
         "4.0",
         "19",
         "https://streetviewpixels-pa.googleapis.com/v1/thumbnail?panoid=h3DU6IvHM8eLY3uSQZsj5g&cb_client=search.gws-prod.gps&w=408&h=240&yaw=133.69475&pitch=0&thumbfov=100",
         "2.0",
         "1",
         "2025-07-30 14:43:01",
         "Deportivo"
        ],
        [
         "310",
         "Rpva - Centro De Grabado De Autopartes - Azul",
         "Oficina De Registro",
         "Incomplete",
         "Av. Mitre 282",
         "+54 9 2281 58-8413",
         "Azul",
         "Provincia de Buenos Aires",
         "-36.7737731",
         "-59.8635635",
         "4.5",
         "16",
         "https://lh3.googleusercontent.com/gps-cs-s/AC9h4npxkpjjpQOpzhqtQ5WOSBOxULBIojJHK24YxOoI9pSgzIlOBs60L9ndLQLe30b4W21bGat6h3YNH1rueXfNNDIeBIpuZE1RgRPkZ4ehT6G5GTxMxcuTFvRiIkQcdCYNBQPvVWprVg=w408-h544-k-no",
         "10.0",
         "50",
         "2025-07-30 14:51:09",
         "Vehiculos"
        ],
        [
         "3897",
         "Taller Mecánico Mp",
         "Taller De Reparación De Automóviles",
         "https://www.guia-dorada.com.ar/guia/aviso-taller-mecanico-mp-en-tandil-buenos-aires-25618.html",
         "Av. Falucho 1294",
         "+54 9 249 469-3224",
         "Tandil",
         "Provincia de Buenos Aires",
         "-37.3199422",
         "-59.10627",
         "4.5",
         "18",
         "https://lh3.googleusercontent.com/p/AF1QipOYXdSTWCNRkT5FQ6GnsOCTEIEr67Rk7ItRAc-5=w408-h306-k-no",
         "23.0",
         "77",
         "2025-05-28 23:35:29",
         "Electronica"
        ],
        [
         "3798",
         "Inmobiliaria Terni Lucero",
         "Agencia Inmobiliaria",
         "https://inmobiliariaterni.com.ar/",
         "Maipú 639",
         "+54 9 249 442-5366",
         "Tandil",
         "Provincia de Buenos Aires",
         "-37.3299182",
         "-59.1338487",
         "4.3",
         "76",
         "https://lh3.googleusercontent.com/p/AF1QipOo-P6T8MYIj0RFuIg5-VEu7Fg4TyvZhkc68-GT=w408-h408-k-no",
         "4.0",
         "19",
         "2025-06-11 18:02:45",
         "Venta"
        ],
        [
         "3817",
         "Antonio O. Comiso Campos Propiedades",
         "Agencia Inmobiliaria",
         "Incomplete",
         "Av. España 255 / 257",
         "+54 9 249 423-1369",
         "Tandil",
         "Provincia de Buenos Aires",
         "-37.3243376",
         "-59.1434203",
         "4.1",
         "49",
         "https://lh3.googleusercontent.com/gps-proxy/ALd4DhHD0UdkWnuKtYBj7dwYjD4ZR9_DMvsiLNzJ--C4683pKX-1Mgq0WhTNz3ZEzugQtHVVHTImaDSAlPe_7tS5ftH0XvHCDjdLQSu3HMf1fIaECklFBgwTgZ-WVdn1WjQNXxVoIW0vJPIssqdjmtcO7AeMiAZFMqofJ1mU8TsMDjXzjtP1iCiCD1qhpIkyp8ZdwcnuboA=w408-h306-k-no",
         "2.0",
         "10",
         "2025-06-11 18:02:59",
         "Venta"
        ]
       ],
       "shape": {
        "columns": 16,
        "rows": 10
       }
      },
      "text/html": [
       "<div>\n",
       "<style scoped>\n",
       "    .dataframe tbody tr th:only-of-type {\n",
       "        vertical-align: middle;\n",
       "    }\n",
       "\n",
       "    .dataframe tbody tr th {\n",
       "        vertical-align: top;\n",
       "    }\n",
       "\n",
       "    .dataframe thead th {\n",
       "        text-align: right;\n",
       "    }\n",
       "</style>\n",
       "<table border=\"1\" class=\"dataframe\">\n",
       "  <thead>\n",
       "    <tr style=\"text-align: right;\">\n",
       "      <th></th>\n",
       "      <th>title</th>\n",
       "      <th>categoryName</th>\n",
       "      <th>website</th>\n",
       "      <th>street</th>\n",
       "      <th>phone</th>\n",
       "      <th>city</th>\n",
       "      <th>state</th>\n",
       "      <th>location/lat</th>\n",
       "      <th>location/lng</th>\n",
       "      <th>totalScore</th>\n",
       "      <th>rank</th>\n",
       "      <th>imageUrl</th>\n",
       "      <th>imagesCount</th>\n",
       "      <th>reviewsCount</th>\n",
       "      <th>scrapedAt</th>\n",
       "      <th>searchString</th>\n",
       "    </tr>\n",
       "  </thead>\n",
       "  <tbody>\n",
       "    <tr>\n",
       "      <th>5725</th>\n",
       "      <td>Expert Mundo Hogar</td>\n",
       "      <td>Tienda De Muebles</td>\n",
       "      <td>Incomplete</td>\n",
       "      <td>Av. Pres. Juan Domingo Perón 369</td>\n",
       "      <td>+54 9 2297 44-0512</td>\n",
       "      <td>Rauch</td>\n",
       "      <td>Provincia de Buenos Aires</td>\n",
       "      <td>-36.771108</td>\n",
       "      <td>-59.092721</td>\n",
       "      <td>0.0</td>\n",
       "      <td>18</td>\n",
       "      <td>https://streetviewpixels-pa.googleapis.com/v1/...</td>\n",
       "      <td>1.0</td>\n",
       "      <td>0</td>\n",
       "      <td>2025-06-15 22:40:57</td>\n",
       "      <td>Muebles</td>\n",
       "    </tr>\n",
       "    <tr>\n",
       "      <th>1310</th>\n",
       "      <td>Espensa Avenida</td>\n",
       "      <td>Tienda De Alimentación</td>\n",
       "      <td>Incomplete</td>\n",
       "      <td>Av. de los Trabajadores</td>\n",
       "      <td>Incomplete</td>\n",
       "      <td>Olavarría</td>\n",
       "      <td>Provincia de Buenos Aires</td>\n",
       "      <td>-36.875564</td>\n",
       "      <td>-60.315059</td>\n",
       "      <td>0.0</td>\n",
       "      <td>13</td>\n",
       "      <td>https://streetviewpixels-pa.googleapis.com/v1/...</td>\n",
       "      <td>1.0</td>\n",
       "      <td>0</td>\n",
       "      <td>2025-06-15 23:31:30</td>\n",
       "      <td>Comercio</td>\n",
       "    </tr>\n",
       "    <tr>\n",
       "      <th>4624</th>\n",
       "      <td>Barros Argentinos Villa Italia</td>\n",
       "      <td>Comercio</td>\n",
       "      <td>Incomplete</td>\n",
       "      <td>Quintana 611</td>\n",
       "      <td>+54 9 249 445-4298</td>\n",
       "      <td>Tandil</td>\n",
       "      <td>Provincia de Buenos Aires</td>\n",
       "      <td>-37.307013</td>\n",
       "      <td>-59.143067</td>\n",
       "      <td>4.4</td>\n",
       "      <td>9</td>\n",
       "      <td>https://streetviewpixels-pa.googleapis.com/v1/...</td>\n",
       "      <td>1.0</td>\n",
       "      <td>9</td>\n",
       "      <td>2025-05-04 16:08:17</td>\n",
       "      <td>Comercio</td>\n",
       "    </tr>\n",
       "    <tr>\n",
       "      <th>4964</th>\n",
       "      <td>Kiosco El Semáforo</td>\n",
       "      <td>Kiosco</td>\n",
       "      <td>Incomplete</td>\n",
       "      <td>Avenida Lunghi, Piccirilli &amp;</td>\n",
       "      <td>Incomplete</td>\n",
       "      <td>Tandil</td>\n",
       "      <td>Provincia de Buenos Aires</td>\n",
       "      <td>-37.299531</td>\n",
       "      <td>-59.171488</td>\n",
       "      <td>5.0</td>\n",
       "      <td>13</td>\n",
       "      <td>https://lh3.googleusercontent.com/gps-cs-s/AC9...</td>\n",
       "      <td>4.0</td>\n",
       "      <td>1</td>\n",
       "      <td>2025-06-15 23:38:50</td>\n",
       "      <td>Comercio</td>\n",
       "    </tr>\n",
       "    <tr>\n",
       "      <th>4485</th>\n",
       "      <td>Lavandería Del Sur</td>\n",
       "      <td>Servicio De Lavandería</td>\n",
       "      <td>Incomplete</td>\n",
       "      <td>Fugl 987</td>\n",
       "      <td>+54 9 249 420-9080</td>\n",
       "      <td>Tandil</td>\n",
       "      <td>Provincia de Buenos Aires</td>\n",
       "      <td>-37.336373</td>\n",
       "      <td>-59.123860</td>\n",
       "      <td>4.2</td>\n",
       "      <td>13</td>\n",
       "      <td>https://lh3.googleusercontent.com/p/AF1QipPc8a...</td>\n",
       "      <td>19.0</td>\n",
       "      <td>55</td>\n",
       "      <td>2025-05-29 00:17:23</td>\n",
       "      <td>Servicios</td>\n",
       "    </tr>\n",
       "    <tr>\n",
       "      <th>2064</th>\n",
       "      <td>Remo Cae</td>\n",
       "      <td>Club Deportivo</td>\n",
       "      <td>Incomplete</td>\n",
       "      <td>Incomplete</td>\n",
       "      <td>Incomplete</td>\n",
       "      <td>Olavarría</td>\n",
       "      <td>Provincia de Buenos Aires</td>\n",
       "      <td>-36.894712</td>\n",
       "      <td>-60.334665</td>\n",
       "      <td>4.0</td>\n",
       "      <td>19</td>\n",
       "      <td>https://streetviewpixels-pa.googleapis.com/v1/...</td>\n",
       "      <td>2.0</td>\n",
       "      <td>1</td>\n",
       "      <td>2025-07-30 14:43:01</td>\n",
       "      <td>Deportivo</td>\n",
       "    </tr>\n",
       "    <tr>\n",
       "      <th>310</th>\n",
       "      <td>Rpva - Centro De Grabado De Autopartes - Azul</td>\n",
       "      <td>Oficina De Registro</td>\n",
       "      <td>Incomplete</td>\n",
       "      <td>Av. Mitre 282</td>\n",
       "      <td>+54 9 2281 58-8413</td>\n",
       "      <td>Azul</td>\n",
       "      <td>Provincia de Buenos Aires</td>\n",
       "      <td>-36.773773</td>\n",
       "      <td>-59.863563</td>\n",
       "      <td>4.5</td>\n",
       "      <td>16</td>\n",
       "      <td>https://lh3.googleusercontent.com/gps-cs-s/AC9...</td>\n",
       "      <td>10.0</td>\n",
       "      <td>50</td>\n",
       "      <td>2025-07-30 14:51:09</td>\n",
       "      <td>Vehiculos</td>\n",
       "    </tr>\n",
       "    <tr>\n",
       "      <th>3897</th>\n",
       "      <td>Taller Mecánico Mp</td>\n",
       "      <td>Taller De Reparación De Automóviles</td>\n",
       "      <td>https://www.guia-dorada.com.ar/guia/aviso-tall...</td>\n",
       "      <td>Av. Falucho 1294</td>\n",
       "      <td>+54 9 249 469-3224</td>\n",
       "      <td>Tandil</td>\n",
       "      <td>Provincia de Buenos Aires</td>\n",
       "      <td>-37.319942</td>\n",
       "      <td>-59.106270</td>\n",
       "      <td>4.5</td>\n",
       "      <td>18</td>\n",
       "      <td>https://lh3.googleusercontent.com/p/AF1QipOYXd...</td>\n",
       "      <td>23.0</td>\n",
       "      <td>77</td>\n",
       "      <td>2025-05-28 23:35:29</td>\n",
       "      <td>Electronica</td>\n",
       "    </tr>\n",
       "    <tr>\n",
       "      <th>3798</th>\n",
       "      <td>Inmobiliaria Terni Lucero</td>\n",
       "      <td>Agencia Inmobiliaria</td>\n",
       "      <td>https://inmobiliariaterni.com.ar/</td>\n",
       "      <td>Maipú 639</td>\n",
       "      <td>+54 9 249 442-5366</td>\n",
       "      <td>Tandil</td>\n",
       "      <td>Provincia de Buenos Aires</td>\n",
       "      <td>-37.329918</td>\n",
       "      <td>-59.133849</td>\n",
       "      <td>4.3</td>\n",
       "      <td>76</td>\n",
       "      <td>https://lh3.googleusercontent.com/p/AF1QipOo-P...</td>\n",
       "      <td>4.0</td>\n",
       "      <td>19</td>\n",
       "      <td>2025-06-11 18:02:45</td>\n",
       "      <td>Venta</td>\n",
       "    </tr>\n",
       "    <tr>\n",
       "      <th>3817</th>\n",
       "      <td>Antonio O. Comiso Campos Propiedades</td>\n",
       "      <td>Agencia Inmobiliaria</td>\n",
       "      <td>Incomplete</td>\n",
       "      <td>Av. España 255 / 257</td>\n",
       "      <td>+54 9 249 423-1369</td>\n",
       "      <td>Tandil</td>\n",
       "      <td>Provincia de Buenos Aires</td>\n",
       "      <td>-37.324338</td>\n",
       "      <td>-59.143420</td>\n",
       "      <td>4.1</td>\n",
       "      <td>49</td>\n",
       "      <td>https://lh3.googleusercontent.com/gps-proxy/AL...</td>\n",
       "      <td>2.0</td>\n",
       "      <td>10</td>\n",
       "      <td>2025-06-11 18:02:59</td>\n",
       "      <td>Venta</td>\n",
       "    </tr>\n",
       "  </tbody>\n",
       "</table>\n",
       "</div>"
      ],
      "text/plain": [
       "                                              title  \\\n",
       "5725                             Expert Mundo Hogar   \n",
       "1310                                Espensa Avenida   \n",
       "4624                 Barros Argentinos Villa Italia   \n",
       "4964                             Kiosco El Semáforo   \n",
       "4485                             Lavandería Del Sur   \n",
       "2064                                       Remo Cae   \n",
       "310   Rpva - Centro De Grabado De Autopartes - Azul   \n",
       "3897                             Taller Mecánico Mp   \n",
       "3798                      Inmobiliaria Terni Lucero   \n",
       "3817           Antonio O. Comiso Campos Propiedades   \n",
       "\n",
       "                             categoryName  \\\n",
       "5725                    Tienda De Muebles   \n",
       "1310               Tienda De Alimentación   \n",
       "4624                             Comercio   \n",
       "4964                               Kiosco   \n",
       "4485               Servicio De Lavandería   \n",
       "2064                       Club Deportivo   \n",
       "310                   Oficina De Registro   \n",
       "3897  Taller De Reparación De Automóviles   \n",
       "3798                 Agencia Inmobiliaria   \n",
       "3817                 Agencia Inmobiliaria   \n",
       "\n",
       "                                                website  \\\n",
       "5725                                         Incomplete   \n",
       "1310                                         Incomplete   \n",
       "4624                                         Incomplete   \n",
       "4964                                         Incomplete   \n",
       "4485                                         Incomplete   \n",
       "2064                                         Incomplete   \n",
       "310                                          Incomplete   \n",
       "3897  https://www.guia-dorada.com.ar/guia/aviso-tall...   \n",
       "3798                  https://inmobiliariaterni.com.ar/   \n",
       "3817                                         Incomplete   \n",
       "\n",
       "                                street               phone       city  \\\n",
       "5725  Av. Pres. Juan Domingo Perón 369  +54 9 2297 44-0512      Rauch   \n",
       "1310           Av. de los Trabajadores          Incomplete  Olavarría   \n",
       "4624                      Quintana 611  +54 9 249 445-4298     Tandil   \n",
       "4964      Avenida Lunghi, Piccirilli &          Incomplete     Tandil   \n",
       "4485                          Fugl 987  +54 9 249 420-9080     Tandil   \n",
       "2064                        Incomplete          Incomplete  Olavarría   \n",
       "310                      Av. Mitre 282  +54 9 2281 58-8413       Azul   \n",
       "3897                  Av. Falucho 1294  +54 9 249 469-3224     Tandil   \n",
       "3798                         Maipú 639  +54 9 249 442-5366     Tandil   \n",
       "3817              Av. España 255 / 257  +54 9 249 423-1369     Tandil   \n",
       "\n",
       "                          state  location/lat  location/lng  totalScore  rank  \\\n",
       "5725  Provincia de Buenos Aires    -36.771108    -59.092721         0.0    18   \n",
       "1310  Provincia de Buenos Aires    -36.875564    -60.315059         0.0    13   \n",
       "4624  Provincia de Buenos Aires    -37.307013    -59.143067         4.4     9   \n",
       "4964  Provincia de Buenos Aires    -37.299531    -59.171488         5.0    13   \n",
       "4485  Provincia de Buenos Aires    -37.336373    -59.123860         4.2    13   \n",
       "2064  Provincia de Buenos Aires    -36.894712    -60.334665         4.0    19   \n",
       "310   Provincia de Buenos Aires    -36.773773    -59.863563         4.5    16   \n",
       "3897  Provincia de Buenos Aires    -37.319942    -59.106270         4.5    18   \n",
       "3798  Provincia de Buenos Aires    -37.329918    -59.133849         4.3    76   \n",
       "3817  Provincia de Buenos Aires    -37.324338    -59.143420         4.1    49   \n",
       "\n",
       "                                               imageUrl  imagesCount  \\\n",
       "5725  https://streetviewpixels-pa.googleapis.com/v1/...          1.0   \n",
       "1310  https://streetviewpixels-pa.googleapis.com/v1/...          1.0   \n",
       "4624  https://streetviewpixels-pa.googleapis.com/v1/...          1.0   \n",
       "4964  https://lh3.googleusercontent.com/gps-cs-s/AC9...          4.0   \n",
       "4485  https://lh3.googleusercontent.com/p/AF1QipPc8a...         19.0   \n",
       "2064  https://streetviewpixels-pa.googleapis.com/v1/...          2.0   \n",
       "310   https://lh3.googleusercontent.com/gps-cs-s/AC9...         10.0   \n",
       "3897  https://lh3.googleusercontent.com/p/AF1QipOYXd...         23.0   \n",
       "3798  https://lh3.googleusercontent.com/p/AF1QipOo-P...          4.0   \n",
       "3817  https://lh3.googleusercontent.com/gps-proxy/AL...          2.0   \n",
       "\n",
       "      reviewsCount           scrapedAt searchString  \n",
       "5725             0 2025-06-15 22:40:57      Muebles  \n",
       "1310             0 2025-06-15 23:31:30     Comercio  \n",
       "4624             9 2025-05-04 16:08:17     Comercio  \n",
       "4964             1 2025-06-15 23:38:50     Comercio  \n",
       "4485            55 2025-05-29 00:17:23    Servicios  \n",
       "2064             1 2025-07-30 14:43:01    Deportivo  \n",
       "310             50 2025-07-30 14:51:09    Vehiculos  \n",
       "3897            77 2025-05-28 23:35:29  Electronica  \n",
       "3798            19 2025-06-11 18:02:45        Venta  \n",
       "3817            10 2025-06-11 18:02:59        Venta  "
      ]
     },
     "execution_count": 78,
     "metadata": {},
     "output_type": "execute_result"
    }
   ],
   "source": [
    "# Muestra aleatoria de 10 filas del DataFrame para una inspección rápida\n",
    "df.sample(10)"
   ]
  },
  {
   "cell_type": "code",
   "execution_count": 79,
   "id": "1284410a",
   "metadata": {},
   "outputs": [
    {
     "data": {
      "application/vnd.microsoft.datawrangler.viewer.v0+json": {
       "columns": [
        {
         "name": "index",
         "rawType": "int64",
         "type": "integer"
        },
        {
         "name": "city",
         "rawType": "object",
         "type": "string"
        },
        {
         "name": "phone_complete_porc",
         "rawType": "float64",
         "type": "float"
        },
        {
         "name": "street_complete_porc",
         "rawType": "float64",
         "type": "float"
        },
        {
         "name": "phone_incomplete_total",
         "rawType": "int64",
         "type": "integer"
        },
        {
         "name": "street_incomplete_total",
         "rawType": "int64",
         "type": "integer"
        }
       ],
       "ref": "02b03ee3-7c1f-4b56-89b8-e0cb5bf68178",
       "rows": [
        [
         "0",
         "Azul",
         "64.44",
         "92.31",
         "453",
         "98"
        ],
        [
         "1",
         "Benito Juárez",
         "62.68",
         "92.88",
         "131",
         "25"
        ],
        [
         "2",
         "Olavarría",
         "76.1",
         "95.52",
         "357",
         "67"
        ],
        [
         "3",
         "Rauch",
         "58.91",
         "88.52",
         "136",
         "38"
        ],
        [
         "4",
         "Tandil",
         "75.76",
         "96.01",
         "584",
         "96"
        ]
       ],
       "shape": {
        "columns": 5,
        "rows": 5
       }
      },
      "text/html": [
       "<div>\n",
       "<style scoped>\n",
       "    .dataframe tbody tr th:only-of-type {\n",
       "        vertical-align: middle;\n",
       "    }\n",
       "\n",
       "    .dataframe tbody tr th {\n",
       "        vertical-align: top;\n",
       "    }\n",
       "\n",
       "    .dataframe thead th {\n",
       "        text-align: right;\n",
       "    }\n",
       "</style>\n",
       "<table border=\"1\" class=\"dataframe\">\n",
       "  <thead>\n",
       "    <tr style=\"text-align: right;\">\n",
       "      <th></th>\n",
       "      <th>city</th>\n",
       "      <th>phone_complete_porc</th>\n",
       "      <th>street_complete_porc</th>\n",
       "      <th>phone_incomplete_total</th>\n",
       "      <th>street_incomplete_total</th>\n",
       "    </tr>\n",
       "  </thead>\n",
       "  <tbody>\n",
       "    <tr>\n",
       "      <th>0</th>\n",
       "      <td>Azul</td>\n",
       "      <td>64.44</td>\n",
       "      <td>92.31</td>\n",
       "      <td>453</td>\n",
       "      <td>98</td>\n",
       "    </tr>\n",
       "    <tr>\n",
       "      <th>1</th>\n",
       "      <td>Benito Juárez</td>\n",
       "      <td>62.68</td>\n",
       "      <td>92.88</td>\n",
       "      <td>131</td>\n",
       "      <td>25</td>\n",
       "    </tr>\n",
       "    <tr>\n",
       "      <th>2</th>\n",
       "      <td>Olavarría</td>\n",
       "      <td>76.10</td>\n",
       "      <td>95.52</td>\n",
       "      <td>357</td>\n",
       "      <td>67</td>\n",
       "    </tr>\n",
       "    <tr>\n",
       "      <th>3</th>\n",
       "      <td>Rauch</td>\n",
       "      <td>58.91</td>\n",
       "      <td>88.52</td>\n",
       "      <td>136</td>\n",
       "      <td>38</td>\n",
       "    </tr>\n",
       "    <tr>\n",
       "      <th>4</th>\n",
       "      <td>Tandil</td>\n",
       "      <td>75.76</td>\n",
       "      <td>96.01</td>\n",
       "      <td>584</td>\n",
       "      <td>96</td>\n",
       "    </tr>\n",
       "  </tbody>\n",
       "</table>\n",
       "</div>"
      ],
      "text/plain": [
       "            city  phone_complete_porc  street_complete_porc  \\\n",
       "0           Azul                64.44                 92.31   \n",
       "1  Benito Juárez                62.68                 92.88   \n",
       "2      Olavarría                76.10                 95.52   \n",
       "3          Rauch                58.91                 88.52   \n",
       "4         Tandil                75.76                 96.01   \n",
       "\n",
       "   phone_incomplete_total  street_incomplete_total  \n",
       "0                     453                       98  \n",
       "1                     131                       25  \n",
       "2                     357                       67  \n",
       "3                     136                       38  \n",
       "4                     584                       96  "
      ]
     },
     "execution_count": 79,
     "metadata": {},
     "output_type": "execute_result"
    }
   ],
   "source": [
    "# Calcular métricas de completitud por ciudad\n",
    "completitud = (df.groupby('city').agg(\n",
    "        phone_complete_porc=('phone', lambda x: round((x.str.lower().ne('incomplete').mean() * 100), 2)),\n",
    "        street_complete_porc=('street', lambda x: round((x.str.lower().ne('incomplete').mean() * 100), 2)),\n",
    "        phone_incomplete_total=('phone', lambda x: (x.str.lower() == 'incomplete').sum()),\n",
    "        street_incomplete_total=('street', lambda x: (x.str.lower() == 'incomplete').sum())\n",
    "    )\n",
    "    .reset_index()\n",
    ")\n",
    "completitud"
   ]
  },
  {
   "cell_type": "markdown",
   "id": "78a09947",
   "metadata": {},
   "source": [
    "<div style=\"font-family: 'JetBrains Mono', monospace; font-size: 14px; color: #e2dbdbff; line-height: 1.6;\">\n",
    "\n",
    "### 📊 Medición de completitud en `street` y `phone` por ciudad\n",
    "\n",
    "1. Agrupamos por la columna **city**.\n",
    "2. Para cada ciudad calculamos:\n",
    "   - **Porcentaje de completitud** = registros distintos de `\"incomplete\"`.\n",
    "   - **Total de incompletos** = cantidad de registros con `\"incomplete\"`.\n",
    "3. Así obtenemos un DataFrame comparativo entre ciudades para evaluar la calidad de los datos.\n",
    "\n",
    "</div>"
   ]
  },
  {
   "cell_type": "code",
   "execution_count": 80,
   "id": "40137747",
   "metadata": {},
   "outputs": [
    {
     "name": "stdout",
     "output_type": "stream",
     "text": [
      "📊 Registros sin número de telefono ingresado: 1,661\n",
      "📊 Registros sin dirección ingresada: 324\n"
     ]
    }
   ],
   "source": [
    "# Del DataFrame completitud que ya tienes, puedes sacar los totales así:\n",
    "total_phone_incomplete = completitud['phone_incomplete_total'].sum()\n",
    "total_street_incomplete = completitud['street_incomplete_total'].sum()\n",
    "\n",
    "print(f\"📊 Registros sin número de telefono ingresado: {total_phone_incomplete:,}\")\n",
    "print(f\"📊 Registros sin dirección ingresada: {total_street_incomplete:,}\")"
   ]
  },
  {
   "cell_type": "code",
   "execution_count": 81,
   "id": "b9794488",
   "metadata": {},
   "outputs": [
    {
     "name": "stdout",
     "output_type": "stream",
     "text": [
      "\n",
      "Resumen de Presencia Web a Nivel General \n",
      "---------------------------------------\n",
      "Total de negocios en la muestra: 5,859\n",
      "Negocios con sitio web: 1,750 (29.87%)\n",
      "Negocios sin sitio web: 4,109 (70.13%)\n"
     ]
    }
   ],
   "source": [
    "# Calculamos la proporción de comercios con y sin presencia web.\n",
    "total_registros = len(df)\n",
    "registros_con_web = df[df['website'] != 'Incomplete'].shape[0]\n",
    "porcentaje_con_web = (registros_con_web / total_registros) * 100\n",
    "\n",
    "print(f\"\\nResumen de Presencia Web a Nivel General \\n---------------------------------------\")\n",
    "print(f\"Total de negocios en la muestra: {total_registros:,}\")\n",
    "print(f\"Negocios con sitio web: {registros_con_web:,} ({porcentaje_con_web:.2f}%)\")\n",
    "print(f\"Negocios sin sitio web: {total_registros - registros_con_web:,} ({(100-porcentaje_con_web):.2f}%)\")"
   ]
  },
  {
   "cell_type": "code",
   "execution_count": 82,
   "id": "b9ed5e15",
   "metadata": {},
   "outputs": [
    {
     "name": "stdout",
     "output_type": "stream",
     "text": [
      "ANÁLISIS DE CALIDAD DE DATOS POR CIUDAD\n",
      "========================================\n",
      "Dataset: 5,859 registros en 5 ciudades\n",
      "Completitud global: 29.87%\n",
      "\n",
      "TABLA COMPLETA POR CIUDAD:\n",
      "----------------------------------------------------------------------------------------------------\n",
      "               Total Comercios  Website Incompletos  Website Completos  % Completos  % Incompletos\n",
      "city                                                                                              \n",
      "Tandil                    2409                 1560                849        35.24          64.76\n",
      "Olavarría                 1494                  997                497        33.27          66.73\n",
      "Azul                      1274                  994                280        21.98          78.02\n",
      "Benito Juárez              351                  287                 64        18.23          81.77\n",
      "Rauch                      331                  271                 60        18.13          81.87\n",
      "\n",
      "RANKING DE CIUDADES:\n",
      "-------------------------------------------------------\n",
      "1. Tandil       | 2409.0 registros | 35.24% completos\n",
      "2. Olavarría    | 1494.0 registros | 33.27% completos\n",
      "3. Azul         | 1274.0 registros | 21.98% completos\n",
      "4. Benito Juárez | 351.0 registros | 18.23% completos\n",
      "5. Rauch        | 331.0 registros | 18.13% completos\n"
     ]
    }
   ],
   "source": [
    "total_registros = df.groupby('city').size()\n",
    "registros_incomplete = df[df['website'].str.contains('Incomplete', case=False, na=False)].groupby('city').size()\n",
    "\n",
    "# Crear tabla resumen\n",
    "resumen = pd.DataFrame({\n",
    "    'Total Comercios': total_registros,\n",
    "    'Website Incompletos': registros_incomplete,\n",
    "}).fillna(0)\n",
    "\n",
    "resumen['Website Completos'] = resumen['Total Comercios'] - resumen['Website Incompletos']\n",
    "resumen['% Completos'] = (resumen['Website Completos'] / resumen['Total Comercios'] * 100).round(2)\n",
    "resumen['% Incompletos'] = (resumen['Website Incompletos'] / resumen['Total Comercios'] * 100).round(2)\n",
    "\n",
    "resumen = resumen.sort_values('Total Comercios', ascending=False)\n",
    "\n",
    "print(\"ANÁLISIS DE CALIDAD DE DATOS POR CIUDAD\")\n",
    "print(\"=\" * 40)\n",
    "print(f\"Dataset: {resumen['Total Comercios'].sum():,} registros en {len(resumen)} ciudades\")\n",
    "print(f\"Completitud global: {(resumen['Website Completos'].sum()/resumen['Total Comercios'].sum()*100):.2f}%\")\n",
    "print()\n",
    "\n",
    "print(\"TABLA COMPLETA POR CIUDAD:\")\n",
    "print(\"-\" * 100)\n",
    "print(resumen.to_string())\n",
    "\n",
    "print(f\"\\nRANKING DE CIUDADES:\")\n",
    "print(\"-\" * 55)\n",
    "for i, (ciudad, row) in enumerate(resumen.iterrows(), 1):\n",
    "    print(f\"{i}. {ciudad:<12} | {row['Total Comercios']:>4} registros | {row['% Completos']:>5.2f}% completos\")"
   ]
  },
  {
   "cell_type": "markdown",
   "id": "19096597",
   "metadata": {},
   "source": [
    "<div style=\"font-family: 'JetBrains Mono', monospace; font-size: 14px; color: #e2dbdbff; line-height: 1.6;\">\n",
    "\n",
    "💡 ¿Qué hace este código?\n",
    "- Este código analiza la completitud de los datos de websites en nuestro dataset de comercios, agrupándolos por ciudad. Nos ayuda a entender qué tan completa está nuestra información en cada ubicación.\n",
    "\n",
    "</div>"
   ]
  },
  {
   "cell_type": "code",
   "execution_count": 83,
   "id": "d4b76d64",
   "metadata": {},
   "outputs": [
    {
     "name": "stdout",
     "output_type": "stream",
     "text": [
      "ESTADÍSTICAS DESCRIPTIVAS\n",
      "==================================================\n",
      "       Métrica  Completitud %  Total Comercios\n",
      "      Promedio          25.37          1171.80\n",
      "       Mediana          21.98          1274.00\n",
      "        Mínimo          18.13           331.00\n",
      "        Máximo          35.24          2409.00\n",
      "Desv. Estándar           8.29           869.71\n",
      "\n",
      "ANÁLISIS COMPARATIVO:\n",
      "------------------------------------------------------------\n",
      "🏆 MEJOR: Tandil - 35.24% completos (2409.0 registros)\n",
      "📊 MEDIANA: Azul - 21.98% completos (1274.0 registros)\n",
      "⚠️  PEOR: Rauch - 18.13% completos (331.0 registros)\n",
      "📈 BRECHA: 17.11 puntos porcentuales entre mejor y peor\n",
      "\n",
      "🔗 CORRELACIÓN:\n",
      "------------------------------------------------------------\n",
      "   Tamaño vs Completitud: 0.914\n",
      "   → Ciudades más grandes tienden a tener mejor completitud\n"
     ]
    }
   ],
   "source": [
    "print(\"ESTADÍSTICAS DESCRIPTIVAS\")\n",
    "print(\"=\" * 50)\n",
    "\n",
    "stats = pd.DataFrame({\n",
    "    'Métrica': ['Promedio', 'Mediana', 'Mínimo', 'Máximo', 'Desv. Estándar'],\n",
    "    'Completitud %': [\n",
    "        resumen['% Completos'].mean(),\n",
    "        resumen['% Completos'].median(), \n",
    "        resumen['% Completos'].min(),\n",
    "        resumen['% Completos'].max(),\n",
    "        resumen['% Completos'].std()\n",
    "    ],\n",
    "    'Total Comercios': [\n",
    "        resumen['Total Comercios'].mean(),\n",
    "        resumen['Total Comercios'].median(),\n",
    "        resumen['Total Comercios'].min(),\n",
    "        resumen['Total Comercios'].max(),\n",
    "        resumen['Total Comercios'].std()\n",
    "    ]\n",
    "}).round(2)\n",
    "\n",
    "print(stats.to_string(index=False))\n",
    "\n",
    "print(f\"\\nANÁLISIS COMPARATIVO:\")\n",
    "print(\"-\" * 60)\n",
    "\n",
    "mejor_ciudad = resumen.loc[resumen['% Completos'].idxmax()]\n",
    "peor_ciudad = resumen.loc[resumen['% Completos'].idxmin()]\n",
    "ciudad_media = resumen.loc[(resumen['% Completos'] - resumen['% Completos'].median()).abs().idxmin()]\n",
    "\n",
    "print(f\"🏆 MEJOR: {mejor_ciudad.name} - {mejor_ciudad['% Completos']:.2f}% completos ({mejor_ciudad['Total Comercios']} registros)\")\n",
    "print(f\"📊 MEDIANA: {ciudad_media.name} - {ciudad_media['% Completos']:.2f}% completos ({ciudad_media['Total Comercios']} registros)\")  \n",
    "print(f\"⚠️  PEOR: {peor_ciudad.name} - {peor_ciudad['% Completos']:.2f}% completos ({peor_ciudad['Total Comercios']} registros)\")\n",
    "\n",
    "brecha = mejor_ciudad['% Completos'] - peor_ciudad['% Completos']\n",
    "print(f\"📈 BRECHA: {brecha:.2f} puntos porcentuales entre mejor y peor\")\n",
    "\n",
    "# Correlación tamaño vs completitud\n",
    "correlacion = resumen['Total Comercios'].corr(resumen['% Completos'])\n",
    "print(f\"\\n🔗 CORRELACIÓN:\")\n",
    "print(\"-\" * 60)\n",
    "print(f\"   Tamaño vs Completitud: {correlacion:.3f}\")\n",
    "if correlacion > 0.3:\n",
    "    print(\"   → Ciudades más grandes tienden a tener mejor completitud\")\n",
    "elif correlacion < -0.3:\n",
    "    print(\"   → Ciudades más grandes tienden a tener menor completitud\") \n",
    "else:\n",
    "    print(\"   → No hay relación clara entre tamaño y completitud\")"
   ]
  },
  {
   "cell_type": "code",
   "execution_count": 84,
   "id": "d9c41430",
   "metadata": {},
   "outputs": [
    {
     "data": {
      "image/png": "[encoded data removed]",
      "text/plain": [
       "<Figure size 1200x700 with 1 Axes>"
      ]
     },
     "metadata": {},
     "output_type": "display_data"
    },
    {
     "name": "stdout",
     "output_type": "stream",
     "text": [
      "🏆 Tandil tiene el mayor porcentaje de presencia web: 35.24%\n",
      "⚠️ Rauch tiene el menor porcentaje de presencia web: 18.13%\n"
     ]
    }
   ],
   "source": [
    "fig, ax = plt.subplots(figsize=(12, 7), facecolor='white')\n",
    "\n",
    "# Calcular porcentaje incompleto si no existe\n",
    "if '% Incompletos' not in resumen.columns:\n",
    "    resumen['% Incompletos'] = 100 - resumen['% Completos']\n",
    "\n",
    "ax = resumen[['% Completos', '% Incompletos']].plot(\n",
    "    kind='bar', stacked=True, ax=ax, color=[\"#798C99\", '#5DADE2'], \n",
    "    width=0.6, edgecolor='white', linewidth=2, alpha=0.85)\n",
    "\n",
    "# Títulos y configuración\n",
    "fig.suptitle('Distribución de Presencia Online por Ciudad', fontsize=20, fontweight='bold', y=0.96)\n",
    "ax.text(0.5, 1.04, 'Porcentaje de negocios', transform=ax.transAxes, fontsize=12, ha='center', va='bottom', alpha=0.7)\n",
    "ax.set(ylabel='Porcentaje (%)', xlabel='Ciudades', ylim=(0, 100), yticks=range(0, 101, 20))\n",
    "ax.set_ylabel('Porcentaje (%)', fontsize=14, fontweight='bold', labelpad=15)\n",
    "ax.set_xlabel('Ciudades', fontsize=14, fontweight='bold', labelpad=15)\n",
    "\n",
    "# Leyenda \n",
    "ax.legend(['Tiene Website', 'Datos Incompletos'], loc='upper right', bbox_to_anchor=(1, 1), \n",
    "          frameon=True, shadow=True, fancybox=True, fontsize=11, facecolor='white', \n",
    "          edgecolor='#2C3E50', framealpha=0.9)\n",
    "\n",
    "# Etiquetas en barras \n",
    "for c in ax.containers:\n",
    "    ax.bar_label(c, labels=[f'{w:.2f}%' if w > 5 else '' for w in c.datavalues], \n",
    "                label_type='center', color='white', fontweight='bold', fontsize=10,\n",
    "                bbox=dict(boxstyle=\"round,pad=0.2\", facecolor='black', alpha=0.6))\n",
    "                \n",
    "for spine in ['top', 'right']: \n",
    "    ax.spines[spine].set_visible(False)\n",
    "    \n",
    "ax.tick_params(axis='both', which='major', labelsize=10, colors=\"#131516\")\n",
    "plt.xticks(rotation=45 if len(resumen) > 8 else 0, \n",
    "           ha='right' if len(resumen) > 8 else 'center', \n",
    "           fontweight='bold', fontsize=10, color=\"#1E3144\")\n",
    "\n",
    "plt.tight_layout()\n",
    "plt.show()\n",
    "\n",
    "mejor_web = resumen.loc[resumen['% Completos'].idxmax()]\n",
    "peor_web = resumen.loc[resumen['% Completos'].idxmin()]\n",
    "\n",
    "print(f'🏆 {mejor_web.name} tiene el mayor porcentaje de presencia web: {mejor_web[\"% Completos\"]:.2f}%')\n",
    "print(f'⚠️ {peor_web.name} tiene el menor porcentaje de presencia web: {peor_web[\"% Completos\"]:.2f}%')"
   ]
  },
  {
   "cell_type": "code",
   "execution_count": 85,
   "id": "a111fa78",
   "metadata": {},
   "outputs": [
    {
     "data": {
      "application/vnd.microsoft.datawrangler.viewer.v0+json": {
       "columns": [
        {
         "name": "categoryName",
         "rawType": "object",
         "type": "string"
        },
        {
         "name": "count",
         "rawType": "int64",
         "type": "integer"
        }
       ],
       "ref": "bd1dd682-3a2e-439b-9bc1-88afcf7b1b01",
       "rows": [
        [
         "Tienda De Ropa",
         "104"
        ],
        [
         "Agencia Inmobiliaria",
         "85"
        ],
        [
         "Tienda De Materiales Para La Construcción",
         "52"
        ],
        [
         "Comercio",
         "49"
        ],
        [
         "Tienda De Repuestos Para Automóviles",
         "41"
        ],
        [
         "Tienda De Ropa De Mujer",
         "30"
        ],
        [
         "Tienda De Artículos Para El Hogar",
         "29"
        ],
        [
         "Tienda De Informática",
         "23"
        ],
        [
         "Concesionario De Automóviles",
         "23"
        ],
        [
         "Tienda De Muebles",
         "21"
        ],
        [
         "Tienda De Pinturas",
         "19"
        ],
        [
         "Gasolinera",
         "18"
        ],
        [
         "Tienda De Alimentación",
         "18"
        ],
        [
         "Empresa Constructora",
         "17"
        ],
        [
         "Taller Mecánico",
         "17"
        ],
        [
         "Tienda De Ropa De Deportes",
         "16"
        ],
        [
         "Heladería",
         "16"
        ],
        [
         "Taller De Reparación De Automóviles",
         "16"
        ],
        [
         "Tienda De Ropa Infantil",
         "16"
        ],
        [
         "Supermercado",
         "16"
        ],
        [
         "Tienda De Electrodomésticos",
         "16"
        ],
        [
         "Quesería",
         "16"
        ],
        [
         "Servicio De Cambio De Aceite",
         "15"
        ],
        [
         "Ferretería",
         "14"
        ],
        [
         "Farmacia",
         "13"
        ],
        [
         "Agentes Inmobiliarios",
         "12"
        ],
        [
         "Tienda De Móviles",
         "11"
        ],
        [
         "Proveedor De Materiales De Construcción",
         "11"
        ],
        [
         "Tienda De Regalos",
         "11"
        ],
        [
         "Librería",
         "11"
        ],
        [
         "Tienda De Electrónica",
         "11"
        ],
        [
         "Juguetería",
         "10"
        ],
        [
         "Tienda De Ropa De Hombre",
         "10"
        ],
        [
         "Tienda De Ropa Para Bebés",
         "10"
        ],
        [
         "Diseñador De Sitios Web",
         "9"
        ],
        [
         "Club Deportivo",
         "9"
        ],
        [
         "Colchonería",
         "9"
        ],
        [
         "Tienda De Neumáticos",
         "9"
        ],
        [
         "Oficinas De Empresa",
         "9"
        ],
        [
         "Tienda De Herramientas",
         "9"
        ],
        [
         "Tienda De Alimentos Para Animales",
         "8"
        ],
        [
         "Taller De Maquinaria",
         "8"
        ],
        [
         "Tienda De Alimentos Naturales",
         "8"
        ],
        [
         "Empresa De Software",
         "8"
        ],
        [
         "Concesionario De Motos",
         "7"
        ],
        [
         "Zapatería",
         "7"
        ],
        [
         "Cafetería",
         "7"
        ],
        [
         "Tienda De Fotografía",
         "7"
        ],
        [
         "Tienda De Cubertería",
         "7"
        ],
        [
         "Frutería",
         "7"
        ]
       ],
       "shape": {
        "columns": 1,
        "rows": 353
       }
      },
      "text/plain": [
       "categoryName\n",
       "Tienda De Ropa                               104\n",
       "Agencia Inmobiliaria                          85\n",
       "Tienda De Materiales Para La Construcción     52\n",
       "Comercio                                      49\n",
       "Tienda De Repuestos Para Automóviles          41\n",
       "                                            ... \n",
       "Consultora De Administración Empresarial       1\n",
       "Club De Baile                                  1\n",
       "Escuela De Natación                            1\n",
       "Servicio De Bordado                            1\n",
       "Bufete                                         1\n",
       "Name: count, Length: 353, dtype: int64"
      ]
     },
     "execution_count": 85,
     "metadata": {},
     "output_type": "execute_result"
    }
   ],
   "source": [
    "# Crear nuevo DataFrame filtrando registros completos\n",
    "# Excluye filas que contengan 'incomplete' en cualquiera de las columnas\n",
    "df_full_records = df[~(df == 'Incomplete').any(axis=1)].copy()\n",
    "# Resultado: Conteo por categoría con datos completos\n",
    "df_full_records['categoryName'].value_counts()"
   ]
  },
  {
   "cell_type": "markdown",
   "id": "fb28d0d8",
   "metadata": {},
   "source": [
    "\n",
    "<div style=\"font-family: 'JetBrains Mono', monospace; font-size: 14px; color: #e2dbdbff; line-height: 1.6;\">\n",
    "\n",
    "#### 💡 Categorías de comercios con datos completos\n",
    "**Tienda de Ropa**, **Agencia Inmobiliaria** y **Tienda De Materiales Para La Construcción** son las categorías con más datos completos.\n",
    "\n",
    "</div>"
   ]
  },
  {
   "cell_type": "code",
   "execution_count": 86,
   "id": "fef82e53",
   "metadata": {},
   "outputs": [
    {
     "name": "stdout",
     "output_type": "stream",
     "text": [
      "Un total de 941 comercios tienen dominio propio para páginas web\n"
     ]
    }
   ],
   "source": [
    "word = ['facebook', 'instagram', 'mercadolibre', 'mercadoshops', 'tiendanube', 'paginasamarillas', \n",
    "        'guia-dorada', 'gurugo', 'wa.me', 'sites.google.', 'region20', 'Incomplete']\n",
    "# Crear máscara combinada\n",
    "contains_word = df['website'].str.contains('|'.join(word), case=False, na=False)\n",
    "# Contar los que NO contienen ninguna de esas palabras\n",
    "dominio_Propio = (~contains_word).sum()\n",
    "dominio_Propio\n",
    "print(f\"Un total de {dominio_Propio} comercios tienen dominio propio para páginas web\")"
   ]
  },
  {
   "cell_type": "code",
   "execution_count": 87,
   "id": "c4e8af06",
   "metadata": {},
   "outputs": [
    {
     "data": {
      "application/vnd.microsoft.datawrangler.viewer.v0+json": {
       "columns": [
        {
         "name": "index",
         "rawType": "object",
         "type": "string"
        },
        {
         "name": "count",
         "rawType": "int64",
         "type": "integer"
        },
        {
         "name": "percentage",
         "rawType": "float64",
         "type": "float"
        }
       ],
       "ref": "863f3e17-e0a8-47d6-9005-ef7f0561fbce",
       "rows": [
        [
         "Dominio Propio",
         "941",
         "53.77"
        ],
        [
         "Instagram",
         "337",
         "19.26"
        ],
        [
         "Facebook",
         "317",
         "18.11"
        ],
        [
         "Guía Dorada",
         "68",
         "3.89"
        ],
        [
         "TiendaNube",
         "35",
         "2.0"
        ],
        [
         "WhatsApp",
         "15",
         "0.86"
        ],
        [
         "Google Sites",
         "13",
         "0.74"
        ],
        [
         "Gurugo",
         "8",
         "0.46"
        ],
        [
         "MercadoShops",
         "8",
         "0.46"
        ],
        [
         "Región20",
         "5",
         "0.29"
        ],
        [
         "Mercado Libre",
         "3",
         "0.17"
        ],
        [
         "Páginas Amarillas",
         "2",
         "0.11"
        ],
        [
         "PedidosYa",
         "1",
         "0.06"
        ]
       ],
       "shape": {
        "columns": 2,
        "rows": 13
       }
      },
      "text/html": [
       "<div>\n",
       "<style scoped>\n",
       "    .dataframe tbody tr th:only-of-type {\n",
       "        vertical-align: middle;\n",
       "    }\n",
       "\n",
       "    .dataframe tbody tr th {\n",
       "        vertical-align: top;\n",
       "    }\n",
       "\n",
       "    .dataframe thead th {\n",
       "        text-align: right;\n",
       "    }\n",
       "</style>\n",
       "<table border=\"1\" class=\"dataframe\">\n",
       "  <thead>\n",
       "    <tr style=\"text-align: right;\">\n",
       "      <th></th>\n",
       "      <th>count</th>\n",
       "      <th>percentage</th>\n",
       "    </tr>\n",
       "  </thead>\n",
       "  <tbody>\n",
       "    <tr>\n",
       "      <th>Dominio Propio</th>\n",
       "      <td>941</td>\n",
       "      <td>53.77</td>\n",
       "    </tr>\n",
       "    <tr>\n",
       "      <th>Instagram</th>\n",
       "      <td>337</td>\n",
       "      <td>19.26</td>\n",
       "    </tr>\n",
       "    <tr>\n",
       "      <th>Facebook</th>\n",
       "      <td>317</td>\n",
       "      <td>18.11</td>\n",
       "    </tr>\n",
       "    <tr>\n",
       "      <th>Guía Dorada</th>\n",
       "      <td>68</td>\n",
       "      <td>3.89</td>\n",
       "    </tr>\n",
       "    <tr>\n",
       "      <th>TiendaNube</th>\n",
       "      <td>35</td>\n",
       "      <td>2.00</td>\n",
       "    </tr>\n",
       "    <tr>\n",
       "      <th>WhatsApp</th>\n",
       "      <td>15</td>\n",
       "      <td>0.86</td>\n",
       "    </tr>\n",
       "    <tr>\n",
       "      <th>Google Sites</th>\n",
       "      <td>13</td>\n",
       "      <td>0.74</td>\n",
       "    </tr>\n",
       "    <tr>\n",
       "      <th>Gurugo</th>\n",
       "      <td>8</td>\n",
       "      <td>0.46</td>\n",
       "    </tr>\n",
       "    <tr>\n",
       "      <th>MercadoShops</th>\n",
       "      <td>8</td>\n",
       "      <td>0.46</td>\n",
       "    </tr>\n",
       "    <tr>\n",
       "      <th>Región20</th>\n",
       "      <td>5</td>\n",
       "      <td>0.29</td>\n",
       "    </tr>\n",
       "    <tr>\n",
       "      <th>Mercado Libre</th>\n",
       "      <td>3</td>\n",
       "      <td>0.17</td>\n",
       "    </tr>\n",
       "    <tr>\n",
       "      <th>Páginas Amarillas</th>\n",
       "      <td>2</td>\n",
       "      <td>0.11</td>\n",
       "    </tr>\n",
       "    <tr>\n",
       "      <th>PedidosYa</th>\n",
       "      <td>1</td>\n",
       "      <td>0.06</td>\n",
       "    </tr>\n",
       "  </tbody>\n",
       "</table>\n",
       "</div>"
      ],
      "text/plain": [
       "                   count  percentage\n",
       "Dominio Propio       941       53.77\n",
       "Instagram            337       19.26\n",
       "Facebook             317       18.11\n",
       "Guía Dorada           68        3.89\n",
       "TiendaNube            35        2.00\n",
       "WhatsApp              15        0.86\n",
       "Google Sites          13        0.74\n",
       "Gurugo                 8        0.46\n",
       "MercadoShops           8        0.46\n",
       "Región20               5        0.29\n",
       "Mercado Libre          3        0.17\n",
       "Páginas Amarillas      2        0.11\n",
       "PedidosYa              1        0.06"
      ]
     },
     "execution_count": 87,
     "metadata": {},
     "output_type": "execute_result"
    }
   ],
   "source": [
    "# Diccionario: palabra a buscar\n",
    "words_dict = {\n",
    "    'facebook': 'Facebook',\n",
    "    'instagram': 'Instagram',\n",
    "    'mercadolibre': 'Mercado Libre',\n",
    "    'mercadoshops': 'MercadoShops',\n",
    "    'tiendanube': 'TiendaNube',\n",
    "    'paginasamarillas': 'Páginas Amarillas',\n",
    "    'guia-dorada': 'Guía Dorada',\n",
    "    'gurugo': 'Gurugo',\n",
    "    'wa.me': 'WhatsApp',\n",
    "    'sites.google.': 'Google Sites',\n",
    "    'pedidosya': 'PedidosYa',\n",
    "    'region20': 'Región20'\n",
    "}\n",
    "# Conteo por cada palabra\n",
    "result = pd.Series({\n",
    "    label: df['website'].str.contains(word, case=False, na=False).sum()\n",
    "    for word, label in words_dict.items()\n",
    "})\n",
    "webs = (~df['website'].str.contains('Incomplete', case=False, na=False)).sum()\n",
    "result[\"Dominio Propio\"] = dominio_Propio\n",
    "\n",
    "# Tabla final con porcentajes\n",
    "result_df = pd.DataFrame({\n",
    "    \"count\": result,\n",
    "    \"percentage\": (result / webs * 100).round(2)\n",
    "}).sort_values(\"count\", ascending=False)\n",
    "result_df"
   ]
  },
  {
   "cell_type": "markdown",
   "id": "009d8174",
   "metadata": {},
   "source": [
    "<div style=\"font-family: 'JetBrains Mono', monospace; font-size: 14px; color: #e2dbdbff; line-height: 1.6;\">\n",
    "\n",
    "💡 ¿Qué hace este código?\n",
    "- Este código nos da el porcentaje y cantidad de las plataformas registradas.\n",
    "\n",
    "</div>"
   ]
  },
  {
   "cell_type": "code",
   "execution_count": 88,
   "id": "c8dc259b",
   "metadata": {},
   "outputs": [
    {
     "data": {
      "image/png": "[encoded data removed]",
      "text/plain": [
       "<Figure size 1200x700 with 1 Axes>"
      ]
     },
     "metadata": {},
     "output_type": "display_data"
    }
   ],
   "source": [
    "result_df_filtered = result_df[result_df[\"count\"] > 10]\n",
    "# Invertir orden para que mayor cantidad esté arriba\n",
    "df_sorted = result_df_filtered.iloc[::-1]\n",
    "\n",
    "fig, ax = plt.subplots(figsize=(12, 7), facecolor='white')\n",
    "\n",
    "# Gráfico de barras horizontales\n",
    "bars = ax.barh(df_sorted.index, df_sorted[\"count\"], color='#5DADE2', \n",
    "               edgecolor='white', linewidth=2, alpha=0.85, height=0.6)\n",
    "\n",
    "# Títulos\n",
    "ax.text(0.5, 1.08, 'Análisis de Presencia Digital', \n",
    "        transform=ax.transAxes, fontsize=12, ha='center', va='bottom', fontweight='bold', alpha=0.8)\n",
    "ax.text(0.5, 1.04, 'Sitios Web • Marketplaces • E-commerce • Redes Sociales • Directorios Digitales', \n",
    "        transform=ax.transAxes, fontsize=10, ha='center', va='bottom', alpha=0.7, style='italic')\n",
    "\n",
    "# Etiquetas en barras\n",
    "for bar in bars:\n",
    "    width = bar.get_width()\n",
    "    ax.annotate(f'{int(width)}', xy=(width, bar.get_y() + bar.get_height()/2), \n",
    "                xytext=(5, 0), textcoords=\"offset points\", ha='left', va='center', \n",
    "                fontweight='bold', fontsize=10, color='white',\n",
    "                bbox=dict(boxstyle=\"round,pad=0.2\", facecolor='black', alpha=0.6))\n",
    "\n",
    "# Configuración de ejes y grid\n",
    "ax.set(xlabel=\"Cantidad de Negocios\", ylabel=\"Plataformas\")\n",
    "ax.set_xlabel(\"Cantidad de Negocios\", fontsize=14, fontweight='bold', labelpad=15)\n",
    "ax.set_ylabel(\"Plataformas\", fontsize=14, fontweight='bold', labelpad=15)\n",
    "ax.xaxis.grid(True, linestyle='--', alpha=0.9, color=\"#646363\", linewidth=1)\n",
    "ax.set_axisbelow(True)\n",
    "\n",
    "# Limpieza de bordes y formato\n",
    "for spine in ['top', 'right']: ax.spines[spine].set_visible(False)\n",
    "ax.tick_params(axis='both', which='major', labelsize=10, colors='#2C3E50')\n",
    "plt.tight_layout(); plt.show()"
   ]
  },
  {
   "cell_type": "markdown",
   "id": "8fcb3133",
   "metadata": {},
   "source": [
    "<div style=\"font-family: 'JetBrains Mono', monospace; font-size: 14px; color: #e2dbdbff; line-height: 1.6;\">\n",
    "\n",
    "#### 💡 Preferencia de Plataforma Digital\n",
    "\n",
    "La presencia digital está altamente polarizada. Comercios con **Dominio Propio** (impulsados por cadenas nacionales) lideran con: **(53,77)**, seguidos por Redes Sociales siendo las predominantes :**Instagram (19,26%) y Facebook (18,11%)** . Es notorio que otas plataformas tienen una presencia casi nula, lo que podría indicar que el tipo de negocio analizado es principalmente B2C (Business to Consumer) y enfocado en interacción visual.\n",
    "\n",
    "</div>\n"
   ]
  },
  {
   "cell_type": "code",
   "execution_count": 89,
   "id": "e7c5ea49",
   "metadata": {},
   "outputs": [
    {
     "data": {
      "application/vnd.microsoft.datawrangler.viewer.v0+json": {
       "columns": [
        {
         "name": "index",
         "rawType": "int64",
         "type": "integer"
        },
        {
         "name": "categoryName",
         "rawType": "object",
         "type": "string"
        },
        {
         "name": "website_count",
         "rawType": "int64",
         "type": "integer"
        },
        {
         "name": "percentage",
         "rawType": "float64",
         "type": "float"
        }
       ],
       "ref": "45a13cf6-68ab-4aff-ab23-3355c8cf6849",
       "rows": [
        [
         "573",
         "Tienda De Ropa",
         "464",
         "7.92"
        ],
        [
         "444",
         "Tienda De Alimentación",
         "366",
         "6.25"
        ],
        [
         "90",
         "Comercio",
         "333",
         "5.68"
        ],
        [
         "14",
         "Agencia Inmobiliaria",
         "180",
         "3.07"
        ],
        [
         "230",
         "Incomplete",
         "142",
         "2.42"
        ],
        [
         "427",
         "Taller De Reparación De Automóviles",
         "141",
         "2.41"
        ],
        [
         "570",
         "Tienda De Repuestos Para Automóviles",
         "140",
         "2.39"
        ],
        [
         "578",
         "Tienda De Ropa De Mujer",
         "115",
         "1.96"
        ],
        [
         "538",
         "Tienda De Materiales Para La Construcción",
         "103",
         "1.76"
        ],
        [
         "40",
         "Carnicería",
         "101",
         "1.72"
        ],
        [
         "468",
         "Tienda De Artículos Para El Hogar",
         "97",
         "1.66"
        ],
        [
         "413",
         "Supermercado",
         "93",
         "1.59"
        ],
        [
         "276",
         "Panadería",
         "90",
         "1.54"
        ],
        [
         "102",
         "Concesionario De Automóviles",
         "83",
         "1.42"
        ],
        [
         "433",
         "Taller Mecánico",
         "81",
         "1.38"
        ],
        [
         "543",
         "Tienda De Muebles",
         "68",
         "1.16"
        ],
        [
         "84",
         "Club Deportivo",
         "66",
         "1.13"
        ],
        [
         "155",
         "Empresa Constructora",
         "66",
         "1.13"
        ],
        [
         "199",
         "Ferretería",
         "60",
         "1.02"
        ],
        [
         "203",
         "Frutería",
         "59",
         "1.01"
        ],
        [
         "245",
         "Kiosco",
         "57",
         "0.97"
        ],
        [
         "606",
         "Tienda General",
         "53",
         "0.9"
        ],
        [
         "197",
         "Farmacia",
         "48",
         "0.82"
        ],
        [
         "559",
         "Tienda De Pinturas",
         "47",
         "0.8"
        ],
        [
         "527",
         "Tienda De Informática",
         "46",
         "0.79"
        ],
        [
         "567",
         "Tienda De Regalos",
         "45",
         "0.77"
        ],
        [
         "248",
         "Librería",
         "43",
         "0.73"
        ],
        [
         "585",
         "Tienda De Ropa Infantil",
         "38",
         "0.65"
        ],
        [
         "220",
         "Heladería",
         "35",
         "0.6"
        ],
        [
         "511",
         "Tienda De Electrónica",
         "34",
         "0.58"
        ],
        [
         "549",
         "Tienda De Móviles",
         "34",
         "0.58"
        ],
        [
         "417",
         "Taller De Automóviles",
         "33",
         "0.56"
        ],
        [
         "550",
         "Tienda De Neumáticos",
         "33",
         "0.56"
        ],
        [
         "577",
         "Tienda De Ropa De Hombre",
         "31",
         "0.53"
        ],
        [
         "587",
         "Tienda De Ropa Para Bebés",
         "31",
         "0.53"
        ],
        [
         "15",
         "Agentes Inmobiliarios",
         "29",
         "0.49"
        ],
        [
         "37",
         "Cafetería",
         "28",
         "0.48"
        ],
        [
         "532",
         "Tienda De Lencería",
         "28",
         "0.48"
        ],
        [
         "611",
         "Urbanización",
         "28",
         "0.48"
        ],
        [
         "525",
         "Tienda De Herramientas",
         "28",
         "0.48"
        ],
        [
         "148",
         "Diseñador De Sitios Web",
         "26",
         "0.44"
        ],
        [
         "445",
         "Tienda De Alimentos Naturales",
         "26",
         "0.44"
        ],
        [
         "575",
         "Tienda De Ropa De Deportes",
         "26",
         "0.44"
        ],
        [
         "619",
         "Zapatería",
         "26",
         "0.44"
        ],
        [
         "312",
         "Proveedor De Materiales De Construcción",
         "25",
         "0.43"
        ],
        [
         "214",
         "Gasolinera",
         "22",
         "0.38"
        ],
        [
         "349",
         "Servicio De Cambio De Aceite",
         "22",
         "0.38"
        ],
        [
         "182",
         "Establecimiento De Venta De Madera",
         "21",
         "0.36"
        ],
        [
         "447",
         "Tienda De Alimentos Para Animales",
         "21",
         "0.36"
        ],
        [
         "300",
         "Polideportivo",
         "20",
         "0.34"
        ]
       ],
       "shape": {
        "columns": 3,
        "rows": 621
       }
      },
      "text/html": [
       "<div>\n",
       "<style scoped>\n",
       "    .dataframe tbody tr th:only-of-type {\n",
       "        vertical-align: middle;\n",
       "    }\n",
       "\n",
       "    .dataframe tbody tr th {\n",
       "        vertical-align: top;\n",
       "    }\n",
       "\n",
       "    .dataframe thead th {\n",
       "        text-align: right;\n",
       "    }\n",
       "</style>\n",
       "<table border=\"1\" class=\"dataframe\">\n",
       "  <thead>\n",
       "    <tr style=\"text-align: right;\">\n",
       "      <th></th>\n",
       "      <th>categoryName</th>\n",
       "      <th>website_count</th>\n",
       "      <th>percentage</th>\n",
       "    </tr>\n",
       "  </thead>\n",
       "  <tbody>\n",
       "    <tr>\n",
       "      <th>573</th>\n",
       "      <td>Tienda De Ropa</td>\n",
       "      <td>464</td>\n",
       "      <td>7.92</td>\n",
       "    </tr>\n",
       "    <tr>\n",
       "      <th>444</th>\n",
       "      <td>Tienda De Alimentación</td>\n",
       "      <td>366</td>\n",
       "      <td>6.25</td>\n",
       "    </tr>\n",
       "    <tr>\n",
       "      <th>90</th>\n",
       "      <td>Comercio</td>\n",
       "      <td>333</td>\n",
       "      <td>5.68</td>\n",
       "    </tr>\n",
       "    <tr>\n",
       "      <th>14</th>\n",
       "      <td>Agencia Inmobiliaria</td>\n",
       "      <td>180</td>\n",
       "      <td>3.07</td>\n",
       "    </tr>\n",
       "    <tr>\n",
       "      <th>230</th>\n",
       "      <td>Incomplete</td>\n",
       "      <td>142</td>\n",
       "      <td>2.42</td>\n",
       "    </tr>\n",
       "    <tr>\n",
       "      <th>...</th>\n",
       "      <td>...</td>\n",
       "      <td>...</td>\n",
       "      <td>...</td>\n",
       "    </tr>\n",
       "    <tr>\n",
       "      <th>579</th>\n",
       "      <td>Tienda De Ropa De Playa</td>\n",
       "      <td>1</td>\n",
       "      <td>0.02</td>\n",
       "    </tr>\n",
       "    <tr>\n",
       "      <th>11</th>\n",
       "      <td>Agencia De Subastas Inmobiliarias</td>\n",
       "      <td>1</td>\n",
       "      <td>0.02</td>\n",
       "    </tr>\n",
       "    <tr>\n",
       "      <th>7</th>\n",
       "      <td>Agencia De Publicidad</td>\n",
       "      <td>1</td>\n",
       "      <td>0.02</td>\n",
       "    </tr>\n",
       "    <tr>\n",
       "      <th>3</th>\n",
       "      <td>Agencia De Alquiler De Grúas</td>\n",
       "      <td>1</td>\n",
       "      <td>0.02</td>\n",
       "    </tr>\n",
       "    <tr>\n",
       "      <th>590</th>\n",
       "      <td>Tienda De Sellos De Caucho</td>\n",
       "      <td>1</td>\n",
       "      <td>0.02</td>\n",
       "    </tr>\n",
       "  </tbody>\n",
       "</table>\n",
       "<p>621 rows × 3 columns</p>\n",
       "</div>"
      ],
      "text/plain": [
       "                          categoryName  website_count  percentage\n",
       "573                     Tienda De Ropa            464        7.92\n",
       "444             Tienda De Alimentación            366        6.25\n",
       "90                            Comercio            333        5.68\n",
       "14                Agencia Inmobiliaria            180        3.07\n",
       "230                         Incomplete            142        2.42\n",
       "..                                 ...            ...         ...\n",
       "579            Tienda De Ropa De Playa              1        0.02\n",
       "11   Agencia De Subastas Inmobiliarias              1        0.02\n",
       "7                Agencia De Publicidad              1        0.02\n",
       "3         Agencia De Alquiler De Grúas              1        0.02\n",
       "590         Tienda De Sellos De Caucho              1        0.02\n",
       "\n",
       "[621 rows x 3 columns]"
      ]
     },
     "execution_count": 89,
     "metadata": {},
     "output_type": "execute_result"
    }
   ],
   "source": [
    "#  Agrupar, contar, ordenar y calcular porcentaje\n",
    "category_counts = (df.groupby(['categoryName']).size().reset_index(name='website_count').sort_values(by='website_count', ascending=False))\n",
    "\n",
    "# Agregar columna con porcentaje sobre el total\n",
    "category_counts['percentage'] = (\n",
    "    category_counts['website_count'] / category_counts['website_count'].sum() * 100\n",
    ").round(2)\n",
    "category_counts"
   ]
  },
  {
   "cell_type": "code",
   "execution_count": 90,
   "id": "8a6d62b5",
   "metadata": {},
   "outputs": [
    {
     "name": "stdout",
     "output_type": "stream",
     "text": [
      "Total de categorías distintas: 621\n"
     ]
    }
   ],
   "source": [
    "total_categorias = df['categoryName'].nunique()\n",
    "print(f\"Total de categorías distintas: {total_categorias}\")"
   ]
  },
  {
   "cell_type": "markdown",
   "id": "7aa47677",
   "metadata": {},
   "source": [
    "<div style=\"font-family: 'JetBrains Mono', monospace; font-size: 14px; color: #e2dbdbff; line-height: 1.6;\">\n",
    "\n",
    "📊 Análisis de Distribución por Categorías\n",
    "\n",
    "**Resultados Principales:**\n",
    "- **Tienda de Ropa**: 464 comercios (7.92%)\n",
    "- **Tienda de Alimentación**: 366 comercios (6.25%) \n",
    "- **Comercio**: 333 comercios (5.68%)\n",
    "\n",
    "🔍 **Problema Encontrado:** Demasiadas Categorías\n",
    "\n",
    "El dataset tiene **621 categorías diferentes**, lo que causa:\n",
    "\n",
    "- **Porcentajes muy bajos**: Incluso las categorías más grandes no llegan al 8%\n",
    "- **Datos dispersos**: Muchas categorías tienen pocos registros\n",
    "- **Dificulta el análisis**: Es difícil encontrar patrones claros\n",
    "\n",
    "📈 **Lo que esto significa:**\n",
    "- Los comercios están clasificados de manera muy específica\n",
    "- Necesitamos agrupar categorías similares para un mejor análisis\n",
    "- Ejemplo: \"Tienda de Ropa\", \"Ropa\" e \"Indumentaria\" podrían ser una sola categoría\n",
    "\n",
    "> **Conclusión**: Aunque tener 621 categorías muestra la variedad de comercios, sería mejor agruparlas en categorías más generales para facilitar el análisis.\n",
    "\n",
    "</div>"
   ]
  },
  {
   "cell_type": "code",
   "execution_count": 91,
   "id": "077cf067",
   "metadata": {},
   "outputs": [
    {
     "data": {
      "image/png": "[encoded data removed]",
      "text/plain": [
       "<Figure size 1200x500 with 1 Axes>"
      ]
     },
     "metadata": {},
     "output_type": "display_data"
    }
   ],
   "source": [
    "# Tomar solo los 5 primeros\n",
    "top5 = category_counts.head(5)\n",
    "# Gráfico\n",
    "fig, ax = plt.subplots(figsize=(12, 5))\n",
    "bars = ax.barh(\n",
    "    top5['categoryName'],\n",
    "    top5['website_count'],\n",
    "    color=\"#5DADE2\",\n",
    "    label=\"Cantidad de websites\")\n",
    "# Invertir para que el mayor quede arriba\n",
    "ax.invert_yaxis()\n",
    "# Título\n",
    "ax.set_title(\"Categorías con más presencia Online\", fontsize=12, fontweight=\"bold\")\n",
    "# Etiquetas en las barras\n",
    "for bar in bars:\n",
    "    width = bar.get_width()\n",
    "    ax.annotate(\n",
    "        f'{int(width)}',\n",
    "        xy=(width, bar.get_y() + bar.get_height()/2),\n",
    "        xytext=(5, 0),\n",
    "        textcoords=\"offset points\",\n",
    "        ha='left', va='center',\n",
    "        fontweight='bold', fontsize=10, color='white',\n",
    "        bbox=dict(boxstyle=\"round,pad=0.2\", facecolor='black', alpha=0.6)\n",
    "    )\n",
    "# Ajuste de diseño\n",
    "plt.tight_layout()\n",
    "plt.show()\n"
   ]
  },
  {
   "cell_type": "code",
   "execution_count": 92,
   "id": "a91972f6",
   "metadata": {},
   "outputs": [
    {
     "data": {
      "application/vnd.microsoft.datawrangler.viewer.v0+json": {
       "columns": [
        {
         "name": "totalScore",
         "rawType": "float64",
         "type": "float"
        },
        {
         "name": "count",
         "rawType": "int64",
         "type": "integer"
        }
       ],
       "ref": "71b37990-c923-4b57-85bf-c591b9e3d6bc",
       "rows": [
        [
         "0.0",
         "1395"
        ],
        [
         "5.0",
         "1206"
        ],
        [
         "4.5",
         "424"
        ],
        [
         "4.7",
         "403"
        ],
        [
         "4.6",
         "396"
        ],
        [
         "4.8",
         "376"
        ],
        [
         "4.4",
         "313"
        ],
        [
         "4.3",
         "268"
        ],
        [
         "4.9",
         "214"
        ],
        [
         "4.0",
         "198"
        ],
        [
         "4.2",
         "151"
        ],
        [
         "4.1",
         "114"
        ],
        [
         "3.0",
         "70"
        ],
        [
         "3.8",
         "59"
        ],
        [
         "3.7",
         "58"
        ],
        [
         "3.9",
         "39"
        ],
        [
         "1.0",
         "38"
        ],
        [
         "3.5",
         "25"
        ],
        [
         "2.0",
         "21"
        ],
        [
         "3.6",
         "20"
        ],
        [
         "3.3",
         "19"
        ],
        [
         "3.4",
         "12"
        ],
        [
         "2.3",
         "11"
        ],
        [
         "2.5",
         "5"
        ],
        [
         "3.1",
         "4"
        ],
        [
         "2.9",
         "3"
        ],
        [
         "2.7",
         "3"
        ],
        [
         "1.8",
         "2"
        ],
        [
         "1.9",
         "2"
        ],
        [
         "2.8",
         "2"
        ],
        [
         "3.2",
         "2"
        ],
        [
         "2.4",
         "1"
        ],
        [
         "1.5",
         "1"
        ],
        [
         "1.3",
         "1"
        ],
        [
         "2.6",
         "1"
        ],
        [
         "2.1",
         "1"
        ],
        [
         "1.7",
         "1"
        ]
       ],
       "shape": {
        "columns": 1,
        "rows": 37
       }
      },
      "text/plain": [
       "totalScore\n",
       "0.0    1395\n",
       "5.0    1206\n",
       "4.5     424\n",
       "4.7     403\n",
       "4.6     396\n",
       "4.8     376\n",
       "4.4     313\n",
       "4.3     268\n",
       "4.9     214\n",
       "4.0     198\n",
       "4.2     151\n",
       "4.1     114\n",
       "3.0      70\n",
       "3.8      59\n",
       "3.7      58\n",
       "3.9      39\n",
       "1.0      38\n",
       "3.5      25\n",
       "2.0      21\n",
       "3.6      20\n",
       "3.3      19\n",
       "3.4      12\n",
       "2.3      11\n",
       "2.5       5\n",
       "3.1       4\n",
       "2.9       3\n",
       "2.7       3\n",
       "1.8       2\n",
       "1.9       2\n",
       "2.8       2\n",
       "3.2       2\n",
       "2.4       1\n",
       "1.5       1\n",
       "1.3       1\n",
       "2.6       1\n",
       "2.1       1\n",
       "1.7       1\n",
       "Name: count, dtype: int64"
      ]
     },
     "execution_count": 92,
     "metadata": {},
     "output_type": "execute_result"
    }
   ],
   "source": [
    "# Muestra cuántas veces aparece cada puntaje total en el dataset, ordenado descendentemente\n",
    "df['totalScore'].value_counts().sort_values(ascending=False)"
   ]
  },
  {
   "cell_type": "code",
   "execution_count": 93,
   "id": "19ac1557",
   "metadata": {},
   "outputs": [
    {
     "data": {
      "image/png": "[encoded data removed]",
      "text/plain": [
       "<Figure size 1000x600 with 1 Axes>"
      ]
     },
     "metadata": {},
     "output_type": "display_data"
    },
    {
     "name": "stdout",
     "output_type": "stream",
     "text": [
      "📊 Estadísticas por categorías:\n",
      "🔹 Muy bueno (4 - 4.9): 2,659 negocios (45.38%)\n",
      "🔹 Sin calificar: 1,395 negocios (23.81%)\n",
      "🔹 Excelente (5): 1,206 negocios (20.58%)\n",
      "🔹 Bueno (3 - 4): 436 negocios (7.44%)\n",
      "🔹 Regular (2 - 3): 97 negocios (1.66%)\n",
      "🔹 Malo (1 - 2): 66 negocios (1.13%)\n"
     ]
    }
   ],
   "source": [
    "def categorize_score(score):\n",
    "    if score == 0: return \"Sin calificar\"\n",
    "    elif score <= 2: return \"Malo (1 - 2)\"\n",
    "    elif score <= 3: return \"Regular (2 - 3)\"\n",
    "    elif score <= 4: return \"Bueno (3 - 4)\"\n",
    "    elif score < 5: return \"Muy bueno (4 - 4.9)\"\n",
    "    else: return \"Excelente (5)\"\n",
    "df['score_category'] = df['totalScore'].apply(categorize_score)\n",
    "cat_counts = df['score_category'].value_counts()\n",
    "plt.figure(figsize=(10, 6), facecolor='white')\n",
    "bars = plt.bar(range(len(cat_counts)), cat_counts.values, color='#5DADE2', \n",
    "               alpha=0.85, edgecolor='white', linewidth=2)\n",
    "plt.title('Distribución de Puntajes de Calificación', fontsize=16, fontweight='bold', color='#2C3E50')\n",
    "plt.xticks(range(len(cat_counts)), cat_counts.index, rotation=45, ha='right')\n",
    "plt.ylabel('Cantidad de Negocios', fontsize=12, fontweight='bold', color='#2C3E50')\n",
    "\n",
    "# Etiquetas arriba de barras\n",
    "for bar in bars:\n",
    "    height = bar.get_height()\n",
    "    plt.annotate(f'{int(height)}', xy=(bar.get_x() + bar.get_width()/2, height),\n",
    "                xytext=(0, 5), textcoords=\"offset points\", ha='center', va='bottom',\n",
    "                fontweight='bold', fontsize=10, color='#2C3E50')\n",
    "\n",
    "plt.grid(True, alpha=0.3, axis='y', linestyle='--', color='gray')\n",
    "for spine in ['top', 'right']: plt.gca().spines[spine].set_visible(False)\n",
    "plt.tight_layout(); plt.show()\n",
    "print(\"📊 Estadísticas por categorías:\")\n",
    "for category, count in cat_counts.items():\n",
    "    print(f\"🔹 {category}: {count:,} negocios ({count/len(df)*100:.2f}%)\")\n"
   ]
  },
  {
   "cell_type": "markdown",
   "id": "2809ba80",
   "metadata": {},
   "source": [
    "<div style=\"font-family: 'JetBrains Mono', monospace; font-size: 14px; color: #e2dbdbff; line-height: 1.6;\">\n",
    "\n",
    "📊 Distribución de puntuaciones:\n",
    "La mayoría de los negocios tienen muy buenas calificaciones:\n",
    "- 45.38% están en la categoría Muy bueno (4 - 4.9)\n",
    "- 20.58% alcanzan Excelente (5)\n",
    "\n",
    "También hay un 23.81% sin calificar, lo cual muestra que todavía falta información en muchos casos.\n",
    "\n",
    "En general, los negocios se concentran en la parte alta de la escala,\n",
    "lo que refleja buena percepción de los clientes.\n",
    "\n",
    "</div>"
   ]
  },
  {
   "cell_type": "code",
   "execution_count": 94,
   "id": "6a10d6c4",
   "metadata": {},
   "outputs": [
    {
     "data": {
      "image/png": "[encoded data removed]",
      "text/plain": [
       "<Figure size 1000x600 with 1 Axes>"
      ]
     },
     "metadata": {},
     "output_type": "display_data"
    }
   ],
   "source": [
    "# Filtra el DataFrame para incluir solo los puntajes entre 4 y 5\n",
    "puntajes_4_a_5 = df[(df['totalScore'] >= 4) & (df['totalScore'] <= 5)]\n",
    "\n",
    "# --- Creación del Histograma ---\n",
    "plt.figure(figsize=(10, 6))\n",
    "\n",
    "# Usamos sns.histplot para mostrar la frecuencia de los puntajes\n",
    "ax = sns.histplot(data=puntajes_4_a_5, x='totalScore', bins=20, kde=True,\n",
    "             color='#3498db', edgecolor='white', linewidth=1.5)\n",
    "\n",
    "# --- Añadir Etiquetas de Valor ---\n",
    "# Itera sobre cada barra (patch) del histograma para agregar el texto con la cuenta\n",
    "for bar in ax.patches:\n",
    "    height = bar.get_height()\n",
    "    if height > 0:\n",
    "        ax.annotate(f'{int(height)}',\n",
    "                    xy=(bar.get_x() + bar.get_width() / 2, height),\n",
    "                    xytext=(0, 3),  # 3 puntos de offset\n",
    "                    textcoords=\"offset points\",\n",
    "                    ha='center', va='bottom',\n",
    "                    fontsize=8)\n",
    "\n",
    "# --- Personalización Estética ---\n",
    "plt.title('Distribución de Puntajes de Calificación (Entre 4 y 5)', fontsize=16, fontweight='bold', color='#2C3E50')\n",
    "plt.xlabel('Puntuación (totalScore)', fontsize=12)\n",
    "plt.ylabel('Frecuencia (Cantidad de Negocios)', fontsize=12)\n",
    "plt.grid(axis='y', linestyle='--', alpha=0.6)\n",
    "\n",
    "plt.tight_layout()\n",
    "plt.show()"
   ]
  },
  {
   "cell_type": "markdown",
   "id": "d1438626",
   "metadata": {},
   "source": [
    "<div style=\"font-family: 'JetBrains Mono', monospace; font-size: 14px; color: #e2dbdbff; line-height: 1.6;\">\n",
    "\n",
    "### 📊 Distribución de Puntuaciones Detallada (Entre 4 y 5)\n",
    "\n",
    "📊 Distribución de Puntuaciones (4.0 - 5.0)\n",
    "Este histograma muestra la distribución de las puntuaciones de calidad entre 4.0 y 5.0, revelando dónde se concentra la mayoría de las calificaciones.\n",
    "\n",
    "📈 Hallazgos Clave\n",
    "Puntuaciones Altas y Consistentes: La mayoría de los negocios obtienen calificaciones entre 4.0 y 4.5. Esto indica que los clientes están muy satisfechos, pero hay una oportunidad para que los negocios mejoren para alcanzar la perfección.\n",
    "\n",
    "Pico en 5.0: Un gran número de negocios tiene la puntuación máxima de 5.0. Este pico resalta una fuerte cultura de calidad en la región y demuestra que muchos negocios sobresalen en la experiencia del cliente.\n",
    "\n",
    "</div>"
   ]
  },
  {
   "cell_type": "markdown",
   "id": "4af4bb31",
   "metadata": {},
   "source": [
    "---\n",
    "\n",
    "## 📌 Conclusión Final\n",
    "\n",
    "- **Presencia digital limitada:** solo alrededor de 1 de cada 4 comercios tiene un sitio web o perfil digital completo. Esto refleja una **brecha de digitalización** que podría ser una oportunidad de mejora para muchos negocios.  \n",
    "\n",
    "- **Redes sociales como canal principal:** Instagram y Facebook concentran la mayor parte de la visibilidad online, confirmando que los comercios priorizan el contacto directo con clientes a través de plataformas sociales.  \n",
    "\n",
    "- **Alta satisfacción del cliente:** la mayoría de los negocios obtiene calificaciones entre 4 y 5 estrellas. Esto indica que la **percepción del cliente es positiva** en general.  \n",
    "\n",
    "- **Falta de datos en reseñas:** casi una cuarta parte de los negocios no tiene puntuación. Esto limita la evaluación de su reputación y muestra que **todavía hay poca interacción de usuarios en línea**.  \n",
    "\n",
    "- **Categorías dispersas:** existen más de 600 categorías distintas, lo que dificulta encontrar patrones. Agruparlas en conjuntos más generales permitiría un análisis más claro y accionable.  \n",
    "\n",
    "---\n",
    "\n",
    "👉 En síntesis, los comercios analizados muestran **alto nivel de satisfacción de clientes**, pero enfrentan **desafíos en digitalización, visibilidad online y estandarización de datos**. Esto abre espacio para estrategias de transformación digital y mejor uso de la información.\n"
   ]
  },
  {
   "cell_type": "markdown",
   "id": "0b1e9180",
   "metadata": {},
   "source": [
    "<div style=\"font-family: 'JetBrains Mono', monospace; font-size: 14px; color: #e2dbdbff; line-height: 1.6;\">\n",
    "\n",
    "\n",
    "</div>"
   ]
  }
 ],
 "metadata": {
  "kernelspec": {
   "display_name": ".venv (3.13.7)",
   "language": "python",
   "name": "python3"
  },
  "language_info": {
   "codemirror_mode": {
    "name": "ipython",
    "version": 3
   },
   "file_extension": ".py",
   "mimetype": "text/x-python",
   "name": "python",
   "nbconvert_exporter": "python",
   "pygments_lexer": "ipython3",
   "version": "3.13.7"
  }
 },
 "nbformat": 4,
 "nbformat_minor": 5
}
