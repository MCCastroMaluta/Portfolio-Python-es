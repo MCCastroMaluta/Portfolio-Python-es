{
 "cells": [
  {
   "cell_type": "markdown",
   "id": "b2c756ae",
   "metadata": {},
   "source": [
    "<div style=\"font-family: 'JetBrains Mono', monospace; font-size: 14px; color: #e2dbdbff; line-height: 1.6;\">\n",
    "\n",
    "## 📊 Exploratory Data Analysis (EDA)\n",
    "\n",
    "### ✅ Principales insights:\n",
    "\n",
    "- **25.29%** de los comercios tienen presencia web.\n",
    "- **Tandil** y **Olavarria** lideran en digitalización.\n",
    "- **Instagram 19.2%** y **Facebook 18.11** concentran la presencia en RRSS.\n",
    "- El puntaje promedio se mantiene **alto y constante (4.0 - 4.4)**.\n",
    "- **Categorías más comunes:** Hay 621 categorías registradas, lo que genera que los datos no sean precisos\n",
    "  - **Tienda de Ropa:** 7,92% con 464 registros\n",
    "  - **Tienda de Alimentación:** 6,25% con 366 registros\n",
    "  - **Comercio:** 5,68% con 333 registros\n",
    "  - **Agencia Inmobiliaria:** 3,07%\n",
    "\n",
    "</div>"
   ]
  },
  {
   "cell_type": "markdown",
   "id": "57a43791",
   "metadata": {},
   "source": [
    "<div style=\"font-family: 'JetBrains Mono', monospace; font-size: 14px; color: #e2dbdbff; line-height: 1.6;\">\n",
    "\n",
    "\n",
    "</div>"
   ]
  },
  {
   "cell_type": "code",
   "execution_count": 67,
   "id": "3d0d7487",
   "metadata": {},
   "outputs": [],
   "source": [
    "# Se importan las librerias necesarias para la manipulación y visualización de datos.\n",
    "import pandas as pd\n",
    "import numpy as np\n",
    "import matplotlib.pyplot as plt\n",
    "import seaborn as sns\n",
    "\n",
    "# Configura pandas para mostrar todas las columnas del DataFrame al mostrarlo, sin recorte visual.\n",
    "pd.set_option('display.max_columns', None) "
   ]
  },
  {
   "cell_type": "code",
   "execution_count": 68,
   "id": "4cdeb340",
   "metadata": {},
   "outputs": [],
   "source": [
    "# Carga de datos desde archivo CSV\n",
    "df = pd.read_csv('../CleanData/Regional.csv')"
   ]
  },
  {
   "cell_type": "code",
   "execution_count": 69,
   "id": "2d47040a",
   "metadata": {},
   "outputs": [
    {
     "data": {
      "text/plain": [
       "(5859, 16)"
      ]
     },
     "execution_count": 69,
     "metadata": {},
     "output_type": "execute_result"
    }
   ],
   "source": [
    "# Obtenemos número de filas y columnas del DataFrame\n",
    "df.shape"
   ]
  },
  {
   "cell_type": "code",
   "execution_count": 70,
   "id": "f4331b09",
   "metadata": {},
   "outputs": [
    {
     "data": {
      "text/plain": [
       "93744"
      ]
     },
     "execution_count": 70,
     "metadata": {},
     "output_type": "execute_result"
    }
   ],
   "source": [
    "# Obtenemos el número de elementos en el DataFrame\n",
    "df.size"
   ]
  },
  {
   "cell_type": "code",
   "execution_count": 71,
   "id": "4b8f2179",
   "metadata": {},
   "outputs": [
    {
     "name": "stdout",
     "output_type": "stream",
     "text": [
      "<class 'pandas.core.frame.DataFrame'>\n",
      "RangeIndex: 5859 entries, 0 to 5858\n",
      "Data columns (total 16 columns):\n",
      " #   Column        Non-Null Count  Dtype  \n",
      "---  ------        --------------  -----  \n",
      " 0   title         5859 non-null   object \n",
      " 1   categoryName  5859 non-null   object \n",
      " 2   website       5859 non-null   object \n",
      " 3   street        5859 non-null   object \n",
      " 4   phone         5859 non-null   object \n",
      " 5   city          5859 non-null   object \n",
      " 6   state         5859 non-null   object \n",
      " 7   location/lat  5859 non-null   float64\n",
      " 8   location/lng  5859 non-null   float64\n",
      " 9   totalScore    5859 non-null   float64\n",
      " 10  rank          5859 non-null   int64  \n",
      " 11  imageUrl      5859 non-null   object \n",
      " 12  imagesCount   5859 non-null   float64\n",
      " 13  reviewsCount  5859 non-null   int64  \n",
      " 14  scrapedAt     5859 non-null   object \n",
      " 15  searchString  5859 non-null   object \n",
      "dtypes: float64(4), int64(2), object(10)\n",
      "memory usage: 732.5+ KB\n"
     ]
    }
   ],
   "source": [
    "# Información del DataFrame: \n",
    "# Número de filas y columnas, nombres y tipos de datos de las columnas,\n",
    "# valores no nulos en cada columna, uso de memoria\n",
    "df.info()"
   ]
  },
  {
   "cell_type": "code",
   "execution_count": 72,
   "id": "b3e9ef85",
   "metadata": {},
   "outputs": [
    {
     "data": {
      "application/vnd.microsoft.datawrangler.viewer.v0+json": {
       "columns": [
        {
         "name": "index",
         "rawType": "object",
         "type": "string"
        },
        {
         "name": "0",
         "rawType": "object",
         "type": "unknown"
        }
       ],
       "ref": "8f2377fc-341b-4579-9b5b-8be7317027cf",
       "rows": [
        [
         "title",
         "object"
        ],
        [
         "categoryName",
         "object"
        ],
        [
         "website",
         "object"
        ],
        [
         "street",
         "object"
        ],
        [
         "phone",
         "object"
        ],
        [
         "city",
         "object"
        ],
        [
         "state",
         "object"
        ],
        [
         "location/lat",
         "float64"
        ],
        [
         "location/lng",
         "float64"
        ],
        [
         "totalScore",
         "float64"
        ],
        [
         "rank",
         "int64"
        ],
        [
         "imageUrl",
         "object"
        ],
        [
         "imagesCount",
         "float64"
        ],
        [
         "reviewsCount",
         "int64"
        ],
        [
         "scrapedAt",
         "object"
        ],
        [
         "searchString",
         "object"
        ]
       ],
       "shape": {
        "columns": 1,
        "rows": 16
       }
      },
      "text/plain": [
       "title            object\n",
       "categoryName     object\n",
       "website          object\n",
       "street           object\n",
       "phone            object\n",
       "city             object\n",
       "state            object\n",
       "location/lat    float64\n",
       "location/lng    float64\n",
       "totalScore      float64\n",
       "rank              int64\n",
       "imageUrl         object\n",
       "imagesCount     float64\n",
       "reviewsCount      int64\n",
       "scrapedAt        object\n",
       "searchString     object\n",
       "dtype: object"
      ]
     },
     "execution_count": 72,
     "metadata": {},
     "output_type": "execute_result"
    }
   ],
   "source": [
    "# Análisis de tipos de datos para identificar variables numéricas y categóricas\n",
    "df.dtypes"
   ]
  },
  {
   "cell_type": "code",
   "execution_count": 73,
   "id": "cc02580f",
   "metadata": {},
   "outputs": [
    {
     "data": {
      "application/vnd.microsoft.datawrangler.viewer.v0+json": {
       "columns": [
        {
         "name": "index",
         "rawType": "int64",
         "type": "integer"
        },
        {
         "name": "scrapedAt",
         "rawType": "datetime64[ns]",
         "type": "datetime"
        }
       ],
       "ref": "5f700e21-72e1-4eed-baa1-35b7f25c7627",
       "rows": [
        [
         "0",
         "2025-05-19 00:03:00"
        ],
        [
         "1",
         "2025-05-19 00:03:02"
        ],
        [
         "2",
         "2025-05-19 00:03:02"
        ],
        [
         "3",
         "2025-05-19 00:03:02"
        ],
        [
         "4",
         "2025-05-19 00:03:02"
        ],
        [
         "5",
         "2025-05-19 00:03:02"
        ],
        [
         "6",
         "2025-05-19 00:03:02"
        ],
        [
         "7",
         "2025-05-19 00:03:02"
        ],
        [
         "8",
         "2025-05-19 00:03:02"
        ],
        [
         "9",
         "2025-05-19 00:03:02"
        ],
        [
         "10",
         "2025-05-19 00:03:02"
        ],
        [
         "11",
         "2025-05-19 00:03:02"
        ],
        [
         "12",
         "2025-05-19 00:03:02"
        ],
        [
         "13",
         "2025-05-19 00:03:02"
        ],
        [
         "14",
         "2025-05-19 00:03:02"
        ],
        [
         "15",
         "2025-05-19 00:03:02"
        ],
        [
         "16",
         "2025-05-19 00:03:02"
        ],
        [
         "17",
         "2025-05-19 00:03:02"
        ],
        [
         "18",
         "2025-05-19 00:03:02"
        ],
        [
         "19",
         "2025-05-19 00:03:02"
        ],
        [
         "20",
         "2025-05-19 00:03:02"
        ],
        [
         "21",
         "2025-05-19 00:03:02"
        ],
        [
         "22",
         "2025-05-19 00:03:02"
        ],
        [
         "23",
         "2025-05-19 00:03:02"
        ],
        [
         "24",
         "2025-05-19 00:03:02"
        ],
        [
         "25",
         "2025-05-19 00:03:02"
        ],
        [
         "26",
         "2025-05-19 00:03:02"
        ],
        [
         "27",
         "2025-05-19 00:03:02"
        ],
        [
         "28",
         "2025-05-19 00:03:02"
        ],
        [
         "29",
         "2025-05-19 00:03:02"
        ],
        [
         "30",
         "2025-05-19 00:03:02"
        ],
        [
         "31",
         "2025-05-19 00:03:02"
        ],
        [
         "32",
         "2025-05-19 00:03:02"
        ],
        [
         "33",
         "2025-05-19 00:03:02"
        ],
        [
         "34",
         "2025-05-19 00:03:02"
        ],
        [
         "35",
         "2025-05-19 00:03:02"
        ],
        [
         "36",
         "2025-05-19 00:03:02"
        ],
        [
         "37",
         "2025-05-19 00:03:02"
        ],
        [
         "38",
         "2025-05-19 00:03:02"
        ],
        [
         "39",
         "2025-05-19 00:03:03"
        ],
        [
         "40",
         "2025-05-19 00:03:03"
        ],
        [
         "41",
         "2025-05-19 00:03:03"
        ],
        [
         "42",
         "2025-05-19 00:03:03"
        ],
        [
         "43",
         "2025-05-19 00:03:04"
        ],
        [
         "44",
         "2025-05-19 00:03:04"
        ],
        [
         "45",
         "2025-05-19 00:03:04"
        ],
        [
         "46",
         "2025-05-19 00:03:04"
        ],
        [
         "47",
         "2025-05-19 00:03:04"
        ],
        [
         "48",
         "2025-05-19 00:03:04"
        ],
        [
         "49",
         "2025-05-19 00:03:04"
        ]
       ],
       "shape": {
        "columns": 1,
        "rows": 5859
       }
      },
      "text/plain": [
       "0      2025-05-19 00:03:00\n",
       "1      2025-05-19 00:03:02\n",
       "2      2025-05-19 00:03:02\n",
       "3      2025-05-19 00:03:02\n",
       "4      2025-05-19 00:03:02\n",
       "               ...        \n",
       "5854   2025-07-30 15:10:41\n",
       "5855   2025-07-30 15:10:41\n",
       "5856   2025-07-30 15:10:56\n",
       "5857   2025-07-30 15:10:58\n",
       "5858   2025-07-30 15:10:59\n",
       "Name: scrapedAt, Length: 5859, dtype: datetime64[ns]"
      ]
     },
     "execution_count": 73,
     "metadata": {},
     "output_type": "execute_result"
    }
   ],
   "source": [
    "# Convertir fecha de scraping manteniendo formato datetime\n",
    "# Esto permite análisis temporales futuros (ej: comparar con scraping en 6 meses)\n",
    "df['scrapedAt'] = pd.to_datetime(\n",
    "    df['scrapedAt'], \n",
    "    errors='coerce',  # Maneja fechas inválidas sin romper el código\n",
    "    utc=True          # Estandariza zona horaria para comparaciones\n",
    ").dt.floor('s').dt.tz_localize(None)  # Elimina timezone para visualización limpia\n",
    "df['scrapedAt']"
   ]
  },
  {
   "cell_type": "code",
   "execution_count": 74,
   "id": "165a7743",
   "metadata": {},
   "outputs": [
    {
     "data": {
      "application/vnd.microsoft.datawrangler.viewer.v0+json": {
       "columns": [
        {
         "name": "index",
         "rawType": "int64",
         "type": "integer"
        },
        {
         "name": "title",
         "rawType": "object",
         "type": "string"
        },
        {
         "name": "categoryName",
         "rawType": "object",
         "type": "string"
        },
        {
         "name": "website",
         "rawType": "object",
         "type": "string"
        },
        {
         "name": "street",
         "rawType": "object",
         "type": "string"
        },
        {
         "name": "phone",
         "rawType": "object",
         "type": "string"
        },
        {
         "name": "city",
         "rawType": "object",
         "type": "string"
        },
        {
         "name": "state",
         "rawType": "object",
         "type": "string"
        },
        {
         "name": "location/lat",
         "rawType": "float64",
         "type": "float"
        },
        {
         "name": "location/lng",
         "rawType": "float64",
         "type": "float"
        },
        {
         "name": "totalScore",
         "rawType": "float64",
         "type": "float"
        },
        {
         "name": "rank",
         "rawType": "int64",
         "type": "integer"
        },
        {
         "name": "imageUrl",
         "rawType": "object",
         "type": "string"
        },
        {
         "name": "imagesCount",
         "rawType": "float64",
         "type": "float"
        },
        {
         "name": "reviewsCount",
         "rawType": "int64",
         "type": "integer"
        },
        {
         "name": "scrapedAt",
         "rawType": "datetime64[ns]",
         "type": "datetime"
        },
        {
         "name": "searchString",
         "rawType": "object",
         "type": "string"
        }
       ],
       "ref": "32d2baae-dbc0-447c-a9c0-fa2696bf9d1b",
       "rows": [
        [
         "0",
         "La Casa De Los Trofeos",
         "Comercio",
         "Incomplete",
         "Rivadavia 496",
         "Incomplete",
         "Azul",
         "Provincia de Buenos Aires",
         "-36.7746611",
         "-59.8626234",
         "0.0",
         "1",
         "Incomplete",
         "0.0",
         "0",
         "2025-05-19 00:03:00",
         "Comercio"
        ],
        [
         "1",
         "La Escoba Loca",
         "Tienda De Artículos Para El Hogar",
         "Incomplete",
         "Colón Nte. 117",
         "+54 9 2281 50-2996",
         "Azul",
         "Provincia de Buenos Aires",
         "-36.7672813",
         "-59.851848",
         "4.8",
         "1",
         "https://lh3.googleusercontent.com/gps-cs-s/AC9h4nrQAaOmvZ2z1z4lvQMpA2KLuyQFp5o7mGWzDytv5YF0PQfwP7XAE6kj-TlUSNLzb_IKC7RiPbPlQmsIhl80ixI-u75r5xA2BufhbZirEShz8aLrep1Ejb9JV3W-W_GeTpQtjyyg=w408-h544-k-no",
         "44.0",
         "73",
         "2025-05-19 00:03:02",
         "Comercio"
        ],
        [
         "2",
         "Artículos Magali",
         "Tienda General",
         "Incomplete",
         "Monseñor Caneva Nte. 160",
         "+54 9 2281 31-0611",
         "Azul",
         "Provincia de Buenos Aires",
         "-36.7743527",
         "-59.8418982",
         "4.3",
         "2",
         "Incomplete",
         "0.0",
         "12",
         "2025-05-19 00:03:02",
         "Comercio"
        ],
        [
         "3",
         "Autoservicio San Jorge",
         "Comercio",
         "Incomplete",
         "Burgos Nte. 100",
         "+54 9 2281 42-3119",
         "Azul",
         "Provincia de Buenos Aires",
         "-36.7681448",
         "-59.8513049",
         "4.6",
         "3",
         "https://lh3.googleusercontent.com/p/AF1QipPV0VYkVvn3zfCgualFjP9POsmAYza7YT0ETBJ_=w426-h240-k-no",
         "6.0",
         "127",
         "2025-05-19 00:03:02",
         "Comercio"
        ],
        [
         "4",
         "Asociacion Latina De Exportacion Sa",
         "Comercio",
         "Incomplete",
         "Julio Argentino Roca 846",
         "+54 9 2281 43-0338",
         "Azul",
         "Provincia de Buenos Aires",
         "-36.7850672",
         "-59.8592544",
         "3.3",
         "4",
         "https://streetviewpixels-pa.googleapis.com/v1/thumbnail?panoid=WQnGTmaSbHhcH7RNl-Hcog&cb_client=search.gws-prod.gps&w=408&h=240&yaw=50.672348&pitch=0&thumbfov=100",
         "1.0",
         "4",
         "2025-05-19 00:03:02",
         "Comercio"
        ],
        [
         "5",
         "Jaque Mate",
         "Comercio",
         "Incomplete",
         "IAA, Colón 45",
         "Incomplete",
         "Azul",
         "Provincia de Buenos Aires",
         "-36.7693194",
         "-59.8543425",
         "5.0",
         "5",
         "https://lh3.googleusercontent.com/gps-cs-s/AC9h4no-ld7lXWCQUeWg4z8HfT7KG8LKlNTrSojCgOveNXmNyGPhPmAgfMZt8grKiPZpTYfnxi6M8oAxEfSXFqXK7Ru88zRv-S4pUHxmGj8txK39YtlozKMcTZXJ0Uf6O2W3jX_sDb-T6f536iM=w408-h883-k-no",
         "11.0",
         "2",
         "2025-05-19 00:03:02",
         "Comercio"
        ],
        [
         "6",
         "Eco System Sa",
         "Comercio",
         "Incomplete",
         "Av. Mujica",
         "+54 9 2281 43-0966",
         "Azul",
         "Provincia de Buenos Aires",
         "-36.7661061",
         "-59.8362925",
         "5.0",
         "6",
         "https://streetviewpixels-pa.googleapis.com/v1/thumbnail?panoid=uW1gIEYIb6eTk-GEEOD40A&cb_client=search.gws-prod.gps&w=408&h=240&yaw=133.1178&pitch=0&thumbfov=100",
         "1.0",
         "1",
         "2025-05-19 00:03:02",
         "Comercio"
        ],
        [
         "7",
         "Despensa Y Anexos Biyo",
         "Tienda De Alimentación",
         "Incomplete",
         "Aldaz 451-499",
         "+54 9 2281 49-3233",
         "Azul",
         "Provincia de Buenos Aires",
         "-36.7645249",
         "-59.8461452",
         "4.5",
         "7",
         "https://streetviewpixels-pa.googleapis.com/v1/thumbnail?panoid=NxYDTV1c0W15YmWcWI15WA&cb_client=search.gws-prod.gps&w=408&h=240&yaw=253.79605&pitch=0&thumbfov=100",
         "2.0",
         "36",
         "2025-05-19 00:03:02",
         "Comercio"
        ],
        [
         "8",
         "El Trueque Azul",
         "Comercio",
         "Incomplete",
         "Incomplete",
         "Incomplete",
         "Azul",
         "Provincia de Buenos Aires",
         "-36.7586679",
         "-59.8739276",
         "4.0",
         "8",
         "https://streetviewpixels-pa.googleapis.com/v1/thumbnail?panoid=rclGYuv_nGbWkHFrbcaQ7g&cb_client=search.gws-prod.gps&w=408&h=240&yaw=206.82645&pitch=0&thumbfov=100",
         "1.0",
         "10",
         "2025-05-19 00:03:02",
         "Comercio"
        ],
        [
         "9",
         "La Fiambreria",
         "Carnicería",
         "Incomplete",
         "Necochea 74 B7300FVB",
         "Incomplete",
         "Azul",
         "Provincia de Buenos Aires",
         "-36.7736897",
         "-59.8507104",
         "0.0",
         "9",
         "Incomplete",
         "0.0",
         "0",
         "2025-05-19 00:03:02",
         "Comercio"
        ]
       ],
       "shape": {
        "columns": 16,
        "rows": 10
       }
      },
      "text/html": [
       "<div>\n",
       "<style scoped>\n",
       "    .dataframe tbody tr th:only-of-type {\n",
       "        vertical-align: middle;\n",
       "    }\n",
       "\n",
       "    .dataframe tbody tr th {\n",
       "        vertical-align: top;\n",
       "    }\n",
       "\n",
       "    .dataframe thead th {\n",
       "        text-align: right;\n",
       "    }\n",
       "</style>\n",
       "<table border=\"1\" class=\"dataframe\">\n",
       "  <thead>\n",
       "    <tr style=\"text-align: right;\">\n",
       "      <th></th>\n",
       "      <th>title</th>\n",
       "      <th>categoryName</th>\n",
       "      <th>website</th>\n",
       "      <th>street</th>\n",
       "      <th>phone</th>\n",
       "      <th>city</th>\n",
       "      <th>state</th>\n",
       "      <th>location/lat</th>\n",
       "      <th>location/lng</th>\n",
       "      <th>totalScore</th>\n",
       "      <th>rank</th>\n",
       "      <th>imageUrl</th>\n",
       "      <th>imagesCount</th>\n",
       "      <th>reviewsCount</th>\n",
       "      <th>scrapedAt</th>\n",
       "      <th>searchString</th>\n",
       "    </tr>\n",
       "  </thead>\n",
       "  <tbody>\n",
       "    <tr>\n",
       "      <th>0</th>\n",
       "      <td>La Casa De Los Trofeos</td>\n",
       "      <td>Comercio</td>\n",
       "      <td>Incomplete</td>\n",
       "      <td>Rivadavia 496</td>\n",
       "      <td>Incomplete</td>\n",
       "      <td>Azul</td>\n",
       "      <td>Provincia de Buenos Aires</td>\n",
       "      <td>-36.774661</td>\n",
       "      <td>-59.862623</td>\n",
       "      <td>0.0</td>\n",
       "      <td>1</td>\n",
       "      <td>Incomplete</td>\n",
       "      <td>0.0</td>\n",
       "      <td>0</td>\n",
       "      <td>2025-05-19 00:03:00</td>\n",
       "      <td>Comercio</td>\n",
       "    </tr>\n",
       "    <tr>\n",
       "      <th>1</th>\n",
       "      <td>La Escoba Loca</td>\n",
       "      <td>Tienda De Artículos Para El Hogar</td>\n",
       "      <td>Incomplete</td>\n",
       "      <td>Colón Nte. 117</td>\n",
       "      <td>+54 9 2281 50-2996</td>\n",
       "      <td>Azul</td>\n",
       "      <td>Provincia de Buenos Aires</td>\n",
       "      <td>-36.767281</td>\n",
       "      <td>-59.851848</td>\n",
       "      <td>4.8</td>\n",
       "      <td>1</td>\n",
       "      <td>https://lh3.googleusercontent.com/gps-cs-s/AC9...</td>\n",
       "      <td>44.0</td>\n",
       "      <td>73</td>\n",
       "      <td>2025-05-19 00:03:02</td>\n",
       "      <td>Comercio</td>\n",
       "    </tr>\n",
       "    <tr>\n",
       "      <th>2</th>\n",
       "      <td>Artículos Magali</td>\n",
       "      <td>Tienda General</td>\n",
       "      <td>Incomplete</td>\n",
       "      <td>Monseñor Caneva Nte. 160</td>\n",
       "      <td>+54 9 2281 31-0611</td>\n",
       "      <td>Azul</td>\n",
       "      <td>Provincia de Buenos Aires</td>\n",
       "      <td>-36.774353</td>\n",
       "      <td>-59.841898</td>\n",
       "      <td>4.3</td>\n",
       "      <td>2</td>\n",
       "      <td>Incomplete</td>\n",
       "      <td>0.0</td>\n",
       "      <td>12</td>\n",
       "      <td>2025-05-19 00:03:02</td>\n",
       "      <td>Comercio</td>\n",
       "    </tr>\n",
       "    <tr>\n",
       "      <th>3</th>\n",
       "      <td>Autoservicio San Jorge</td>\n",
       "      <td>Comercio</td>\n",
       "      <td>Incomplete</td>\n",
       "      <td>Burgos Nte. 100</td>\n",
       "      <td>+54 9 2281 42-3119</td>\n",
       "      <td>Azul</td>\n",
       "      <td>Provincia de Buenos Aires</td>\n",
       "      <td>-36.768145</td>\n",
       "      <td>-59.851305</td>\n",
       "      <td>4.6</td>\n",
       "      <td>3</td>\n",
       "      <td>https://lh3.googleusercontent.com/p/AF1QipPV0V...</td>\n",
       "      <td>6.0</td>\n",
       "      <td>127</td>\n",
       "      <td>2025-05-19 00:03:02</td>\n",
       "      <td>Comercio</td>\n",
       "    </tr>\n",
       "    <tr>\n",
       "      <th>4</th>\n",
       "      <td>Asociacion Latina De Exportacion Sa</td>\n",
       "      <td>Comercio</td>\n",
       "      <td>Incomplete</td>\n",
       "      <td>Julio Argentino Roca 846</td>\n",
       "      <td>+54 9 2281 43-0338</td>\n",
       "      <td>Azul</td>\n",
       "      <td>Provincia de Buenos Aires</td>\n",
       "      <td>-36.785067</td>\n",
       "      <td>-59.859254</td>\n",
       "      <td>3.3</td>\n",
       "      <td>4</td>\n",
       "      <td>https://streetviewpixels-pa.googleapis.com/v1/...</td>\n",
       "      <td>1.0</td>\n",
       "      <td>4</td>\n",
       "      <td>2025-05-19 00:03:02</td>\n",
       "      <td>Comercio</td>\n",
       "    </tr>\n",
       "    <tr>\n",
       "      <th>5</th>\n",
       "      <td>Jaque Mate</td>\n",
       "      <td>Comercio</td>\n",
       "      <td>Incomplete</td>\n",
       "      <td>IAA, Colón 45</td>\n",
       "      <td>Incomplete</td>\n",
       "      <td>Azul</td>\n",
       "      <td>Provincia de Buenos Aires</td>\n",
       "      <td>-36.769319</td>\n",
       "      <td>-59.854343</td>\n",
       "      <td>5.0</td>\n",
       "      <td>5</td>\n",
       "      <td>https://lh3.googleusercontent.com/gps-cs-s/AC9...</td>\n",
       "      <td>11.0</td>\n",
       "      <td>2</td>\n",
       "      <td>2025-05-19 00:03:02</td>\n",
       "      <td>Comercio</td>\n",
       "    </tr>\n",
       "    <tr>\n",
       "      <th>6</th>\n",
       "      <td>Eco System Sa</td>\n",
       "      <td>Comercio</td>\n",
       "      <td>Incomplete</td>\n",
       "      <td>Av. Mujica</td>\n",
       "      <td>+54 9 2281 43-0966</td>\n",
       "      <td>Azul</td>\n",
       "      <td>Provincia de Buenos Aires</td>\n",
       "      <td>-36.766106</td>\n",
       "      <td>-59.836292</td>\n",
       "      <td>5.0</td>\n",
       "      <td>6</td>\n",
       "      <td>https://streetviewpixels-pa.googleapis.com/v1/...</td>\n",
       "      <td>1.0</td>\n",
       "      <td>1</td>\n",
       "      <td>2025-05-19 00:03:02</td>\n",
       "      <td>Comercio</td>\n",
       "    </tr>\n",
       "    <tr>\n",
       "      <th>7</th>\n",
       "      <td>Despensa Y Anexos Biyo</td>\n",
       "      <td>Tienda De Alimentación</td>\n",
       "      <td>Incomplete</td>\n",
       "      <td>Aldaz 451-499</td>\n",
       "      <td>+54 9 2281 49-3233</td>\n",
       "      <td>Azul</td>\n",
       "      <td>Provincia de Buenos Aires</td>\n",
       "      <td>-36.764525</td>\n",
       "      <td>-59.846145</td>\n",
       "      <td>4.5</td>\n",
       "      <td>7</td>\n",
       "      <td>https://streetviewpixels-pa.googleapis.com/v1/...</td>\n",
       "      <td>2.0</td>\n",
       "      <td>36</td>\n",
       "      <td>2025-05-19 00:03:02</td>\n",
       "      <td>Comercio</td>\n",
       "    </tr>\n",
       "    <tr>\n",
       "      <th>8</th>\n",
       "      <td>El Trueque Azul</td>\n",
       "      <td>Comercio</td>\n",
       "      <td>Incomplete</td>\n",
       "      <td>Incomplete</td>\n",
       "      <td>Incomplete</td>\n",
       "      <td>Azul</td>\n",
       "      <td>Provincia de Buenos Aires</td>\n",
       "      <td>-36.758668</td>\n",
       "      <td>-59.873928</td>\n",
       "      <td>4.0</td>\n",
       "      <td>8</td>\n",
       "      <td>https://streetviewpixels-pa.googleapis.com/v1/...</td>\n",
       "      <td>1.0</td>\n",
       "      <td>10</td>\n",
       "      <td>2025-05-19 00:03:02</td>\n",
       "      <td>Comercio</td>\n",
       "    </tr>\n",
       "    <tr>\n",
       "      <th>9</th>\n",
       "      <td>La Fiambreria</td>\n",
       "      <td>Carnicería</td>\n",
       "      <td>Incomplete</td>\n",
       "      <td>Necochea 74 B7300FVB</td>\n",
       "      <td>Incomplete</td>\n",
       "      <td>Azul</td>\n",
       "      <td>Provincia de Buenos Aires</td>\n",
       "      <td>-36.773690</td>\n",
       "      <td>-59.850710</td>\n",
       "      <td>0.0</td>\n",
       "      <td>9</td>\n",
       "      <td>Incomplete</td>\n",
       "      <td>0.0</td>\n",
       "      <td>0</td>\n",
       "      <td>2025-05-19 00:03:02</td>\n",
       "      <td>Comercio</td>\n",
       "    </tr>\n",
       "  </tbody>\n",
       "</table>\n",
       "</div>"
      ],
      "text/plain": [
       "                                 title                       categoryName  \\\n",
       "0               La Casa De Los Trofeos                           Comercio   \n",
       "1                       La Escoba Loca  Tienda De Artículos Para El Hogar   \n",
       "2                     Artículos Magali                     Tienda General   \n",
       "3               Autoservicio San Jorge                           Comercio   \n",
       "4  Asociacion Latina De Exportacion Sa                           Comercio   \n",
       "5                           Jaque Mate                           Comercio   \n",
       "6                        Eco System Sa                           Comercio   \n",
       "7               Despensa Y Anexos Biyo             Tienda De Alimentación   \n",
       "8                      El Trueque Azul                           Comercio   \n",
       "9                        La Fiambreria                         Carnicería   \n",
       "\n",
       "      website                    street               phone  city  \\\n",
       "0  Incomplete             Rivadavia 496          Incomplete  Azul   \n",
       "1  Incomplete            Colón Nte. 117  +54 9 2281 50-2996  Azul   \n",
       "2  Incomplete  Monseñor Caneva Nte. 160  +54 9 2281 31-0611  Azul   \n",
       "3  Incomplete           Burgos Nte. 100  +54 9 2281 42-3119  Azul   \n",
       "4  Incomplete  Julio Argentino Roca 846  +54 9 2281 43-0338  Azul   \n",
       "5  Incomplete             IAA, Colón 45          Incomplete  Azul   \n",
       "6  Incomplete                Av. Mujica  +54 9 2281 43-0966  Azul   \n",
       "7  Incomplete             Aldaz 451-499  +54 9 2281 49-3233  Azul   \n",
       "8  Incomplete                Incomplete          Incomplete  Azul   \n",
       "9  Incomplete      Necochea 74 B7300FVB          Incomplete  Azul   \n",
       "\n",
       "                       state  location/lat  location/lng  totalScore  rank  \\\n",
       "0  Provincia de Buenos Aires    -36.774661    -59.862623         0.0     1   \n",
       "1  Provincia de Buenos Aires    -36.767281    -59.851848         4.8     1   \n",
       "2  Provincia de Buenos Aires    -36.774353    -59.841898         4.3     2   \n",
       "3  Provincia de Buenos Aires    -36.768145    -59.851305         4.6     3   \n",
       "4  Provincia de Buenos Aires    -36.785067    -59.859254         3.3     4   \n",
       "5  Provincia de Buenos Aires    -36.769319    -59.854343         5.0     5   \n",
       "6  Provincia de Buenos Aires    -36.766106    -59.836292         5.0     6   \n",
       "7  Provincia de Buenos Aires    -36.764525    -59.846145         4.5     7   \n",
       "8  Provincia de Buenos Aires    -36.758668    -59.873928         4.0     8   \n",
       "9  Provincia de Buenos Aires    -36.773690    -59.850710         0.0     9   \n",
       "\n",
       "                                            imageUrl  imagesCount  \\\n",
       "0                                         Incomplete          0.0   \n",
       "1  https://lh3.googleusercontent.com/gps-cs-s/AC9...         44.0   \n",
       "2                                         Incomplete          0.0   \n",
       "3  https://lh3.googleusercontent.com/p/AF1QipPV0V...          6.0   \n",
       "4  https://streetviewpixels-pa.googleapis.com/v1/...          1.0   \n",
       "5  https://lh3.googleusercontent.com/gps-cs-s/AC9...         11.0   \n",
       "6  https://streetviewpixels-pa.googleapis.com/v1/...          1.0   \n",
       "7  https://streetviewpixels-pa.googleapis.com/v1/...          2.0   \n",
       "8  https://streetviewpixels-pa.googleapis.com/v1/...          1.0   \n",
       "9                                         Incomplete          0.0   \n",
       "\n",
       "   reviewsCount           scrapedAt searchString  \n",
       "0             0 2025-05-19 00:03:00     Comercio  \n",
       "1            73 2025-05-19 00:03:02     Comercio  \n",
       "2            12 2025-05-19 00:03:02     Comercio  \n",
       "3           127 2025-05-19 00:03:02     Comercio  \n",
       "4             4 2025-05-19 00:03:02     Comercio  \n",
       "5             2 2025-05-19 00:03:02     Comercio  \n",
       "6             1 2025-05-19 00:03:02     Comercio  \n",
       "7            36 2025-05-19 00:03:02     Comercio  \n",
       "8            10 2025-05-19 00:03:02     Comercio  \n",
       "9             0 2025-05-19 00:03:02     Comercio  "
      ]
     },
     "execution_count": 74,
     "metadata": {},
     "output_type": "execute_result"
    }
   ],
   "source": [
    "# # Visualizar las primeras 10 filas para entender la estructura\n",
    "df.head(10)"
   ]
  },
  {
   "cell_type": "code",
   "execution_count": 75,
   "id": "2332fdd0",
   "metadata": {},
   "outputs": [
    {
     "data": {
      "application/vnd.microsoft.datawrangler.viewer.v0+json": {
       "columns": [
        {
         "name": "index",
         "rawType": "int64",
         "type": "integer"
        },
        {
         "name": "title",
         "rawType": "object",
         "type": "string"
        },
        {
         "name": "categoryName",
         "rawType": "object",
         "type": "string"
        },
        {
         "name": "website",
         "rawType": "object",
         "type": "string"
        },
        {
         "name": "street",
         "rawType": "object",
         "type": "string"
        },
        {
         "name": "phone",
         "rawType": "object",
         "type": "string"
        },
        {
         "name": "city",
         "rawType": "object",
         "type": "string"
        },
        {
         "name": "state",
         "rawType": "object",
         "type": "string"
        },
        {
         "name": "location/lat",
         "rawType": "float64",
         "type": "float"
        },
        {
         "name": "location/lng",
         "rawType": "float64",
         "type": "float"
        },
        {
         "name": "totalScore",
         "rawType": "float64",
         "type": "float"
        },
        {
         "name": "rank",
         "rawType": "int64",
         "type": "integer"
        },
        {
         "name": "imageUrl",
         "rawType": "object",
         "type": "string"
        },
        {
         "name": "imagesCount",
         "rawType": "float64",
         "type": "float"
        },
        {
         "name": "reviewsCount",
         "rawType": "int64",
         "type": "integer"
        },
        {
         "name": "scrapedAt",
         "rawType": "datetime64[ns]",
         "type": "datetime"
        },
        {
         "name": "searchString",
         "rawType": "object",
         "type": "string"
        }
       ],
       "ref": "b45bff02-fe67-4a65-9ada-6fd3b9e506f7",
       "rows": [
        [
         "5849",
         "Polideportivo Municipal",
         "Escuela Deportiva",
         "Incomplete",
         "Incomplete",
         "Incomplete",
         "Rauch",
         "Provincia de Buenos Aires",
         "-36.7702901",
         "-59.0998037",
         "5.0",
         "7",
         "https://lh3.googleusercontent.com/gps-cs-s/AC9h4noerQRfwKIHlmwTOvJV31R09OdzlGIC78fpRUauVxHgTSZ5BFGbPpCdeVzeSdvErraWKHAMKmbtQxusp898Dow-8zt0LNKZGcdpaItybQ8VQZPN9Sw7c4AovRlb1-1lhf5pQ0LAog=w408-h544-k-no",
         "2.0",
         "20",
         "2025-07-30 15:10:11",
         "Deportivo"
        ],
        [
         "5850",
         "Burbujas Lavandería",
         "Servicio De Lavandería",
         "Incomplete",
         "Almte. Brown 254",
         "+54 9 249 448-5227",
         "Rauch",
         "Provincia de Buenos Aires",
         "-36.7805762",
         "-59.0886083",
         "5.0",
         "16",
         "https://lh3.googleusercontent.com/gps-cs-s/AC9h4nrY3CGd_WV6aQB8euPWKPoPMm0ZpUI0ZebpJDi1XfHUAiYZMyI1MthnE7aaP_OBVzhnXm66rgzIdQjZy42bMbuJnOmRoWNhPFoKEzlc0lDXmvlEFW7KWI3pXbrN_4h2hJZmTjIb=w533-h240-k-no",
         "7.0",
         "39",
         "2025-07-30 15:10:20",
         "Ropa"
        ],
        [
         "5851",
         "Bo. Jardín Empleados De Comercio",
         "Complejo De Viviendas",
         "Incomplete",
         "Sin Nombre",
         "Incomplete",
         "Rauch",
         "Provincia de Buenos Aires",
         "-36.7761257",
         "-59.0778009",
         "4.4",
         "25",
         "Incomplete",
         "0.0",
         "30",
         "2025-07-30 15:10:24",
         "Comercio"
        ],
        [
         "5852",
         "Taller Mecánico Juan Carlos Botta",
         "Taller Mecánico",
         "Incomplete",
         "Azcuénaga 299-201",
         "+54 9 249 450-1086",
         "Rauch",
         "Provincia de Buenos Aires",
         "-36.7722445",
         "-59.0795924",
         "0.0",
         "25",
         "https://streetviewpixels-pa.googleapis.com/v1/thumbnail?panoid=HO21QREPBW_es8WhXeCYYA&cb_client=search.gws-prod.gps&w=408&h=240&yaw=320.40582&pitch=0&thumbfov=100",
         "2.0",
         "0",
         "2025-07-30 15:10:27",
         "Vehiculos"
        ],
        [
         "5853",
         "Taller Mecanico Penedo",
         "Taller De Automóviles",
         "Incomplete",
         "RP30 1400",
         "+54 9 249 434-5802",
         "Rauch",
         "Provincia de Buenos Aires",
         "-36.7635152",
         "-59.0890122",
         "0.0",
         "30",
         "https://lh3.googleusercontent.com/gps-cs-s/AC9h4nrTLtDJnsOt3fTH_mEv89zMjY3PD7cFqKZVJv8YM_oi9RYb1tSrtWEtaOBeALWmZUODaq303vAGtDAxUV3N4phSEsinHnYjAi5nLc1K7A-5GZezqzBwVROxwwQeLoINulteIdWv=w408-h816-k-no",
         "7.0",
         "0",
         "2025-07-30 15:10:35",
         "Vehiculos"
        ],
        [
         "5854",
         "Cerrajeria Hugo",
         "Cerrajero",
         "Incomplete",
         "Brandsen 1792",
         "+54 9 2297 44-2572",
         "Rauch",
         "Provincia de Buenos Aires",
         "-36.7719122",
         "-59.0896864",
         "4.6",
         "19",
         "https://lh3.googleusercontent.com/gps-cs-s/AC9h4noilSBYCPAXPbQk8XpxzrQR-cJYzW2jwM-MIxvzoJcmdPouftRPOvpcOp38K_PHDeuVrgyGcVMYqKiHbdhjR9ill7WckimQG9W0cf-9rq4ar1ONE86j6ko9bWdSzLLs1o6fSqGH=w408-h306-k-no",
         "3.0",
         "20",
         "2025-07-30 15:10:41",
         "Construccion"
        ],
        [
         "5855",
         "Signos Arte Grafico",
         "Servicios De Diseño",
         "Incomplete",
         "Av. San Martín 920",
         "+54 9 249 469-4342",
         "Rauch",
         "Provincia de Buenos Aires",
         "-36.7728347",
         "-59.0862387",
         "0.0",
         "16",
         "https://streetviewpixels-pa.googleapis.com/v1/thumbnail?panoid=vbBKdQclRq4eYvyPz5rxYQ&cb_client=search.gws-prod.gps&w=408&h=240&yaw=122.58526&pitch=0&thumbfov=100",
         "1.0",
         "0",
         "2025-07-30 15:10:41",
         "Construccion"
        ],
        [
         "5856",
         "Registro Nacional De La Propiedad Del Automotor",
         "Agencia De Registro De Automóviles",
         "Incomplete",
         "Cnel. Suárez 86",
         "+54 9 2297 44-0468",
         "Rauch",
         "Provincia de Buenos Aires",
         "-36.7766367",
         "-59.089069",
         "4.4",
         "17",
         "https://streetviewpixels-pa.googleapis.com/v1/thumbnail?panoid=SdfcKzoi80QySIVCzb6C_A&cb_client=search.gws-prod.gps&w=408&h=240&yaw=35.724316&pitch=0&thumbfov=100",
         "1.0",
         "20",
         "2025-07-30 15:10:56",
         "Vehiculos"
        ],
        [
         "5857",
         "Carpintería Tedesco Hermanos",
         "Carpintero",
         "Incomplete",
         "9 de Julio 145, B7203ABC",
         "+54 9 249 435-9904",
         "Rauch",
         "Provincia de Buenos Aires",
         "-36.7758918",
         "-59.0936775",
         "0.0",
         "28",
         "https://streetviewpixels-pa.googleapis.com/v1/thumbnail?panoid=2L8c8yBuIx-1ZnAr7R6BVg&cb_client=search.gws-prod.gps&w=408&h=240&yaw=61.96242&pitch=0&thumbfov=100",
         "2.0",
         "0",
         "2025-07-30 15:10:58",
         "Construccion"
        ],
        [
         "5858",
         "Zapatería Tofi",
         "Zapatero",
         "Incomplete",
         "Av. Gral. Paz",
         "+54 9 249 421-6088",
         "Rauch",
         "Provincia de Buenos Aires",
         "-36.7773762",
         "-59.0780092",
         "4.9",
         "29",
         "https://lh3.googleusercontent.com/gps-cs-s/AC9h4nqdzKPce2SBPm276i3_ZA-p2ISU6XerYKqE3IrOcRDhmS-PHbX8IVw8yYOwvKI54lBQNnvrG0n6qpGUCX-vYFynMDr_tmWUePDYZk15bBIBCO_0_DfERoAQf82FZ7NUdYu07qor=w408-h725-k-no",
         "3.0",
         "16",
         "2025-07-30 15:10:59",
         "Tienda"
        ]
       ],
       "shape": {
        "columns": 16,
        "rows": 10
       }
      },
      "text/html": [
       "<div>\n",
       "<style scoped>\n",
       "    .dataframe tbody tr th:only-of-type {\n",
       "        vertical-align: middle;\n",
       "    }\n",
       "\n",
       "    .dataframe tbody tr th {\n",
       "        vertical-align: top;\n",
       "    }\n",
       "\n",
       "    .dataframe thead th {\n",
       "        text-align: right;\n",
       "    }\n",
       "</style>\n",
       "<table border=\"1\" class=\"dataframe\">\n",
       "  <thead>\n",
       "    <tr style=\"text-align: right;\">\n",
       "      <th></th>\n",
       "      <th>title</th>\n",
       "      <th>categoryName</th>\n",
       "      <th>website</th>\n",
       "      <th>street</th>\n",
       "      <th>phone</th>\n",
       "      <th>city</th>\n",
       "      <th>state</th>\n",
       "      <th>location/lat</th>\n",
       "      <th>location/lng</th>\n",
       "      <th>totalScore</th>\n",
       "      <th>rank</th>\n",
       "      <th>imageUrl</th>\n",
       "      <th>imagesCount</th>\n",
       "      <th>reviewsCount</th>\n",
       "      <th>scrapedAt</th>\n",
       "      <th>searchString</th>\n",
       "    </tr>\n",
       "  </thead>\n",
       "  <tbody>\n",
       "    <tr>\n",
       "      <th>5849</th>\n",
       "      <td>Polideportivo Municipal</td>\n",
       "      <td>Escuela Deportiva</td>\n",
       "      <td>Incomplete</td>\n",
       "      <td>Incomplete</td>\n",
       "      <td>Incomplete</td>\n",
       "      <td>Rauch</td>\n",
       "      <td>Provincia de Buenos Aires</td>\n",
       "      <td>-36.770290</td>\n",
       "      <td>-59.099804</td>\n",
       "      <td>5.0</td>\n",
       "      <td>7</td>\n",
       "      <td>https://lh3.googleusercontent.com/gps-cs-s/AC9...</td>\n",
       "      <td>2.0</td>\n",
       "      <td>20</td>\n",
       "      <td>2025-07-30 15:10:11</td>\n",
       "      <td>Deportivo</td>\n",
       "    </tr>\n",
       "    <tr>\n",
       "      <th>5850</th>\n",
       "      <td>Burbujas Lavandería</td>\n",
       "      <td>Servicio De Lavandería</td>\n",
       "      <td>Incomplete</td>\n",
       "      <td>Almte. Brown 254</td>\n",
       "      <td>+54 9 249 448-5227</td>\n",
       "      <td>Rauch</td>\n",
       "      <td>Provincia de Buenos Aires</td>\n",
       "      <td>-36.780576</td>\n",
       "      <td>-59.088608</td>\n",
       "      <td>5.0</td>\n",
       "      <td>16</td>\n",
       "      <td>https://lh3.googleusercontent.com/gps-cs-s/AC9...</td>\n",
       "      <td>7.0</td>\n",
       "      <td>39</td>\n",
       "      <td>2025-07-30 15:10:20</td>\n",
       "      <td>Ropa</td>\n",
       "    </tr>\n",
       "    <tr>\n",
       "      <th>5851</th>\n",
       "      <td>Bo. Jardín Empleados De Comercio</td>\n",
       "      <td>Complejo De Viviendas</td>\n",
       "      <td>Incomplete</td>\n",
       "      <td>Sin Nombre</td>\n",
       "      <td>Incomplete</td>\n",
       "      <td>Rauch</td>\n",
       "      <td>Provincia de Buenos Aires</td>\n",
       "      <td>-36.776126</td>\n",
       "      <td>-59.077801</td>\n",
       "      <td>4.4</td>\n",
       "      <td>25</td>\n",
       "      <td>Incomplete</td>\n",
       "      <td>0.0</td>\n",
       "      <td>30</td>\n",
       "      <td>2025-07-30 15:10:24</td>\n",
       "      <td>Comercio</td>\n",
       "    </tr>\n",
       "    <tr>\n",
       "      <th>5852</th>\n",
       "      <td>Taller Mecánico Juan Carlos Botta</td>\n",
       "      <td>Taller Mecánico</td>\n",
       "      <td>Incomplete</td>\n",
       "      <td>Azcuénaga 299-201</td>\n",
       "      <td>+54 9 249 450-1086</td>\n",
       "      <td>Rauch</td>\n",
       "      <td>Provincia de Buenos Aires</td>\n",
       "      <td>-36.772244</td>\n",
       "      <td>-59.079592</td>\n",
       "      <td>0.0</td>\n",
       "      <td>25</td>\n",
       "      <td>https://streetviewpixels-pa.googleapis.com/v1/...</td>\n",
       "      <td>2.0</td>\n",
       "      <td>0</td>\n",
       "      <td>2025-07-30 15:10:27</td>\n",
       "      <td>Vehiculos</td>\n",
       "    </tr>\n",
       "    <tr>\n",
       "      <th>5853</th>\n",
       "      <td>Taller Mecanico Penedo</td>\n",
       "      <td>Taller De Automóviles</td>\n",
       "      <td>Incomplete</td>\n",
       "      <td>RP30 1400</td>\n",
       "      <td>+54 9 249 434-5802</td>\n",
       "      <td>Rauch</td>\n",
       "      <td>Provincia de Buenos Aires</td>\n",
       "      <td>-36.763515</td>\n",
       "      <td>-59.089012</td>\n",
       "      <td>0.0</td>\n",
       "      <td>30</td>\n",
       "      <td>https://lh3.googleusercontent.com/gps-cs-s/AC9...</td>\n",
       "      <td>7.0</td>\n",
       "      <td>0</td>\n",
       "      <td>2025-07-30 15:10:35</td>\n",
       "      <td>Vehiculos</td>\n",
       "    </tr>\n",
       "    <tr>\n",
       "      <th>5854</th>\n",
       "      <td>Cerrajeria Hugo</td>\n",
       "      <td>Cerrajero</td>\n",
       "      <td>Incomplete</td>\n",
       "      <td>Brandsen 1792</td>\n",
       "      <td>+54 9 2297 44-2572</td>\n",
       "      <td>Rauch</td>\n",
       "      <td>Provincia de Buenos Aires</td>\n",
       "      <td>-36.771912</td>\n",
       "      <td>-59.089686</td>\n",
       "      <td>4.6</td>\n",
       "      <td>19</td>\n",
       "      <td>https://lh3.googleusercontent.com/gps-cs-s/AC9...</td>\n",
       "      <td>3.0</td>\n",
       "      <td>20</td>\n",
       "      <td>2025-07-30 15:10:41</td>\n",
       "      <td>Construccion</td>\n",
       "    </tr>\n",
       "    <tr>\n",
       "      <th>5855</th>\n",
       "      <td>Signos Arte Grafico</td>\n",
       "      <td>Servicios De Diseño</td>\n",
       "      <td>Incomplete</td>\n",
       "      <td>Av. San Martín 920</td>\n",
       "      <td>+54 9 249 469-4342</td>\n",
       "      <td>Rauch</td>\n",
       "      <td>Provincia de Buenos Aires</td>\n",
       "      <td>-36.772835</td>\n",
       "      <td>-59.086239</td>\n",
       "      <td>0.0</td>\n",
       "      <td>16</td>\n",
       "      <td>https://streetviewpixels-pa.googleapis.com/v1/...</td>\n",
       "      <td>1.0</td>\n",
       "      <td>0</td>\n",
       "      <td>2025-07-30 15:10:41</td>\n",
       "      <td>Construccion</td>\n",
       "    </tr>\n",
       "    <tr>\n",
       "      <th>5856</th>\n",
       "      <td>Registro Nacional De La Propiedad Del Automotor</td>\n",
       "      <td>Agencia De Registro De Automóviles</td>\n",
       "      <td>Incomplete</td>\n",
       "      <td>Cnel. Suárez 86</td>\n",
       "      <td>+54 9 2297 44-0468</td>\n",
       "      <td>Rauch</td>\n",
       "      <td>Provincia de Buenos Aires</td>\n",
       "      <td>-36.776637</td>\n",
       "      <td>-59.089069</td>\n",
       "      <td>4.4</td>\n",
       "      <td>17</td>\n",
       "      <td>https://streetviewpixels-pa.googleapis.com/v1/...</td>\n",
       "      <td>1.0</td>\n",
       "      <td>20</td>\n",
       "      <td>2025-07-30 15:10:56</td>\n",
       "      <td>Vehiculos</td>\n",
       "    </tr>\n",
       "    <tr>\n",
       "      <th>5857</th>\n",
       "      <td>Carpintería Tedesco Hermanos</td>\n",
       "      <td>Carpintero</td>\n",
       "      <td>Incomplete</td>\n",
       "      <td>9 de Julio 145, B7203ABC</td>\n",
       "      <td>+54 9 249 435-9904</td>\n",
       "      <td>Rauch</td>\n",
       "      <td>Provincia de Buenos Aires</td>\n",
       "      <td>-36.775892</td>\n",
       "      <td>-59.093677</td>\n",
       "      <td>0.0</td>\n",
       "      <td>28</td>\n",
       "      <td>https://streetviewpixels-pa.googleapis.com/v1/...</td>\n",
       "      <td>2.0</td>\n",
       "      <td>0</td>\n",
       "      <td>2025-07-30 15:10:58</td>\n",
       "      <td>Construccion</td>\n",
       "    </tr>\n",
       "    <tr>\n",
       "      <th>5858</th>\n",
       "      <td>Zapatería Tofi</td>\n",
       "      <td>Zapatero</td>\n",
       "      <td>Incomplete</td>\n",
       "      <td>Av. Gral. Paz</td>\n",
       "      <td>+54 9 249 421-6088</td>\n",
       "      <td>Rauch</td>\n",
       "      <td>Provincia de Buenos Aires</td>\n",
       "      <td>-36.777376</td>\n",
       "      <td>-59.078009</td>\n",
       "      <td>4.9</td>\n",
       "      <td>29</td>\n",
       "      <td>https://lh3.googleusercontent.com/gps-cs-s/AC9...</td>\n",
       "      <td>3.0</td>\n",
       "      <td>16</td>\n",
       "      <td>2025-07-30 15:10:59</td>\n",
       "      <td>Tienda</td>\n",
       "    </tr>\n",
       "  </tbody>\n",
       "</table>\n",
       "</div>"
      ],
      "text/plain": [
       "                                                title  \\\n",
       "5849                          Polideportivo Municipal   \n",
       "5850                              Burbujas Lavandería   \n",
       "5851                 Bo. Jardín Empleados De Comercio   \n",
       "5852                Taller Mecánico Juan Carlos Botta   \n",
       "5853                           Taller Mecanico Penedo   \n",
       "5854                                  Cerrajeria Hugo   \n",
       "5855                              Signos Arte Grafico   \n",
       "5856  Registro Nacional De La Propiedad Del Automotor   \n",
       "5857                     Carpintería Tedesco Hermanos   \n",
       "5858                                   Zapatería Tofi   \n",
       "\n",
       "                            categoryName     website  \\\n",
       "5849                   Escuela Deportiva  Incomplete   \n",
       "5850              Servicio De Lavandería  Incomplete   \n",
       "5851               Complejo De Viviendas  Incomplete   \n",
       "5852                     Taller Mecánico  Incomplete   \n",
       "5853               Taller De Automóviles  Incomplete   \n",
       "5854                           Cerrajero  Incomplete   \n",
       "5855                 Servicios De Diseño  Incomplete   \n",
       "5856  Agencia De Registro De Automóviles  Incomplete   \n",
       "5857                          Carpintero  Incomplete   \n",
       "5858                            Zapatero  Incomplete   \n",
       "\n",
       "                        street               phone   city  \\\n",
       "5849                Incomplete          Incomplete  Rauch   \n",
       "5850          Almte. Brown 254  +54 9 249 448-5227  Rauch   \n",
       "5851                Sin Nombre          Incomplete  Rauch   \n",
       "5852         Azcuénaga 299-201  +54 9 249 450-1086  Rauch   \n",
       "5853                 RP30 1400  +54 9 249 434-5802  Rauch   \n",
       "5854             Brandsen 1792  +54 9 2297 44-2572  Rauch   \n",
       "5855        Av. San Martín 920  +54 9 249 469-4342  Rauch   \n",
       "5856           Cnel. Suárez 86  +54 9 2297 44-0468  Rauch   \n",
       "5857  9 de Julio 145, B7203ABC  +54 9 249 435-9904  Rauch   \n",
       "5858             Av. Gral. Paz  +54 9 249 421-6088  Rauch   \n",
       "\n",
       "                          state  location/lat  location/lng  totalScore  rank  \\\n",
       "5849  Provincia de Buenos Aires    -36.770290    -59.099804         5.0     7   \n",
       "5850  Provincia de Buenos Aires    -36.780576    -59.088608         5.0    16   \n",
       "5851  Provincia de Buenos Aires    -36.776126    -59.077801         4.4    25   \n",
       "5852  Provincia de Buenos Aires    -36.772244    -59.079592         0.0    25   \n",
       "5853  Provincia de Buenos Aires    -36.763515    -59.089012         0.0    30   \n",
       "5854  Provincia de Buenos Aires    -36.771912    -59.089686         4.6    19   \n",
       "5855  Provincia de Buenos Aires    -36.772835    -59.086239         0.0    16   \n",
       "5856  Provincia de Buenos Aires    -36.776637    -59.089069         4.4    17   \n",
       "5857  Provincia de Buenos Aires    -36.775892    -59.093677         0.0    28   \n",
       "5858  Provincia de Buenos Aires    -36.777376    -59.078009         4.9    29   \n",
       "\n",
       "                                               imageUrl  imagesCount  \\\n",
       "5849  https://lh3.googleusercontent.com/gps-cs-s/AC9...          2.0   \n",
       "5850  https://lh3.googleusercontent.com/gps-cs-s/AC9...          7.0   \n",
       "5851                                         Incomplete          0.0   \n",
       "5852  https://streetviewpixels-pa.googleapis.com/v1/...          2.0   \n",
       "5853  https://lh3.googleusercontent.com/gps-cs-s/AC9...          7.0   \n",
       "5854  https://lh3.googleusercontent.com/gps-cs-s/AC9...          3.0   \n",
       "5855  https://streetviewpixels-pa.googleapis.com/v1/...          1.0   \n",
       "5856  https://streetviewpixels-pa.googleapis.com/v1/...          1.0   \n",
       "5857  https://streetviewpixels-pa.googleapis.com/v1/...          2.0   \n",
       "5858  https://lh3.googleusercontent.com/gps-cs-s/AC9...          3.0   \n",
       "\n",
       "      reviewsCount           scrapedAt  searchString  \n",
       "5849            20 2025-07-30 15:10:11     Deportivo  \n",
       "5850            39 2025-07-30 15:10:20          Ropa  \n",
       "5851            30 2025-07-30 15:10:24      Comercio  \n",
       "5852             0 2025-07-30 15:10:27     Vehiculos  \n",
       "5853             0 2025-07-30 15:10:35     Vehiculos  \n",
       "5854            20 2025-07-30 15:10:41  Construccion  \n",
       "5855             0 2025-07-30 15:10:41  Construccion  \n",
       "5856            20 2025-07-30 15:10:56     Vehiculos  \n",
       "5857             0 2025-07-30 15:10:58  Construccion  \n",
       "5858            16 2025-07-30 15:10:59        Tienda  "
      ]
     },
     "execution_count": 75,
     "metadata": {},
     "output_type": "execute_result"
    }
   ],
   "source": [
    "# Visualización de las últimas filas del DataFrame\n",
    "df.tail(10)"
   ]
  },
  {
   "cell_type": "code",
   "execution_count": 76,
   "id": "c8ec38ba",
   "metadata": {},
   "outputs": [
    {
     "data": {
      "application/vnd.microsoft.datawrangler.viewer.v0+json": {
       "columns": [
        {
         "name": "index",
         "rawType": "int64",
         "type": "integer"
        },
        {
         "name": "title",
         "rawType": "object",
         "type": "string"
        },
        {
         "name": "categoryName",
         "rawType": "object",
         "type": "string"
        },
        {
         "name": "website",
         "rawType": "object",
         "type": "string"
        },
        {
         "name": "street",
         "rawType": "object",
         "type": "string"
        },
        {
         "name": "phone",
         "rawType": "object",
         "type": "string"
        },
        {
         "name": "city",
         "rawType": "object",
         "type": "string"
        },
        {
         "name": "state",
         "rawType": "object",
         "type": "string"
        },
        {
         "name": "location/lat",
         "rawType": "float64",
         "type": "float"
        },
        {
         "name": "location/lng",
         "rawType": "float64",
         "type": "float"
        },
        {
         "name": "totalScore",
         "rawType": "float64",
         "type": "float"
        },
        {
         "name": "rank",
         "rawType": "int64",
         "type": "integer"
        },
        {
         "name": "imageUrl",
         "rawType": "object",
         "type": "string"
        },
        {
         "name": "imagesCount",
         "rawType": "float64",
         "type": "float"
        },
        {
         "name": "reviewsCount",
         "rawType": "int64",
         "type": "integer"
        },
        {
         "name": "scrapedAt",
         "rawType": "datetime64[ns]",
         "type": "datetime"
        },
        {
         "name": "searchString",
         "rawType": "object",
         "type": "string"
        }
       ],
       "ref": "01115deb-c85f-4c6c-b8ca-37b9187345eb",
       "rows": [
        [
         "0",
         "La Casa De Los Trofeos",
         "Comercio",
         "Incomplete",
         "Rivadavia 496",
         "Incomplete",
         "Azul",
         "Provincia de Buenos Aires",
         "-36.7746611",
         "-59.8626234",
         "0.0",
         "1",
         "Incomplete",
         "0.0",
         "0",
         "2025-05-19 00:03:00",
         "Comercio"
        ],
        [
         "690",
         "Ana Boutique",
         "Tienda De Ropa",
         "Incomplete",
         "Moreno 691",
         "Incomplete",
         "Azul",
         "Provincia de Buenos Aires",
         "-36.7798995",
         "-59.8622532",
         "0.0",
         "96",
         "https://streetviewpixels-pa.googleapis.com/v1/thumbnail?panoid=VzUrMPSOpVM8qZ07CM0nng&cb_client=search.gws-prod.gps&w=408&h=240&yaw=166.96266&pitch=0&thumbfov=100",
         "1.0",
         "0",
         "2025-07-30 14:51:43",
         "Ropa"
        ],
        [
         "5086",
         "Juan Xxiii",
         "Urbanización",
         "Incomplete",
         "C. Juan XXIII",
         "Incomplete",
         "Tandil",
         "Provincia de Buenos Aires",
         "-37.3402348",
         "-59.1125573",
         "4.7",
         "17",
         "Incomplete",
         "0.0",
         "3",
         "2025-07-30 15:42:56",
         "Inmobiliario"
        ],
        [
         "1465",
         "Llorente & Paz Inmobiliaria",
         "Agencia Inmobiliaria",
         "https://llorentepazinmobiliaria.com/",
         "Riobamba 2877",
         "+54 9 2284 58-4666",
         "Olavarría",
         "Provincia de Buenos Aires",
         "-36.8898948",
         "-60.3260466",
         "3.8",
         "43",
         "https://lh3.googleusercontent.com/p/AF1QipMxXLae7SSvvkwgSffD4DieOB25EWvZa3wnQZ4m=w408-h306-k-no",
         "5.0",
         "9",
         "2025-06-15 23:32:13",
         "Venta"
        ],
        [
         "2196",
         "Repuestos Galluscio",
         "Tienda De Repuestos Para Automóviles",
         "Incomplete",
         "Av. Pringles 2028",
         "Incomplete",
         "Olavarría",
         "Provincia de Buenos Aires",
         "-36.903",
         "-60.3243",
         "0.0",
         "67",
         "https://streetviewpixels-pa.googleapis.com/v1/thumbnail?panoid=7qoQmiFmNiR9k0u7WZK4wA&cb_client=search.gws-prod.gps&w=408&h=240&yaw=325.13437&pitch=0&thumbfov=100",
         "1.0",
         "0",
         "2025-07-30 14:43:04",
         "Repuestos"
        ],
        [
         "1760",
         "Iberia Basic",
         "Tienda De Ropa",
         "https://iberiabasic.empretienda.com.ar/",
         "Rivadavia 4720",
         "Incomplete",
         "Olavarría",
         "Provincia de Buenos Aires",
         "-36.8811028",
         "-60.3059273",
         "0.0",
         "108",
         "https://streetviewpixels-pa.googleapis.com/v1/thumbnail?panoid=O9IIM69dO5o-VfXT0sDRbQ&cb_client=search.gws-prod.gps&w=408&h=240&yaw=145.58302&pitch=0&thumbfov=100",
         "1.0",
         "0",
         "2025-07-30 14:42:39",
         "Ropa"
        ],
        [
         "4752",
         "El Pampa Marquet",
         "Quiosco",
         "Incomplete",
         "Leandro Alem 1332",
         "Incomplete",
         "Tandil",
         "Provincia de Buenos Aires",
         "-37.3166398",
         "-59.1390282",
         "5.0",
         "9",
         "https://streetviewpixels-pa.googleapis.com/v1/thumbnail?panoid=IU7TICKyVEFKd5Xs6gm1FA&cb_client=search.gws-prod.gps&w=408&h=240&yaw=232.23721&pitch=0&thumbfov=100",
         "1.0",
         "3",
         "2025-05-04 16:08:26",
         "Comercio"
        ],
        [
         "3739",
         "Nano Motos",
         "Tienda De Motocicletas",
         "https://www.facebook.com/nanomotostand",
         "Sarmiento 556",
         "+54 9 249 449-5449",
         "Tandil",
         "Provincia de Buenos Aires",
         "-37.3253374",
         "-59.13804",
         "4.7",
         "142",
         "https://lh3.googleusercontent.com/gps-cs-s/AC9h4nrR1NpIgkpGoM7mA6-0t3avEfmW4e5xZtPTFDEA0ESUA7JvJISF8nHHt1GqPT-sK7_RwoPD_IpCNcONYYQpGDMnJe6mU0IK5muE_5aqQkBRexIMqwogvwRhHEb8-tZLHXroGJJ7PA=w408-h725-k-no",
         "18.0",
         "85",
         "2025-06-11 18:02:36",
         "Venta Online"
        ],
        [
         "480",
         "Servicio De Renders - Arquitectura",
         "Estudio De Arquitectura",
         "https://render-etchevers.webnode.com/",
         "Av. 25 de Mayo",
         "Incomplete",
         "Azul",
         "Provincia de Buenos Aires",
         "-36.7809865",
         "-59.8623176",
         "5.0",
         "51",
         "https://streetviewpixels-pa.googleapis.com/v1/thumbnail?panoid=4LM27NN3_OTvzQHfFsVzXg&cb_client=search.gws-prod.gps&w=408&h=240&yaw=302.1569&pitch=0&thumbfov=100",
         "1.0",
         "1",
         "2025-07-30 14:51:26",
         "Construccion"
        ],
        [
         "376",
         "Corralon De Materiales Ricardito",
         "Tienda De Materiales Para La Construcción",
         "Incomplete",
         "Calle Arenales Norte 151 esquina Buenos Aires AR",
         "+54 9 2281 40-1090",
         "Azul",
         "Provincia de Buenos Aires",
         "-36.7704763",
         "-59.846141",
         "4.3",
         "2",
         "https://lh3.googleusercontent.com/p/AF1QipPhRrJs5T1I0u73GfBfNtUQxF6o9ez25zXrv8dq=w408-h544-k-no",
         "42.0",
         "58",
         "2025-07-30 14:51:17",
         "Construccion"
        ]
       ],
       "shape": {
        "columns": 16,
        "rows": 10
       }
      },
      "text/html": [
       "<div>\n",
       "<style scoped>\n",
       "    .dataframe tbody tr th:only-of-type {\n",
       "        vertical-align: middle;\n",
       "    }\n",
       "\n",
       "    .dataframe tbody tr th {\n",
       "        vertical-align: top;\n",
       "    }\n",
       "\n",
       "    .dataframe thead th {\n",
       "        text-align: right;\n",
       "    }\n",
       "</style>\n",
       "<table border=\"1\" class=\"dataframe\">\n",
       "  <thead>\n",
       "    <tr style=\"text-align: right;\">\n",
       "      <th></th>\n",
       "      <th>title</th>\n",
       "      <th>categoryName</th>\n",
       "      <th>website</th>\n",
       "      <th>street</th>\n",
       "      <th>phone</th>\n",
       "      <th>city</th>\n",
       "      <th>state</th>\n",
       "      <th>location/lat</th>\n",
       "      <th>location/lng</th>\n",
       "      <th>totalScore</th>\n",
       "      <th>rank</th>\n",
       "      <th>imageUrl</th>\n",
       "      <th>imagesCount</th>\n",
       "      <th>reviewsCount</th>\n",
       "      <th>scrapedAt</th>\n",
       "      <th>searchString</th>\n",
       "    </tr>\n",
       "  </thead>\n",
       "  <tbody>\n",
       "    <tr>\n",
       "      <th>0</th>\n",
       "      <td>La Casa De Los Trofeos</td>\n",
       "      <td>Comercio</td>\n",
       "      <td>Incomplete</td>\n",
       "      <td>Rivadavia 496</td>\n",
       "      <td>Incomplete</td>\n",
       "      <td>Azul</td>\n",
       "      <td>Provincia de Buenos Aires</td>\n",
       "      <td>-36.774661</td>\n",
       "      <td>-59.862623</td>\n",
       "      <td>0.0</td>\n",
       "      <td>1</td>\n",
       "      <td>Incomplete</td>\n",
       "      <td>0.0</td>\n",
       "      <td>0</td>\n",
       "      <td>2025-05-19 00:03:00</td>\n",
       "      <td>Comercio</td>\n",
       "    </tr>\n",
       "    <tr>\n",
       "      <th>690</th>\n",
       "      <td>Ana Boutique</td>\n",
       "      <td>Tienda De Ropa</td>\n",
       "      <td>Incomplete</td>\n",
       "      <td>Moreno 691</td>\n",
       "      <td>Incomplete</td>\n",
       "      <td>Azul</td>\n",
       "      <td>Provincia de Buenos Aires</td>\n",
       "      <td>-36.779899</td>\n",
       "      <td>-59.862253</td>\n",
       "      <td>0.0</td>\n",
       "      <td>96</td>\n",
       "      <td>https://streetviewpixels-pa.googleapis.com/v1/...</td>\n",
       "      <td>1.0</td>\n",
       "      <td>0</td>\n",
       "      <td>2025-07-30 14:51:43</td>\n",
       "      <td>Ropa</td>\n",
       "    </tr>\n",
       "    <tr>\n",
       "      <th>5086</th>\n",
       "      <td>Juan Xxiii</td>\n",
       "      <td>Urbanización</td>\n",
       "      <td>Incomplete</td>\n",
       "      <td>C. Juan XXIII</td>\n",
       "      <td>Incomplete</td>\n",
       "      <td>Tandil</td>\n",
       "      <td>Provincia de Buenos Aires</td>\n",
       "      <td>-37.340235</td>\n",
       "      <td>-59.112557</td>\n",
       "      <td>4.7</td>\n",
       "      <td>17</td>\n",
       "      <td>Incomplete</td>\n",
       "      <td>0.0</td>\n",
       "      <td>3</td>\n",
       "      <td>2025-07-30 15:42:56</td>\n",
       "      <td>Inmobiliario</td>\n",
       "    </tr>\n",
       "    <tr>\n",
       "      <th>1465</th>\n",
       "      <td>Llorente &amp; Paz Inmobiliaria</td>\n",
       "      <td>Agencia Inmobiliaria</td>\n",
       "      <td>https://llorentepazinmobiliaria.com/</td>\n",
       "      <td>Riobamba 2877</td>\n",
       "      <td>+54 9 2284 58-4666</td>\n",
       "      <td>Olavarría</td>\n",
       "      <td>Provincia de Buenos Aires</td>\n",
       "      <td>-36.889895</td>\n",
       "      <td>-60.326047</td>\n",
       "      <td>3.8</td>\n",
       "      <td>43</td>\n",
       "      <td>https://lh3.googleusercontent.com/p/AF1QipMxXL...</td>\n",
       "      <td>5.0</td>\n",
       "      <td>9</td>\n",
       "      <td>2025-06-15 23:32:13</td>\n",
       "      <td>Venta</td>\n",
       "    </tr>\n",
       "    <tr>\n",
       "      <th>2196</th>\n",
       "      <td>Repuestos Galluscio</td>\n",
       "      <td>Tienda De Repuestos Para Automóviles</td>\n",
       "      <td>Incomplete</td>\n",
       "      <td>Av. Pringles 2028</td>\n",
       "      <td>Incomplete</td>\n",
       "      <td>Olavarría</td>\n",
       "      <td>Provincia de Buenos Aires</td>\n",
       "      <td>-36.903000</td>\n",
       "      <td>-60.324300</td>\n",
       "      <td>0.0</td>\n",
       "      <td>67</td>\n",
       "      <td>https://streetviewpixels-pa.googleapis.com/v1/...</td>\n",
       "      <td>1.0</td>\n",
       "      <td>0</td>\n",
       "      <td>2025-07-30 14:43:04</td>\n",
       "      <td>Repuestos</td>\n",
       "    </tr>\n",
       "    <tr>\n",
       "      <th>1760</th>\n",
       "      <td>Iberia Basic</td>\n",
       "      <td>Tienda De Ropa</td>\n",
       "      <td>https://iberiabasic.empretienda.com.ar/</td>\n",
       "      <td>Rivadavia 4720</td>\n",
       "      <td>Incomplete</td>\n",
       "      <td>Olavarría</td>\n",
       "      <td>Provincia de Buenos Aires</td>\n",
       "      <td>-36.881103</td>\n",
       "      <td>-60.305927</td>\n",
       "      <td>0.0</td>\n",
       "      <td>108</td>\n",
       "      <td>https://streetviewpixels-pa.googleapis.com/v1/...</td>\n",
       "      <td>1.0</td>\n",
       "      <td>0</td>\n",
       "      <td>2025-07-30 14:42:39</td>\n",
       "      <td>Ropa</td>\n",
       "    </tr>\n",
       "    <tr>\n",
       "      <th>4752</th>\n",
       "      <td>El Pampa Marquet</td>\n",
       "      <td>Quiosco</td>\n",
       "      <td>Incomplete</td>\n",
       "      <td>Leandro Alem 1332</td>\n",
       "      <td>Incomplete</td>\n",
       "      <td>Tandil</td>\n",
       "      <td>Provincia de Buenos Aires</td>\n",
       "      <td>-37.316640</td>\n",
       "      <td>-59.139028</td>\n",
       "      <td>5.0</td>\n",
       "      <td>9</td>\n",
       "      <td>https://streetviewpixels-pa.googleapis.com/v1/...</td>\n",
       "      <td>1.0</td>\n",
       "      <td>3</td>\n",
       "      <td>2025-05-04 16:08:26</td>\n",
       "      <td>Comercio</td>\n",
       "    </tr>\n",
       "    <tr>\n",
       "      <th>3739</th>\n",
       "      <td>Nano Motos</td>\n",
       "      <td>Tienda De Motocicletas</td>\n",
       "      <td>https://www.facebook.com/nanomotostand</td>\n",
       "      <td>Sarmiento 556</td>\n",
       "      <td>+54 9 249 449-5449</td>\n",
       "      <td>Tandil</td>\n",
       "      <td>Provincia de Buenos Aires</td>\n",
       "      <td>-37.325337</td>\n",
       "      <td>-59.138040</td>\n",
       "      <td>4.7</td>\n",
       "      <td>142</td>\n",
       "      <td>https://lh3.googleusercontent.com/gps-cs-s/AC9...</td>\n",
       "      <td>18.0</td>\n",
       "      <td>85</td>\n",
       "      <td>2025-06-11 18:02:36</td>\n",
       "      <td>Venta Online</td>\n",
       "    </tr>\n",
       "    <tr>\n",
       "      <th>480</th>\n",
       "      <td>Servicio De Renders - Arquitectura</td>\n",
       "      <td>Estudio De Arquitectura</td>\n",
       "      <td>https://render-etchevers.webnode.com/</td>\n",
       "      <td>Av. 25 de Mayo</td>\n",
       "      <td>Incomplete</td>\n",
       "      <td>Azul</td>\n",
       "      <td>Provincia de Buenos Aires</td>\n",
       "      <td>-36.780986</td>\n",
       "      <td>-59.862318</td>\n",
       "      <td>5.0</td>\n",
       "      <td>51</td>\n",
       "      <td>https://streetviewpixels-pa.googleapis.com/v1/...</td>\n",
       "      <td>1.0</td>\n",
       "      <td>1</td>\n",
       "      <td>2025-07-30 14:51:26</td>\n",
       "      <td>Construccion</td>\n",
       "    </tr>\n",
       "    <tr>\n",
       "      <th>376</th>\n",
       "      <td>Corralon De Materiales Ricardito</td>\n",
       "      <td>Tienda De Materiales Para La Construcción</td>\n",
       "      <td>Incomplete</td>\n",
       "      <td>Calle Arenales Norte 151 esquina Buenos Aires AR</td>\n",
       "      <td>+54 9 2281 40-1090</td>\n",
       "      <td>Azul</td>\n",
       "      <td>Provincia de Buenos Aires</td>\n",
       "      <td>-36.770476</td>\n",
       "      <td>-59.846141</td>\n",
       "      <td>4.3</td>\n",
       "      <td>2</td>\n",
       "      <td>https://lh3.googleusercontent.com/p/AF1QipPhRr...</td>\n",
       "      <td>42.0</td>\n",
       "      <td>58</td>\n",
       "      <td>2025-07-30 14:51:17</td>\n",
       "      <td>Construccion</td>\n",
       "    </tr>\n",
       "  </tbody>\n",
       "</table>\n",
       "</div>"
      ],
      "text/plain": [
       "                                   title  \\\n",
       "0                 La Casa De Los Trofeos   \n",
       "690                         Ana Boutique   \n",
       "5086                          Juan Xxiii   \n",
       "1465         Llorente & Paz Inmobiliaria   \n",
       "2196                 Repuestos Galluscio   \n",
       "1760                        Iberia Basic   \n",
       "4752                    El Pampa Marquet   \n",
       "3739                          Nano Motos   \n",
       "480   Servicio De Renders - Arquitectura   \n",
       "376     Corralon De Materiales Ricardito   \n",
       "\n",
       "                                   categoryName  \\\n",
       "0                                      Comercio   \n",
       "690                              Tienda De Ropa   \n",
       "5086                               Urbanización   \n",
       "1465                       Agencia Inmobiliaria   \n",
       "2196       Tienda De Repuestos Para Automóviles   \n",
       "1760                             Tienda De Ropa   \n",
       "4752                                    Quiosco   \n",
       "3739                     Tienda De Motocicletas   \n",
       "480                     Estudio De Arquitectura   \n",
       "376   Tienda De Materiales Para La Construcción   \n",
       "\n",
       "                                      website  \\\n",
       "0                                  Incomplete   \n",
       "690                                Incomplete   \n",
       "5086                               Incomplete   \n",
       "1465     https://llorentepazinmobiliaria.com/   \n",
       "2196                               Incomplete   \n",
       "1760  https://iberiabasic.empretienda.com.ar/   \n",
       "4752                               Incomplete   \n",
       "3739   https://www.facebook.com/nanomotostand   \n",
       "480     https://render-etchevers.webnode.com/   \n",
       "376                                Incomplete   \n",
       "\n",
       "                                                street               phone  \\\n",
       "0                                        Rivadavia 496          Incomplete   \n",
       "690                                         Moreno 691          Incomplete   \n",
       "5086                                     C. Juan XXIII          Incomplete   \n",
       "1465                                     Riobamba 2877  +54 9 2284 58-4666   \n",
       "2196                                 Av. Pringles 2028          Incomplete   \n",
       "1760                                    Rivadavia 4720          Incomplete   \n",
       "4752                                 Leandro Alem 1332          Incomplete   \n",
       "3739                                     Sarmiento 556  +54 9 249 449-5449   \n",
       "480                                     Av. 25 de Mayo          Incomplete   \n",
       "376   Calle Arenales Norte 151 esquina Buenos Aires AR  +54 9 2281 40-1090   \n",
       "\n",
       "           city                      state  location/lat  location/lng  \\\n",
       "0          Azul  Provincia de Buenos Aires    -36.774661    -59.862623   \n",
       "690        Azul  Provincia de Buenos Aires    -36.779899    -59.862253   \n",
       "5086     Tandil  Provincia de Buenos Aires    -37.340235    -59.112557   \n",
       "1465  Olavarría  Provincia de Buenos Aires    -36.889895    -60.326047   \n",
       "2196  Olavarría  Provincia de Buenos Aires    -36.903000    -60.324300   \n",
       "1760  Olavarría  Provincia de Buenos Aires    -36.881103    -60.305927   \n",
       "4752     Tandil  Provincia de Buenos Aires    -37.316640    -59.139028   \n",
       "3739     Tandil  Provincia de Buenos Aires    -37.325337    -59.138040   \n",
       "480        Azul  Provincia de Buenos Aires    -36.780986    -59.862318   \n",
       "376        Azul  Provincia de Buenos Aires    -36.770476    -59.846141   \n",
       "\n",
       "      totalScore  rank                                           imageUrl  \\\n",
       "0            0.0     1                                         Incomplete   \n",
       "690          0.0    96  https://streetviewpixels-pa.googleapis.com/v1/...   \n",
       "5086         4.7    17                                         Incomplete   \n",
       "1465         3.8    43  https://lh3.googleusercontent.com/p/AF1QipMxXL...   \n",
       "2196         0.0    67  https://streetviewpixels-pa.googleapis.com/v1/...   \n",
       "1760         0.0   108  https://streetviewpixels-pa.googleapis.com/v1/...   \n",
       "4752         5.0     9  https://streetviewpixels-pa.googleapis.com/v1/...   \n",
       "3739         4.7   142  https://lh3.googleusercontent.com/gps-cs-s/AC9...   \n",
       "480          5.0    51  https://streetviewpixels-pa.googleapis.com/v1/...   \n",
       "376          4.3     2  https://lh3.googleusercontent.com/p/AF1QipPhRr...   \n",
       "\n",
       "      imagesCount  reviewsCount           scrapedAt  searchString  \n",
       "0             0.0             0 2025-05-19 00:03:00      Comercio  \n",
       "690           1.0             0 2025-07-30 14:51:43          Ropa  \n",
       "5086          0.0             3 2025-07-30 15:42:56  Inmobiliario  \n",
       "1465          5.0             9 2025-06-15 23:32:13         Venta  \n",
       "2196          1.0             0 2025-07-30 14:43:04     Repuestos  \n",
       "1760          1.0             0 2025-07-30 14:42:39          Ropa  \n",
       "4752          1.0             3 2025-05-04 16:08:26      Comercio  \n",
       "3739         18.0            85 2025-06-11 18:02:36  Venta Online  \n",
       "480           1.0             1 2025-07-30 14:51:26  Construccion  \n",
       "376          42.0            58 2025-07-30 14:51:17  Construccion  "
      ]
     },
     "execution_count": 76,
     "metadata": {},
     "output_type": "execute_result"
    }
   ],
   "source": [
    "# Muestra aleatoria de 10 filas del DataFrame para una inspección rápida\n",
    "df.sample(10)"
   ]
  },
  {
   "cell_type": "code",
   "execution_count": 77,
   "id": "cc1a7129",
   "metadata": {},
   "outputs": [
    {
     "name": "stdout",
     "output_type": "stream",
     "text": [
      "Total de comercios por ciudad:\n",
      "city\n",
      "Tandil           2409\n",
      "Olavarría        1494\n",
      "Azul             1274\n",
      "Benito Juárez     351\n",
      "Rauch             331\n",
      "Name: title, dtype: int64\n"
     ]
    }
   ],
   "source": [
    "# Contar total de comercios por ciudad\n",
    "t_business = df.groupby('city')['title'].count().sort_values(ascending=False)\n",
    "t_business\n",
    "print(f\"Total de comercios por ciudad:\\n{t_business}\")"
   ]
  },
  {
   "cell_type": "code",
   "execution_count": 78,
   "id": "8a7e97b3",
   "metadata": {},
   "outputs": [
    {
     "name": "stdout",
     "output_type": "stream",
     "text": [
      "El total regional de comercios es: 5859\n"
     ]
    }
   ],
   "source": [
    "business = t_business.sum().sum()  # Total regional de comercios\n",
    "business\n",
    "print(f\"El total regional de comercios es: {business}\")"
   ]
  },
  {
   "cell_type": "code",
   "execution_count": 79,
   "id": "363ac05b",
   "metadata": {},
   "outputs": [
    {
     "name": "stdout",
     "output_type": "stream",
     "text": [
      "Total de registros por ciudad (excluyendo registros incompletos de website):\n",
      "city\n",
      "Tandil           849\n",
      "Olavarría        497\n",
      "Azul             280\n",
      "Benito Juárez     64\n",
      "Rauch             60\n",
      "Name: website, dtype: int64\n"
     ]
    }
   ],
   "source": [
    "# Contar total de registros por ciudad excluyendo 'incomplete'\n",
    "total_web = (df[~df['website'].str.contains('Incomplete', case=False, na=False)]\n",
    "            .groupby('city')['website'].count()\n",
    "            .sort_values(ascending=False))\n",
    "total_web\n",
    "print(f\"Total de registros por ciudad (excluyendo registros incompletos de website):\\n{total_web}\")"
   ]
  },
  {
   "cell_type": "code",
   "execution_count": 80,
   "id": "f85737a6",
   "metadata": {},
   "outputs": [
    {
     "name": "stdout",
     "output_type": "stream",
     "text": [
      "El total regional de registros digitales es: 1750\n"
     ]
    }
   ],
   "source": [
    "webs = total_web.sum().sum()\n",
    "print(f\"El total regional de registros digitales es: {webs}\")"
   ]
  },
  {
   "cell_type": "code",
   "execution_count": 81,
   "id": "fbee300b",
   "metadata": {},
   "outputs": [
    {
     "data": {
      "application/vnd.microsoft.datawrangler.viewer.v0+json": {
       "columns": [
        {
         "name": "city",
         "rawType": "object",
         "type": "string"
        },
        {
         "name": "website",
         "rawType": "int64",
         "type": "integer"
        }
       ],
       "ref": "ce34666e-197c-4872-80d2-dffa737a10a0",
       "rows": [
        [
         "Tandil",
         "1560"
        ],
        [
         "Olavarría",
         "997"
        ],
        [
         "Azul",
         "994"
        ],
        [
         "Benito Juárez",
         "287"
        ],
        [
         "Rauch",
         "271"
        ]
       ],
       "shape": {
        "columns": 1,
        "rows": 5
       }
      },
      "text/plain": [
       "city\n",
       "Tandil           1560\n",
       "Olavarría         997\n",
       "Azul              994\n",
       "Benito Juárez     287\n",
       "Rauch             271\n",
       "Name: website, dtype: int64"
      ]
     },
     "execution_count": 81,
     "metadata": {},
     "output_type": "execute_result"
    }
   ],
   "source": [
    "# Análisis de calidad: datos faltantes agrupados por ciudad\n",
    "incomplete_city = (df[df['website'] == 'Incomplete']\n",
    "                .groupby('city')['website'].count()\n",
    "                .sort_values(ascending=False))\n",
    "incomplete_city"
   ]
  },
  {
   "cell_type": "code",
   "execution_count": null,
   "id": "a111fa78",
   "metadata": {},
   "outputs": [
    {
     "data": {
      "application/vnd.microsoft.datawrangler.viewer.v0+json": {
       "columns": [
        {
         "name": "categoryName",
         "rawType": "object",
         "type": "string"
        },
        {
         "name": "count",
         "rawType": "int64",
         "type": "integer"
        }
       ],
       "ref": "eceb8aea-da88-4006-9562-4f3afef00c10",
       "rows": [
        [
         "Tienda De Ropa",
         "104"
        ],
        [
         "Agencia Inmobiliaria",
         "85"
        ],
        [
         "Tienda De Materiales Para La Construcción",
         "52"
        ],
        [
         "Comercio",
         "49"
        ],
        [
         "Tienda De Repuestos Para Automóviles",
         "41"
        ],
        [
         "Tienda De Ropa De Mujer",
         "30"
        ],
        [
         "Tienda De Artículos Para El Hogar",
         "29"
        ],
        [
         "Tienda De Informática",
         "23"
        ],
        [
         "Concesionario De Automóviles",
         "23"
        ],
        [
         "Tienda De Muebles",
         "21"
        ],
        [
         "Tienda De Pinturas",
         "19"
        ],
        [
         "Gasolinera",
         "18"
        ],
        [
         "Tienda De Alimentación",
         "18"
        ],
        [
         "Empresa Constructora",
         "17"
        ],
        [
         "Taller Mecánico",
         "17"
        ],
        [
         "Tienda De Ropa De Deportes",
         "16"
        ],
        [
         "Heladería",
         "16"
        ],
        [
         "Taller De Reparación De Automóviles",
         "16"
        ],
        [
         "Tienda De Ropa Infantil",
         "16"
        ],
        [
         "Supermercado",
         "16"
        ],
        [
         "Tienda De Electrodomésticos",
         "16"
        ],
        [
         "Quesería",
         "16"
        ],
        [
         "Servicio De Cambio De Aceite",
         "15"
        ],
        [
         "Ferretería",
         "14"
        ],
        [
         "Farmacia",
         "13"
        ],
        [
         "Agentes Inmobiliarios",
         "12"
        ],
        [
         "Tienda De Móviles",
         "11"
        ],
        [
         "Proveedor De Materiales De Construcción",
         "11"
        ],
        [
         "Tienda De Regalos",
         "11"
        ],
        [
         "Librería",
         "11"
        ],
        [
         "Tienda De Electrónica",
         "11"
        ],
        [
         "Juguetería",
         "10"
        ],
        [
         "Tienda De Ropa De Hombre",
         "10"
        ],
        [
         "Tienda De Ropa Para Bebés",
         "10"
        ],
        [
         "Diseñador De Sitios Web",
         "9"
        ],
        [
         "Club Deportivo",
         "9"
        ],
        [
         "Colchonería",
         "9"
        ],
        [
         "Tienda De Neumáticos",
         "9"
        ],
        [
         "Oficinas De Empresa",
         "9"
        ],
        [
         "Tienda De Herramientas",
         "9"
        ],
        [
         "Tienda De Alimentos Para Animales",
         "8"
        ],
        [
         "Taller De Maquinaria",
         "8"
        ],
        [
         "Tienda De Alimentos Naturales",
         "8"
        ],
        [
         "Empresa De Software",
         "8"
        ],
        [
         "Concesionario De Motos",
         "7"
        ],
        [
         "Zapatería",
         "7"
        ],
        [
         "Cafetería",
         "7"
        ],
        [
         "Tienda De Fotografía",
         "7"
        ],
        [
         "Tienda De Cubertería",
         "7"
        ],
        [
         "Frutería",
         "7"
        ]
       ],
       "shape": {
        "columns": 1,
        "rows": 353
       }
      },
      "text/plain": [
       "categoryName\n",
       "Tienda De Ropa                               104\n",
       "Agencia Inmobiliaria                          85\n",
       "Tienda De Materiales Para La Construcción     52\n",
       "Comercio                                      49\n",
       "Tienda De Repuestos Para Automóviles          41\n",
       "                                            ... \n",
       "Consultora De Administración Empresarial       1\n",
       "Club De Baile                                  1\n",
       "Escuela De Natación                            1\n",
       "Servicio De Bordado                            1\n",
       "Bufete                                         1\n",
       "Name: count, Length: 353, dtype: int64"
      ]
     },
     "execution_count": 95,
     "metadata": {},
     "output_type": "execute_result"
    }
   ],
   "source": [
    "# Crear nuevo DataFrame filtrando registros completos\n",
    "# Excluye filas que contengan 'incomplete' en cualquiera de las columnas\n",
    "df_full_records = df[~(df == 'Incomplete').any(axis=1)].copy()\n",
    "# Resultado: Conteo por categoría con datos completos\n",
    "df_full_records['categoryName'].value_counts()"
   ]
  },
  {
   "cell_type": "code",
   "execution_count": 84,
   "id": "fef82e53",
   "metadata": {},
   "outputs": [
    {
     "name": "stdout",
     "output_type": "stream",
     "text": [
      "De los 1750 registros digitales totales, los que tienen dominio propio son 941\n"
     ]
    }
   ],
   "source": [
    "word = ['facebook', 'instagram', 'mercadolibre', 'mercadoshops', 'tiendanube', 'paginasamarillas', \n",
    "        'guia-dorada', 'gurugo', 'wa.me', 'sites.google.', 'region20', 'Incomplete']\n",
    "# Crear máscara combinada\n",
    "contains_word = df['website'].str.contains('|'.join(word), case=False, na=False)\n",
    "# Contar los que NO contienen ninguna de esas palabras\n",
    "dominio_Propio = (~contains_word).sum()\n",
    "dominio_Propio\n",
    "print(f\"De los {webs} registros digitales totales, los que tienen dominio propio son {dominio_Propio}\")"
   ]
  },
  {
   "cell_type": "code",
   "execution_count": 85,
   "id": "766ca0aa",
   "metadata": {},
   "outputs": [
    {
     "data": {
      "application/vnd.microsoft.datawrangler.viewer.v0+json": {
       "columns": [
        {
         "name": "index",
         "rawType": "object",
         "type": "string"
        },
        {
         "name": "0",
         "rawType": "int64",
         "type": "integer"
        }
       ],
       "ref": "b7fcbc65-0896-41f0-869a-deb51946ade5",
       "rows": [
        [
         "instagram",
         "337"
        ],
        [
         "facebook",
         "317"
        ],
        [
         "guia-dorada",
         "68"
        ],
        [
         "tiendanube",
         "35"
        ],
        [
         "wa.me",
         "15"
        ],
        [
         "sites.google.",
         "13"
        ],
        [
         "gurugo",
         "8"
        ],
        [
         "mercadoshops",
         "8"
        ],
        [
         "region20",
         "5"
        ],
        [
         "mercadolibre",
         "3"
        ],
        [
         "paginasamarillas",
         "2"
        ],
        [
         "pedidosya",
         "1"
        ]
       ],
       "shape": {
        "columns": 1,
        "rows": 12
       }
      },
      "text/plain": [
       "instagram           337\n",
       "facebook            317\n",
       "guia-dorada          68\n",
       "tiendanube           35\n",
       "wa.me                15\n",
       "sites.google.        13\n",
       "gurugo                8\n",
       "mercadoshops          8\n",
       "region20              5\n",
       "mercadolibre          3\n",
       "paginasamarillas      2\n",
       "pedidosya             1\n",
       "dtype: int64"
      ]
     },
     "execution_count": 85,
     "metadata": {},
     "output_type": "execute_result"
    }
   ],
   "source": [
    "# Identifica las plataformas digitales más utilizadas por los negocios\n",
    "words = ['facebook', 'instagram', 'mercadolibre', 'mercadoshops', 'tiendanube', 'paginasamarillas', \n",
    "        'guia-dorada', 'gurugo', 'wa.me', 'sites.google.', 'pedidosya', 'region20']\n",
    "# Se cuenta cuántos negocios utilizan cada plataforma en sus URLs de website\n",
    "# El método str.contains() busca cada palabra en la columna 'website' (ignorando mayúsculas/minúsculas)\n",
    "# Los resultados se ordenan de mayor a menor para identificar las plataformas más populares\n",
    "result = (pd.Series({word: df['website'].str.contains(word, case=False, na=False).sum() \n",
    "                for word in words})\n",
    "        .sort_values(ascending=False))\n",
    "\n",
    "result"
   ]
  },
  {
   "cell_type": "code",
   "execution_count": 106,
   "id": "c4e8af06",
   "metadata": {},
   "outputs": [
    {
     "data": {
      "application/vnd.microsoft.datawrangler.viewer.v0+json": {
       "columns": [
        {
         "name": "index",
         "rawType": "object",
         "type": "string"
        },
        {
         "name": "count",
         "rawType": "int64",
         "type": "integer"
        },
        {
         "name": "percentage",
         "rawType": "float64",
         "type": "float"
        }
       ],
       "ref": "066a5dff-7f52-4cfe-aec8-4f9e97356993",
       "rows": [
        [
         "Dominio propio",
         "941",
         "53.77"
        ],
        [
         "Instagram",
         "337",
         "19.26"
        ],
        [
         "Facebook",
         "317",
         "18.11"
        ],
        [
         "Guía Dorada",
         "68",
         "3.89"
        ],
        [
         "TiendaNube",
         "35",
         "2.0"
        ],
        [
         "WhatsApp",
         "15",
         "0.86"
        ],
        [
         "Google Sites",
         "13",
         "0.74"
        ],
        [
         "Gurugo",
         "8",
         "0.46"
        ],
        [
         "MercadoShops",
         "8",
         "0.46"
        ],
        [
         "Región20",
         "5",
         "0.29"
        ],
        [
         "Mercado Libre",
         "3",
         "0.17"
        ],
        [
         "Páginas Amarillas",
         "2",
         "0.11"
        ],
        [
         "PedidosYa",
         "1",
         "0.06"
        ]
       ],
       "shape": {
        "columns": 2,
        "rows": 13
       }
      },
      "text/html": [
       "<div>\n",
       "<style scoped>\n",
       "    .dataframe tbody tr th:only-of-type {\n",
       "        vertical-align: middle;\n",
       "    }\n",
       "\n",
       "    .dataframe tbody tr th {\n",
       "        vertical-align: top;\n",
       "    }\n",
       "\n",
       "    .dataframe thead th {\n",
       "        text-align: right;\n",
       "    }\n",
       "</style>\n",
       "<table border=\"1\" class=\"dataframe\">\n",
       "  <thead>\n",
       "    <tr style=\"text-align: right;\">\n",
       "      <th></th>\n",
       "      <th>count</th>\n",
       "      <th>percentage</th>\n",
       "    </tr>\n",
       "  </thead>\n",
       "  <tbody>\n",
       "    <tr>\n",
       "      <th>Dominio propio</th>\n",
       "      <td>941</td>\n",
       "      <td>53.77</td>\n",
       "    </tr>\n",
       "    <tr>\n",
       "      <th>Instagram</th>\n",
       "      <td>337</td>\n",
       "      <td>19.26</td>\n",
       "    </tr>\n",
       "    <tr>\n",
       "      <th>Facebook</th>\n",
       "      <td>317</td>\n",
       "      <td>18.11</td>\n",
       "    </tr>\n",
       "    <tr>\n",
       "      <th>Guía Dorada</th>\n",
       "      <td>68</td>\n",
       "      <td>3.89</td>\n",
       "    </tr>\n",
       "    <tr>\n",
       "      <th>TiendaNube</th>\n",
       "      <td>35</td>\n",
       "      <td>2.00</td>\n",
       "    </tr>\n",
       "    <tr>\n",
       "      <th>WhatsApp</th>\n",
       "      <td>15</td>\n",
       "      <td>0.86</td>\n",
       "    </tr>\n",
       "    <tr>\n",
       "      <th>Google Sites</th>\n",
       "      <td>13</td>\n",
       "      <td>0.74</td>\n",
       "    </tr>\n",
       "    <tr>\n",
       "      <th>Gurugo</th>\n",
       "      <td>8</td>\n",
       "      <td>0.46</td>\n",
       "    </tr>\n",
       "    <tr>\n",
       "      <th>MercadoShops</th>\n",
       "      <td>8</td>\n",
       "      <td>0.46</td>\n",
       "    </tr>\n",
       "    <tr>\n",
       "      <th>Región20</th>\n",
       "      <td>5</td>\n",
       "      <td>0.29</td>\n",
       "    </tr>\n",
       "    <tr>\n",
       "      <th>Mercado Libre</th>\n",
       "      <td>3</td>\n",
       "      <td>0.17</td>\n",
       "    </tr>\n",
       "    <tr>\n",
       "      <th>Páginas Amarillas</th>\n",
       "      <td>2</td>\n",
       "      <td>0.11</td>\n",
       "    </tr>\n",
       "    <tr>\n",
       "      <th>PedidosYa</th>\n",
       "      <td>1</td>\n",
       "      <td>0.06</td>\n",
       "    </tr>\n",
       "  </tbody>\n",
       "</table>\n",
       "</div>"
      ],
      "text/plain": [
       "                   count  percentage\n",
       "Dominio propio       941       53.77\n",
       "Instagram            337       19.26\n",
       "Facebook             317       18.11\n",
       "Guía Dorada           68        3.89\n",
       "TiendaNube            35        2.00\n",
       "WhatsApp              15        0.86\n",
       "Google Sites          13        0.74\n",
       "Gurugo                 8        0.46\n",
       "MercadoShops           8        0.46\n",
       "Región20               5        0.29\n",
       "Mercado Libre          3        0.17\n",
       "Páginas Amarillas      2        0.11\n",
       "PedidosYa              1        0.06"
      ]
     },
     "execution_count": 106,
     "metadata": {},
     "output_type": "execute_result"
    }
   ],
   "source": [
    "# Diccionario: palabra a buscar\n",
    "words_dict = {\n",
    "    'facebook': 'Facebook',\n",
    "    'instagram': 'Instagram',\n",
    "    'mercadolibre': 'Mercado Libre',\n",
    "    'mercadoshops': 'MercadoShops',\n",
    "    'tiendanube': 'TiendaNube',\n",
    "    'paginasamarillas': 'Páginas Amarillas',\n",
    "    'guia-dorada': 'Guía Dorada',\n",
    "    'gurugo': 'Gurugo',\n",
    "    'wa.me': 'WhatsApp',\n",
    "    'sites.google.': 'Google Sites',\n",
    "    'pedidosya': 'PedidosYa',\n",
    "    'region20': 'Región20'\n",
    "}\n",
    "# Conteo por cada palabra\n",
    "result = pd.Series({\n",
    "    label: df['website'].str.contains(word, case=False, na=False).sum()\n",
    "    for word, label in words_dict.items()\n",
    "})\n",
    "\n",
    "# Agregar dominios propios\n",
    "result[\"Dominio propio\"] = dominio_Propio\n",
    "\n",
    "# Tabla final con porcentajes\n",
    "result_df = pd.DataFrame({\n",
    "    \"count\": result,\n",
    "    \"percentage\": (result / webs * 100).round(2)\n",
    "}).sort_values(\"count\", ascending=False)\n",
    "result_df"
   ]
  },
  {
   "cell_type": "code",
   "execution_count": 107,
   "id": "c8dc259b",
   "metadata": {},
   "outputs": [
    {
     "data": {
      "image/png": "[encoded data removed]",
      "text/plain": [
       "<Figure size 1200x700 with 1 Axes>"
      ]
     },
     "metadata": {},
     "output_type": "display_data"
    }
   ],
   "source": [
    "result_df_filtered = result_df[result_df[\"count\"] > 10]\n",
    "# Invertir orden para que mayor cantidad esté arriba\n",
    "df_sorted = result_df_filtered.iloc[::-1]\n",
    "\n",
    "fig, ax = plt.subplots(figsize=(12, 7), facecolor='white')\n",
    "\n",
    "# Gráfico de barras horizontales\n",
    "bars = ax.barh(df_sorted.index, df_sorted[\"count\"], color='#5DADE2', \n",
    "               edgecolor='white', linewidth=2, alpha=0.85, height=0.6)\n",
    "\n",
    "# Títulos\n",
    "ax.text(0.5, 1.08, 'Análisis de Presencia Digital por Categoría Comercial', \n",
    "        transform=ax.transAxes, fontsize=12, ha='center', va='bottom', fontweight='bold', alpha=0.8)\n",
    "ax.text(0.5, 1.04, 'Sitios Web • Marketplaces • E-commerce • Redes Sociales • Directorios Digitales', \n",
    "        transform=ax.transAxes, fontsize=10, ha='center', va='bottom', alpha=0.7, style='italic')\n",
    "\n",
    "# Etiquetas en barras\n",
    "for bar in bars:\n",
    "    width = bar.get_width()\n",
    "    ax.annotate(f'{int(width)}', xy=(width, bar.get_y() + bar.get_height()/2), \n",
    "                xytext=(5, 0), textcoords=\"offset points\", ha='left', va='center', \n",
    "                fontweight='bold', fontsize=10, color='white',\n",
    "                bbox=dict(boxstyle=\"round,pad=0.2\", facecolor='black', alpha=0.6))\n",
    "\n",
    "# Configuración de ejes y grid\n",
    "ax.set(xlabel=\"Cantidad de Negocios\", ylabel=\"Plataformas\")\n",
    "ax.set_xlabel(\"Cantidad de Negocios\", fontsize=14, fontweight='bold', labelpad=15)\n",
    "ax.set_ylabel(\"Plataformas\", fontsize=14, fontweight='bold', labelpad=15)\n",
    "ax.xaxis.grid(True, linestyle='--', alpha=0.9, color=\"#646363\", linewidth=1)\n",
    "ax.set_axisbelow(True)\n",
    "\n",
    "# Limpieza de bordes y formato\n",
    "for spine in ['top', 'right']: ax.spines[spine].set_visible(False)\n",
    "ax.tick_params(axis='both', which='major', labelsize=10, colors='#2C3E50')\n",
    "plt.tight_layout(); plt.show()"
   ]
  },
  {
   "cell_type": "markdown",
   "id": "8fcb3133",
   "metadata": {},
   "source": [
    "<div style=\"font-family: 'JetBrains Mono', monospace; font-size: 14px; color: #e2dbdbff; line-height: 1.6;\">\n",
    "\n",
    "#### 💡 Preferencia de Plataforma Digital\n",
    "\n",
    "La presencia digital está altamente polarizada. Comercios con **Dominio Propio** (impulsados por cadenas nacionales) lideran con: **(53,77)**, seguidos por Redes Sociales siendo las predominantes :**Instagram (19,26%) y Facebook (18,11%)** . Es notorio que otas plataformas tienen una presencia casi nula, lo que podría indicar que el tipo de negocio analizado es principalmente B2C (Business to Consumer) y enfocado en interacción visual.\n",
    "\n",
    "</div>\n"
   ]
  },
  {
   "cell_type": "code",
   "execution_count": 88,
   "id": "b5638660",
   "metadata": {},
   "outputs": [
    {
     "data": {
      "application/vnd.microsoft.datawrangler.viewer.v0+json": {
       "columns": [
        {
         "name": "city",
         "rawType": "object",
         "type": "string"
        },
        {
         "name": "total_registros",
         "rawType": "int64",
         "type": "integer"
        },
        {
         "name": "Incomplete",
         "rawType": "int64",
         "type": "integer"
        },
        {
         "name": "complete",
         "rawType": "int64",
         "type": "integer"
        },
        {
         "name": "complete_pct",
         "rawType": "float64",
         "type": "float"
        },
        {
         "name": "Incomplete_pct",
         "rawType": "float64",
         "type": "float"
        }
       ],
       "ref": "122c34ee-8d0e-412b-8f41-e97f6ed410b7",
       "rows": [
        [
         "Tandil",
         "2409",
         "1560",
         "849",
         "35.24",
         "64.76"
        ],
        [
         "Olavarría",
         "1494",
         "997",
         "497",
         "33.27",
         "66.73"
        ],
        [
         "Azul",
         "1274",
         "994",
         "280",
         "21.98",
         "78.02"
        ],
        [
         "Benito Juárez",
         "351",
         "287",
         "64",
         "18.23",
         "81.77"
        ],
        [
         "Rauch",
         "331",
         "271",
         "60",
         "18.13",
         "81.87"
        ]
       ],
       "shape": {
        "columns": 5,
        "rows": 5
       }
      },
      "text/html": [
       "<div>\n",
       "<style scoped>\n",
       "    .dataframe tbody tr th:only-of-type {\n",
       "        vertical-align: middle;\n",
       "    }\n",
       "\n",
       "    .dataframe tbody tr th {\n",
       "        vertical-align: top;\n",
       "    }\n",
       "\n",
       "    .dataframe thead th {\n",
       "        text-align: right;\n",
       "    }\n",
       "</style>\n",
       "<table border=\"1\" class=\"dataframe\">\n",
       "  <thead>\n",
       "    <tr style=\"text-align: right;\">\n",
       "      <th></th>\n",
       "      <th>total_registros</th>\n",
       "      <th>Incomplete</th>\n",
       "      <th>complete</th>\n",
       "      <th>complete_pct</th>\n",
       "      <th>Incomplete_pct</th>\n",
       "    </tr>\n",
       "    <tr>\n",
       "      <th>city</th>\n",
       "      <th></th>\n",
       "      <th></th>\n",
       "      <th></th>\n",
       "      <th></th>\n",
       "      <th></th>\n",
       "    </tr>\n",
       "  </thead>\n",
       "  <tbody>\n",
       "    <tr>\n",
       "      <th>Tandil</th>\n",
       "      <td>2409</td>\n",
       "      <td>1560</td>\n",
       "      <td>849</td>\n",
       "      <td>35.24</td>\n",
       "      <td>64.76</td>\n",
       "    </tr>\n",
       "    <tr>\n",
       "      <th>Olavarría</th>\n",
       "      <td>1494</td>\n",
       "      <td>997</td>\n",
       "      <td>497</td>\n",
       "      <td>33.27</td>\n",
       "      <td>66.73</td>\n",
       "    </tr>\n",
       "    <tr>\n",
       "      <th>Azul</th>\n",
       "      <td>1274</td>\n",
       "      <td>994</td>\n",
       "      <td>280</td>\n",
       "      <td>21.98</td>\n",
       "      <td>78.02</td>\n",
       "    </tr>\n",
       "    <tr>\n",
       "      <th>Benito Juárez</th>\n",
       "      <td>351</td>\n",
       "      <td>287</td>\n",
       "      <td>64</td>\n",
       "      <td>18.23</td>\n",
       "      <td>81.77</td>\n",
       "    </tr>\n",
       "    <tr>\n",
       "      <th>Rauch</th>\n",
       "      <td>331</td>\n",
       "      <td>271</td>\n",
       "      <td>60</td>\n",
       "      <td>18.13</td>\n",
       "      <td>81.87</td>\n",
       "    </tr>\n",
       "  </tbody>\n",
       "</table>\n",
       "</div>"
      ],
      "text/plain": [
       "               total_registros  Incomplete  complete  complete_pct  \\\n",
       "city                                                                 \n",
       "Tandil                    2409        1560       849         35.24   \n",
       "Olavarría                 1494         997       497         33.27   \n",
       "Azul                      1274         994       280         21.98   \n",
       "Benito Juárez              351         287        64         18.23   \n",
       "Rauch                      331         271        60         18.13   \n",
       "\n",
       "               Incomplete_pct  \n",
       "city                           \n",
       "Tandil                  64.76  \n",
       "Olavarría               66.73  \n",
       "Azul                    78.02  \n",
       "Benito Juárez           81.77  \n",
       "Rauch                   81.87  "
      ]
     },
     "execution_count": 88,
     "metadata": {},
     "output_type": "execute_result"
    }
   ],
   "source": [
    "# Calcular métricas base por ciudad\n",
    "total_registros = df.groupby('city').size()\n",
    "registros_incomplete = df[df['website'].str.contains('Incomplete', case=False, na=False)].groupby('city').size()\n",
    "\n",
    "# Crear tabla resumen\n",
    "resumen = pd.DataFrame({\n",
    "    'total_registros': total_registros,\n",
    "    'Incomplete': registros_incomplete\n",
    "}).fillna(0)\n",
    "\n",
    "# Calcular métricas derivadas\n",
    "resumen['complete'] = resumen['total_registros'] - resumen['Incomplete']\n",
    "resumen['complete_pct'] = (resumen['complete'] / resumen['total_registros'] * 100).round(2)\n",
    "resumen['Incomplete_pct'] = (resumen['Incomplete'] / resumen['total_registros'] * 100).round(2)\n",
    "\n",
    "# Ordenar por total de registros\n",
    "resumen = resumen.sort_values('total_registros', ascending=False)\n",
    "resumen"
   ]
  },
  {
   "cell_type": "code",
   "execution_count": 89,
   "id": "cb2c2774",
   "metadata": {},
   "outputs": [
    {
     "name": "stdout",
     "output_type": "stream",
     "text": [
      "Promedio general de presencia web: 25.37%\n"
     ]
    }
   ],
   "source": [
    "# Promedio general de presencia web\n",
    "avg_General = resumen['complete_pct'].mean().round(2)\n",
    "print(f\"Promedio general de presencia web: {avg_General}%\")"
   ]
  },
  {
   "cell_type": "code",
   "execution_count": 98,
   "id": "4aeb9611",
   "metadata": {},
   "outputs": [
    {
     "data": {
      "image/png": "[encoded data removed]",
      "text/plain": [
       "<Figure size 1200x700 with 1 Axes>"
      ]
     },
     "metadata": {},
     "output_type": "display_data"
    }
   ],
   "source": [
    "fig, ax = plt.subplots(figsize=(12, 7), facecolor='white')\n",
    "ax = resumen[['complete_pct', 'Incomplete_pct']].plot(\n",
    "    kind='bar', stacked=True, ax=ax, color=[\"#798C99\", '#5DADE2'], \n",
    "    width=0.6, edgecolor='white', linewidth=2, alpha=0.85\n",
    ")\n",
    "\n",
    "# Títulos y configuración\n",
    "fig.suptitle('Distribución de Presencia Online por Ciudad', fontsize=20, fontweight='bold', y=0.96)\n",
    "ax.text(0.5, 1.04, 'Porcentaje de negocios', transform=ax.transAxes, fontsize=12, ha='center', va='bottom', alpha=0.7)\n",
    "ax.set(ylabel='Porcentaje (%)', xlabel='Ciudades', ylim=(0, 100), yticks=range(0, 101, 20))\n",
    "ax.set_ylabel('Porcentaje (%)', fontsize=14, fontweight='bold', labelpad=15)\n",
    "ax.set_xlabel('Ciudades', fontsize=14, fontweight='bold', labelpad=15)\n",
    "\n",
    "\n",
    "# Leyenda \n",
    "ax.legend(['Tiene Website', 'Datos Incompletos'], loc='upper right', bbox_to_anchor=(1, 1), frameon=True, shadow=True, fancybox=True, fontsize=11, facecolor='white', edgecolor='#2C3E50', framealpha=0.9)\n",
    "\n",
    "# Etiquetas en barras y limpieza\n",
    "for c in ax.containers:\n",
    "    ax.bar_label(c, labels=[f'{w:.1f}%' if w > 5 else '' for w in c.datavalues], \n",
    "                label_type='center', color='white', fontweight='bold', fontsize=10,\n",
    "                bbox=dict(boxstyle=\"round,pad=0.2\", facecolor='black', alpha=0.6))\n",
    "                \n",
    "for spine in ['top', 'right']: ax.spines[spine].set_visible(False)\n",
    "ax.tick_params(axis='both', which='major', labelsize=10, colors=\"#131516\")\n",
    "plt.xticks(rotation=45 if len(resumen) > 8 else 0, ha='right' if len(resumen) > 8 else 'center', fontweight='bold', fontsize=10, color=\"#1E3144\")\n",
    "plt.tight_layout(); plt.show()"
   ]
  },
  {
   "cell_type": "code",
   "execution_count": 97,
   "id": "e7c5ea49",
   "metadata": {},
   "outputs": [
    {
     "data": {
      "application/vnd.microsoft.datawrangler.viewer.v0+json": {
       "columns": [
        {
         "name": "index",
         "rawType": "int64",
         "type": "integer"
        },
        {
         "name": "categoryName",
         "rawType": "object",
         "type": "string"
        },
        {
         "name": "website_count",
         "rawType": "int64",
         "type": "integer"
        },
        {
         "name": "percentage",
         "rawType": "float64",
         "type": "float"
        }
       ],
       "ref": "30e88f15-c3f4-4815-a5ad-c389cd4f3df4",
       "rows": [
        [
         "573",
         "Tienda De Ropa",
         "464",
         "7.92"
        ],
        [
         "444",
         "Tienda De Alimentación",
         "366",
         "6.25"
        ],
        [
         "90",
         "Comercio",
         "333",
         "5.68"
        ],
        [
         "14",
         "Agencia Inmobiliaria",
         "180",
         "3.07"
        ],
        [
         "230",
         "Incomplete",
         "142",
         "2.42"
        ],
        [
         "427",
         "Taller De Reparación De Automóviles",
         "141",
         "2.41"
        ],
        [
         "570",
         "Tienda De Repuestos Para Automóviles",
         "140",
         "2.39"
        ],
        [
         "578",
         "Tienda De Ropa De Mujer",
         "115",
         "1.96"
        ],
        [
         "538",
         "Tienda De Materiales Para La Construcción",
         "103",
         "1.76"
        ],
        [
         "40",
         "Carnicería",
         "101",
         "1.72"
        ],
        [
         "468",
         "Tienda De Artículos Para El Hogar",
         "97",
         "1.66"
        ],
        [
         "413",
         "Supermercado",
         "93",
         "1.59"
        ],
        [
         "276",
         "Panadería",
         "90",
         "1.54"
        ],
        [
         "102",
         "Concesionario De Automóviles",
         "83",
         "1.42"
        ],
        [
         "433",
         "Taller Mecánico",
         "81",
         "1.38"
        ],
        [
         "543",
         "Tienda De Muebles",
         "68",
         "1.16"
        ],
        [
         "84",
         "Club Deportivo",
         "66",
         "1.13"
        ],
        [
         "155",
         "Empresa Constructora",
         "66",
         "1.13"
        ],
        [
         "199",
         "Ferretería",
         "60",
         "1.02"
        ],
        [
         "203",
         "Frutería",
         "59",
         "1.01"
        ],
        [
         "245",
         "Kiosco",
         "57",
         "0.97"
        ],
        [
         "606",
         "Tienda General",
         "53",
         "0.9"
        ],
        [
         "197",
         "Farmacia",
         "48",
         "0.82"
        ],
        [
         "559",
         "Tienda De Pinturas",
         "47",
         "0.8"
        ],
        [
         "527",
         "Tienda De Informática",
         "46",
         "0.79"
        ],
        [
         "567",
         "Tienda De Regalos",
         "45",
         "0.77"
        ],
        [
         "248",
         "Librería",
         "43",
         "0.73"
        ],
        [
         "585",
         "Tienda De Ropa Infantil",
         "38",
         "0.65"
        ],
        [
         "220",
         "Heladería",
         "35",
         "0.6"
        ],
        [
         "511",
         "Tienda De Electrónica",
         "34",
         "0.58"
        ],
        [
         "549",
         "Tienda De Móviles",
         "34",
         "0.58"
        ],
        [
         "417",
         "Taller De Automóviles",
         "33",
         "0.56"
        ],
        [
         "550",
         "Tienda De Neumáticos",
         "33",
         "0.56"
        ],
        [
         "577",
         "Tienda De Ropa De Hombre",
         "31",
         "0.53"
        ],
        [
         "587",
         "Tienda De Ropa Para Bebés",
         "31",
         "0.53"
        ],
        [
         "15",
         "Agentes Inmobiliarios",
         "29",
         "0.49"
        ],
        [
         "37",
         "Cafetería",
         "28",
         "0.48"
        ],
        [
         "532",
         "Tienda De Lencería",
         "28",
         "0.48"
        ],
        [
         "611",
         "Urbanización",
         "28",
         "0.48"
        ],
        [
         "525",
         "Tienda De Herramientas",
         "28",
         "0.48"
        ],
        [
         "148",
         "Diseñador De Sitios Web",
         "26",
         "0.44"
        ],
        [
         "445",
         "Tienda De Alimentos Naturales",
         "26",
         "0.44"
        ],
        [
         "575",
         "Tienda De Ropa De Deportes",
         "26",
         "0.44"
        ],
        [
         "619",
         "Zapatería",
         "26",
         "0.44"
        ],
        [
         "312",
         "Proveedor De Materiales De Construcción",
         "25",
         "0.43"
        ],
        [
         "214",
         "Gasolinera",
         "22",
         "0.38"
        ],
        [
         "349",
         "Servicio De Cambio De Aceite",
         "22",
         "0.38"
        ],
        [
         "182",
         "Establecimiento De Venta De Madera",
         "21",
         "0.36"
        ],
        [
         "447",
         "Tienda De Alimentos Para Animales",
         "21",
         "0.36"
        ],
        [
         "300",
         "Polideportivo",
         "20",
         "0.34"
        ]
       ],
       "shape": {
        "columns": 3,
        "rows": 621
       }
      },
      "text/html": [
       "<div>\n",
       "<style scoped>\n",
       "    .dataframe tbody tr th:only-of-type {\n",
       "        vertical-align: middle;\n",
       "    }\n",
       "\n",
       "    .dataframe tbody tr th {\n",
       "        vertical-align: top;\n",
       "    }\n",
       "\n",
       "    .dataframe thead th {\n",
       "        text-align: right;\n",
       "    }\n",
       "</style>\n",
       "<table border=\"1\" class=\"dataframe\">\n",
       "  <thead>\n",
       "    <tr style=\"text-align: right;\">\n",
       "      <th></th>\n",
       "      <th>categoryName</th>\n",
       "      <th>website_count</th>\n",
       "      <th>percentage</th>\n",
       "    </tr>\n",
       "  </thead>\n",
       "  <tbody>\n",
       "    <tr>\n",
       "      <th>573</th>\n",
       "      <td>Tienda De Ropa</td>\n",
       "      <td>464</td>\n",
       "      <td>7.92</td>\n",
       "    </tr>\n",
       "    <tr>\n",
       "      <th>444</th>\n",
       "      <td>Tienda De Alimentación</td>\n",
       "      <td>366</td>\n",
       "      <td>6.25</td>\n",
       "    </tr>\n",
       "    <tr>\n",
       "      <th>90</th>\n",
       "      <td>Comercio</td>\n",
       "      <td>333</td>\n",
       "      <td>5.68</td>\n",
       "    </tr>\n",
       "    <tr>\n",
       "      <th>14</th>\n",
       "      <td>Agencia Inmobiliaria</td>\n",
       "      <td>180</td>\n",
       "      <td>3.07</td>\n",
       "    </tr>\n",
       "    <tr>\n",
       "      <th>230</th>\n",
       "      <td>Incomplete</td>\n",
       "      <td>142</td>\n",
       "      <td>2.42</td>\n",
       "    </tr>\n",
       "    <tr>\n",
       "      <th>...</th>\n",
       "      <td>...</td>\n",
       "      <td>...</td>\n",
       "      <td>...</td>\n",
       "    </tr>\n",
       "    <tr>\n",
       "      <th>579</th>\n",
       "      <td>Tienda De Ropa De Playa</td>\n",
       "      <td>1</td>\n",
       "      <td>0.02</td>\n",
       "    </tr>\n",
       "    <tr>\n",
       "      <th>11</th>\n",
       "      <td>Agencia De Subastas Inmobiliarias</td>\n",
       "      <td>1</td>\n",
       "      <td>0.02</td>\n",
       "    </tr>\n",
       "    <tr>\n",
       "      <th>7</th>\n",
       "      <td>Agencia De Publicidad</td>\n",
       "      <td>1</td>\n",
       "      <td>0.02</td>\n",
       "    </tr>\n",
       "    <tr>\n",
       "      <th>3</th>\n",
       "      <td>Agencia De Alquiler De Grúas</td>\n",
       "      <td>1</td>\n",
       "      <td>0.02</td>\n",
       "    </tr>\n",
       "    <tr>\n",
       "      <th>590</th>\n",
       "      <td>Tienda De Sellos De Caucho</td>\n",
       "      <td>1</td>\n",
       "      <td>0.02</td>\n",
       "    </tr>\n",
       "  </tbody>\n",
       "</table>\n",
       "<p>621 rows × 3 columns</p>\n",
       "</div>"
      ],
      "text/plain": [
       "                          categoryName  website_count  percentage\n",
       "573                     Tienda De Ropa            464        7.92\n",
       "444             Tienda De Alimentación            366        6.25\n",
       "90                            Comercio            333        5.68\n",
       "14                Agencia Inmobiliaria            180        3.07\n",
       "230                         Incomplete            142        2.42\n",
       "..                                 ...            ...         ...\n",
       "579            Tienda De Ropa De Playa              1        0.02\n",
       "11   Agencia De Subastas Inmobiliarias              1        0.02\n",
       "7                Agencia De Publicidad              1        0.02\n",
       "3         Agencia De Alquiler De Grúas              1        0.02\n",
       "590         Tienda De Sellos De Caucho              1        0.02\n",
       "\n",
       "[621 rows x 3 columns]"
      ]
     },
     "execution_count": 97,
     "metadata": {},
     "output_type": "execute_result"
    }
   ],
   "source": [
    "# Agrupar, contar, ordenar y calcular porcentaje\n",
    "category_counts = (\n",
    "    df\n",
    "    .groupby(['categoryName'])\n",
    "    .size()\n",
    "    .reset_index(name='website_count')\n",
    "    .sort_values(by='website_count', ascending=False)\n",
    ")\n",
    "\n",
    "# Agregar columna con porcentaje sobre el total\n",
    "category_counts['percentage'] = (\n",
    "    category_counts['website_count'] / category_counts['website_count'].sum() * 100\n",
    ").round(2)\n",
    "\n",
    "category_counts"
   ]
  },
  {
   "cell_type": "code",
   "execution_count": 105,
   "id": "8a6d62b5",
   "metadata": {},
   "outputs": [
    {
     "name": "stdout",
     "output_type": "stream",
     "text": [
      "Total de categorías distintas: 621\n"
     ]
    }
   ],
   "source": [
    "total_categorias = df['categoryName'].nunique()\n",
    "print(f\"Total de categorías distintas: {total_categorias}\")"
   ]
  },
  {
   "cell_type": "code",
   "execution_count": 92,
   "id": "077cf067",
   "metadata": {},
   "outputs": [
    {
     "data": {
      "image/png": "[encoded data removed]",
      "text/plain": [
       "<Figure size 1300x600 with 1 Axes>"
      ]
     },
     "metadata": {},
     "output_type": "display_data"
    }
   ],
   "source": [
    "# Tomar solo los 5 primeros\n",
    "top5 = category_counts.head(5)\n",
    "# Gráfico\n",
    "fig, ax = plt.subplots(figsize=(13, 6))\n",
    "bars = ax.barh(\n",
    "    top5['categoryName'],\n",
    "    top5['website_count'],\n",
    "    color=\"#5DADE2\",\n",
    "    label=\"Cantidad de websites\"\n",
    ")\n",
    "# Invertir para que el mayor quede arriba\n",
    "ax.invert_yaxis()\n",
    "# Título\n",
    "ax.set_title(\"Categorías con más presencia Online\", fontsize=12, fontweight=\"bold\")\n",
    "# Etiquetas en las barras\n",
    "for bar in bars:\n",
    "    width = bar.get_width()\n",
    "    ax.annotate(\n",
    "        f'{int(width)}',\n",
    "        xy=(width, bar.get_y() + bar.get_height()/2),\n",
    "        xytext=(5, 0),\n",
    "        textcoords=\"offset points\",\n",
    "        ha='left', va='center',\n",
    "        fontweight='bold', fontsize=10, color='white',\n",
    "        bbox=dict(boxstyle=\"round,pad=0.2\", facecolor='black', alpha=0.6)\n",
    "    )\n",
    "# Ajuste de diseño\n",
    "plt.tight_layout()\n",
    "plt.show()\n"
   ]
  },
  {
   "cell_type": "code",
   "execution_count": 93,
   "id": "a91972f6",
   "metadata": {},
   "outputs": [
    {
     "data": {
      "application/vnd.microsoft.datawrangler.viewer.v0+json": {
       "columns": [
        {
         "name": "totalScore",
         "rawType": "float64",
         "type": "float"
        },
        {
         "name": "count",
         "rawType": "int64",
         "type": "integer"
        }
       ],
       "ref": "4314bde7-0bba-4f0e-a852-74ec1244e50c",
       "rows": [
        [
         "0.0",
         "1395"
        ],
        [
         "5.0",
         "1206"
        ],
        [
         "4.5",
         "424"
        ],
        [
         "4.7",
         "403"
        ],
        [
         "4.6",
         "396"
        ],
        [
         "4.8",
         "376"
        ],
        [
         "4.4",
         "313"
        ],
        [
         "4.3",
         "268"
        ],
        [
         "4.9",
         "214"
        ],
        [
         "4.0",
         "198"
        ],
        [
         "4.2",
         "151"
        ],
        [
         "4.1",
         "114"
        ],
        [
         "3.0",
         "70"
        ],
        [
         "3.8",
         "59"
        ],
        [
         "3.7",
         "58"
        ],
        [
         "3.9",
         "39"
        ],
        [
         "1.0",
         "38"
        ],
        [
         "3.5",
         "25"
        ],
        [
         "2.0",
         "21"
        ],
        [
         "3.6",
         "20"
        ],
        [
         "3.3",
         "19"
        ],
        [
         "3.4",
         "12"
        ],
        [
         "2.3",
         "11"
        ],
        [
         "2.5",
         "5"
        ],
        [
         "3.1",
         "4"
        ],
        [
         "2.9",
         "3"
        ],
        [
         "2.7",
         "3"
        ],
        [
         "1.8",
         "2"
        ],
        [
         "1.9",
         "2"
        ],
        [
         "2.8",
         "2"
        ],
        [
         "3.2",
         "2"
        ],
        [
         "2.4",
         "1"
        ],
        [
         "1.5",
         "1"
        ],
        [
         "1.3",
         "1"
        ],
        [
         "2.6",
         "1"
        ],
        [
         "2.1",
         "1"
        ],
        [
         "1.7",
         "1"
        ]
       ],
       "shape": {
        "columns": 1,
        "rows": 37
       }
      },
      "text/plain": [
       "totalScore\n",
       "0.0    1395\n",
       "5.0    1206\n",
       "4.5     424\n",
       "4.7     403\n",
       "4.6     396\n",
       "4.8     376\n",
       "4.4     313\n",
       "4.3     268\n",
       "4.9     214\n",
       "4.0     198\n",
       "4.2     151\n",
       "4.1     114\n",
       "3.0      70\n",
       "3.8      59\n",
       "3.7      58\n",
       "3.9      39\n",
       "1.0      38\n",
       "3.5      25\n",
       "2.0      21\n",
       "3.6      20\n",
       "3.3      19\n",
       "3.4      12\n",
       "2.3      11\n",
       "2.5       5\n",
       "3.1       4\n",
       "2.9       3\n",
       "2.7       3\n",
       "1.8       2\n",
       "1.9       2\n",
       "2.8       2\n",
       "3.2       2\n",
       "2.4       1\n",
       "1.5       1\n",
       "1.3       1\n",
       "2.6       1\n",
       "2.1       1\n",
       "1.7       1\n",
       "Name: count, dtype: int64"
      ]
     },
     "execution_count": 93,
     "metadata": {},
     "output_type": "execute_result"
    }
   ],
   "source": [
    "# Muestra cuántas veces aparece cada puntaje total en el dataset, ordenado descendentemente\n",
    "df['totalScore'].value_counts().sort_values(ascending=False)"
   ]
  },
  {
   "cell_type": "code",
   "execution_count": 94,
   "id": "19ac1557",
   "metadata": {},
   "outputs": [
    {
     "data": {
      "image/png": "[encoded data removed]",
      "text/plain": [
       "<Figure size 1000x600 with 1 Axes>"
      ]
     },
     "metadata": {},
     "output_type": "display_data"
    },
    {
     "name": "stdout",
     "output_type": "stream",
     "text": [
      "📊 Estadísticas por categorías:\n",
      "🔹 Muy bueno (4 - 4.9): 2,659 negocios (45.4%)\n",
      "🔹 Sin calificar: 1,395 negocios (23.8%)\n",
      "🔹 Excelente (5): 1,206 negocios (20.6%)\n",
      "🔹 Bueno (3 - 4): 436 negocios (7.4%)\n",
      "🔹 Regular (2 - 3): 97 negocios (1.7%)\n",
      "🔹 Malo (1 - 2): 66 negocios (1.1%)\n"
     ]
    }
   ],
   "source": [
    "def categorize_score(score):\n",
    "    if score == 0: return \"Sin calificar\"\n",
    "    elif score <= 2: return \"Malo (1 - 2)\"\n",
    "    elif score <= 3: return \"Regular (2 - 3)\"\n",
    "    elif score <= 4: return \"Bueno (3 - 4)\"\n",
    "    elif score < 5: return \"Muy bueno (4 - 4.9)\"\n",
    "    else: return \"Excelente (5)\"\n",
    "df['score_category'] = df['totalScore'].apply(categorize_score)\n",
    "cat_counts = df['score_category'].value_counts()\n",
    "plt.figure(figsize=(10, 6), facecolor='white')\n",
    "bars = plt.bar(range(len(cat_counts)), cat_counts.values, color='#5DADE2', \n",
    "               alpha=0.85, edgecolor='white', linewidth=2)\n",
    "plt.title('Distribución de Puntajes de Calificación', fontsize=16, fontweight='bold', color='#2C3E50')\n",
    "plt.xticks(range(len(cat_counts)), cat_counts.index, rotation=45, ha='right')\n",
    "plt.ylabel('Cantidad de Negocios', fontsize=12, fontweight='bold', color='#2C3E50')\n",
    "\n",
    "# Etiquetas arriba de barras\n",
    "for bar in bars:\n",
    "    height = bar.get_height()\n",
    "    plt.annotate(f'{int(height)}', xy=(bar.get_x() + bar.get_width()/2, height),\n",
    "                xytext=(0, 5), textcoords=\"offset points\", ha='center', va='bottom',\n",
    "                fontweight='bold', fontsize=10, color='#2C3E50')\n",
    "\n",
    "plt.grid(True, alpha=0.3, axis='y', linestyle='--', color='gray')\n",
    "for spine in ['top', 'right']: plt.gca().spines[spine].set_visible(False)\n",
    "plt.tight_layout(); plt.show()\n",
    "print(\"📊 Estadísticas por categorías:\")\n",
    "for category, count in cat_counts.items():\n",
    "    print(f\"🔹 {category}: {count:,} negocios ({count/len(df)*100:.1f}%)\")"
   ]
  },
  {
   "cell_type": "markdown",
   "id": "7c807301",
   "metadata": {},
   "source": [
    "\n",
    "<div style=\"font-family: 'JetBrains Mono', monospace; font-size: 14px; color: #e2dbdbff; line-height: 1.6;\">\n",
    "\n",
    "#### 💡 Distribución de Puntuaciones (totalScore)\n",
    "\n",
    "La distribución de las puntuaciones está **sesgada a la izquierda (skewed left)**, lo que es común en las plataformas de rating y es una señal positiva. Esto indica que la **mayoría** de los negocios se concentra en el rango de **4.0 a 5.0**, reflejando una alta calidad percibida por el cliente.\n",
    "\n",
    "**Punto de Cuidado:** Aunque el puntaje es alto, el análisis debe controlar la variable `reviewsCount`, ya que un alto `totalScore` basado en muy pocos comentarios puede ser menos fiable.\n",
    "\n",
    "</div>"
   ]
  },
  {
   "cell_type": "markdown",
   "id": "ad5fd87b",
   "metadata": {},
   "source": [
    "<div style=\"font-family: 'JetBrains Mono', monospace; font-size: 14px; color: #e2dbdbff; line-height: 1.6;\">\n",
    "\n",
    "## 🚀 Conclusiones y Próximos Pasos\n",
    "\n",
    "El Análisis Exploratorio de Datos (EDA) ha revelado tendencias significativas en la digitalización y el rendimiento de los negocios.\n",
    "\n",
    "### Hallazgos Clave\n",
    "\n",
    "* **Dominio Sectorial y Oportunidad:** El mercado está concentrado en [Mencionar 2-3 Categorías Top], lo que exige a las empresas de estos rubros buscar ventajas competitivas, probablemente a través de la diferenciación digital.\n",
    "* **Aceptación Digital:** [X]% de los negocios tienen alguna forma de presencia digital, siendo Instagram y Facebook los canales principales. Esta es una **oportunidad de consultoría** para el [Y]% de negocios que aún no están digitalizados.\n",
    "* **Alta Calidad Percibida:** La distribución de `totalScore` está fuertemente sesgada hacia el extremo superior (4.0+), lo que indica una alta satisfacción general. Sin embargo, el análisis del `reviewsCount` muestra la necesidad de enfocar el análisis de calidad en negocios con un alto volumen de opiniones.\n",
    "* **(Si añadiste los gráficos nuevos):** Se encontró que [Mencionar el hallazgo del Box Plot, e.g., 'la presencia de un sitio web no garantiza un puntaje más alto, pero sí lo hace más consistente.']\n",
    "\n",
    "### Próximos Pasos (Future Work)\n",
    "\n",
    "Para un análisis más profundo y accionable, se recomienda:\n",
    "\n",
    "1.  **Análisis de Sentimiento:** Aplicar técnicas de NLP (Procesamiento del Lenguaje Natural) a los textos de las reseñas (`reviews`) para entender qué aspectos específicos (servicio, producto, precio) influyen positiva o negativamente en la puntuación.\n",
    "2.  **Análisis Geográfico:** Si hay datos de ubicación disponibles, visualizar las puntuaciones y la digitalización en un mapa para identificar *clusters* geográficos de alta o baja performance.\n",
    "3.  **Modelado Predictivo:** Utilizar las variables de presencia digital y categoría para entrenar un modelo de Machine Learning que prediga la probabilidad de que un nuevo negocio alcance una puntuación superior a 4.5.\n",
    "</div>\n"
   ]
  },
  {
   "cell_type": "markdown",
   "id": "d3fc8f66",
   "metadata": {},
   "source": []
  }
 ],
 "metadata": {
  "kernelspec": {
   "display_name": ".venv (3.13.7)",
   "language": "python",
   "name": "python3"
  },
  "language_info": {
   "codemirror_mode": {
    "name": "ipython",
    "version": 3
   },
   "file_extension": ".py",
   "mimetype": "text/x-python",
   "name": "python",
   "nbconvert_exporter": "python",
   "pygments_lexer": "ipython3",
   "version": "3.13.7"
  }
 },
 "nbformat": 4,
 "nbformat_minor": 5
}
