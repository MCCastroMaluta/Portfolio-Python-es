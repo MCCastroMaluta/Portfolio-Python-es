{
 "cells": [
  {
   "cell_type": "markdown",
   "id": "b2c756ae",
   "metadata": {},
   "source": [
    "<div style=\"font-family: 'JetBrains Mono', monospace; font-size: 14px; color: #e2dbdbff; line-height: 1.6;\">\n",
    "\n",
    "# 📊 Análisis de Digitalización Comercial Regional\n",
    "\n",
    "Este notebook presenta un análisis exploratorio sobre la presencia digital de comercios en distintas ciudades de la región.  \n",
    "Se parte de un dataset consolidado con información sobre ubicación, categoría comercial, sitio web y nivel de calificación.\n",
    "\n",
    "El objetivo es evaluar el grado de digitalización, identificar brechas informativas y detectar patrones de calidad percibida.\n",
    "\n",
    "**Aspectos analizados:**\n",
    "- Completitud de datos clave (`phone`, `street`, `website`)\n",
    "- Presencia web por ciudad y por categoría comercial\n",
    "- Distribución de plataformas digitales utilizadas\n",
    "- Análisis de puntajes de calificación y percepción de calidad\n",
    "\n",
    "> Este trabajo busca aportar una mirada clara y accionable sobre el estado actual de la digitalización comercial en la región.\n",
    "\n",
    "</div>"
   ]
  },
  {
   "cell_type": "code",
   "execution_count": 150,
   "id": "3d0d7487",
   "metadata": {},
   "outputs": [],
   "source": [
    "# Importa librerías para manipulación de datos (pandas, numpy) y visualización (matplotlib, seaborn).\n",
    "import pandas as pd\n",
    "import numpy as np\n",
    "import matplotlib.pyplot as plt\n",
    "import seaborn as sns\n",
    "import os\n",
    "# Crear carpeta si no existe\n",
    "os.makedirs(\"Images\", exist_ok=True)\n",
    "\n",
    "pd.set_option('display.max_columns', None) "
   ]
  },
  {
   "cell_type": "markdown",
   "id": "368b929c",
   "metadata": {},
   "source": [
    "<div style=\"font-family: 'JetBrains Mono', monospace; font-size: 14px; color: #e2dbdbff; line-height: 1.6;\">\n",
    "\n",
    "### 📥 Carga y exploración inicial del dataset\n",
    "\n",
    "Se carga el archivo `Regional.csv` que contiene los datos consolidados de comercios.  \n",
    "Luego se revisan dimensiones básicas del DataFrame para entender su estructura general.\n",
    "\n",
    "</div>"
   ]
  },
  {
   "cell_type": "code",
   "execution_count": 151,
   "id": "4cdeb340",
   "metadata": {},
   "outputs": [],
   "source": [
    "# Carga el DataFrame regional limpio desde el archivo CSV.\n",
    "df = pd.read_csv('../CleanData/Regional.csv')"
   ]
  },
  {
   "cell_type": "code",
   "execution_count": 152,
   "id": "2d47040a",
   "metadata": {},
   "outputs": [
    {
     "data": {
      "text/plain": [
       "(5859, 16)"
      ]
     },
     "execution_count": 152,
     "metadata": {},
     "output_type": "execute_result"
    }
   ],
   "source": [
    "# Muestra la cantidad de filas y columnas del DataFrame.\n",
    "df.shape"
   ]
  },
  {
   "cell_type": "code",
   "execution_count": 153,
   "id": "f4331b09",
   "metadata": {},
   "outputs": [
    {
     "data": {
      "text/plain": [
       "93744"
      ]
     },
     "execution_count": 153,
     "metadata": {},
     "output_type": "execute_result"
    }
   ],
   "source": [
    "# Muestra el número total de elementos (celdas) en el DataFrame.\n",
    "df.size"
   ]
  },
  {
   "cell_type": "markdown",
   "id": "398b5f81",
   "metadata": {},
   "source": [
    "<div style=\"font-family: 'JetBrains Mono', monospace; font-size: 14px; color: #e2dbdbff; line-height: 1.6;\">\n",
    "\n",
    "### 🧠 Revisión estructural del DataFrame\n",
    "\n",
    "Se utiliza `df.info()` para obtener una visión general del dataset:  \n",
    "columnas disponibles, tipos de datos, cantidad de valores no nulos y uso de memoria.  \n",
    "Esto permite detectar columnas incompletas o mal tipadas antes de avanzar con el análisis.\n",
    "\n",
    "</div>"
   ]
  },
  {
   "cell_type": "code",
   "execution_count": 154,
   "id": "4b8f2179",
   "metadata": {},
   "outputs": [
    {
     "name": "stdout",
     "output_type": "stream",
     "text": [
      "<class 'pandas.core.frame.DataFrame'>\n",
      "RangeIndex: 5859 entries, 0 to 5858\n",
      "Data columns (total 16 columns):\n",
      " #   Column        Non-Null Count  Dtype  \n",
      "---  ------        --------------  -----  \n",
      " 0   title         5859 non-null   object \n",
      " 1   categoryName  5717 non-null   object \n",
      " 2   website       1750 non-null   object \n",
      " 3   street        5535 non-null   object \n",
      " 4   phone         4198 non-null   object \n",
      " 5   city          5806 non-null   object \n",
      " 6   state         5818 non-null   object \n",
      " 7   location/lat  5859 non-null   float64\n",
      " 8   location/lng  5859 non-null   float64\n",
      " 9   totalScore    4464 non-null   float64\n",
      " 10  rank          5859 non-null   int64  \n",
      " 11  imageUrl      5674 non-null   object \n",
      " 12  imagesCount   5672 non-null   float64\n",
      " 13  reviewsCount  5859 non-null   int64  \n",
      " 14  scrapedAt     5859 non-null   object \n",
      " 15  searchString  5859 non-null   object \n",
      "dtypes: float64(4), int64(2), object(10)\n",
      "memory usage: 732.5+ KB\n"
     ]
    }
   ],
   "source": [
    "# Muestra estructura del DataFrame: columnas, tipos de datos, valores no nulos y uso de memoria.\n",
    "df.info()"
   ]
  },
  {
   "cell_type": "markdown",
   "id": "7081a605",
   "metadata": {},
   "source": [
    "<div style=\"font-family: 'JetBrains Mono', monospace; font-size: 14px; color: #e2dbdbff; line-height: 1.6;\">\n",
    "\n",
    "### 🧬 Tipos de datos por columna\n",
    "\n",
    "Se revisan los tipos de datos de cada columna con `df.dtypes` para identificar variables numéricas, categóricas y de texto.  \n",
    "Esto permite anticipar qué transformaciones o visualizaciones serán necesarias en el análisis exploratorio.\n",
    "\n",
    "</div>"
   ]
  },
  {
   "cell_type": "code",
   "execution_count": 155,
   "id": "b3e9ef85",
   "metadata": {},
   "outputs": [
    {
     "data": {
      "application/vnd.microsoft.datawrangler.viewer.v0+json": {
       "columns": [
        {
         "name": "index",
         "rawType": "object",
         "type": "string"
        },
        {
         "name": "0",
         "rawType": "object",
         "type": "unknown"
        }
       ],
       "ref": "05e65883-c9a3-4eee-b4ba-f1137f0964ff",
       "rows": [
        [
         "title",
         "object"
        ],
        [
         "categoryName",
         "object"
        ],
        [
         "website",
         "object"
        ],
        [
         "street",
         "object"
        ],
        [
         "phone",
         "object"
        ],
        [
         "city",
         "object"
        ],
        [
         "state",
         "object"
        ],
        [
         "location/lat",
         "float64"
        ],
        [
         "location/lng",
         "float64"
        ],
        [
         "totalScore",
         "float64"
        ],
        [
         "rank",
         "int64"
        ],
        [
         "imageUrl",
         "object"
        ],
        [
         "imagesCount",
         "float64"
        ],
        [
         "reviewsCount",
         "int64"
        ],
        [
         "scrapedAt",
         "object"
        ],
        [
         "searchString",
         "object"
        ]
       ],
       "shape": {
        "columns": 1,
        "rows": 16
       }
      },
      "text/plain": [
       "title            object\n",
       "categoryName     object\n",
       "website          object\n",
       "street           object\n",
       "phone            object\n",
       "city             object\n",
       "state            object\n",
       "location/lat    float64\n",
       "location/lng    float64\n",
       "totalScore      float64\n",
       "rank              int64\n",
       "imageUrl         object\n",
       "imagesCount     float64\n",
       "reviewsCount      int64\n",
       "scrapedAt        object\n",
       "searchString     object\n",
       "dtype: object"
      ]
     },
     "execution_count": 155,
     "metadata": {},
     "output_type": "execute_result"
    }
   ],
   "source": [
    "# Muestra los tipos de datos de cada columna para distinguir variables numéricas y categóricas.\n",
    "df.dtypes"
   ]
  },
  {
   "cell_type": "markdown",
   "id": "7e7da178",
   "metadata": {},
   "source": [
    "<div style=\"font-family: 'JetBrains Mono', monospace; font-size: 14px; color: #e2dbdbff; line-height: 1.6;\">\n",
    "\n",
    "### 🕒 Conversión de fechas para análisis temporal\n",
    "\n",
    "Se transforma la columna `scrapedAt` al formato `datetime`, eliminando la zona horaria.  \n",
    "Esto permite realizar comparaciones temporales futuras (por ejemplo, evolución de digitalización en próximos meses)  \n",
    "y facilita la visualización limpia de fechas en gráficos o tablas.\n",
    "\n",
    "</div>"
   ]
  },
  {
   "cell_type": "code",
   "execution_count": 156,
   "id": "cc02580f",
   "metadata": {},
   "outputs": [
    {
     "data": {
      "application/vnd.microsoft.datawrangler.viewer.v0+json": {
       "columns": [
        {
         "name": "index",
         "rawType": "int64",
         "type": "integer"
        },
        {
         "name": "scrapedAt",
         "rawType": "datetime64[ns]",
         "type": "datetime"
        }
       ],
       "ref": "ad2730a9-3393-417e-88c2-9cc0a0a037c5",
       "rows": [
        [
         "0",
         "2025-05-19 00:03:00"
        ],
        [
         "1",
         "2025-05-19 00:03:02"
        ],
        [
         "2",
         "2025-05-19 00:03:02"
        ],
        [
         "3",
         "2025-05-19 00:03:02"
        ],
        [
         "4",
         "2025-05-19 00:03:02"
        ],
        [
         "5",
         "2025-05-19 00:03:02"
        ],
        [
         "6",
         "2025-05-19 00:03:02"
        ],
        [
         "7",
         "2025-05-19 00:03:02"
        ],
        [
         "8",
         "2025-05-19 00:03:02"
        ],
        [
         "9",
         "2025-05-19 00:03:02"
        ],
        [
         "10",
         "2025-05-19 00:03:02"
        ],
        [
         "11",
         "2025-05-19 00:03:02"
        ],
        [
         "12",
         "2025-05-19 00:03:02"
        ],
        [
         "13",
         "2025-05-19 00:03:02"
        ],
        [
         "14",
         "2025-05-19 00:03:02"
        ],
        [
         "15",
         "2025-05-19 00:03:02"
        ],
        [
         "16",
         "2025-05-19 00:03:02"
        ],
        [
         "17",
         "2025-05-19 00:03:02"
        ],
        [
         "18",
         "2025-05-19 00:03:02"
        ],
        [
         "19",
         "2025-05-19 00:03:02"
        ],
        [
         "20",
         "2025-05-19 00:03:02"
        ],
        [
         "21",
         "2025-05-19 00:03:02"
        ],
        [
         "22",
         "2025-05-19 00:03:02"
        ],
        [
         "23",
         "2025-05-19 00:03:02"
        ],
        [
         "24",
         "2025-05-19 00:03:02"
        ],
        [
         "25",
         "2025-05-19 00:03:02"
        ],
        [
         "26",
         "2025-05-19 00:03:02"
        ],
        [
         "27",
         "2025-05-19 00:03:02"
        ],
        [
         "28",
         "2025-05-19 00:03:02"
        ],
        [
         "29",
         "2025-05-19 00:03:02"
        ],
        [
         "30",
         "2025-05-19 00:03:02"
        ],
        [
         "31",
         "2025-05-19 00:03:02"
        ],
        [
         "32",
         "2025-05-19 00:03:02"
        ],
        [
         "33",
         "2025-05-19 00:03:02"
        ],
        [
         "34",
         "2025-05-19 00:03:02"
        ],
        [
         "35",
         "2025-05-19 00:03:02"
        ],
        [
         "36",
         "2025-05-19 00:03:02"
        ],
        [
         "37",
         "2025-05-19 00:03:02"
        ],
        [
         "38",
         "2025-05-19 00:03:02"
        ],
        [
         "39",
         "2025-05-19 00:03:03"
        ],
        [
         "40",
         "2025-05-19 00:03:03"
        ],
        [
         "41",
         "2025-05-19 00:03:03"
        ],
        [
         "42",
         "2025-05-19 00:03:03"
        ],
        [
         "43",
         "2025-05-19 00:03:04"
        ],
        [
         "44",
         "2025-05-19 00:03:04"
        ],
        [
         "45",
         "2025-05-19 00:03:04"
        ],
        [
         "46",
         "2025-05-19 00:03:04"
        ],
        [
         "47",
         "2025-05-19 00:03:04"
        ],
        [
         "48",
         "2025-05-19 00:03:04"
        ],
        [
         "49",
         "2025-05-19 00:03:04"
        ]
       ],
       "shape": {
        "columns": 1,
        "rows": 5859
       }
      },
      "text/plain": [
       "0      2025-05-19 00:03:00\n",
       "1      2025-05-19 00:03:02\n",
       "2      2025-05-19 00:03:02\n",
       "3      2025-05-19 00:03:02\n",
       "4      2025-05-19 00:03:02\n",
       "               ...        \n",
       "5854   2025-07-30 15:10:41\n",
       "5855   2025-07-30 15:10:41\n",
       "5856   2025-07-30 15:10:56\n",
       "5857   2025-07-30 15:10:58\n",
       "5858   2025-07-30 15:10:59\n",
       "Name: scrapedAt, Length: 5859, dtype: datetime64[ns]"
      ]
     },
     "execution_count": 156,
     "metadata": {},
     "output_type": "execute_result"
    }
   ],
   "source": [
    "# Convierte la columna 'scrapedAt' a formato datetime sin zona horaria para análisis temporal.\n",
    "df['scrapedAt'] = pd.to_datetime(\n",
    "    df['scrapedAt'], \n",
    "    errors='coerce',  # Maneja fechas inválidas sin romper el código\n",
    "    utc=True          # Estandariza zona horaria para comparaciones\n",
    ").dt.floor('s').dt.tz_localize(None)  # Elimina timezone para visualización limpia\n",
    "df['scrapedAt']"
   ]
  },
  {
   "cell_type": "markdown",
   "id": "24c63009",
   "metadata": {},
   "source": [
    "<div style=\"font-family: 'JetBrains Mono', monospace; font-size: 14px; color: #e2dbdbff; line-height: 1.6;\">\n",
    "\n",
    "### 👀 Inspección visual de registros\n",
    "\n",
    "Se visualizan distintas partes del DataFrame para comprender su estructura y contenido:  \n",
    "- Las primeras filas permiten validar el orden y formato general.  \n",
    "- Las últimas filas pueden revelar registros recientes o inconsistencias.  \n",
    "- Una muestra aleatoria ayuda a detectar variedad en los datos y posibles outliers.\n",
    "\n",
    "</div>"
   ]
  },
  {
   "cell_type": "code",
   "execution_count": 157,
   "id": "165a7743",
   "metadata": {},
   "outputs": [
    {
     "data": {
      "application/vnd.microsoft.datawrangler.viewer.v0+json": {
       "columns": [
        {
         "name": "index",
         "rawType": "int64",
         "type": "integer"
        },
        {
         "name": "title",
         "rawType": "object",
         "type": "string"
        },
        {
         "name": "categoryName",
         "rawType": "object",
         "type": "string"
        },
        {
         "name": "website",
         "rawType": "object",
         "type": "unknown"
        },
        {
         "name": "street",
         "rawType": "object",
         "type": "unknown"
        },
        {
         "name": "phone",
         "rawType": "object",
         "type": "unknown"
        },
        {
         "name": "city",
         "rawType": "object",
         "type": "string"
        },
        {
         "name": "state",
         "rawType": "object",
         "type": "string"
        },
        {
         "name": "location/lat",
         "rawType": "float64",
         "type": "float"
        },
        {
         "name": "location/lng",
         "rawType": "float64",
         "type": "float"
        },
        {
         "name": "totalScore",
         "rawType": "float64",
         "type": "float"
        },
        {
         "name": "rank",
         "rawType": "int64",
         "type": "integer"
        },
        {
         "name": "imageUrl",
         "rawType": "object",
         "type": "unknown"
        },
        {
         "name": "imagesCount",
         "rawType": "float64",
         "type": "float"
        },
        {
         "name": "reviewsCount",
         "rawType": "int64",
         "type": "integer"
        },
        {
         "name": "scrapedAt",
         "rawType": "datetime64[ns]",
         "type": "datetime"
        },
        {
         "name": "searchString",
         "rawType": "object",
         "type": "string"
        }
       ],
       "ref": "85eb72df-14ca-49f4-b451-9b00a5aade30",
       "rows": [
        [
         "0",
         "La Casa De Los Trofeos",
         "Comercio",
         null,
         "Rivadavia 496",
         null,
         "Azul",
         "Provincia de Buenos Aires",
         "-36.7746611",
         "-59.8626234",
         null,
         "1",
         null,
         null,
         "0",
         "2025-05-19 00:03:00",
         "Comercio"
        ],
        [
         "1",
         "La Escoba Loca",
         "Tienda De Artículos Para El Hogar",
         null,
         "Colón Nte. 117",
         "+54 9 2281 50-2996",
         "Azul",
         "Provincia de Buenos Aires",
         "-36.7672813",
         "-59.851848",
         "4.8",
         "1",
         "https://lh3.googleusercontent.com/gps-cs-s/AC9h4nrQAaOmvZ2z1z4lvQMpA2KLuyQFp5o7mGWzDytv5YF0PQfwP7XAE6kj-TlUSNLzb_IKC7RiPbPlQmsIhl80ixI-u75r5xA2BufhbZirEShz8aLrep1Ejb9JV3W-W_GeTpQtjyyg=w408-h544-k-no",
         "44.0",
         "73",
         "2025-05-19 00:03:02",
         "Comercio"
        ],
        [
         "2",
         "Artículos Magali",
         "Tienda General",
         null,
         "Monseñor Caneva Nte. 160",
         "+54 9 2281 31-0611",
         "Azul",
         "Provincia de Buenos Aires",
         "-36.7743527",
         "-59.8418982",
         "4.3",
         "2",
         null,
         null,
         "12",
         "2025-05-19 00:03:02",
         "Comercio"
        ],
        [
         "3",
         "Autoservicio San Jorge",
         "Comercio",
         null,
         "Burgos Nte. 100",
         "+54 9 2281 42-3119",
         "Azul",
         "Provincia de Buenos Aires",
         "-36.7681448",
         "-59.8513049",
         "4.6",
         "3",
         "https://lh3.googleusercontent.com/p/AF1QipPV0VYkVvn3zfCgualFjP9POsmAYza7YT0ETBJ_=w426-h240-k-no",
         "6.0",
         "127",
         "2025-05-19 00:03:02",
         "Comercio"
        ],
        [
         "4",
         "Asociacion Latina De Exportacion Sa",
         "Comercio",
         null,
         "Julio Argentino Roca 846",
         "+54 9 2281 43-0338",
         "Azul",
         "Provincia de Buenos Aires",
         "-36.7850672",
         "-59.8592544",
         "3.3",
         "4",
         "https://streetviewpixels-pa.googleapis.com/v1/thumbnail?panoid=WQnGTmaSbHhcH7RNl-Hcog&cb_client=search.gws-prod.gps&w=408&h=240&yaw=50.672348&pitch=0&thumbfov=100",
         "1.0",
         "4",
         "2025-05-19 00:03:02",
         "Comercio"
        ],
        [
         "5",
         "Jaque Mate",
         "Comercio",
         null,
         "IAA, Colón 45",
         null,
         "Azul",
         "Provincia de Buenos Aires",
         "-36.7693194",
         "-59.8543425",
         "5.0",
         "5",
         "https://lh3.googleusercontent.com/gps-cs-s/AC9h4no-ld7lXWCQUeWg4z8HfT7KG8LKlNTrSojCgOveNXmNyGPhPmAgfMZt8grKiPZpTYfnxi6M8oAxEfSXFqXK7Ru88zRv-S4pUHxmGj8txK39YtlozKMcTZXJ0Uf6O2W3jX_sDb-T6f536iM=w408-h883-k-no",
         "11.0",
         "2",
         "2025-05-19 00:03:02",
         "Comercio"
        ],
        [
         "6",
         "Eco System Sa",
         "Comercio",
         null,
         "Av. Mujica",
         "+54 9 2281 43-0966",
         "Azul",
         "Provincia de Buenos Aires",
         "-36.7661061",
         "-59.8362925",
         "5.0",
         "6",
         "https://streetviewpixels-pa.googleapis.com/v1/thumbnail?panoid=uW1gIEYIb6eTk-GEEOD40A&cb_client=search.gws-prod.gps&w=408&h=240&yaw=133.1178&pitch=0&thumbfov=100",
         "1.0",
         "1",
         "2025-05-19 00:03:02",
         "Comercio"
        ],
        [
         "7",
         "Despensa Y Anexos Biyo",
         "Tienda De Alimentación",
         null,
         "Aldaz 451-499",
         "+54 9 2281 49-3233",
         "Azul",
         "Provincia de Buenos Aires",
         "-36.7645249",
         "-59.8461452",
         "4.5",
         "7",
         "https://streetviewpixels-pa.googleapis.com/v1/thumbnail?panoid=NxYDTV1c0W15YmWcWI15WA&cb_client=search.gws-prod.gps&w=408&h=240&yaw=253.79605&pitch=0&thumbfov=100",
         "2.0",
         "36",
         "2025-05-19 00:03:02",
         "Comercio"
        ],
        [
         "8",
         "El Trueque Azul",
         "Comercio",
         null,
         null,
         null,
         "Azul",
         "Provincia de Buenos Aires",
         "-36.7586679",
         "-59.8739276",
         "4.0",
         "8",
         "https://streetviewpixels-pa.googleapis.com/v1/thumbnail?panoid=rclGYuv_nGbWkHFrbcaQ7g&cb_client=search.gws-prod.gps&w=408&h=240&yaw=206.82645&pitch=0&thumbfov=100",
         "1.0",
         "10",
         "2025-05-19 00:03:02",
         "Comercio"
        ],
        [
         "9",
         "La Fiambreria",
         "Carnicería",
         null,
         "Necochea 74 B7300FVB",
         null,
         "Azul",
         "Provincia de Buenos Aires",
         "-36.7736897",
         "-59.8507104",
         null,
         "9",
         null,
         null,
         "0",
         "2025-05-19 00:03:02",
         "Comercio"
        ]
       ],
       "shape": {
        "columns": 16,
        "rows": 10
       }
      },
      "text/html": [
       "<div>\n",
       "<style scoped>\n",
       "    .dataframe tbody tr th:only-of-type {\n",
       "        vertical-align: middle;\n",
       "    }\n",
       "\n",
       "    .dataframe tbody tr th {\n",
       "        vertical-align: top;\n",
       "    }\n",
       "\n",
       "    .dataframe thead th {\n",
       "        text-align: right;\n",
       "    }\n",
       "</style>\n",
       "<table border=\"1\" class=\"dataframe\">\n",
       "  <thead>\n",
       "    <tr style=\"text-align: right;\">\n",
       "      <th></th>\n",
       "      <th>title</th>\n",
       "      <th>categoryName</th>\n",
       "      <th>website</th>\n",
       "      <th>street</th>\n",
       "      <th>phone</th>\n",
       "      <th>city</th>\n",
       "      <th>state</th>\n",
       "      <th>location/lat</th>\n",
       "      <th>location/lng</th>\n",
       "      <th>totalScore</th>\n",
       "      <th>rank</th>\n",
       "      <th>imageUrl</th>\n",
       "      <th>imagesCount</th>\n",
       "      <th>reviewsCount</th>\n",
       "      <th>scrapedAt</th>\n",
       "      <th>searchString</th>\n",
       "    </tr>\n",
       "  </thead>\n",
       "  <tbody>\n",
       "    <tr>\n",
       "      <th>0</th>\n",
       "      <td>La Casa De Los Trofeos</td>\n",
       "      <td>Comercio</td>\n",
       "      <td>NaN</td>\n",
       "      <td>Rivadavia 496</td>\n",
       "      <td>NaN</td>\n",
       "      <td>Azul</td>\n",
       "      <td>Provincia de Buenos Aires</td>\n",
       "      <td>-36.774661</td>\n",
       "      <td>-59.862623</td>\n",
       "      <td>NaN</td>\n",
       "      <td>1</td>\n",
       "      <td>NaN</td>\n",
       "      <td>NaN</td>\n",
       "      <td>0</td>\n",
       "      <td>2025-05-19 00:03:00</td>\n",
       "      <td>Comercio</td>\n",
       "    </tr>\n",
       "    <tr>\n",
       "      <th>1</th>\n",
       "      <td>La Escoba Loca</td>\n",
       "      <td>Tienda De Artículos Para El Hogar</td>\n",
       "      <td>NaN</td>\n",
       "      <td>Colón Nte. 117</td>\n",
       "      <td>+54 9 2281 50-2996</td>\n",
       "      <td>Azul</td>\n",
       "      <td>Provincia de Buenos Aires</td>\n",
       "      <td>-36.767281</td>\n",
       "      <td>-59.851848</td>\n",
       "      <td>4.8</td>\n",
       "      <td>1</td>\n",
       "      <td>https://lh3.googleusercontent.com/gps-cs-s/AC9...</td>\n",
       "      <td>44.0</td>\n",
       "      <td>73</td>\n",
       "      <td>2025-05-19 00:03:02</td>\n",
       "      <td>Comercio</td>\n",
       "    </tr>\n",
       "    <tr>\n",
       "      <th>2</th>\n",
       "      <td>Artículos Magali</td>\n",
       "      <td>Tienda General</td>\n",
       "      <td>NaN</td>\n",
       "      <td>Monseñor Caneva Nte. 160</td>\n",
       "      <td>+54 9 2281 31-0611</td>\n",
       "      <td>Azul</td>\n",
       "      <td>Provincia de Buenos Aires</td>\n",
       "      <td>-36.774353</td>\n",
       "      <td>-59.841898</td>\n",
       "      <td>4.3</td>\n",
       "      <td>2</td>\n",
       "      <td>NaN</td>\n",
       "      <td>NaN</td>\n",
       "      <td>12</td>\n",
       "      <td>2025-05-19 00:03:02</td>\n",
       "      <td>Comercio</td>\n",
       "    </tr>\n",
       "    <tr>\n",
       "      <th>3</th>\n",
       "      <td>Autoservicio San Jorge</td>\n",
       "      <td>Comercio</td>\n",
       "      <td>NaN</td>\n",
       "      <td>Burgos Nte. 100</td>\n",
       "      <td>+54 9 2281 42-3119</td>\n",
       "      <td>Azul</td>\n",
       "      <td>Provincia de Buenos Aires</td>\n",
       "      <td>-36.768145</td>\n",
       "      <td>-59.851305</td>\n",
       "      <td>4.6</td>\n",
       "      <td>3</td>\n",
       "      <td>https://lh3.googleusercontent.com/p/AF1QipPV0V...</td>\n",
       "      <td>6.0</td>\n",
       "      <td>127</td>\n",
       "      <td>2025-05-19 00:03:02</td>\n",
       "      <td>Comercio</td>\n",
       "    </tr>\n",
       "    <tr>\n",
       "      <th>4</th>\n",
       "      <td>Asociacion Latina De Exportacion Sa</td>\n",
       "      <td>Comercio</td>\n",
       "      <td>NaN</td>\n",
       "      <td>Julio Argentino Roca 846</td>\n",
       "      <td>+54 9 2281 43-0338</td>\n",
       "      <td>Azul</td>\n",
       "      <td>Provincia de Buenos Aires</td>\n",
       "      <td>-36.785067</td>\n",
       "      <td>-59.859254</td>\n",
       "      <td>3.3</td>\n",
       "      <td>4</td>\n",
       "      <td>https://streetviewpixels-pa.googleapis.com/v1/...</td>\n",
       "      <td>1.0</td>\n",
       "      <td>4</td>\n",
       "      <td>2025-05-19 00:03:02</td>\n",
       "      <td>Comercio</td>\n",
       "    </tr>\n",
       "    <tr>\n",
       "      <th>5</th>\n",
       "      <td>Jaque Mate</td>\n",
       "      <td>Comercio</td>\n",
       "      <td>NaN</td>\n",
       "      <td>IAA, Colón 45</td>\n",
       "      <td>NaN</td>\n",
       "      <td>Azul</td>\n",
       "      <td>Provincia de Buenos Aires</td>\n",
       "      <td>-36.769319</td>\n",
       "      <td>-59.854343</td>\n",
       "      <td>5.0</td>\n",
       "      <td>5</td>\n",
       "      <td>https://lh3.googleusercontent.com/gps-cs-s/AC9...</td>\n",
       "      <td>11.0</td>\n",
       "      <td>2</td>\n",
       "      <td>2025-05-19 00:03:02</td>\n",
       "      <td>Comercio</td>\n",
       "    </tr>\n",
       "    <tr>\n",
       "      <th>6</th>\n",
       "      <td>Eco System Sa</td>\n",
       "      <td>Comercio</td>\n",
       "      <td>NaN</td>\n",
       "      <td>Av. Mujica</td>\n",
       "      <td>+54 9 2281 43-0966</td>\n",
       "      <td>Azul</td>\n",
       "      <td>Provincia de Buenos Aires</td>\n",
       "      <td>-36.766106</td>\n",
       "      <td>-59.836292</td>\n",
       "      <td>5.0</td>\n",
       "      <td>6</td>\n",
       "      <td>https://streetviewpixels-pa.googleapis.com/v1/...</td>\n",
       "      <td>1.0</td>\n",
       "      <td>1</td>\n",
       "      <td>2025-05-19 00:03:02</td>\n",
       "      <td>Comercio</td>\n",
       "    </tr>\n",
       "    <tr>\n",
       "      <th>7</th>\n",
       "      <td>Despensa Y Anexos Biyo</td>\n",
       "      <td>Tienda De Alimentación</td>\n",
       "      <td>NaN</td>\n",
       "      <td>Aldaz 451-499</td>\n",
       "      <td>+54 9 2281 49-3233</td>\n",
       "      <td>Azul</td>\n",
       "      <td>Provincia de Buenos Aires</td>\n",
       "      <td>-36.764525</td>\n",
       "      <td>-59.846145</td>\n",
       "      <td>4.5</td>\n",
       "      <td>7</td>\n",
       "      <td>https://streetviewpixels-pa.googleapis.com/v1/...</td>\n",
       "      <td>2.0</td>\n",
       "      <td>36</td>\n",
       "      <td>2025-05-19 00:03:02</td>\n",
       "      <td>Comercio</td>\n",
       "    </tr>\n",
       "    <tr>\n",
       "      <th>8</th>\n",
       "      <td>El Trueque Azul</td>\n",
       "      <td>Comercio</td>\n",
       "      <td>NaN</td>\n",
       "      <td>NaN</td>\n",
       "      <td>NaN</td>\n",
       "      <td>Azul</td>\n",
       "      <td>Provincia de Buenos Aires</td>\n",
       "      <td>-36.758668</td>\n",
       "      <td>-59.873928</td>\n",
       "      <td>4.0</td>\n",
       "      <td>8</td>\n",
       "      <td>https://streetviewpixels-pa.googleapis.com/v1/...</td>\n",
       "      <td>1.0</td>\n",
       "      <td>10</td>\n",
       "      <td>2025-05-19 00:03:02</td>\n",
       "      <td>Comercio</td>\n",
       "    </tr>\n",
       "    <tr>\n",
       "      <th>9</th>\n",
       "      <td>La Fiambreria</td>\n",
       "      <td>Carnicería</td>\n",
       "      <td>NaN</td>\n",
       "      <td>Necochea 74 B7300FVB</td>\n",
       "      <td>NaN</td>\n",
       "      <td>Azul</td>\n",
       "      <td>Provincia de Buenos Aires</td>\n",
       "      <td>-36.773690</td>\n",
       "      <td>-59.850710</td>\n",
       "      <td>NaN</td>\n",
       "      <td>9</td>\n",
       "      <td>NaN</td>\n",
       "      <td>NaN</td>\n",
       "      <td>0</td>\n",
       "      <td>2025-05-19 00:03:02</td>\n",
       "      <td>Comercio</td>\n",
       "    </tr>\n",
       "  </tbody>\n",
       "</table>\n",
       "</div>"
      ],
      "text/plain": [
       "                                 title                       categoryName  \\\n",
       "0               La Casa De Los Trofeos                           Comercio   \n",
       "1                       La Escoba Loca  Tienda De Artículos Para El Hogar   \n",
       "2                     Artículos Magali                     Tienda General   \n",
       "3               Autoservicio San Jorge                           Comercio   \n",
       "4  Asociacion Latina De Exportacion Sa                           Comercio   \n",
       "5                           Jaque Mate                           Comercio   \n",
       "6                        Eco System Sa                           Comercio   \n",
       "7               Despensa Y Anexos Biyo             Tienda De Alimentación   \n",
       "8                      El Trueque Azul                           Comercio   \n",
       "9                        La Fiambreria                         Carnicería   \n",
       "\n",
       "  website                    street               phone  city  \\\n",
       "0     NaN             Rivadavia 496                 NaN  Azul   \n",
       "1     NaN            Colón Nte. 117  +54 9 2281 50-2996  Azul   \n",
       "2     NaN  Monseñor Caneva Nte. 160  +54 9 2281 31-0611  Azul   \n",
       "3     NaN           Burgos Nte. 100  +54 9 2281 42-3119  Azul   \n",
       "4     NaN  Julio Argentino Roca 846  +54 9 2281 43-0338  Azul   \n",
       "5     NaN             IAA, Colón 45                 NaN  Azul   \n",
       "6     NaN                Av. Mujica  +54 9 2281 43-0966  Azul   \n",
       "7     NaN             Aldaz 451-499  +54 9 2281 49-3233  Azul   \n",
       "8     NaN                       NaN                 NaN  Azul   \n",
       "9     NaN      Necochea 74 B7300FVB                 NaN  Azul   \n",
       "\n",
       "                       state  location/lat  location/lng  totalScore  rank  \\\n",
       "0  Provincia de Buenos Aires    -36.774661    -59.862623         NaN     1   \n",
       "1  Provincia de Buenos Aires    -36.767281    -59.851848         4.8     1   \n",
       "2  Provincia de Buenos Aires    -36.774353    -59.841898         4.3     2   \n",
       "3  Provincia de Buenos Aires    -36.768145    -59.851305         4.6     3   \n",
       "4  Provincia de Buenos Aires    -36.785067    -59.859254         3.3     4   \n",
       "5  Provincia de Buenos Aires    -36.769319    -59.854343         5.0     5   \n",
       "6  Provincia de Buenos Aires    -36.766106    -59.836292         5.0     6   \n",
       "7  Provincia de Buenos Aires    -36.764525    -59.846145         4.5     7   \n",
       "8  Provincia de Buenos Aires    -36.758668    -59.873928         4.0     8   \n",
       "9  Provincia de Buenos Aires    -36.773690    -59.850710         NaN     9   \n",
       "\n",
       "                                            imageUrl  imagesCount  \\\n",
       "0                                                NaN          NaN   \n",
       "1  https://lh3.googleusercontent.com/gps-cs-s/AC9...         44.0   \n",
       "2                                                NaN          NaN   \n",
       "3  https://lh3.googleusercontent.com/p/AF1QipPV0V...          6.0   \n",
       "4  https://streetviewpixels-pa.googleapis.com/v1/...          1.0   \n",
       "5  https://lh3.googleusercontent.com/gps-cs-s/AC9...         11.0   \n",
       "6  https://streetviewpixels-pa.googleapis.com/v1/...          1.0   \n",
       "7  https://streetviewpixels-pa.googleapis.com/v1/...          2.0   \n",
       "8  https://streetviewpixels-pa.googleapis.com/v1/...          1.0   \n",
       "9                                                NaN          NaN   \n",
       "\n",
       "   reviewsCount           scrapedAt searchString  \n",
       "0             0 2025-05-19 00:03:00     Comercio  \n",
       "1            73 2025-05-19 00:03:02     Comercio  \n",
       "2            12 2025-05-19 00:03:02     Comercio  \n",
       "3           127 2025-05-19 00:03:02     Comercio  \n",
       "4             4 2025-05-19 00:03:02     Comercio  \n",
       "5             2 2025-05-19 00:03:02     Comercio  \n",
       "6             1 2025-05-19 00:03:02     Comercio  \n",
       "7            36 2025-05-19 00:03:02     Comercio  \n",
       "8            10 2025-05-19 00:03:02     Comercio  \n",
       "9             0 2025-05-19 00:03:02     Comercio  "
      ]
     },
     "execution_count": 157,
     "metadata": {},
     "output_type": "execute_result"
    }
   ],
   "source": [
    "# Muestra las primeras 10 filas del DataFrame para revisar la estructura general.\n",
    "df.head(10)"
   ]
  },
  {
   "cell_type": "code",
   "execution_count": 158,
   "id": "2332fdd0",
   "metadata": {},
   "outputs": [
    {
     "data": {
      "application/vnd.microsoft.datawrangler.viewer.v0+json": {
       "columns": [
        {
         "name": "index",
         "rawType": "int64",
         "type": "integer"
        },
        {
         "name": "title",
         "rawType": "object",
         "type": "string"
        },
        {
         "name": "categoryName",
         "rawType": "object",
         "type": "string"
        },
        {
         "name": "website",
         "rawType": "object",
         "type": "unknown"
        },
        {
         "name": "street",
         "rawType": "object",
         "type": "unknown"
        },
        {
         "name": "phone",
         "rawType": "object",
         "type": "unknown"
        },
        {
         "name": "city",
         "rawType": "object",
         "type": "string"
        },
        {
         "name": "state",
         "rawType": "object",
         "type": "string"
        },
        {
         "name": "location/lat",
         "rawType": "float64",
         "type": "float"
        },
        {
         "name": "location/lng",
         "rawType": "float64",
         "type": "float"
        },
        {
         "name": "totalScore",
         "rawType": "float64",
         "type": "float"
        },
        {
         "name": "rank",
         "rawType": "int64",
         "type": "integer"
        },
        {
         "name": "imageUrl",
         "rawType": "object",
         "type": "unknown"
        },
        {
         "name": "imagesCount",
         "rawType": "float64",
         "type": "float"
        },
        {
         "name": "reviewsCount",
         "rawType": "int64",
         "type": "integer"
        },
        {
         "name": "scrapedAt",
         "rawType": "datetime64[ns]",
         "type": "datetime"
        },
        {
         "name": "searchString",
         "rawType": "object",
         "type": "string"
        }
       ],
       "ref": "9fde1e08-c985-4cc5-93f0-10108957dbf1",
       "rows": [
        [
         "5849",
         "Polideportivo Municipal",
         "Escuela Deportiva",
         null,
         null,
         null,
         "Rauch",
         "Provincia de Buenos Aires",
         "-36.7702901",
         "-59.0998037",
         "5.0",
         "7",
         "https://lh3.googleusercontent.com/gps-cs-s/AC9h4noerQRfwKIHlmwTOvJV31R09OdzlGIC78fpRUauVxHgTSZ5BFGbPpCdeVzeSdvErraWKHAMKmbtQxusp898Dow-8zt0LNKZGcdpaItybQ8VQZPN9Sw7c4AovRlb1-1lhf5pQ0LAog=w408-h544-k-no",
         "2.0",
         "20",
         "2025-07-30 15:10:11",
         "Deportivo"
        ],
        [
         "5850",
         "Burbujas Lavandería",
         "Servicio De Lavandería",
         null,
         "Almte. Brown 254",
         "+54 9 249 448-5227",
         "Rauch",
         "Provincia de Buenos Aires",
         "-36.7805762",
         "-59.0886083",
         "5.0",
         "16",
         "https://lh3.googleusercontent.com/gps-cs-s/AC9h4nrY3CGd_WV6aQB8euPWKPoPMm0ZpUI0ZebpJDi1XfHUAiYZMyI1MthnE7aaP_OBVzhnXm66rgzIdQjZy42bMbuJnOmRoWNhPFoKEzlc0lDXmvlEFW7KWI3pXbrN_4h2hJZmTjIb=w533-h240-k-no",
         "7.0",
         "39",
         "2025-07-30 15:10:20",
         "Ropa"
        ],
        [
         "5851",
         "Bo. Jardín Empleados De Comercio",
         "Complejo De Viviendas",
         null,
         "Sin Nombre",
         null,
         "Rauch",
         "Provincia de Buenos Aires",
         "-36.7761257",
         "-59.0778009",
         "4.4",
         "25",
         null,
         null,
         "30",
         "2025-07-30 15:10:24",
         "Comercio"
        ],
        [
         "5852",
         "Taller Mecánico Juan Carlos Botta",
         "Taller Mecánico",
         null,
         "Azcuénaga 299-201",
         "+54 9 249 450-1086",
         "Rauch",
         "Provincia de Buenos Aires",
         "-36.7722445",
         "-59.0795924",
         null,
         "25",
         "https://streetviewpixels-pa.googleapis.com/v1/thumbnail?panoid=HO21QREPBW_es8WhXeCYYA&cb_client=search.gws-prod.gps&w=408&h=240&yaw=320.40582&pitch=0&thumbfov=100",
         "2.0",
         "0",
         "2025-07-30 15:10:27",
         "Vehiculos"
        ],
        [
         "5853",
         "Taller Mecanico Penedo",
         "Taller De Automóviles",
         null,
         "RP30 1400",
         "+54 9 249 434-5802",
         "Rauch",
         "Provincia de Buenos Aires",
         "-36.7635152",
         "-59.0890122",
         null,
         "30",
         "https://lh3.googleusercontent.com/gps-cs-s/AC9h4nrTLtDJnsOt3fTH_mEv89zMjY3PD7cFqKZVJv8YM_oi9RYb1tSrtWEtaOBeALWmZUODaq303vAGtDAxUV3N4phSEsinHnYjAi5nLc1K7A-5GZezqzBwVROxwwQeLoINulteIdWv=w408-h816-k-no",
         "7.0",
         "0",
         "2025-07-30 15:10:35",
         "Vehiculos"
        ],
        [
         "5854",
         "Cerrajeria Hugo",
         "Cerrajero",
         null,
         "Brandsen 1792",
         "+54 9 2297 44-2572",
         "Rauch",
         "Provincia de Buenos Aires",
         "-36.7719122",
         "-59.0896864",
         "4.6",
         "19",
         "https://lh3.googleusercontent.com/gps-cs-s/AC9h4noilSBYCPAXPbQk8XpxzrQR-cJYzW2jwM-MIxvzoJcmdPouftRPOvpcOp38K_PHDeuVrgyGcVMYqKiHbdhjR9ill7WckimQG9W0cf-9rq4ar1ONE86j6ko9bWdSzLLs1o6fSqGH=w408-h306-k-no",
         "3.0",
         "20",
         "2025-07-30 15:10:41",
         "Construccion"
        ],
        [
         "5855",
         "Signos Arte Grafico",
         "Servicios De Diseño",
         null,
         "Av. San Martín 920",
         "+54 9 249 469-4342",
         "Rauch",
         "Provincia de Buenos Aires",
         "-36.7728347",
         "-59.0862387",
         null,
         "16",
         "https://streetviewpixels-pa.googleapis.com/v1/thumbnail?panoid=vbBKdQclRq4eYvyPz5rxYQ&cb_client=search.gws-prod.gps&w=408&h=240&yaw=122.58526&pitch=0&thumbfov=100",
         "1.0",
         "0",
         "2025-07-30 15:10:41",
         "Construccion"
        ],
        [
         "5856",
         "Registro Nacional De La Propiedad Del Automotor",
         "Agencia De Registro De Automóviles",
         null,
         "Cnel. Suárez 86",
         "+54 9 2297 44-0468",
         "Rauch",
         "Provincia de Buenos Aires",
         "-36.7766367",
         "-59.089069",
         "4.4",
         "17",
         "https://streetviewpixels-pa.googleapis.com/v1/thumbnail?panoid=SdfcKzoi80QySIVCzb6C_A&cb_client=search.gws-prod.gps&w=408&h=240&yaw=35.724316&pitch=0&thumbfov=100",
         "1.0",
         "20",
         "2025-07-30 15:10:56",
         "Vehiculos"
        ],
        [
         "5857",
         "Carpintería Tedesco Hermanos",
         "Carpintero",
         null,
         "9 de Julio 145, B7203ABC",
         "+54 9 249 435-9904",
         "Rauch",
         "Provincia de Buenos Aires",
         "-36.7758918",
         "-59.0936775",
         null,
         "28",
         "https://streetviewpixels-pa.googleapis.com/v1/thumbnail?panoid=2L8c8yBuIx-1ZnAr7R6BVg&cb_client=search.gws-prod.gps&w=408&h=240&yaw=61.96242&pitch=0&thumbfov=100",
         "2.0",
         "0",
         "2025-07-30 15:10:58",
         "Construccion"
        ],
        [
         "5858",
         "Zapatería Tofi",
         "Zapatero",
         null,
         "Av. Gral. Paz",
         "+54 9 249 421-6088",
         "Rauch",
         "Provincia de Buenos Aires",
         "-36.7773762",
         "-59.0780092",
         "4.9",
         "29",
         "https://lh3.googleusercontent.com/gps-cs-s/AC9h4nqdzKPce2SBPm276i3_ZA-p2ISU6XerYKqE3IrOcRDhmS-PHbX8IVw8yYOwvKI54lBQNnvrG0n6qpGUCX-vYFynMDr_tmWUePDYZk15bBIBCO_0_DfERoAQf82FZ7NUdYu07qor=w408-h725-k-no",
         "3.0",
         "16",
         "2025-07-30 15:10:59",
         "Tienda"
        ]
       ],
       "shape": {
        "columns": 16,
        "rows": 10
       }
      },
      "text/html": [
       "<div>\n",
       "<style scoped>\n",
       "    .dataframe tbody tr th:only-of-type {\n",
       "        vertical-align: middle;\n",
       "    }\n",
       "\n",
       "    .dataframe tbody tr th {\n",
       "        vertical-align: top;\n",
       "    }\n",
       "\n",
       "    .dataframe thead th {\n",
       "        text-align: right;\n",
       "    }\n",
       "</style>\n",
       "<table border=\"1\" class=\"dataframe\">\n",
       "  <thead>\n",
       "    <tr style=\"text-align: right;\">\n",
       "      <th></th>\n",
       "      <th>title</th>\n",
       "      <th>categoryName</th>\n",
       "      <th>website</th>\n",
       "      <th>street</th>\n",
       "      <th>phone</th>\n",
       "      <th>city</th>\n",
       "      <th>state</th>\n",
       "      <th>location/lat</th>\n",
       "      <th>location/lng</th>\n",
       "      <th>totalScore</th>\n",
       "      <th>rank</th>\n",
       "      <th>imageUrl</th>\n",
       "      <th>imagesCount</th>\n",
       "      <th>reviewsCount</th>\n",
       "      <th>scrapedAt</th>\n",
       "      <th>searchString</th>\n",
       "    </tr>\n",
       "  </thead>\n",
       "  <tbody>\n",
       "    <tr>\n",
       "      <th>5849</th>\n",
       "      <td>Polideportivo Municipal</td>\n",
       "      <td>Escuela Deportiva</td>\n",
       "      <td>NaN</td>\n",
       "      <td>NaN</td>\n",
       "      <td>NaN</td>\n",
       "      <td>Rauch</td>\n",
       "      <td>Provincia de Buenos Aires</td>\n",
       "      <td>-36.770290</td>\n",
       "      <td>-59.099804</td>\n",
       "      <td>5.0</td>\n",
       "      <td>7</td>\n",
       "      <td>https://lh3.googleusercontent.com/gps-cs-s/AC9...</td>\n",
       "      <td>2.0</td>\n",
       "      <td>20</td>\n",
       "      <td>2025-07-30 15:10:11</td>\n",
       "      <td>Deportivo</td>\n",
       "    </tr>\n",
       "    <tr>\n",
       "      <th>5850</th>\n",
       "      <td>Burbujas Lavandería</td>\n",
       "      <td>Servicio De Lavandería</td>\n",
       "      <td>NaN</td>\n",
       "      <td>Almte. Brown 254</td>\n",
       "      <td>+54 9 249 448-5227</td>\n",
       "      <td>Rauch</td>\n",
       "      <td>Provincia de Buenos Aires</td>\n",
       "      <td>-36.780576</td>\n",
       "      <td>-59.088608</td>\n",
       "      <td>5.0</td>\n",
       "      <td>16</td>\n",
       "      <td>https://lh3.googleusercontent.com/gps-cs-s/AC9...</td>\n",
       "      <td>7.0</td>\n",
       "      <td>39</td>\n",
       "      <td>2025-07-30 15:10:20</td>\n",
       "      <td>Ropa</td>\n",
       "    </tr>\n",
       "    <tr>\n",
       "      <th>5851</th>\n",
       "      <td>Bo. Jardín Empleados De Comercio</td>\n",
       "      <td>Complejo De Viviendas</td>\n",
       "      <td>NaN</td>\n",
       "      <td>Sin Nombre</td>\n",
       "      <td>NaN</td>\n",
       "      <td>Rauch</td>\n",
       "      <td>Provincia de Buenos Aires</td>\n",
       "      <td>-36.776126</td>\n",
       "      <td>-59.077801</td>\n",
       "      <td>4.4</td>\n",
       "      <td>25</td>\n",
       "      <td>NaN</td>\n",
       "      <td>NaN</td>\n",
       "      <td>30</td>\n",
       "      <td>2025-07-30 15:10:24</td>\n",
       "      <td>Comercio</td>\n",
       "    </tr>\n",
       "    <tr>\n",
       "      <th>5852</th>\n",
       "      <td>Taller Mecánico Juan Carlos Botta</td>\n",
       "      <td>Taller Mecánico</td>\n",
       "      <td>NaN</td>\n",
       "      <td>Azcuénaga 299-201</td>\n",
       "      <td>+54 9 249 450-1086</td>\n",
       "      <td>Rauch</td>\n",
       "      <td>Provincia de Buenos Aires</td>\n",
       "      <td>-36.772244</td>\n",
       "      <td>-59.079592</td>\n",
       "      <td>NaN</td>\n",
       "      <td>25</td>\n",
       "      <td>https://streetviewpixels-pa.googleapis.com/v1/...</td>\n",
       "      <td>2.0</td>\n",
       "      <td>0</td>\n",
       "      <td>2025-07-30 15:10:27</td>\n",
       "      <td>Vehiculos</td>\n",
       "    </tr>\n",
       "    <tr>\n",
       "      <th>5853</th>\n",
       "      <td>Taller Mecanico Penedo</td>\n",
       "      <td>Taller De Automóviles</td>\n",
       "      <td>NaN</td>\n",
       "      <td>RP30 1400</td>\n",
       "      <td>+54 9 249 434-5802</td>\n",
       "      <td>Rauch</td>\n",
       "      <td>Provincia de Buenos Aires</td>\n",
       "      <td>-36.763515</td>\n",
       "      <td>-59.089012</td>\n",
       "      <td>NaN</td>\n",
       "      <td>30</td>\n",
       "      <td>https://lh3.googleusercontent.com/gps-cs-s/AC9...</td>\n",
       "      <td>7.0</td>\n",
       "      <td>0</td>\n",
       "      <td>2025-07-30 15:10:35</td>\n",
       "      <td>Vehiculos</td>\n",
       "    </tr>\n",
       "    <tr>\n",
       "      <th>5854</th>\n",
       "      <td>Cerrajeria Hugo</td>\n",
       "      <td>Cerrajero</td>\n",
       "      <td>NaN</td>\n",
       "      <td>Brandsen 1792</td>\n",
       "      <td>+54 9 2297 44-2572</td>\n",
       "      <td>Rauch</td>\n",
       "      <td>Provincia de Buenos Aires</td>\n",
       "      <td>-36.771912</td>\n",
       "      <td>-59.089686</td>\n",
       "      <td>4.6</td>\n",
       "      <td>19</td>\n",
       "      <td>https://lh3.googleusercontent.com/gps-cs-s/AC9...</td>\n",
       "      <td>3.0</td>\n",
       "      <td>20</td>\n",
       "      <td>2025-07-30 15:10:41</td>\n",
       "      <td>Construccion</td>\n",
       "    </tr>\n",
       "    <tr>\n",
       "      <th>5855</th>\n",
       "      <td>Signos Arte Grafico</td>\n",
       "      <td>Servicios De Diseño</td>\n",
       "      <td>NaN</td>\n",
       "      <td>Av. San Martín 920</td>\n",
       "      <td>+54 9 249 469-4342</td>\n",
       "      <td>Rauch</td>\n",
       "      <td>Provincia de Buenos Aires</td>\n",
       "      <td>-36.772835</td>\n",
       "      <td>-59.086239</td>\n",
       "      <td>NaN</td>\n",
       "      <td>16</td>\n",
       "      <td>https://streetviewpixels-pa.googleapis.com/v1/...</td>\n",
       "      <td>1.0</td>\n",
       "      <td>0</td>\n",
       "      <td>2025-07-30 15:10:41</td>\n",
       "      <td>Construccion</td>\n",
       "    </tr>\n",
       "    <tr>\n",
       "      <th>5856</th>\n",
       "      <td>Registro Nacional De La Propiedad Del Automotor</td>\n",
       "      <td>Agencia De Registro De Automóviles</td>\n",
       "      <td>NaN</td>\n",
       "      <td>Cnel. Suárez 86</td>\n",
       "      <td>+54 9 2297 44-0468</td>\n",
       "      <td>Rauch</td>\n",
       "      <td>Provincia de Buenos Aires</td>\n",
       "      <td>-36.776637</td>\n",
       "      <td>-59.089069</td>\n",
       "      <td>4.4</td>\n",
       "      <td>17</td>\n",
       "      <td>https://streetviewpixels-pa.googleapis.com/v1/...</td>\n",
       "      <td>1.0</td>\n",
       "      <td>20</td>\n",
       "      <td>2025-07-30 15:10:56</td>\n",
       "      <td>Vehiculos</td>\n",
       "    </tr>\n",
       "    <tr>\n",
       "      <th>5857</th>\n",
       "      <td>Carpintería Tedesco Hermanos</td>\n",
       "      <td>Carpintero</td>\n",
       "      <td>NaN</td>\n",
       "      <td>9 de Julio 145, B7203ABC</td>\n",
       "      <td>+54 9 249 435-9904</td>\n",
       "      <td>Rauch</td>\n",
       "      <td>Provincia de Buenos Aires</td>\n",
       "      <td>-36.775892</td>\n",
       "      <td>-59.093677</td>\n",
       "      <td>NaN</td>\n",
       "      <td>28</td>\n",
       "      <td>https://streetviewpixels-pa.googleapis.com/v1/...</td>\n",
       "      <td>2.0</td>\n",
       "      <td>0</td>\n",
       "      <td>2025-07-30 15:10:58</td>\n",
       "      <td>Construccion</td>\n",
       "    </tr>\n",
       "    <tr>\n",
       "      <th>5858</th>\n",
       "      <td>Zapatería Tofi</td>\n",
       "      <td>Zapatero</td>\n",
       "      <td>NaN</td>\n",
       "      <td>Av. Gral. Paz</td>\n",
       "      <td>+54 9 249 421-6088</td>\n",
       "      <td>Rauch</td>\n",
       "      <td>Provincia de Buenos Aires</td>\n",
       "      <td>-36.777376</td>\n",
       "      <td>-59.078009</td>\n",
       "      <td>4.9</td>\n",
       "      <td>29</td>\n",
       "      <td>https://lh3.googleusercontent.com/gps-cs-s/AC9...</td>\n",
       "      <td>3.0</td>\n",
       "      <td>16</td>\n",
       "      <td>2025-07-30 15:10:59</td>\n",
       "      <td>Tienda</td>\n",
       "    </tr>\n",
       "  </tbody>\n",
       "</table>\n",
       "</div>"
      ],
      "text/plain": [
       "                                                title  \\\n",
       "5849                          Polideportivo Municipal   \n",
       "5850                              Burbujas Lavandería   \n",
       "5851                 Bo. Jardín Empleados De Comercio   \n",
       "5852                Taller Mecánico Juan Carlos Botta   \n",
       "5853                           Taller Mecanico Penedo   \n",
       "5854                                  Cerrajeria Hugo   \n",
       "5855                              Signos Arte Grafico   \n",
       "5856  Registro Nacional De La Propiedad Del Automotor   \n",
       "5857                     Carpintería Tedesco Hermanos   \n",
       "5858                                   Zapatería Tofi   \n",
       "\n",
       "                            categoryName website                    street  \\\n",
       "5849                   Escuela Deportiva     NaN                       NaN   \n",
       "5850              Servicio De Lavandería     NaN          Almte. Brown 254   \n",
       "5851               Complejo De Viviendas     NaN                Sin Nombre   \n",
       "5852                     Taller Mecánico     NaN         Azcuénaga 299-201   \n",
       "5853               Taller De Automóviles     NaN                 RP30 1400   \n",
       "5854                           Cerrajero     NaN             Brandsen 1792   \n",
       "5855                 Servicios De Diseño     NaN        Av. San Martín 920   \n",
       "5856  Agencia De Registro De Automóviles     NaN           Cnel. Suárez 86   \n",
       "5857                          Carpintero     NaN  9 de Julio 145, B7203ABC   \n",
       "5858                            Zapatero     NaN             Av. Gral. Paz   \n",
       "\n",
       "                   phone   city                      state  location/lat  \\\n",
       "5849                 NaN  Rauch  Provincia de Buenos Aires    -36.770290   \n",
       "5850  +54 9 249 448-5227  Rauch  Provincia de Buenos Aires    -36.780576   \n",
       "5851                 NaN  Rauch  Provincia de Buenos Aires    -36.776126   \n",
       "5852  +54 9 249 450-1086  Rauch  Provincia de Buenos Aires    -36.772244   \n",
       "5853  +54 9 249 434-5802  Rauch  Provincia de Buenos Aires    -36.763515   \n",
       "5854  +54 9 2297 44-2572  Rauch  Provincia de Buenos Aires    -36.771912   \n",
       "5855  +54 9 249 469-4342  Rauch  Provincia de Buenos Aires    -36.772835   \n",
       "5856  +54 9 2297 44-0468  Rauch  Provincia de Buenos Aires    -36.776637   \n",
       "5857  +54 9 249 435-9904  Rauch  Provincia de Buenos Aires    -36.775892   \n",
       "5858  +54 9 249 421-6088  Rauch  Provincia de Buenos Aires    -36.777376   \n",
       "\n",
       "      location/lng  totalScore  rank  \\\n",
       "5849    -59.099804         5.0     7   \n",
       "5850    -59.088608         5.0    16   \n",
       "5851    -59.077801         4.4    25   \n",
       "5852    -59.079592         NaN    25   \n",
       "5853    -59.089012         NaN    30   \n",
       "5854    -59.089686         4.6    19   \n",
       "5855    -59.086239         NaN    16   \n",
       "5856    -59.089069         4.4    17   \n",
       "5857    -59.093677         NaN    28   \n",
       "5858    -59.078009         4.9    29   \n",
       "\n",
       "                                               imageUrl  imagesCount  \\\n",
       "5849  https://lh3.googleusercontent.com/gps-cs-s/AC9...          2.0   \n",
       "5850  https://lh3.googleusercontent.com/gps-cs-s/AC9...          7.0   \n",
       "5851                                                NaN          NaN   \n",
       "5852  https://streetviewpixels-pa.googleapis.com/v1/...          2.0   \n",
       "5853  https://lh3.googleusercontent.com/gps-cs-s/AC9...          7.0   \n",
       "5854  https://lh3.googleusercontent.com/gps-cs-s/AC9...          3.0   \n",
       "5855  https://streetviewpixels-pa.googleapis.com/v1/...          1.0   \n",
       "5856  https://streetviewpixels-pa.googleapis.com/v1/...          1.0   \n",
       "5857  https://streetviewpixels-pa.googleapis.com/v1/...          2.0   \n",
       "5858  https://lh3.googleusercontent.com/gps-cs-s/AC9...          3.0   \n",
       "\n",
       "      reviewsCount           scrapedAt  searchString  \n",
       "5849            20 2025-07-30 15:10:11     Deportivo  \n",
       "5850            39 2025-07-30 15:10:20          Ropa  \n",
       "5851            30 2025-07-30 15:10:24      Comercio  \n",
       "5852             0 2025-07-30 15:10:27     Vehiculos  \n",
       "5853             0 2025-07-30 15:10:35     Vehiculos  \n",
       "5854            20 2025-07-30 15:10:41  Construccion  \n",
       "5855             0 2025-07-30 15:10:41  Construccion  \n",
       "5856            20 2025-07-30 15:10:56     Vehiculos  \n",
       "5857             0 2025-07-30 15:10:58  Construccion  \n",
       "5858            16 2025-07-30 15:10:59        Tienda  "
      ]
     },
     "execution_count": 158,
     "metadata": {},
     "output_type": "execute_result"
    }
   ],
   "source": [
    "# Muestra las últimas 10 filas del DataFrame para detectar posibles patrones o registros recientes.\n",
    "df.tail(10)"
   ]
  },
  {
   "cell_type": "code",
   "execution_count": 159,
   "id": "c8ec38ba",
   "metadata": {},
   "outputs": [
    {
     "data": {
      "application/vnd.microsoft.datawrangler.viewer.v0+json": {
       "columns": [
        {
         "name": "index",
         "rawType": "int64",
         "type": "integer"
        },
        {
         "name": "title",
         "rawType": "object",
         "type": "string"
        },
        {
         "name": "categoryName",
         "rawType": "object",
         "type": "unknown"
        },
        {
         "name": "website",
         "rawType": "object",
         "type": "unknown"
        },
        {
         "name": "street",
         "rawType": "object",
         "type": "unknown"
        },
        {
         "name": "phone",
         "rawType": "object",
         "type": "unknown"
        },
        {
         "name": "city",
         "rawType": "object",
         "type": "string"
        },
        {
         "name": "state",
         "rawType": "object",
         "type": "string"
        },
        {
         "name": "location/lat",
         "rawType": "float64",
         "type": "float"
        },
        {
         "name": "location/lng",
         "rawType": "float64",
         "type": "float"
        },
        {
         "name": "totalScore",
         "rawType": "float64",
         "type": "float"
        },
        {
         "name": "rank",
         "rawType": "int64",
         "type": "integer"
        },
        {
         "name": "imageUrl",
         "rawType": "object",
         "type": "unknown"
        },
        {
         "name": "imagesCount",
         "rawType": "float64",
         "type": "float"
        },
        {
         "name": "reviewsCount",
         "rawType": "int64",
         "type": "integer"
        },
        {
         "name": "scrapedAt",
         "rawType": "datetime64[ns]",
         "type": "datetime"
        },
        {
         "name": "searchString",
         "rawType": "object",
         "type": "string"
        }
       ],
       "ref": "1cbd50ad-c3b8-45f4-af24-d233cfc06fc4",
       "rows": [
        [
         "3358",
         "Reynas",
         "Tienda De Ropa De Mujer",
         null,
         "Gral. Rodríguez 915",
         "+54 9 249 442-8361",
         "Tandil",
         "Provincia de Buenos Aires",
         "-37.3224825",
         "-59.1388186",
         null,
         "124",
         "https://lh3.googleusercontent.com/gps-proxy/ALd4DhG9x1-O_A8qaofg0joS97iwtjDuygxjaoE9JxSMOJkRBUrIgfvo4hsckhw2BW6rhrOunDlFDtdQtZLLnsUXUwheRESRiKBOHiZi9r6mYbKxscKx1_BjOTxxoQvRrZXs99LwJHtBAwapZ3rTRgE80AjPK6hSiRE4mN0nLz6MGyFuJYX71nI0Xx-eRJHGv6BZJnctHYc=w408-h306-k-no",
         "5.0",
         "0",
         "2025-06-11 18:02:06",
         "Comercio"
        ],
        [
         "2589",
         "Qregalo",
         null,
         null,
         "Pablo Fassina 6006",
         "+54 9 2284 68-5294",
         "Olavarría",
         "Provincia de Buenos Aires",
         "-36.903563",
         "-60.2826174",
         null,
         "11",
         null,
         null,
         "0",
         "2025-07-30 14:43:21",
         "Bazar"
        ],
        [
         "4521",
         "Repuestos Y Accesorios Ml Sports",
         "Tienda De Repuestos Para Automóviles",
         "https://www.guia-dorada.com.ar/guia/aviso-repuestos-y-accesorios-ml-sports-en-tandil-buenos-aires-25611.html",
         "Av. Monseñor Actis 1655",
         "+54 9 249 468-2970",
         "Tandil",
         "Provincia de Buenos Aires",
         "-37.3096879",
         "-59.1110633",
         null,
         "7",
         "https://lh3.googleusercontent.com/p/AF1QipMkZ88hc9vqztGF8wB3SxIEgXRknNe2-He2N4fn=w408-h306-k-no",
         "91.0",
         "0",
         "2025-05-29 00:17:30",
         "Online"
        ],
        [
         "4271",
         "Vujade",
         "Tienda De Ropa De Mujer",
         "http://www.vujade.com.ar/",
         "Roser, Martín Fierro 92",
         "+54 9 249 453-1680",
         "Tandil",
         "Provincia de Buenos Aires",
         "-37.3307676",
         "-59.1212115",
         "5.0",
         "34",
         "https://lh3.googleusercontent.com/p/AF1QipNfZVI_yyrJtGBXwjbZ1YHy6lpMieH1h_TfxkRa=w519-h240-k-no",
         "2.0",
         "2",
         "2025-05-29 00:15:56",
         "Ropa"
        ],
        [
         "1477",
         "Kiosko Y Almacén Díaz Rosana",
         "Tienda De Alimentación",
         null,
         "Club Atlético Pueblo Nuevo, Maipú 3198",
         "+54 9 2284 21-8567",
         "Olavarría",
         "Provincia de Buenos Aires",
         "-36.886627",
         "-60.324885",
         "5.0",
         "19",
         "https://lh3.googleusercontent.com/gps-proxy/ALd4DhGEPliq62MAkUjb13uy9g5LHIv8C4LSvsynd-fLRB6wgX12bIkc1lhm3DCLODtaf4XcVV1Ik2ORSPIknqN0OLUuc8qa6h7lmA3E1slA6HiEwCVGj_TezxxgumosYBEGx57MEcGxB6GYqp_M0mAI19H2VMI1BqUzzz2WEuFV2m1xtMGlS3VaJGWp3W6rQkvPyUKw-a0=w408-h306-k-no",
         "2.0",
         "3",
         "2025-06-15 23:32:11",
         "Tienda"
        ],
        [
         "2163",
         "Diesel Centro S.A.",
         "Tienda De Accesorios Para Camiones",
         "https://www.dieselcentrosa.com.ar/",
         "Av. del Valle 4054",
         "+54 9 2284 55-5487",
         "Olavarría",
         "Provincia de Buenos Aires",
         "-36.9064957",
         "-60.317136",
         "4.7",
         "50",
         "https://lh3.googleusercontent.com/gps-cs-s/AC9h4nrsM5XZG0jHSazLCHj8InntPr65Uozns3wcM3ibwftFogiwuQp35MY4jBgkjyt8aExhZl_OJjP8SG4I6FmjRlmgeRWxSEchSVSIkxjrR02gyZ_2Ct93wk-gmniZz2JMO4T_DhNR=w426-h240-k-no",
         "13.0",
         "121",
         "2025-07-30 14:43:03",
         "Repuestos"
        ],
        [
         "3079",
         "Heladería Iglú",
         "Heladería",
         null,
         "Av. Alsina 2",
         "+54 9 2292 45-1175",
         "Benito Juárez",
         "Provincia de Buenos Aires",
         "-37.6735134",
         "-59.8045283",
         "4.2",
         "173",
         "https://lh3.googleusercontent.com/gps-cs-s/AC9h4nqzKD1XUPKuno3bhJYF-rwhaVFztITR8szgtIkoS-YsKDLbtUfnSbF2mJZFp03X_DnI1krXNskDmsx1uMVVcCrmwib2fFEITTtnr6r7nqn8_Cm6sWGjYWsQjj9ONBq4kTYePBWu=w408-h306-k-no",
         "8.0",
         "42",
         "2025-07-30 15:23:02",
         "Comercio"
        ],
        [
         "5847",
         "Los Vascos Ferreteria",
         "Ferretería",
         null,
         null,
         null,
         "Rauch",
         "Provincia de Buenos Aires",
         "-36.7781448",
         "-59.0833164",
         null,
         "172",
         "https://streetviewpixels-pa.googleapis.com/v1/thumbnail?panoid=5bJUhU8FNU7OnygkOYhqng&cb_client=search.gws-prod.gps&w=408&h=240&yaw=27.242352&pitch=0&thumbfov=100",
         "1.0",
         "0",
         "2025-07-30 15:10:08",
         "Tienda"
        ],
        [
         "733",
         "Frenos Y Embragues El Mono Fashion",
         "Taller De Frenos",
         "https://www.gurugo.com.ar/fichas/frenos-y-embragues-el-mono-fashion_14234643",
         "Av. Piazza 1102",
         "+54 9 2281 42-3100",
         "Azul",
         "Provincia de Buenos Aires",
         "-36.7848963",
         "-59.8495152",
         "4.5",
         "86",
         "https://lh3.googleusercontent.com/p/AF1QipPvMofclxgxCFXIfrj6zRSS-YKHpWsYKwADhEsy=w426-h240-k-no",
         "44.0",
         "26",
         "2025-07-30 14:51:45",
         "Tienda"
        ],
        [
         "3187",
         "Estudio De Canto Y Venta De Instrumentos Musicales Usados",
         null,
         null,
         "Dinamarca 322",
         "+54 9 249 456-5480",
         "Tandil",
         "Provincia de Buenos Aires",
         "-37.3088705",
         "-59.1425972",
         "5.0",
         "2",
         "https://lh3.googleusercontent.com/p/AF1QipN3boFTBDyZP6I401Bpjc_ve9465DEd_v8not6X=w408-h885-k-no",
         "48.0",
         "3",
         "2025-06-11 18:01:55",
         "Venta"
        ]
       ],
       "shape": {
        "columns": 16,
        "rows": 10
       }
      },
      "text/html": [
       "<div>\n",
       "<style scoped>\n",
       "    .dataframe tbody tr th:only-of-type {\n",
       "        vertical-align: middle;\n",
       "    }\n",
       "\n",
       "    .dataframe tbody tr th {\n",
       "        vertical-align: top;\n",
       "    }\n",
       "\n",
       "    .dataframe thead th {\n",
       "        text-align: right;\n",
       "    }\n",
       "</style>\n",
       "<table border=\"1\" class=\"dataframe\">\n",
       "  <thead>\n",
       "    <tr style=\"text-align: right;\">\n",
       "      <th></th>\n",
       "      <th>title</th>\n",
       "      <th>categoryName</th>\n",
       "      <th>website</th>\n",
       "      <th>street</th>\n",
       "      <th>phone</th>\n",
       "      <th>city</th>\n",
       "      <th>state</th>\n",
       "      <th>location/lat</th>\n",
       "      <th>location/lng</th>\n",
       "      <th>totalScore</th>\n",
       "      <th>rank</th>\n",
       "      <th>imageUrl</th>\n",
       "      <th>imagesCount</th>\n",
       "      <th>reviewsCount</th>\n",
       "      <th>scrapedAt</th>\n",
       "      <th>searchString</th>\n",
       "    </tr>\n",
       "  </thead>\n",
       "  <tbody>\n",
       "    <tr>\n",
       "      <th>3358</th>\n",
       "      <td>Reynas</td>\n",
       "      <td>Tienda De Ropa De Mujer</td>\n",
       "      <td>NaN</td>\n",
       "      <td>Gral. Rodríguez 915</td>\n",
       "      <td>+54 9 249 442-8361</td>\n",
       "      <td>Tandil</td>\n",
       "      <td>Provincia de Buenos Aires</td>\n",
       "      <td>-37.322482</td>\n",
       "      <td>-59.138819</td>\n",
       "      <td>NaN</td>\n",
       "      <td>124</td>\n",
       "      <td>https://lh3.googleusercontent.com/gps-proxy/AL...</td>\n",
       "      <td>5.0</td>\n",
       "      <td>0</td>\n",
       "      <td>2025-06-11 18:02:06</td>\n",
       "      <td>Comercio</td>\n",
       "    </tr>\n",
       "    <tr>\n",
       "      <th>2589</th>\n",
       "      <td>Qregalo</td>\n",
       "      <td>NaN</td>\n",
       "      <td>NaN</td>\n",
       "      <td>Pablo Fassina 6006</td>\n",
       "      <td>+54 9 2284 68-5294</td>\n",
       "      <td>Olavarría</td>\n",
       "      <td>Provincia de Buenos Aires</td>\n",
       "      <td>-36.903563</td>\n",
       "      <td>-60.282617</td>\n",
       "      <td>NaN</td>\n",
       "      <td>11</td>\n",
       "      <td>NaN</td>\n",
       "      <td>NaN</td>\n",
       "      <td>0</td>\n",
       "      <td>2025-07-30 14:43:21</td>\n",
       "      <td>Bazar</td>\n",
       "    </tr>\n",
       "    <tr>\n",
       "      <th>4521</th>\n",
       "      <td>Repuestos Y Accesorios Ml Sports</td>\n",
       "      <td>Tienda De Repuestos Para Automóviles</td>\n",
       "      <td>https://www.guia-dorada.com.ar/guia/aviso-repu...</td>\n",
       "      <td>Av. Monseñor Actis 1655</td>\n",
       "      <td>+54 9 249 468-2970</td>\n",
       "      <td>Tandil</td>\n",
       "      <td>Provincia de Buenos Aires</td>\n",
       "      <td>-37.309688</td>\n",
       "      <td>-59.111063</td>\n",
       "      <td>NaN</td>\n",
       "      <td>7</td>\n",
       "      <td>https://lh3.googleusercontent.com/p/AF1QipMkZ8...</td>\n",
       "      <td>91.0</td>\n",
       "      <td>0</td>\n",
       "      <td>2025-05-29 00:17:30</td>\n",
       "      <td>Online</td>\n",
       "    </tr>\n",
       "    <tr>\n",
       "      <th>4271</th>\n",
       "      <td>Vujade</td>\n",
       "      <td>Tienda De Ropa De Mujer</td>\n",
       "      <td>http://www.vujade.com.ar/</td>\n",
       "      <td>Roser, Martín Fierro 92</td>\n",
       "      <td>+54 9 249 453-1680</td>\n",
       "      <td>Tandil</td>\n",
       "      <td>Provincia de Buenos Aires</td>\n",
       "      <td>-37.330768</td>\n",
       "      <td>-59.121212</td>\n",
       "      <td>5.0</td>\n",
       "      <td>34</td>\n",
       "      <td>https://lh3.googleusercontent.com/p/AF1QipNfZV...</td>\n",
       "      <td>2.0</td>\n",
       "      <td>2</td>\n",
       "      <td>2025-05-29 00:15:56</td>\n",
       "      <td>Ropa</td>\n",
       "    </tr>\n",
       "    <tr>\n",
       "      <th>1477</th>\n",
       "      <td>Kiosko Y Almacén Díaz Rosana</td>\n",
       "      <td>Tienda De Alimentación</td>\n",
       "      <td>NaN</td>\n",
       "      <td>Club Atlético Pueblo Nuevo, Maipú 3198</td>\n",
       "      <td>+54 9 2284 21-8567</td>\n",
       "      <td>Olavarría</td>\n",
       "      <td>Provincia de Buenos Aires</td>\n",
       "      <td>-36.886627</td>\n",
       "      <td>-60.324885</td>\n",
       "      <td>5.0</td>\n",
       "      <td>19</td>\n",
       "      <td>https://lh3.googleusercontent.com/gps-proxy/AL...</td>\n",
       "      <td>2.0</td>\n",
       "      <td>3</td>\n",
       "      <td>2025-06-15 23:32:11</td>\n",
       "      <td>Tienda</td>\n",
       "    </tr>\n",
       "    <tr>\n",
       "      <th>2163</th>\n",
       "      <td>Diesel Centro S.A.</td>\n",
       "      <td>Tienda De Accesorios Para Camiones</td>\n",
       "      <td>https://www.dieselcentrosa.com.ar/</td>\n",
       "      <td>Av. del Valle 4054</td>\n",
       "      <td>+54 9 2284 55-5487</td>\n",
       "      <td>Olavarría</td>\n",
       "      <td>Provincia de Buenos Aires</td>\n",
       "      <td>-36.906496</td>\n",
       "      <td>-60.317136</td>\n",
       "      <td>4.7</td>\n",
       "      <td>50</td>\n",
       "      <td>https://lh3.googleusercontent.com/gps-cs-s/AC9...</td>\n",
       "      <td>13.0</td>\n",
       "      <td>121</td>\n",
       "      <td>2025-07-30 14:43:03</td>\n",
       "      <td>Repuestos</td>\n",
       "    </tr>\n",
       "    <tr>\n",
       "      <th>3079</th>\n",
       "      <td>Heladería Iglú</td>\n",
       "      <td>Heladería</td>\n",
       "      <td>NaN</td>\n",
       "      <td>Av. Alsina 2</td>\n",
       "      <td>+54 9 2292 45-1175</td>\n",
       "      <td>Benito Juárez</td>\n",
       "      <td>Provincia de Buenos Aires</td>\n",
       "      <td>-37.673513</td>\n",
       "      <td>-59.804528</td>\n",
       "      <td>4.2</td>\n",
       "      <td>173</td>\n",
       "      <td>https://lh3.googleusercontent.com/gps-cs-s/AC9...</td>\n",
       "      <td>8.0</td>\n",
       "      <td>42</td>\n",
       "      <td>2025-07-30 15:23:02</td>\n",
       "      <td>Comercio</td>\n",
       "    </tr>\n",
       "    <tr>\n",
       "      <th>5847</th>\n",
       "      <td>Los Vascos Ferreteria</td>\n",
       "      <td>Ferretería</td>\n",
       "      <td>NaN</td>\n",
       "      <td>NaN</td>\n",
       "      <td>NaN</td>\n",
       "      <td>Rauch</td>\n",
       "      <td>Provincia de Buenos Aires</td>\n",
       "      <td>-36.778145</td>\n",
       "      <td>-59.083316</td>\n",
       "      <td>NaN</td>\n",
       "      <td>172</td>\n",
       "      <td>https://streetviewpixels-pa.googleapis.com/v1/...</td>\n",
       "      <td>1.0</td>\n",
       "      <td>0</td>\n",
       "      <td>2025-07-30 15:10:08</td>\n",
       "      <td>Tienda</td>\n",
       "    </tr>\n",
       "    <tr>\n",
       "      <th>733</th>\n",
       "      <td>Frenos Y Embragues El Mono Fashion</td>\n",
       "      <td>Taller De Frenos</td>\n",
       "      <td>https://www.gurugo.com.ar/fichas/frenos-y-embr...</td>\n",
       "      <td>Av. Piazza 1102</td>\n",
       "      <td>+54 9 2281 42-3100</td>\n",
       "      <td>Azul</td>\n",
       "      <td>Provincia de Buenos Aires</td>\n",
       "      <td>-36.784896</td>\n",
       "      <td>-59.849515</td>\n",
       "      <td>4.5</td>\n",
       "      <td>86</td>\n",
       "      <td>https://lh3.googleusercontent.com/p/AF1QipPvMo...</td>\n",
       "      <td>44.0</td>\n",
       "      <td>26</td>\n",
       "      <td>2025-07-30 14:51:45</td>\n",
       "      <td>Tienda</td>\n",
       "    </tr>\n",
       "    <tr>\n",
       "      <th>3187</th>\n",
       "      <td>Estudio De Canto Y Venta De Instrumentos Music...</td>\n",
       "      <td>NaN</td>\n",
       "      <td>NaN</td>\n",
       "      <td>Dinamarca 322</td>\n",
       "      <td>+54 9 249 456-5480</td>\n",
       "      <td>Tandil</td>\n",
       "      <td>Provincia de Buenos Aires</td>\n",
       "      <td>-37.308870</td>\n",
       "      <td>-59.142597</td>\n",
       "      <td>5.0</td>\n",
       "      <td>2</td>\n",
       "      <td>https://lh3.googleusercontent.com/p/AF1QipN3bo...</td>\n",
       "      <td>48.0</td>\n",
       "      <td>3</td>\n",
       "      <td>2025-06-11 18:01:55</td>\n",
       "      <td>Venta</td>\n",
       "    </tr>\n",
       "  </tbody>\n",
       "</table>\n",
       "</div>"
      ],
      "text/plain": [
       "                                                  title  \\\n",
       "3358                                             Reynas   \n",
       "2589                                            Qregalo   \n",
       "4521                   Repuestos Y Accesorios Ml Sports   \n",
       "4271                                             Vujade   \n",
       "1477                       Kiosko Y Almacén Díaz Rosana   \n",
       "2163                                 Diesel Centro S.A.   \n",
       "3079                                     Heladería Iglú   \n",
       "5847                              Los Vascos Ferreteria   \n",
       "733                  Frenos Y Embragues El Mono Fashion   \n",
       "3187  Estudio De Canto Y Venta De Instrumentos Music...   \n",
       "\n",
       "                              categoryName  \\\n",
       "3358               Tienda De Ropa De Mujer   \n",
       "2589                                   NaN   \n",
       "4521  Tienda De Repuestos Para Automóviles   \n",
       "4271               Tienda De Ropa De Mujer   \n",
       "1477                Tienda De Alimentación   \n",
       "2163    Tienda De Accesorios Para Camiones   \n",
       "3079                             Heladería   \n",
       "5847                            Ferretería   \n",
       "733                       Taller De Frenos   \n",
       "3187                                   NaN   \n",
       "\n",
       "                                                website  \\\n",
       "3358                                                NaN   \n",
       "2589                                                NaN   \n",
       "4521  https://www.guia-dorada.com.ar/guia/aviso-repu...   \n",
       "4271                          http://www.vujade.com.ar/   \n",
       "1477                                                NaN   \n",
       "2163                 https://www.dieselcentrosa.com.ar/   \n",
       "3079                                                NaN   \n",
       "5847                                                NaN   \n",
       "733   https://www.gurugo.com.ar/fichas/frenos-y-embr...   \n",
       "3187                                                NaN   \n",
       "\n",
       "                                      street               phone  \\\n",
       "3358                     Gral. Rodríguez 915  +54 9 249 442-8361   \n",
       "2589                      Pablo Fassina 6006  +54 9 2284 68-5294   \n",
       "4521                 Av. Monseñor Actis 1655  +54 9 249 468-2970   \n",
       "4271                 Roser, Martín Fierro 92  +54 9 249 453-1680   \n",
       "1477  Club Atlético Pueblo Nuevo, Maipú 3198  +54 9 2284 21-8567   \n",
       "2163                      Av. del Valle 4054  +54 9 2284 55-5487   \n",
       "3079                            Av. Alsina 2  +54 9 2292 45-1175   \n",
       "5847                                     NaN                 NaN   \n",
       "733                          Av. Piazza 1102  +54 9 2281 42-3100   \n",
       "3187                           Dinamarca 322  +54 9 249 456-5480   \n",
       "\n",
       "               city                      state  location/lat  location/lng  \\\n",
       "3358         Tandil  Provincia de Buenos Aires    -37.322482    -59.138819   \n",
       "2589      Olavarría  Provincia de Buenos Aires    -36.903563    -60.282617   \n",
       "4521         Tandil  Provincia de Buenos Aires    -37.309688    -59.111063   \n",
       "4271         Tandil  Provincia de Buenos Aires    -37.330768    -59.121212   \n",
       "1477      Olavarría  Provincia de Buenos Aires    -36.886627    -60.324885   \n",
       "2163      Olavarría  Provincia de Buenos Aires    -36.906496    -60.317136   \n",
       "3079  Benito Juárez  Provincia de Buenos Aires    -37.673513    -59.804528   \n",
       "5847          Rauch  Provincia de Buenos Aires    -36.778145    -59.083316   \n",
       "733            Azul  Provincia de Buenos Aires    -36.784896    -59.849515   \n",
       "3187         Tandil  Provincia de Buenos Aires    -37.308870    -59.142597   \n",
       "\n",
       "      totalScore  rank                                           imageUrl  \\\n",
       "3358         NaN   124  https://lh3.googleusercontent.com/gps-proxy/AL...   \n",
       "2589         NaN    11                                                NaN   \n",
       "4521         NaN     7  https://lh3.googleusercontent.com/p/AF1QipMkZ8...   \n",
       "4271         5.0    34  https://lh3.googleusercontent.com/p/AF1QipNfZV...   \n",
       "1477         5.0    19  https://lh3.googleusercontent.com/gps-proxy/AL...   \n",
       "2163         4.7    50  https://lh3.googleusercontent.com/gps-cs-s/AC9...   \n",
       "3079         4.2   173  https://lh3.googleusercontent.com/gps-cs-s/AC9...   \n",
       "5847         NaN   172  https://streetviewpixels-pa.googleapis.com/v1/...   \n",
       "733          4.5    86  https://lh3.googleusercontent.com/p/AF1QipPvMo...   \n",
       "3187         5.0     2  https://lh3.googleusercontent.com/p/AF1QipN3bo...   \n",
       "\n",
       "      imagesCount  reviewsCount           scrapedAt searchString  \n",
       "3358          5.0             0 2025-06-11 18:02:06     Comercio  \n",
       "2589          NaN             0 2025-07-30 14:43:21        Bazar  \n",
       "4521         91.0             0 2025-05-29 00:17:30       Online  \n",
       "4271          2.0             2 2025-05-29 00:15:56         Ropa  \n",
       "1477          2.0             3 2025-06-15 23:32:11       Tienda  \n",
       "2163         13.0           121 2025-07-30 14:43:03    Repuestos  \n",
       "3079          8.0            42 2025-07-30 15:23:02     Comercio  \n",
       "5847          1.0             0 2025-07-30 15:10:08       Tienda  \n",
       "733          44.0            26 2025-07-30 14:51:45       Tienda  \n",
       "3187         48.0             3 2025-06-11 18:01:55        Venta  "
      ]
     },
     "execution_count": 159,
     "metadata": {},
     "output_type": "execute_result"
    }
   ],
   "source": [
    "# Muestra aleatoriamente 10 filas del DataFrame para inspección rápida y diversidad de registros.\n",
    "df.sample(10)"
   ]
  },
  {
   "cell_type": "markdown",
   "id": "36bcc6c4",
   "metadata": {},
   "source": [
    "<div style=\"font-family: 'JetBrains Mono', monospace; font-size: 14px; color: #e2dbdbff; line-height: 1.6;\">\n",
    "\n",
    "### 📊 Medición de completitud en `street` y `phone` por ciudad\n",
    "\n",
    "1. Agrupamos por la columna **city**.\n",
    "2. Para cada ciudad calculamos:\n",
    "   - **Porcentaje de completitud** = registros distintos de `\"Incomplete\"`.\n",
    "   - **Total de incompletos** = cantidad de registros con `\"Incomplete\"`.\n",
    "3. Así obtenemos un DataFrame comparativo entre ciudades para evaluar la calidad de los datos.\n",
    "\n",
    "> Este análisis permite identificar brechas de información y orientar esfuerzos de digitalización local.\n",
    "\n",
    "</div>"
   ]
  },
  {
   "cell_type": "code",
   "execution_count": 160,
   "id": "1284410a",
   "metadata": {},
   "outputs": [
    {
     "data": {
      "application/vnd.microsoft.datawrangler.viewer.v0+json": {
       "columns": [
        {
         "name": "index",
         "rawType": "int64",
         "type": "integer"
        },
        {
         "name": "city",
         "rawType": "object",
         "type": "string"
        },
        {
         "name": "phone_complete_porc",
         "rawType": "float64",
         "type": "float"
        },
        {
         "name": "street_complete_porc",
         "rawType": "float64",
         "type": "float"
        },
        {
         "name": "phone_incomplete_total",
         "rawType": "int64",
         "type": "integer"
        },
        {
         "name": "street_incomplete_total",
         "rawType": "int64",
         "type": "integer"
        }
       ],
       "ref": "9189e7f5-d7da-4665-a43b-402b46d5a8ec",
       "rows": [
        [
         "0",
         "Azul",
         "64.26",
         "93.11",
         "451",
         "87"
        ],
        [
         "1",
         "Benito Juárez",
         "62.75",
         "93.41",
         "130",
         "23"
        ],
        [
         "2",
         "Olavarría",
         "76.02",
         "95.84",
         "357",
         "62"
        ],
        [
         "3",
         "Rauch",
         "58.59",
         "89.57",
         "135",
         "34"
        ],
        [
         "4",
         "Tandil",
         "75.84",
         "96.76",
         "575",
         "77"
        ]
       ],
       "shape": {
        "columns": 5,
        "rows": 5
       }
      },
      "text/html": [
       "<div>\n",
       "<style scoped>\n",
       "    .dataframe tbody tr th:only-of-type {\n",
       "        vertical-align: middle;\n",
       "    }\n",
       "\n",
       "    .dataframe tbody tr th {\n",
       "        vertical-align: top;\n",
       "    }\n",
       "\n",
       "    .dataframe thead th {\n",
       "        text-align: right;\n",
       "    }\n",
       "</style>\n",
       "<table border=\"1\" class=\"dataframe\">\n",
       "  <thead>\n",
       "    <tr style=\"text-align: right;\">\n",
       "      <th></th>\n",
       "      <th>city</th>\n",
       "      <th>phone_complete_porc</th>\n",
       "      <th>street_complete_porc</th>\n",
       "      <th>phone_incomplete_total</th>\n",
       "      <th>street_incomplete_total</th>\n",
       "    </tr>\n",
       "  </thead>\n",
       "  <tbody>\n",
       "    <tr>\n",
       "      <th>0</th>\n",
       "      <td>Azul</td>\n",
       "      <td>64.26</td>\n",
       "      <td>93.11</td>\n",
       "      <td>451</td>\n",
       "      <td>87</td>\n",
       "    </tr>\n",
       "    <tr>\n",
       "      <th>1</th>\n",
       "      <td>Benito Juárez</td>\n",
       "      <td>62.75</td>\n",
       "      <td>93.41</td>\n",
       "      <td>130</td>\n",
       "      <td>23</td>\n",
       "    </tr>\n",
       "    <tr>\n",
       "      <th>2</th>\n",
       "      <td>Olavarría</td>\n",
       "      <td>76.02</td>\n",
       "      <td>95.84</td>\n",
       "      <td>357</td>\n",
       "      <td>62</td>\n",
       "    </tr>\n",
       "    <tr>\n",
       "      <th>3</th>\n",
       "      <td>Rauch</td>\n",
       "      <td>58.59</td>\n",
       "      <td>89.57</td>\n",
       "      <td>135</td>\n",
       "      <td>34</td>\n",
       "    </tr>\n",
       "    <tr>\n",
       "      <th>4</th>\n",
       "      <td>Tandil</td>\n",
       "      <td>75.84</td>\n",
       "      <td>96.76</td>\n",
       "      <td>575</td>\n",
       "      <td>77</td>\n",
       "    </tr>\n",
       "  </tbody>\n",
       "</table>\n",
       "</div>"
      ],
      "text/plain": [
       "            city  phone_complete_porc  street_complete_porc  \\\n",
       "0           Azul                64.26                 93.11   \n",
       "1  Benito Juárez                62.75                 93.41   \n",
       "2      Olavarría                76.02                 95.84   \n",
       "3          Rauch                58.59                 89.57   \n",
       "4         Tandil                75.84                 96.76   \n",
       "\n",
       "   phone_incomplete_total  street_incomplete_total  \n",
       "0                     451                       87  \n",
       "1                     130                       23  \n",
       "2                     357                       62  \n",
       "3                     135                       34  \n",
       "4                     575                       77  "
      ]
     },
     "execution_count": 160,
     "metadata": {},
     "output_type": "execute_result"
    }
   ],
   "source": [
    "completitud = (\n",
    "    df.groupby('city').agg(\n",
    "        phone_complete_porc=('phone', lambda x: round(x.notna().mean() * 100, 2)),\n",
    "        street_complete_porc=('street', lambda x: round(x.notna().mean() * 100, 2)),\n",
    "        phone_incomplete_total=('phone', lambda x: x.isna().sum()),\n",
    "        street_incomplete_total=('street', lambda x: x.isna().sum())\n",
    "    )\n",
    "    .reset_index()\n",
    ")\n",
    "completitud"
   ]
  },
  {
   "cell_type": "markdown",
   "id": "3e055dbb",
   "metadata": {},
   "source": [
    "<div style=\"font-family: 'JetBrains Mono', monospace; font-size: 14px; color: #e2dbdbff; line-height: 1.6;\">\n",
    "\n",
    "### 📊 Completitud por ciudad en columnas clave\n",
    "\n",
    "Este bloque calcula el porcentaje de registros **completos** (no nulos) y la cantidad de registros **incompletos** (nulos) por ciudad en las columnas `phone` y `street`.\n",
    "\n",
    "- `phone_complete_porc`: Porcentaje de registros con teléfono presente.\n",
    "- `street_complete_porc`: Porcentaje de registros con dirección (`street`) presente.\n",
    "- `phone_incomplete_total`: Cantidad de registros sin teléfono.\n",
    "- `street_incomplete_total`: Cantidad de registros sin dirección.\n",
    "\n",
    "Los porcentajes se redondean a dos decimales para facilitar la lectura.\n",
    "\n",
    "</div>"
   ]
  },
  {
   "cell_type": "code",
   "execution_count": 161,
   "id": "40137747",
   "metadata": {},
   "outputs": [
    {
     "name": "stdout",
     "output_type": "stream",
     "text": [
      "📊 Registros sin número de telefono ingresado: 1,648\n",
      "📊 Registros sin dirección ingresada: 283\n"
     ]
    }
   ],
   "source": [
    "# Calcula el total de registros incompletos en 'phone' y 'street' a nivel general.\n",
    "total_phone_incomplete = completitud['phone_incomplete_total'].sum()\n",
    "total_street_incomplete = completitud['street_incomplete_total'].sum()\n",
    "\n",
    "print(f\"📊 Registros sin número de telefono ingresado: {total_phone_incomplete:,}\")\n",
    "print(f\"📊 Registros sin dirección ingresada: {total_street_incomplete:,}\")"
   ]
  },
  {
   "cell_type": "markdown",
   "id": "47b9818e",
   "metadata": {},
   "source": [
    "<div style=\"font-family: 'JetBrains Mono', monospace; font-size: 14px; color: #e2dbdbff; line-height: 1.6;\">\n",
    "\n",
    "### 🌐 Resumen de presencia web a nivel general\n",
    "\n",
    "Este bloque calcula cuántos negocios tienen sitio web registrado (`website`) y cuántos no, usando `notna()` para detectar valores presentes.\n",
    "\n",
    "- `registros_con_web`: cantidad de negocios con sitio web.\n",
    "- `porcentaje_con_web`: porcentaje sobre el total.\n",
    "- Los faltantes se consideran como `np.nan`, ya estandarizados previamente.\n",
    "\n",
    "Los resultados se imprimen con formato legible y porcentajes redondeados a dos decimales.\n",
    "\n",
    "</div>"
   ]
  },
  {
   "cell_type": "code",
   "execution_count": 162,
   "id": "b9794488",
   "metadata": {},
   "outputs": [
    {
     "name": "stdout",
     "output_type": "stream",
     "text": [
      "\n",
      "Resumen de Presencia Web a Nivel General \n",
      "---------------------------------------\n",
      "Total de negocios en la muestra: 5,859\n",
      "Negocios con sitio web: 1,750 (29.87%)\n",
      "Negocios sin sitio web: 4,109 (70.13%)\n"
     ]
    }
   ],
   "source": [
    "# Calcula el total de registros incompletos en 'website' a nivel general\n",
    "total_registros = len(df)\n",
    "registros_con_web = df['website'].notna().sum()\n",
    "porcentaje_con_web = (registros_con_web / total_registros) * 100\n",
    "\n",
    "print(f\"\\nResumen de Presencia Web a Nivel General \\n---------------------------------------\")\n",
    "print(f\"Total de negocios en la muestra: {total_registros:,}\")\n",
    "print(f\"Negocios con sitio web: {registros_con_web:,} ({porcentaje_con_web:.2f}%)\")\n",
    "print(f\"Negocios sin sitio web: {total_registros - registros_con_web:,} ({(100 - porcentaje_con_web):.2f}%)\")"
   ]
  },
  {
   "cell_type": "markdown",
   "id": "aa9bf993",
   "metadata": {},
   "source": [
    "<div style=\"font-family: 'JetBrains Mono', monospace; font-size: 14px; color: #e2dbdbff; line-height: 1.6;\">\n",
    "\n",
    "### 🏙️ Completitud de presencia web por ciudad\n",
    "\n",
    "Se agrupan los registros por ciudad para evaluar la calidad de los datos en el campo `website`.  \n",
    "Se construye una tabla resumen con las siguientes métricas:\n",
    "- **Total de comercios** por ciudad.\n",
    "- **Cantidad y porcentaje** de registros con y sin sitio web.\n",
    "- **Ranking de ciudades** según nivel de completitud.\n",
    "\n",
    "Este análisis permite identificar qué ciudades tienen mejor presencia digital y dónde se concentran las brechas de información.\n",
    "\n",
    "</div>"
   ]
  },
  {
   "cell_type": "code",
   "execution_count": 163,
   "id": "b9ed5e15",
   "metadata": {},
   "outputs": [
    {
     "name": "stdout",
     "output_type": "stream",
     "text": [
      "ANÁLISIS DE CALIDAD DE DATOS POR CIUDAD\n",
      "========================================\n",
      "Dataset: 5,806 registros en 5 ciudades\n",
      "Completitud global: 29.90%\n",
      "\n",
      "TABLA COMPLETA POR CIUDAD:\n",
      "----------------------------------------------------------------------------------------------------\n",
      "               Total Comercios  Website Incompletos  Website Completos  % Completos  % Incompletos\n",
      "city                                                                                              \n",
      "Tandil                    2380                 1540                840        35.29          64.71\n",
      "Olavarría                 1489                  994                495        33.24          66.76\n",
      "Azul                      1262                  984                278        22.03          77.97\n",
      "Benito Juárez              349                  286                 63        18.05          81.95\n",
      "Rauch                      326                  266                 60        18.40          81.60\n",
      "\n",
      "RANKING DE CIUDADES:\n",
      "-------------------------------------------------------\n",
      "1. Tandil       | 2380.0 registros | 35.29% completos\n",
      "2. Olavarría    | 1489.0 registros | 33.24% completos\n",
      "3. Azul         | 1262.0 registros | 22.03% completos\n",
      "4. Benito Juárez | 349.0 registros | 18.05% completos\n",
      "5. Rauch        | 326.0 registros | 18.40% completos\n"
     ]
    }
   ],
   "source": [
    "# Genera una tabla resumen por ciudad con métricas de completitud en la columna 'website'\n",
    "# Incluye totales, porcentajes y ranking de ciudades según calidad de datos\n",
    "\n",
    "# Total de registros por ciudad\n",
    "total_registros = df.groupby('city').size()\n",
    "\n",
    "# Registros incompletos (website faltante) por ciudad\n",
    "registros_incomplete = df[df['website'].isna()].groupby('city').size()\n",
    "\n",
    "# Crear tabla resumen\n",
    "resumen = pd.DataFrame({\n",
    "    'Total Comercios': total_registros,\n",
    "    'Website Incompletos': registros_incomplete,\n",
    "}).fillna(0)\n",
    "\n",
    "# Calcular completitud\n",
    "resumen['Website Completos'] = resumen['Total Comercios'] - resumen['Website Incompletos']\n",
    "resumen['% Completos'] = (resumen['Website Completos'] / resumen['Total Comercios'] * 100).round(2)\n",
    "resumen['% Incompletos'] = (resumen['Website Incompletos'] / resumen['Total Comercios'] * 100).round(2)\n",
    "\n",
    "# Ordenar por cantidad de comercios\n",
    "resumen = resumen.sort_values('Total Comercios', ascending=False)\n",
    "\n",
    "# Imprimir resultados\n",
    "print(\"ANÁLISIS DE CALIDAD DE DATOS POR CIUDAD\")\n",
    "print(\"=\" * 40)\n",
    "print(f\"Dataset: {resumen['Total Comercios'].sum():,} registros en {len(resumen)} ciudades\")\n",
    "print(f\"Completitud global: {(resumen['Website Completos'].sum() / resumen['Total Comercios'].sum() * 100):.2f}%\")\n",
    "print()\n",
    "\n",
    "print(\"TABLA COMPLETA POR CIUDAD:\")\n",
    "print(\"-\" * 100)\n",
    "print(resumen.to_string())\n",
    "\n",
    "print(f\"\\nRANKING DE CIUDADES:\")\n",
    "print(\"-\" * 55)\n",
    "for i, (ciudad, row) in enumerate(resumen.iterrows(), 1):\n",
    "    print(f\"{i}. {ciudad:<12} | {row['Total Comercios']:>4} registros | {row['% Completos']:>5.2f}% completos\")\n"
   ]
  },
  {
   "cell_type": "markdown",
   "id": "c97c88e5",
   "metadata": {},
   "source": [
    "<div style=\"font-family: 'JetBrains Mono', monospace; font-size: 14px; color: #e2dbdbff; line-height: 1.6;\">\n",
    "\n",
    "### 📈 Estadísticas descriptivas y análisis comparativo\n",
    "\n",
    "Se calculan métricas estadísticas sobre la completitud de datos por ciudad:  \n",
    "- **Promedio, mediana, mínimo, máximo y desviación estándar** de la presencia web.  \n",
    "- Se identifican las ciudades con mayor, menor y nivel medio de completitud.  \n",
    "- Se calcula la **brecha porcentual** entre la mejor y la peor ciudad.  \n",
    "- Se analiza la **correlación** entre el tamaño de la ciudad (cantidad de comercios) y su nivel de completitud.\n",
    "\n",
    "> Este análisis permite entender la distribución de la digitalización comercial y detectar patrones regionales.\n",
    "\n",
    "</div>"
   ]
  },
  {
   "cell_type": "code",
   "execution_count": 164,
   "id": "d4b76d64",
   "metadata": {},
   "outputs": [
    {
     "name": "stdout",
     "output_type": "stream",
     "text": [
      "ESTADÍSTICAS DESCRIPTIVAS\n",
      "==================================================\n",
      "       Métrica  Completitud %  Total Comercios\n",
      "      Promedio          25.40          1161.20\n",
      "       Mediana          22.03          1262.00\n",
      "        Mínimo          18.05           326.00\n",
      "        Máximo          35.29          2380.00\n",
      "Desv. Estándar           8.27           860.28\n",
      "\n",
      "ANÁLISIS COMPARATIVO:\n",
      "------------------------------------------------------------\n",
      "🏆 MEJOR: Tandil - 35.29% completos (2380.0 registros)\n",
      "📊 MEDIANA: Azul - 22.03% completos (1262.0 registros)\n",
      "⚠️  PEOR: Benito Juárez - 18.05% completos (349.0 registros)\n",
      "📈 BRECHA: 17.24 puntos porcentuales entre mejor y peor\n",
      "\n",
      "🔗 CORRELACIÓN:\n",
      "------------------------------------------------------------\n",
      "   Tamaño vs Completitud: 0.917\n",
      "   → Ciudades más grandes tienden a tener mejor completitud\n"
     ]
    }
   ],
   "source": [
    "# Calcula estadísticas descriptivas y compara el nivel de completitud por ciudad.\n",
    "# Identifica la mejor, peor y ciudad mediana, y analiza la correlación entre tamaño y completitud.\n",
    "print(\"ESTADÍSTICAS DESCRIPTIVAS\")\n",
    "print(\"=\" * 50)\n",
    "\n",
    "stats = pd.DataFrame({\n",
    "    'Métrica': ['Promedio', 'Mediana', 'Mínimo', 'Máximo', 'Desv. Estándar'],\n",
    "    'Completitud %': [\n",
    "        resumen['% Completos'].mean(),\n",
    "        resumen['% Completos'].median(), \n",
    "        resumen['% Completos'].min(),\n",
    "        resumen['% Completos'].max(),\n",
    "        resumen['% Completos'].std()\n",
    "    ],\n",
    "    'Total Comercios': [\n",
    "        resumen['Total Comercios'].mean(),\n",
    "        resumen['Total Comercios'].median(),\n",
    "        resumen['Total Comercios'].min(),\n",
    "        resumen['Total Comercios'].max(),\n",
    "        resumen['Total Comercios'].std()\n",
    "    ]\n",
    "}).round(2)\n",
    "\n",
    "print(stats.to_string(index=False))\n",
    "\n",
    "print(f\"\\nANÁLISIS COMPARATIVO:\")\n",
    "print(\"-\" * 60)\n",
    "\n",
    "mejor_ciudad = resumen.loc[resumen['% Completos'].idxmax()]\n",
    "peor_ciudad = resumen.loc[resumen['% Completos'].idxmin()]\n",
    "ciudad_media = resumen.loc[(resumen['% Completos'] - resumen['% Completos'].median()).abs().idxmin()]\n",
    "\n",
    "print(f\"🏆 MEJOR: {mejor_ciudad.name} - {mejor_ciudad['% Completos']:.2f}% completos ({mejor_ciudad['Total Comercios']} registros)\")\n",
    "print(f\"📊 MEDIANA: {ciudad_media.name} - {ciudad_media['% Completos']:.2f}% completos ({ciudad_media['Total Comercios']} registros)\")  \n",
    "print(f\"⚠️  PEOR: {peor_ciudad.name} - {peor_ciudad['% Completos']:.2f}% completos ({peor_ciudad['Total Comercios']} registros)\")\n",
    "\n",
    "brecha = mejor_ciudad['% Completos'] - peor_ciudad['% Completos']\n",
    "print(f\"📈 BRECHA: {brecha:.2f} puntos porcentuales entre mejor y peor\")\n",
    "\n",
    "# Correlación tamaño vs completitud\n",
    "correlacion = resumen['Total Comercios'].corr(resumen['% Completos'])\n",
    "print(f\"\\n🔗 CORRELACIÓN:\")\n",
    "print(\"-\" * 60)\n",
    "print(f\"   Tamaño vs Completitud: {correlacion:.3f}\")\n",
    "if correlacion > 0.3:\n",
    "    print(\"   → Ciudades más grandes tienden a tener mejor completitud\")\n",
    "elif correlacion < -0.3:\n",
    "    print(\"   → Ciudades más grandes tienden a tener menor completitud\") \n",
    "else:\n",
    "    print(\"   → No hay relación clara entre tamaño y completitud\")"
   ]
  },
  {
   "cell_type": "markdown",
   "id": "a22499a6",
   "metadata": {},
   "source": [
    "<div style=\"font-family: 'JetBrains Mono', monospace; font-size: 14px; color: #e2dbdbff; line-height: 1.6;\">\n",
    "\n",
    "### 📈 Relación entre tamaño de ciudad y completitud web\n",
    "\n",
    "Este gráfico de dispersión muestra cómo varía el porcentaje de presencia web (`% Completos`) en función del tamaño de cada ciudad (`Total Comercios`).\n",
    "\n",
    "- Permite visualizar si hay una tendencia clara entre ciudades más grandes y mayor digitalización.\n",
    "- Se complementa con el análisis de correlación realizado previamente.\n",
    "- Las etiquetas de ciudad se muestran si el número de ciudades es manejable visualmente.\n",
    "\n",
    "</div>"
   ]
  },
  {
   "cell_type": "code",
   "execution_count": 165,
   "id": "f8d2d4a7",
   "metadata": {},
   "outputs": [
    {
     "data": {
      "image/png": "[encoded data removed]",
      "text/plain": [
       "<Figure size 1000x600 with 1 Axes>"
      ]
     },
     "metadata": {},
     "output_type": "display_data"
    }
   ],
   "source": [
    "# Visualiza la relación entre tamaño de ciudad y completitud\n",
    "fig, ax = plt.subplots(figsize=(10, 6), facecolor='white')\n",
    "\n",
    "ax.scatter(resumen['Total Comercios'], resumen['% Completos'], \n",
    "           s=80, color='#5DADE2', edgecolor='white', alpha=0.85)\n",
    "\n",
    "# Títulos y ejes\n",
    "fig.suptitle('Relación entre Tamaño de Ciudad y Completitud Web', fontsize=18, fontweight='bold', y=0.95)\n",
    "ax.set_xlabel('Total de Comercios por Ciudad', fontsize=13, fontweight='bold', labelpad=10)\n",
    "ax.set_ylabel('Completitud (%)', fontsize=13, fontweight='bold', labelpad=10)\n",
    "ax.grid(True, linestyle='--', alpha=0.3)\n",
    "\n",
    "# Etiquetas de ciudades (solo si hay pocos puntos)\n",
    "if len(resumen) <= 20:\n",
    "    for i, row in resumen.iterrows():\n",
    "        ax.text(row['Total Comercios'], row['% Completos'] + 1, i, fontsize=9, ha='center', va='bottom', alpha=0.7)\n",
    "\n",
    "# Estética\n",
    "for spine in ['top', 'right']:\n",
    "    ax.spines[spine].set_visible(False)\n",
    "\n",
    "plt.xticks(fontsize=10, fontweight='bold', color=\"#1E3144\")\n",
    "plt.yticks(fontsize=10, fontweight='bold', color=\"#1E3144\")\n",
    "plt.tight_layout()\n",
    "plt.savefig(\"../Images/01-Presencia_web_por_ciudad\", dpi=300, bbox_inches='tight')\n",
    "plt.show()\n"
   ]
  },
  {
   "cell_type": "markdown",
   "id": "7eb63d69",
   "metadata": {},
   "source": [
    "<div style=\"font-family: 'JetBrains Mono', monospace; font-size: 14px; color: #e2dbdbff; line-height: 1.6;\">\n",
    "\n",
    "### 🧾 Conclusión\n",
    "\n",
    "El gráfico muestra que las ciudades con más negocios suelen tener más presencia web. Tandil y Olavarría, que tienen muchos comercios, también tienen los porcentajes más altos de completitud. En cambio, Rauch y Benito Juárez tienen menos negocios y menos datos disponibles online.\n",
    "\n",
    "Esto sugiere que las ciudades más grandes están más digitalizadas, mientras que las más chicas podrían necesitar más apoyo para mejorar su visibilidad en internet. Es un punto importante si se quiere entender cómo se distribuye la información comercial en distintas regiones.\n",
    "\n",
    "\n",
    "</div>"
   ]
  },
  {
   "cell_type": "markdown",
   "id": "04f64778",
   "metadata": {},
   "source": [
    "<div style=\"font-family: 'JetBrains Mono', monospace; font-size: 14px; color: #e2dbdbff; line-height: 1.6;\">\n",
    "\n",
    "### 📊 Visualización de presencia web por ciudad\n",
    "\n",
    "Se genera un gráfico de barras apiladas que muestra el porcentaje de comercios con y sin sitio web en cada ciudad.  \n",
    "Esto permite comparar visualmente el nivel de digitalización comercial entre regiones.\n",
    "\n",
    "Además, se identifican las ciudades con:\n",
    "- 🏆 **Mayor presencia web**\n",
    "- ⚠️ **Menor presencia web**\n",
    "\n",
    "> Esta visualización resume el estado actual de la digitalización comercial y destaca las brechas regionales.\n",
    "\n",
    "</div>"
   ]
  },
  {
   "cell_type": "code",
   "execution_count": 166,
   "id": "d9c41430",
   "metadata": {},
   "outputs": [
    {
     "data": {
      "image/png": "[encoded data removed]",
      "text/plain": [
       "<Figure size 1200x700 with 1 Axes>"
      ]
     },
     "metadata": {},
     "output_type": "display_data"
    },
    {
     "name": "stdout",
     "output_type": "stream",
     "text": [
      "🏆 Tandil tiene el mayor porcentaje de presencia web: 35.29%\n",
      "⚠️ Benito Juárez tiene el menor porcentaje de presencia web: 18.05%\n"
     ]
    }
   ],
   "source": [
    "# Genera gráfico de barras apiladas mostrando la presencia web por ciudad\n",
    "fig, ax = plt.subplots(figsize=(12, 7), facecolor='white')\n",
    "\n",
    "# Calcular porcentaje de comercios sin sitio web (np.nan)\n",
    "resumen['% Incompletos'] = 100 - resumen['% Completos']\n",
    "\n",
    "# Gráfico de barras apiladas\n",
    "ax = resumen[['% Completos', '% Incompletos']].plot(\n",
    "    kind='bar', stacked=True, ax=ax,\n",
    "    color=[\"#5DADE2\", \"#D5DBDB\"],  # azul para completos, gris claro para faltantes\n",
    "    width=0.6, edgecolor='white', linewidth=2, alpha=0.9\n",
    ")\n",
    "\n",
    "# Títulos y configuración\n",
    "fig.suptitle('Presencia Web por Ciudad', fontsize=20, fontweight='bold', y=0.96)\n",
    "ax.text(0.5, 1.04, 'Porcentaje de negocios con y sin sitio web', transform=ax.transAxes,\n",
    "        fontsize=12, ha='center', va='bottom', alpha=0.7)\n",
    "ax.set_ylabel('Porcentaje (%)', fontsize=14, fontweight='bold', labelpad=15)\n",
    "ax.set_xlabel('Ciudades', fontsize=14, fontweight='bold', labelpad=15)\n",
    "ax.set_ylim(0, 100)\n",
    "ax.set_yticks(range(0, 101, 20))\n",
    "\n",
    "# Leyenda clara\n",
    "ax.legend(['Con sitio web', 'Sin sitio web'], loc='upper right', bbox_to_anchor=(1, 1),\n",
    "          frameon=True, shadow=True, fancybox=True, fontsize=11, facecolor='white',\n",
    "          edgecolor='#2C3E50', framealpha=0.9)\n",
    "\n",
    "# Etiquetas en barras\n",
    "for c in ax.containers:\n",
    "    ax.bar_label(c, labels=[f'{w:.2f}%' if w > 5 else '' for w in c.datavalues],\n",
    "                 label_type='center', color='white', fontweight='bold', fontsize=10,\n",
    "                 bbox=dict(boxstyle=\"round,pad=0.2\", facecolor='black', alpha=0.6))\n",
    "\n",
    "# Estética\n",
    "for spine in ['top', 'right']:\n",
    "    ax.spines[spine].set_visible(False)\n",
    "\n",
    "ax.tick_params(axis='both', which='major', labelsize=10, colors=\"#131516\")\n",
    "plt.xticks(rotation=45 if len(resumen) > 8 else 0,\n",
    "           ha='right' if len(resumen) > 8 else 'center',\n",
    "           fontweight='bold', fontsize=10, color=\"#1E3144\")\n",
    "\n",
    "plt.tight_layout()\n",
    "\n",
    "plt.show()\n",
    "\n",
    "# Identificar ciudades con mayor y menor presencia web\n",
    "mejor_web = resumen.loc[resumen['% Completos'].idxmax()]\n",
    "peor_web = resumen.loc[resumen['% Completos'].idxmin()]\n",
    "\n",
    "print(f'🏆 {mejor_web.name} tiene el mayor porcentaje de presencia web: {mejor_web[\"% Completos\"]:.2f}%')\n",
    "print(f'⚠️ {peor_web.name} tiene el menor porcentaje de presencia web: {peor_web[\"% Completos\"]:.2f}%')\n"
   ]
  },
  {
   "cell_type": "markdown",
   "id": "29b61c17",
   "metadata": {},
   "source": [
    "<div style=\"font-family: 'JetBrains Mono', monospace; font-size: 14px; color: #e2dbdbff; line-height: 1.6;\">\n",
    "\n",
    "### 🏪 Categorías con datos completos\n",
    "\n",
    "Se filtran los registros que tienen información completa en todas las columnas.  \n",
    "Luego se analiza la frecuencia de cada categoría comercial dentro de ese subconjunto.\n",
    "\n",
    "Las categorías con mayor cantidad de registros completos son:\n",
    "- **Tienda de Ropa**\n",
    "- **Agencia Inmobiliaria**\n",
    "- **Tienda de Materiales para la Construcción**\n",
    "\n",
    "> Este análisis permite identificar qué rubros están mejor representados digitalmente.\n",
    "\n",
    "</div>"
   ]
  },
  {
   "cell_type": "code",
   "execution_count": 167,
   "id": "a111fa78",
   "metadata": {},
   "outputs": [
    {
     "data": {
      "application/vnd.microsoft.datawrangler.viewer.v0+json": {
       "columns": [
        {
         "name": "categoryName",
         "rawType": "object",
         "type": "string"
        },
        {
         "name": "count",
         "rawType": "int64",
         "type": "integer"
        }
       ],
       "ref": "d6844ac6-9993-40e3-8f2f-d3011dfccbe7",
       "rows": [
        [
         "Tienda De Ropa",
         "464"
        ],
        [
         "Tienda De Alimentación",
         "366"
        ],
        [
         "Comercio",
         "333"
        ],
        [
         "Agencia Inmobiliaria",
         "180"
        ],
        [
         "Taller De Reparación De Automóviles",
         "141"
        ],
        [
         "Tienda De Repuestos Para Automóviles",
         "140"
        ],
        [
         "Tienda De Ropa De Mujer",
         "115"
        ],
        [
         "Tienda De Materiales Para La Construcción",
         "103"
        ],
        [
         "Carnicería",
         "101"
        ],
        [
         "Tienda De Artículos Para El Hogar",
         "97"
        ],
        [
         "Supermercado",
         "93"
        ],
        [
         "Panadería",
         "90"
        ],
        [
         "Concesionario De Automóviles",
         "83"
        ],
        [
         "Taller Mecánico",
         "81"
        ],
        [
         "Tienda De Muebles",
         "68"
        ],
        [
         "Empresa Constructora",
         "66"
        ],
        [
         "Club Deportivo",
         "66"
        ],
        [
         "Ferretería",
         "60"
        ],
        [
         "Frutería",
         "59"
        ],
        [
         "Kiosco",
         "57"
        ],
        [
         "Tienda General",
         "53"
        ],
        [
         "Farmacia",
         "48"
        ],
        [
         "Tienda De Pinturas",
         "47"
        ],
        [
         "Tienda De Informática",
         "46"
        ],
        [
         "Tienda De Regalos",
         "45"
        ],
        [
         "Librería",
         "43"
        ],
        [
         "Tienda De Ropa Infantil",
         "38"
        ],
        [
         "Heladería",
         "35"
        ],
        [
         "Tienda De Electrónica",
         "34"
        ],
        [
         "Tienda De Móviles",
         "34"
        ],
        [
         "Taller De Automóviles",
         "33"
        ],
        [
         "Tienda De Neumáticos",
         "33"
        ],
        [
         "Tienda De Ropa De Hombre",
         "31"
        ],
        [
         "Tienda De Ropa Para Bebés",
         "31"
        ],
        [
         "Agentes Inmobiliarios",
         "29"
        ],
        [
         "Urbanización",
         "28"
        ],
        [
         "Cafetería",
         "28"
        ],
        [
         "Tienda De Herramientas",
         "28"
        ],
        [
         "Tienda De Lencería",
         "28"
        ],
        [
         "Diseñador De Sitios Web",
         "26"
        ],
        [
         "Tienda De Ropa De Deportes",
         "26"
        ],
        [
         "Tienda De Alimentos Naturales",
         "26"
        ],
        [
         "Zapatería",
         "26"
        ],
        [
         "Proveedor De Materiales De Construcción",
         "25"
        ],
        [
         "Gasolinera",
         "22"
        ],
        [
         "Servicio De Cambio De Aceite",
         "22"
        ],
        [
         "Tienda De Alimentos Para Animales",
         "21"
        ],
        [
         "Establecimiento De Venta De Madera",
         "21"
        ],
        [
         "Electricista",
         "20"
        ],
        [
         "Quesería",
         "20"
        ]
       ],
       "shape": {
        "columns": 1,
        "rows": 620
       }
      },
      "text/plain": [
       "categoryName\n",
       "Tienda De Ropa                         464\n",
       "Tienda De Alimentación                 366\n",
       "Comercio                               333\n",
       "Agencia Inmobiliaria                   180\n",
       "Taller De Reparación De Automóviles    141\n",
       "                                      ... \n",
       "Escuela De Artes Marciales               1\n",
       "Tienda De Cristales Y Espejos            1\n",
       "Complejo De Viviendas                    1\n",
       "Cerrajero                                1\n",
       "Zapatero                                 1\n",
       "Name: count, Length: 620, dtype: int64"
      ]
     },
     "execution_count": 167,
     "metadata": {},
     "output_type": "execute_result"
    }
   ],
   "source": [
    "# Crea un nuevo DataFrame con registros que no contienen 'Incomplete' en ninguna columna.\n",
    "df_full_records = df[~(df == 'Incomplete').any(axis=1)].copy()\n",
    "\n",
    "# Muestra la frecuencia de cada categoría entre los registros con datos completos.\n",
    "df_full_records['categoryName'].value_counts()\n"
   ]
  },
  {
   "cell_type": "markdown",
   "id": "fd844c05",
   "metadata": {},
   "source": [
    "<div style=\"font-family: 'JetBrains Mono', monospace; font-size: 14px; color: #e2dbdbff; line-height: 1.6;\">\n",
    "\n",
    "### 🌐 Detección de dominios propios\n",
    "\n",
    "Se analiza la columna `website` para identificar comercios que utilizan dominio propio.  \n",
    "Se excluyen URLs que contienen plataformas conocidas (como redes sociales, marketplaces o constructores gratuitos).  \n",
    "El resultado muestra cuántos negocios tienen una página web con dominio personalizado, lo que indica mayor nivel de digitalización.\n",
    "\n",
    "> Este indicador permite diferenciar entre presencia web básica y profesional.\n",
    "\n",
    "</div>"
   ]
  },
  {
   "cell_type": "code",
   "execution_count": 168,
   "id": "fef82e53",
   "metadata": {},
   "outputs": [],
   "source": [
    "# Define lista de plataformas y términos comunes en URLs que no representan dominio propio\n",
    "word = ['facebook', 'instagram', 'mercadolibre', 'mercadoshops', 'tiendanube', 'paginasamarillas', \n",
    "        'guia-dorada', 'gurugo', 'wa.me', 'sites.google.', 'region20']\n",
    "# Excluir registros sin sitio web (np.nan)\n",
    "valid_webs = df['website'].notna()\n",
    "# Crea una máscara booleana para detectar URLs que contienen alguno de esos términos\n",
    "contains_word = df.loc[valid_webs, 'website'].str.contains('|'.join(word), case=False)\n",
    "# Cuenta los registros cuya URL no contiene ninguno de esos términos (presunto dominio propio)\n",
    "dominio_Propio = (~contains_word).sum()\n"
   ]
  },
  {
   "cell_type": "markdown",
   "id": "a3eaf5f3",
   "metadata": {},
   "source": [
    "<div style=\"font-family: 'JetBrains Mono', monospace; font-size: 14px; color: #e2dbdbff; line-height: 1.6;\">\n",
    "\n",
    "### 🧮 Distribución de plataformas web utilizadas\n",
    "\n",
    "Se analiza la columna `website` para identificar qué plataformas utilizan los comercios en su presencia digital.  \n",
    "Se agrupan los resultados según un diccionario de términos comunes (redes sociales, marketplaces, constructores web, etc.).  \n",
    "También se incluye la categoría de **Dominio Propio**, que representa sitios personalizados.\n",
    "\n",
    "> Esta tabla permite entender cómo se distribuye la digitalización comercial entre plataformas gratuitas, redes sociales y sitios profesionales.\n",
    "\n",
    "</div>"
   ]
  },
  {
   "cell_type": "code",
   "execution_count": 169,
   "id": "c4e8af06",
   "metadata": {},
   "outputs": [
    {
     "data": {
      "application/vnd.microsoft.datawrangler.viewer.v0+json": {
       "columns": [
        {
         "name": "index",
         "rawType": "object",
         "type": "string"
        },
        {
         "name": "count",
         "rawType": "int64",
         "type": "integer"
        },
        {
         "name": "percentage",
         "rawType": "float64",
         "type": "float"
        }
       ],
       "ref": "68829fda-c8e0-4efe-994c-baab75fc3c68",
       "rows": [
        [
         "Dominio Propio",
         "941",
         "53.77"
        ],
        [
         "Instagram",
         "337",
         "19.26"
        ],
        [
         "Facebook",
         "317",
         "18.11"
        ],
        [
         "Guía Dorada",
         "68",
         "3.89"
        ],
        [
         "TiendaNube",
         "35",
         "2.0"
        ],
        [
         "WhatsApp",
         "15",
         "0.86"
        ],
        [
         "Google Sites",
         "13",
         "0.74"
        ],
        [
         "Gurugo",
         "8",
         "0.46"
        ],
        [
         "MercadoShops",
         "8",
         "0.46"
        ],
        [
         "Región20",
         "5",
         "0.29"
        ],
        [
         "Mercado Libre",
         "3",
         "0.17"
        ],
        [
         "Páginas Amarillas",
         "2",
         "0.11"
        ],
        [
         "PedidosYa",
         "1",
         "0.06"
        ]
       ],
       "shape": {
        "columns": 2,
        "rows": 13
       }
      },
      "text/html": [
       "<div>\n",
       "<style scoped>\n",
       "    .dataframe tbody tr th:only-of-type {\n",
       "        vertical-align: middle;\n",
       "    }\n",
       "\n",
       "    .dataframe tbody tr th {\n",
       "        vertical-align: top;\n",
       "    }\n",
       "\n",
       "    .dataframe thead th {\n",
       "        text-align: right;\n",
       "    }\n",
       "</style>\n",
       "<table border=\"1\" class=\"dataframe\">\n",
       "  <thead>\n",
       "    <tr style=\"text-align: right;\">\n",
       "      <th></th>\n",
       "      <th>count</th>\n",
       "      <th>percentage</th>\n",
       "    </tr>\n",
       "  </thead>\n",
       "  <tbody>\n",
       "    <tr>\n",
       "      <th>Dominio Propio</th>\n",
       "      <td>941</td>\n",
       "      <td>53.77</td>\n",
       "    </tr>\n",
       "    <tr>\n",
       "      <th>Instagram</th>\n",
       "      <td>337</td>\n",
       "      <td>19.26</td>\n",
       "    </tr>\n",
       "    <tr>\n",
       "      <th>Facebook</th>\n",
       "      <td>317</td>\n",
       "      <td>18.11</td>\n",
       "    </tr>\n",
       "    <tr>\n",
       "      <th>Guía Dorada</th>\n",
       "      <td>68</td>\n",
       "      <td>3.89</td>\n",
       "    </tr>\n",
       "    <tr>\n",
       "      <th>TiendaNube</th>\n",
       "      <td>35</td>\n",
       "      <td>2.00</td>\n",
       "    </tr>\n",
       "    <tr>\n",
       "      <th>WhatsApp</th>\n",
       "      <td>15</td>\n",
       "      <td>0.86</td>\n",
       "    </tr>\n",
       "    <tr>\n",
       "      <th>Google Sites</th>\n",
       "      <td>13</td>\n",
       "      <td>0.74</td>\n",
       "    </tr>\n",
       "    <tr>\n",
       "      <th>Gurugo</th>\n",
       "      <td>8</td>\n",
       "      <td>0.46</td>\n",
       "    </tr>\n",
       "    <tr>\n",
       "      <th>MercadoShops</th>\n",
       "      <td>8</td>\n",
       "      <td>0.46</td>\n",
       "    </tr>\n",
       "    <tr>\n",
       "      <th>Región20</th>\n",
       "      <td>5</td>\n",
       "      <td>0.29</td>\n",
       "    </tr>\n",
       "    <tr>\n",
       "      <th>Mercado Libre</th>\n",
       "      <td>3</td>\n",
       "      <td>0.17</td>\n",
       "    </tr>\n",
       "    <tr>\n",
       "      <th>Páginas Amarillas</th>\n",
       "      <td>2</td>\n",
       "      <td>0.11</td>\n",
       "    </tr>\n",
       "    <tr>\n",
       "      <th>PedidosYa</th>\n",
       "      <td>1</td>\n",
       "      <td>0.06</td>\n",
       "    </tr>\n",
       "  </tbody>\n",
       "</table>\n",
       "</div>"
      ],
      "text/plain": [
       "                   count  percentage\n",
       "Dominio Propio       941       53.77\n",
       "Instagram            337       19.26\n",
       "Facebook             317       18.11\n",
       "Guía Dorada           68        3.89\n",
       "TiendaNube            35        2.00\n",
       "WhatsApp              15        0.86\n",
       "Google Sites          13        0.74\n",
       "Gurugo                 8        0.46\n",
       "MercadoShops           8        0.46\n",
       "Región20               5        0.29\n",
       "Mercado Libre          3        0.17\n",
       "Páginas Amarillas      2        0.11\n",
       "PedidosYa              1        0.06"
      ]
     },
     "execution_count": 169,
     "metadata": {},
     "output_type": "execute_result"
    }
   ],
   "source": [
    "# Define diccionario de plataformas y términos comunes en URLs para agrupar presencia web\n",
    "words_dict = {\n",
    "    'facebook': 'Facebook',\n",
    "    'instagram': 'Instagram',\n",
    "    'mercadolibre': 'Mercado Libre',\n",
    "    'mercadoshops': 'MercadoShops',\n",
    "    'tiendanube': 'TiendaNube',\n",
    "    'paginasamarillas': 'Páginas Amarillas',\n",
    "    'guia-dorada': 'Guía Dorada',\n",
    "    'gurugo': 'Gurugo',\n",
    "    'wa.me': 'WhatsApp',\n",
    "    'sites.google.': 'Google Sites',\n",
    "    'pedidosya': 'PedidosYa',\n",
    "    'region20': 'Región20'\n",
    "}\n",
    "\n",
    "# Cuenta cuántos comercios tienen cada tipo de presencia web según el diccionario\n",
    "result = pd.Series({\n",
    "    label: df['website'].str.contains(word, case=False, na=False).sum()\n",
    "    for word, label in words_dict.items()\n",
    "})\n",
    "\n",
    "# Calcula el total de comercios con sitio web registrado (excluyendo np.nan)\n",
    "webs = df['website'].notna().sum()\n",
    "\n",
    "# Agrega la cantidad de comercios con dominio propio\n",
    "result[\"Dominio Propio\"] = dominio_Propio\n",
    "\n",
    "# Crea tabla resumen con conteo y porcentaje por tipo de presencia web\n",
    "result_df = pd.DataFrame({\n",
    "    \"count\": result,\n",
    "    \"percentage\": (result / webs * 100).round(2)\n",
    "}).sort_values(\"count\", ascending=False)\n",
    "\n",
    "result_df\n"
   ]
  },
  {
   "cell_type": "markdown",
   "id": "f4b8f0dc",
   "metadata": {},
   "source": [
    "<div style=\"font-family: 'JetBrains Mono', monospace; font-size: 14px; color: #e2dbdbff; line-height: 1.6;\">\n",
    "\n",
    "### 📊 Preferencia de plataformas digitales\n",
    "\n",
    "Se visualiza la distribución de presencia digital entre plataformas utilizadas por los comercios.  \n",
    "El gráfico muestra cuántos negocios utilizan cada tipo de sitio web, red social o marketplace.\n",
    "\n",
    "**Principales hallazgos:**\n",
    "- 🏆 **Dominio Propio** lidera con el 53.77% de los casos, asociado a cadenas nacionales o negocios con inversión digital.\n",
    "- 📱 **Instagram (19.26%)** y **Facebook (18.11%)** son las redes sociales más utilizadas.\n",
    "- 📉 Las otras redes se usan muy poco, lo que muestra que los negocios prefieren plataformas simples y visuales para llegar a sus clientes.\n",
    "\n",
    "> Este análisis revela una polarización en la digitalización comercial, donde pocos canales concentran la mayoría de la presencia online.\n",
    "\n",
    "</div>"
   ]
  },
  {
   "cell_type": "code",
   "execution_count": 170,
   "id": "c8dc259b",
   "metadata": {},
   "outputs": [
    {
     "data": {
      "image/png": "[encoded data removed]",
      "text/plain": [
       "<Figure size 1200x700 with 1 Axes>"
      ]
     },
     "metadata": {},
     "output_type": "display_data"
    }
   ],
   "source": [
    "# Filtra plataformas con más de 10 registros y ordena para visualización.\n",
    "result_df_filtered = result_df[result_df[\"count\"] > 10]\n",
    "# Invertir orden para que mayor cantidad esté arriba\n",
    "df_sorted = result_df_filtered.iloc[::-1]\n",
    "# Genera gráfico de barras horizontales mostrando cantidad de comercios por plataforma digital.\n",
    "fig, ax = plt.subplots(figsize=(12, 7), facecolor='white')\n",
    "\n",
    "# Gráfico de barras horizontales\n",
    "bars = ax.barh(df_sorted.index, df_sorted[\"count\"], color='#5DADE2', \n",
    "               edgecolor='white', linewidth=2, alpha=0.85, height=0.6)\n",
    "\n",
    "# Títulos\n",
    "ax.text(0.5, 1.08, 'Análisis de Presencia Digital', \n",
    "        transform=ax.transAxes, fontsize=12, ha='center', va='bottom', fontweight='bold', alpha=0.8)\n",
    "ax.text(0.5, 1.04, 'Sitios Web • Marketplaces • E-commerce • Redes Sociales • Directorios Digitales', \n",
    "        transform=ax.transAxes, fontsize=10, ha='center', va='bottom', alpha=0.7, style='italic')\n",
    "\n",
    "# Etiquetas en barras\n",
    "for bar in bars:\n",
    "    width = bar.get_width()\n",
    "    ax.annotate(f'{int(width)}', xy=(width, bar.get_y() + bar.get_height()/2), \n",
    "                xytext=(5, 0), textcoords=\"offset points\", ha='left', va='center', \n",
    "                fontweight='bold', fontsize=10, color='white',\n",
    "                bbox=dict(boxstyle=\"round,pad=0.2\", facecolor='black', alpha=0.6))\n",
    "\n",
    "# Configuración de ejes y grid\n",
    "ax.set(xlabel=\"Cantidad de Negocios\", ylabel=\"Plataformas\")\n",
    "ax.set_xlabel(\"Cantidad de Negocios\", fontsize=14, fontweight='bold', labelpad=15)\n",
    "ax.set_ylabel(\"Plataformas\", fontsize=14, fontweight='bold', labelpad=15)\n",
    "ax.xaxis.grid(True, linestyle='--', alpha=0.9, color=\"#646363\", linewidth=1)\n",
    "ax.set_axisbelow(True)\n",
    "\n",
    "# Limpieza de bordes y formato\n",
    "for spine in ['top', 'right']: ax.spines[spine].set_visible(False)\n",
    "ax.tick_params(axis='both', which='major', labelsize=10, colors='#2C3E50')\n",
    "plt.tight_layout(); \n",
    "plt.savefig(\"../Images/03-Análisis_de_presencia_digital.png\", dpi=300, bbox_inches='tight')\n",
    "plt.show()"
   ]
  },
  {
   "cell_type": "markdown",
   "id": "76d6cb05",
   "metadata": {},
   "source": [
    "<div style=\"font-family: 'JetBrains Mono', monospace; font-size: 14px; color: #e2dbdbff; line-height: 1.6;\">\n",
    "\n",
    "### 📊 Análisis de distribución por categorías comerciales\n",
    "\n",
    "Se agrupan los registros por `categoryName` para identificar los rubros más representados.  \n",
    "Se calcula la cantidad de comercios por categoría, su porcentaje sobre el total y el número total de categorías únicas.\n",
    "\n",
    "**Resultados principales:**\n",
    "- 🧥 **Tienda de Ropa**: 464 comercios (7.92%)\n",
    "- 🛒 **Tienda de Alimentación**: 366 comercios (6.25%) \n",
    "- 🏪 **Comercio**: 333 comercios (5.68%)\n",
    "\n",
    "🔍 **Problema detectado: demasiadas categorías**\n",
    "El dataset contiene **621 categorías diferentes**, lo que genera:\n",
    "- Porcentajes muy bajos incluso en las más frecuentes.\n",
    "- Datos dispersos y difícil agrupamiento.\n",
    "- Obstáculos para detectar patrones claros.\n",
    "\n",
    "📈 **Implicancias:**\n",
    "- Los comercios están clasificados de forma muy específica.\n",
    "- Es necesario agrupar categorías similares para facilitar el análisis.\n",
    "- Ejemplo: \"Tienda de Ropa\", \"Ropa\" e \"Indumentaria\" podrían consolidarse.\n",
    "\n",
    "> **Conclusión**: Aunque la diversidad es alta, una clasificación más general permitiría obtener insights más robustos.\n",
    "\n",
    "</div>"
   ]
  },
  {
   "cell_type": "code",
   "execution_count": 171,
   "id": "e7c5ea49",
   "metadata": {},
   "outputs": [
    {
     "data": {
      "application/vnd.microsoft.datawrangler.viewer.v0+json": {
       "columns": [
        {
         "name": "index",
         "rawType": "int64",
         "type": "integer"
        },
        {
         "name": "categoryName",
         "rawType": "object",
         "type": "string"
        },
        {
         "name": "website_count",
         "rawType": "int64",
         "type": "integer"
        },
        {
         "name": "percentage",
         "rawType": "float64",
         "type": "float"
        }
       ],
       "ref": "51cfd4ab-2dfc-4258-a439-272e09e06a7f",
       "rows": [
        [
         "572",
         "Tienda De Ropa",
         "464",
         "8.12"
        ],
        [
         "443",
         "Tienda De Alimentación",
         "366",
         "6.4"
        ],
        [
         "90",
         "Comercio",
         "333",
         "5.82"
        ],
        [
         "14",
         "Agencia Inmobiliaria",
         "180",
         "3.15"
        ],
        [
         "426",
         "Taller De Reparación De Automóviles",
         "141",
         "2.47"
        ],
        [
         "569",
         "Tienda De Repuestos Para Automóviles",
         "140",
         "2.45"
        ],
        [
         "577",
         "Tienda De Ropa De Mujer",
         "115",
         "2.01"
        ],
        [
         "537",
         "Tienda De Materiales Para La Construcción",
         "103",
         "1.8"
        ],
        [
         "40",
         "Carnicería",
         "101",
         "1.77"
        ],
        [
         "467",
         "Tienda De Artículos Para El Hogar",
         "97",
         "1.7"
        ],
        [
         "412",
         "Supermercado",
         "93",
         "1.63"
        ],
        [
         "275",
         "Panadería",
         "90",
         "1.57"
        ],
        [
         "102",
         "Concesionario De Automóviles",
         "83",
         "1.45"
        ],
        [
         "432",
         "Taller Mecánico",
         "81",
         "1.42"
        ],
        [
         "542",
         "Tienda De Muebles",
         "68",
         "1.19"
        ],
        [
         "84",
         "Club Deportivo",
         "66",
         "1.15"
        ],
        [
         "155",
         "Empresa Constructora",
         "66",
         "1.15"
        ],
        [
         "199",
         "Ferretería",
         "60",
         "1.05"
        ],
        [
         "203",
         "Frutería",
         "59",
         "1.03"
        ],
        [
         "244",
         "Kiosco",
         "57",
         "1.0"
        ],
        [
         "605",
         "Tienda General",
         "53",
         "0.93"
        ],
        [
         "197",
         "Farmacia",
         "48",
         "0.84"
        ],
        [
         "558",
         "Tienda De Pinturas",
         "47",
         "0.82"
        ],
        [
         "526",
         "Tienda De Informática",
         "46",
         "0.8"
        ],
        [
         "566",
         "Tienda De Regalos",
         "45",
         "0.79"
        ],
        [
         "247",
         "Librería",
         "43",
         "0.75"
        ],
        [
         "584",
         "Tienda De Ropa Infantil",
         "38",
         "0.66"
        ],
        [
         "220",
         "Heladería",
         "35",
         "0.61"
        ],
        [
         "548",
         "Tienda De Móviles",
         "34",
         "0.59"
        ],
        [
         "510",
         "Tienda De Electrónica",
         "34",
         "0.59"
        ],
        [
         "416",
         "Taller De Automóviles",
         "33",
         "0.58"
        ],
        [
         "549",
         "Tienda De Neumáticos",
         "33",
         "0.58"
        ],
        [
         "586",
         "Tienda De Ropa Para Bebés",
         "31",
         "0.54"
        ],
        [
         "576",
         "Tienda De Ropa De Hombre",
         "31",
         "0.54"
        ],
        [
         "15",
         "Agentes Inmobiliarios",
         "29",
         "0.51"
        ],
        [
         "610",
         "Urbanización",
         "28",
         "0.49"
        ],
        [
         "531",
         "Tienda De Lencería",
         "28",
         "0.49"
        ],
        [
         "524",
         "Tienda De Herramientas",
         "28",
         "0.49"
        ],
        [
         "37",
         "Cafetería",
         "28",
         "0.49"
        ],
        [
         "618",
         "Zapatería",
         "26",
         "0.45"
        ],
        [
         "444",
         "Tienda De Alimentos Naturales",
         "26",
         "0.45"
        ],
        [
         "148",
         "Diseñador De Sitios Web",
         "26",
         "0.45"
        ],
        [
         "574",
         "Tienda De Ropa De Deportes",
         "26",
         "0.45"
        ],
        [
         "311",
         "Proveedor De Materiales De Construcción",
         "25",
         "0.44"
        ],
        [
         "214",
         "Gasolinera",
         "22",
         "0.38"
        ],
        [
         "348",
         "Servicio De Cambio De Aceite",
         "22",
         "0.38"
        ],
        [
         "446",
         "Tienda De Alimentos Para Animales",
         "21",
         "0.37"
        ],
        [
         "182",
         "Establecimiento De Venta De Madera",
         "21",
         "0.37"
        ],
        [
         "325",
         "Quesería",
         "20",
         "0.35"
        ],
        [
         "154",
         "Electricista",
         "20",
         "0.35"
        ]
       ],
       "shape": {
        "columns": 3,
        "rows": 620
       }
      },
      "text/html": [
       "<div>\n",
       "<style scoped>\n",
       "    .dataframe tbody tr th:only-of-type {\n",
       "        vertical-align: middle;\n",
       "    }\n",
       "\n",
       "    .dataframe tbody tr th {\n",
       "        vertical-align: top;\n",
       "    }\n",
       "\n",
       "    .dataframe thead th {\n",
       "        text-align: right;\n",
       "    }\n",
       "</style>\n",
       "<table border=\"1\" class=\"dataframe\">\n",
       "  <thead>\n",
       "    <tr style=\"text-align: right;\">\n",
       "      <th></th>\n",
       "      <th>categoryName</th>\n",
       "      <th>website_count</th>\n",
       "      <th>percentage</th>\n",
       "    </tr>\n",
       "  </thead>\n",
       "  <tbody>\n",
       "    <tr>\n",
       "      <th>572</th>\n",
       "      <td>Tienda De Ropa</td>\n",
       "      <td>464</td>\n",
       "      <td>8.12</td>\n",
       "    </tr>\n",
       "    <tr>\n",
       "      <th>443</th>\n",
       "      <td>Tienda De Alimentación</td>\n",
       "      <td>366</td>\n",
       "      <td>6.40</td>\n",
       "    </tr>\n",
       "    <tr>\n",
       "      <th>90</th>\n",
       "      <td>Comercio</td>\n",
       "      <td>333</td>\n",
       "      <td>5.82</td>\n",
       "    </tr>\n",
       "    <tr>\n",
       "      <th>14</th>\n",
       "      <td>Agencia Inmobiliaria</td>\n",
       "      <td>180</td>\n",
       "      <td>3.15</td>\n",
       "    </tr>\n",
       "    <tr>\n",
       "      <th>426</th>\n",
       "      <td>Taller De Reparación De Automóviles</td>\n",
       "      <td>141</td>\n",
       "      <td>2.47</td>\n",
       "    </tr>\n",
       "    <tr>\n",
       "      <th>...</th>\n",
       "      <td>...</td>\n",
       "      <td>...</td>\n",
       "      <td>...</td>\n",
       "    </tr>\n",
       "    <tr>\n",
       "      <th>3</th>\n",
       "      <td>Agencia De Alquiler De Grúas</td>\n",
       "      <td>1</td>\n",
       "      <td>0.02</td>\n",
       "    </tr>\n",
       "    <tr>\n",
       "      <th>616</th>\n",
       "      <td>Wood Supplier</td>\n",
       "      <td>1</td>\n",
       "      <td>0.02</td>\n",
       "    </tr>\n",
       "    <tr>\n",
       "      <th>617</th>\n",
       "      <td>Zapatero</td>\n",
       "      <td>1</td>\n",
       "      <td>0.02</td>\n",
       "    </tr>\n",
       "    <tr>\n",
       "      <th>2</th>\n",
       "      <td>Agencia De Alquiler De Cabañas</td>\n",
       "      <td>1</td>\n",
       "      <td>0.02</td>\n",
       "    </tr>\n",
       "    <tr>\n",
       "      <th>1</th>\n",
       "      <td>Academia De Estética</td>\n",
       "      <td>1</td>\n",
       "      <td>0.02</td>\n",
       "    </tr>\n",
       "  </tbody>\n",
       "</table>\n",
       "<p>620 rows × 3 columns</p>\n",
       "</div>"
      ],
      "text/plain": [
       "                            categoryName  website_count  percentage\n",
       "572                       Tienda De Ropa            464        8.12\n",
       "443               Tienda De Alimentación            366        6.40\n",
       "90                              Comercio            333        5.82\n",
       "14                  Agencia Inmobiliaria            180        3.15\n",
       "426  Taller De Reparación De Automóviles            141        2.47\n",
       "..                                   ...            ...         ...\n",
       "3           Agencia De Alquiler De Grúas              1        0.02\n",
       "616                        Wood Supplier              1        0.02\n",
       "617                             Zapatero              1        0.02\n",
       "2         Agencia De Alquiler De Cabañas              1        0.02\n",
       "1                   Academia De Estética              1        0.02\n",
       "\n",
       "[620 rows x 3 columns]"
      ]
     },
     "execution_count": 171,
     "metadata": {},
     "output_type": "execute_result"
    }
   ],
   "source": [
    "# Agrupa los registros por categoría comercial y cuenta la cantidad de comercios en cada una.\n",
    "category_counts = (\n",
    "    df.groupby(['categoryName'])\n",
    "    .size()\n",
    "    .reset_index(name='website_count')\n",
    "    .sort_values(by='website_count', ascending=False)\n",
    ")\n",
    "\n",
    "# Calcula el porcentaje que representa cada categoría sobre el total.\n",
    "category_counts['percentage'] = (\n",
    "    category_counts['website_count'] / category_counts['website_count'].sum() * 100\n",
    ").round(2)\n",
    "category_counts"
   ]
  },
  {
   "cell_type": "code",
   "execution_count": 172,
   "id": "8a6d62b5",
   "metadata": {},
   "outputs": [
    {
     "name": "stdout",
     "output_type": "stream",
     "text": [
      "Total de categorías distintas: 620\n"
     ]
    }
   ],
   "source": [
    "# Mide la cantidad total de categorías únicas en el dataset.\n",
    "total_categorias = df['categoryName'].nunique()\n",
    "print(f\"Total de categorías distintas: {total_categorias}\")"
   ]
  },
  {
   "cell_type": "markdown",
   "id": "258b8a14",
   "metadata": {},
   "source": [
    "<div style=\"font-family: 'JetBrains Mono', monospace; font-size: 14px; color: #e2dbdbff; line-height: 1.6;\">\n",
    "\n",
    "### 🏆 Top 5 categorías con mayor presencia online\n",
    "\n",
    "Se visualizan las cinco categorías comerciales con más registros en el dataset.  \n",
    "El gráfico muestra cuántos comercios tienen presencia digital en cada una de ellas.\n",
    "\n",
    "> Esta visualización permite identificar los rubros más activos en términos de digitalización y sirve como punto de partida para segmentaciones más profundas.\n",
    "\n",
    "</div>\n"
   ]
  },
  {
   "cell_type": "code",
   "execution_count": 173,
   "id": "077cf067",
   "metadata": {},
   "outputs": [
    {
     "data": {
      "image/png": "[encoded data removed]",
      "text/plain": [
       "<Figure size 1200x500 with 1 Axes>"
      ]
     },
     "metadata": {},
     "output_type": "display_data"
    }
   ],
   "source": [
    "# Selecciona las 5 categorías con mayor cantidad de comercios.\n",
    "top5 = category_counts.head(5)\n",
    "\n",
    "# Genera gráfico de barras horizontales mostrando la cantidad de comercios por categoría.\n",
    "fig, ax = plt.subplots(figsize=(12, 5))\n",
    "bars = ax.barh(\n",
    "    top5['categoryName'],\n",
    "    top5['website_count'],\n",
    "    color=\"#5DADE2\",\n",
    "    label=\"Cantidad de websites\"\n",
    ")\n",
    "# Invierte el eje Y para que la categoría con más registros aparezca arriba.\n",
    "ax.invert_yaxis()\n",
    "\n",
    "# Agrega título al gráfico.\n",
    "ax.set_title(\"Categorías con más presencia Online\", fontsize=12, fontweight=\"bold\")\n",
    "\n",
    "# Añade etiquetas con valores sobre cada barra.\n",
    "for bar in bars:\n",
    "    width = bar.get_width()\n",
    "    ax.annotate(\n",
    "        f'{int(width)}',\n",
    "        xy=(width, bar.get_y() + bar.get_height()/2),\n",
    "        xytext=(5, 0),\n",
    "        textcoords=\"offset points\",\n",
    "        ha='left', va='center',\n",
    "        fontweight='bold', fontsize=10, color='white',\n",
    "        bbox=dict(boxstyle=\"round,pad=0.2\", facecolor='black', alpha=0.6)\n",
    "    )\n",
    "# Ajusta el diseño del gráfico.\n",
    "plt.tight_layout()\n",
    "plt.savefig(\"../Images/04-Categorias_con_mas_presencia.png\", dpi=300, bbox_inches='tight')\n",
    "plt.show()\n"
   ]
  },
  {
   "cell_type": "markdown",
   "id": "1fe27765",
   "metadata": {},
   "source": [
    "<div style=\"font-family: 'JetBrains Mono', monospace; font-size: 14px; color: #e2dbdbff; line-height: 1.6;\">\n",
    "\n",
    "### ⭐ Distribución de puntuaciones comerciales\n",
    "\n",
    "Se analiza la columna `totalScore` para conocer cuántos comercios tienen cada nivel de puntuación.  \n",
    "Esto permite detectar si los puntajes están concentrados en ciertos valores (por ejemplo, entre 4.0 y 4.5)  \n",
    "y evaluar la consistencia en la percepción de calidad.\n",
    "\n",
    "> Este análisis puede revelar sesgos en la calificación o confirmar una tendencia positiva general.\n",
    "\n",
    "</div>"
   ]
  },
  {
   "cell_type": "code",
   "execution_count": 174,
   "id": "a91972f6",
   "metadata": {},
   "outputs": [
    {
     "data": {
      "application/vnd.microsoft.datawrangler.viewer.v0+json": {
       "columns": [
        {
         "name": "totalScore",
         "rawType": "float64",
         "type": "float"
        },
        {
         "name": "count",
         "rawType": "int64",
         "type": "integer"
        }
       ],
       "ref": "7f6e56bb-d6a0-452f-97e4-a0decc53df45",
       "rows": [
        [
         "5.0",
         "1206"
        ],
        [
         "4.5",
         "424"
        ],
        [
         "4.7",
         "403"
        ],
        [
         "4.6",
         "396"
        ],
        [
         "4.8",
         "376"
        ],
        [
         "4.4",
         "313"
        ],
        [
         "4.3",
         "268"
        ],
        [
         "4.9",
         "214"
        ],
        [
         "4.0",
         "198"
        ],
        [
         "4.2",
         "151"
        ],
        [
         "4.1",
         "114"
        ],
        [
         "3.0",
         "70"
        ],
        [
         "3.8",
         "59"
        ],
        [
         "3.7",
         "58"
        ],
        [
         "3.9",
         "39"
        ],
        [
         "1.0",
         "38"
        ],
        [
         "3.5",
         "25"
        ],
        [
         "2.0",
         "21"
        ],
        [
         "3.6",
         "20"
        ],
        [
         "3.3",
         "19"
        ],
        [
         "3.4",
         "12"
        ],
        [
         "2.3",
         "11"
        ],
        [
         "2.5",
         "5"
        ],
        [
         "3.1",
         "4"
        ],
        [
         "2.9",
         "3"
        ],
        [
         "2.7",
         "3"
        ],
        [
         "1.8",
         "2"
        ],
        [
         "1.9",
         "2"
        ],
        [
         "2.8",
         "2"
        ],
        [
         "3.2",
         "2"
        ],
        [
         "2.4",
         "1"
        ],
        [
         "1.5",
         "1"
        ],
        [
         "1.3",
         "1"
        ],
        [
         "2.6",
         "1"
        ],
        [
         "2.1",
         "1"
        ],
        [
         "1.7",
         "1"
        ]
       ],
       "shape": {
        "columns": 1,
        "rows": 36
       }
      },
      "text/plain": [
       "totalScore\n",
       "5.0    1206\n",
       "4.5     424\n",
       "4.7     403\n",
       "4.6     396\n",
       "4.8     376\n",
       "4.4     313\n",
       "4.3     268\n",
       "4.9     214\n",
       "4.0     198\n",
       "4.2     151\n",
       "4.1     114\n",
       "3.0      70\n",
       "3.8      59\n",
       "3.7      58\n",
       "3.9      39\n",
       "1.0      38\n",
       "3.5      25\n",
       "2.0      21\n",
       "3.6      20\n",
       "3.3      19\n",
       "3.4      12\n",
       "2.3      11\n",
       "2.5       5\n",
       "3.1       4\n",
       "2.9       3\n",
       "2.7       3\n",
       "1.8       2\n",
       "1.9       2\n",
       "2.8       2\n",
       "3.2       2\n",
       "2.4       1\n",
       "1.5       1\n",
       "1.3       1\n",
       "2.6       1\n",
       "2.1       1\n",
       "1.7       1\n",
       "Name: count, dtype: int64"
      ]
     },
     "execution_count": 174,
     "metadata": {},
     "output_type": "execute_result"
    }
   ],
   "source": [
    "# Muestra la frecuencia de cada valor en la columna 'totalScore', ordenado de mayor a menor.\n",
    "df['totalScore'].value_counts().sort_values(ascending=False)"
   ]
  },
  {
   "cell_type": "markdown",
   "id": "6977e87d",
   "metadata": {},
   "source": [
    "<div style=\"font-family: 'JetBrains Mono', monospace; font-size: 14px; color: #e2dbdbff; line-height: 1.6;\">\n",
    "\n",
    "### 📊 Distribución de puntajes de calificación\n",
    "\n",
    "Este gráfico muestra cómo se distribuyen los puntajes asignados a los comercios según su presencia web.\n",
    "\n",
    "- Los puntajes se agrupan en categorías como *Malo*, *Regular*, *Bueno*, *Muy bueno* y *Excelente*.\n",
    "- Los comercios sin puntaje registrado o con puntaje igual a 0 se agrupan como **\"Sin calificar\"**.\n",
    "- Esto permite visualizar claramente cuántos negocios aún no tienen una evaluación digital.\n",
    "\n",
    "> En general, los negocios se concentran en la parte alta de la escala, lo que refleja buena percepción de los clientes.  \n",
    "> Sin embargo, el alto porcentaje sin calificar indica que aún falta información en muchos casos.\n",
    "\n",
    "> Esta visualización ayuda a detectar oportunidades de mejora y a entender cómo se percibe la calidad digital en el conjunto de datos.\n",
    "\n",
    "</div>"
   ]
  },
  {
   "cell_type": "code",
   "execution_count": 175,
   "id": "19ac1557",
   "metadata": {},
   "outputs": [
    {
     "data": {
      "image/png": "[encoded data removed]",
      "text/plain": [
       "<Figure size 1000x600 with 1 Axes>"
      ]
     },
     "metadata": {},
     "output_type": "display_data"
    },
    {
     "name": "stdout",
     "output_type": "stream",
     "text": [
      "📊 Estadísticas por categorías:\n",
      "🔹 Muy bueno (4 - 4.9): 2,659 negocios (45.38%)\n",
      "🔹 Sin calificar: 1,395 negocios (23.81%)\n",
      "🔹 Excelente (5): 1,206 negocios (20.58%)\n",
      "🔹 Bueno (3 - 4): 436 negocios (7.44%)\n",
      "🔹 Regular (2 - 3): 97 negocios (1.66%)\n",
      "🔹 Malo (1 - 2): 66 negocios (1.13%)\n"
     ]
    }
   ],
   "source": [
    "# Función para categorizar puntajes\n",
    "def categorize_score(score):\n",
    "    if pd.isna(score): return \"Sin calificar\"\n",
    "    elif score == 0: return \"Sin calificar\"\n",
    "    elif score <= 2: return \"Malo (1 - 2)\"\n",
    "    elif score <= 3: return \"Regular (2 - 3)\"\n",
    "    elif score <= 4: return \"Bueno (3 - 4)\"\n",
    "    elif score < 5: return \"Muy bueno (4 - 4.9)\"\n",
    "    else: return \"Excelente (5)\"\n",
    "\n",
    "# Aplica la función y crea columna categórica\n",
    "df['score_category'] = df['totalScore'].apply(categorize_score)\n",
    "\n",
    "# Cuenta registros por categoría (ahora incluye \"Sin calificar\")\n",
    "cat_counts = df['score_category'].value_counts()\n",
    "\n",
    "# Gráfico de barras\n",
    "plt.figure(figsize=(10, 6), facecolor='white')\n",
    "bars = plt.bar(range(len(cat_counts)), cat_counts.values, color='#5DADE2',\n",
    "               alpha=0.85, edgecolor='white', linewidth=2)\n",
    "\n",
    "# Título\n",
    "plt.title('Distribución de Puntajes de Calificación', fontsize=16, fontweight='bold', color='#2C3E50')\n",
    "\n",
    "# Ejes\n",
    "plt.xticks(range(len(cat_counts)), cat_counts.index, rotation=45, ha='right',\n",
    "           fontsize=10, fontweight='bold', color=\"#1E3144\")\n",
    "plt.ylabel('Cantidad de Negocios', fontsize=12, fontweight='bold', color='#2C3E50')\n",
    "\n",
    "# Etiquetas en barras\n",
    "for bar in bars:\n",
    "    height = bar.get_height()\n",
    "    plt.annotate(f'{int(height)}', xy=(bar.get_x() + bar.get_width()/2, height),\n",
    "                 xytext=(0, 5), textcoords=\"offset points\", ha='center', va='bottom',\n",
    "                 fontweight='bold', fontsize=10, color='#2C3E50')\n",
    "\n",
    "# Estética\n",
    "plt.grid(True, alpha=0.3, axis='y', linestyle='--', color='gray')\n",
    "for spine in ['top', 'right']: plt.gca().spines[spine].set_visible(False)\n",
    "plt.tight_layout()\n",
    "plt.savefig(\"../Images/05-Distribucion_puntajes.png\", dpi=300, bbox_inches='tight')\n",
    "plt.show()\n",
    "\n",
    "# Estadísticas por categoría\n",
    "print(\"📊 Estadísticas por categorías:\")\n",
    "for category, count in cat_counts.items():\n",
    "    print(f\"🔹 {category}: {count:,} negocios ({count/len(df)*100:.2f}%)\")"
   ]
  },
  {
   "cell_type": "markdown",
   "id": "8dc4f21b",
   "metadata": {},
   "source": [
    "<div style=\"font-family: 'JetBrains Mono', monospace; font-size: 14px; color: #e2dbdbff; line-height: 1.6;\">\n",
    "\n",
    "### 📊 Distribución de puntuaciones altas (entre 4.0 y 5.0)\n",
    "Este gráfico se enfoca exclusivamente en los puntajes más elevados para entender mejor cómo se distribuye la percepción positiva entre los comercios.\n",
    "Se genera un histograma con suavizado KDE que muestra con precisión dónde se concentran las calificaciones más altas.\n",
    "Este análisis complementa la visión general de puntajes, destacando los niveles de excelencia alcanzados.\n",
    "**Hallazgos clave:**\n",
    "\n",
    "🔵 Concentración entre 4.0 y 4.5: La mayoría de los negocios reciben calificaciones altas, lo que indica una experiencia satisfactoria.\n",
    "🟢 Pico en 5.0: Muchos comercios alcanzan la puntuación máxima, reflejando excelencia en su presencia digital.\n",
    "\n",
    "Este análisis refuerza la idea de una cultura de calidad consolidada, aunque también señala que hay margen para que más negocios alcancen el nivel máximo.\n",
    "\n",
    "</div>\n"
   ]
  },
  {
   "cell_type": "code",
   "execution_count": 176,
   "id": "6a10d6c4",
   "metadata": {},
   "outputs": [
    {
     "data": {
      "image/png": "[encoded data removed]",
      "text/plain": [
       "<Figure size 1000x600 with 1 Axes>"
      ]
     },
     "metadata": {},
     "output_type": "display_data"
    }
   ],
   "source": [
    "# Filtra los registros con puntajes entre 4 y 5 para analizar la distribución de calificaciones altas.\n",
    "puntajes_4_a_5 = df[(df['totalScore'] >= 4) & (df['totalScore'] <= 5)]\n",
    "\n",
    "# Genera histograma con KDE para visualizar la frecuencia de puntajes altos.\n",
    "plt.figure(figsize=(10, 6), facecolor='white')\n",
    "ax = sns.histplot(\n",
    "    data=puntajes_4_a_5,\n",
    "    x='totalScore',\n",
    "    bins=20,\n",
    "    kde=True,\n",
    "    color='#3498db',\n",
    "    edgecolor='white',\n",
    "    linewidth=1.5\n",
    ")\n",
    "\n",
    "# Añade etiquetas numéricas sobre cada barra para facilitar la lectura.\n",
    "for bar in ax.patches:\n",
    "    height = bar.get_height()\n",
    "    if height > 0:\n",
    "        ax.annotate(\n",
    "            f'{int(height)}',\n",
    "            xy=(bar.get_x() + bar.get_width() / 2, height),\n",
    "            xytext=(0, 3),\n",
    "            textcoords=\"offset points\",\n",
    "            ha='center',\n",
    "            va='bottom',\n",
    "            fontsize=8\n",
    "        )\n",
    "\n",
    "# Personaliza estética del gráfico.\n",
    "plt.title('06-Distribución de Puntajes de Calificación (Entre 4 y 5)', fontsize=16, fontweight='bold', color='#2C3E50')\n",
    "plt.xlabel('Puntuación', fontsize=12)\n",
    "plt.ylabel('Frecuencia (Cantidad de Negocios)', fontsize=12)\n",
    "plt.grid(axis='y', linestyle='--', alpha=0.6)\n",
    "plt.savefig(\"../Images/02-Porcentaje_presencia_x_ciudad.png\", dpi=300, bbox_inches='tight')\n",
    "plt.tight_layout()\n",
    "plt.show()\n"
   ]
  },
  {
   "cell_type": "code",
   "execution_count": 177,
   "id": "f3eb0fe4",
   "metadata": {},
   "outputs": [
    {
     "name": "stdout",
     "output_type": "stream",
     "text": [
      "📋 RESUMEN DEL ANÁLISIS\n",
      "==================================================\n",
      "🏙️ Total de ciudades analizadas: 5\n",
      "🏪 Total de comercios: 5,859 registros\n",
      "🌐 Presencia web promedio: 25.40%\n",
      "🏆 Ciudad con mayor presencia web: Tandil (35.29%)\n",
      "⚠️ Ciudad con menor presencia web: Benito Juárez (18.05%)\n",
      "📦 Categoría más frecuente: Tienda De Ropa (464 registros)\n",
      "🔗 Porcentaje con Dominio Propio: 53.77%\n",
      "⭐ Puntaje promedio (Máximo 5): 4.52\n",
      "📉 Porcentaje sin calificar: 23.81%\n"
     ]
    }
   ],
   "source": [
    "print(\"📋 RESUMEN DEL ANÁLISIS\")\n",
    "print(\"=\" * 50)\n",
    "# Total de ciudades\n",
    "print(f\"🏙️ Total de ciudades analizadas: {len(resumen)}\")\n",
    "# Total de comercios\n",
    "print(f\"🏪 Total de comercios: {len(df):,} registros\")\n",
    "# Promedio de presencia web\n",
    "print(f\"🌐 Presencia web promedio: {resumen['% Completos'].mean():.2f}%\")\n",
    "# Ciudad con mayor presencia web\n",
    "print(f\"🏆 Ciudad con mayor presencia web: {mejor_web.name} ({mejor_web['% Completos']:.2f}%)\")\n",
    "# Ciudad con menor presencia web\n",
    "print(f\"⚠️ Ciudad con menor presencia web: {peor_web.name} ({peor_web['% Completos']:.2f}%)\")\n",
    "# Categoría más frecuente\n",
    "categoria_top = category_counts.iloc[0]\n",
    "print(f\"📦 Categoría más frecuente: {categoria_top['categoryName']} ({categoria_top['website_count']:,} registros)\")\n",
    "# Porcentaje con dominio propio\n",
    "print(f\"🔗 Porcentaje con Dominio Propio: {result_df.loc['Dominio Propio', 'percentage']:.2f}%\")\n",
    "# Puntaje promedio\n",
    "print(f\"⭐ Puntaje promedio (Máximo 5): {df['totalScore'].mean():.2f}\")\n",
    "# Porcentaje sin calificar\n",
    "sin_calificar = (df['score_category'] == 'Sin calificar').mean() * 100\n",
    "print(f\"📉 Porcentaje sin calificar: {sin_calificar:.2f}%\")"
   ]
  },
  {
   "cell_type": "markdown",
   "id": "4af4bb31",
   "metadata": {},
   "source": [
    "<div style=\"font-family: 'JetBrains Mono', monospace; font-size: 14px; color: #e2dbdbff; line-height: 1.6;\">\n",
    "\n",
    "### 📌 **Conclusión General**\n",
    "\n",
    "El análisis revela una digitalización comercial desigual entre ciudades y categorías:\n",
    "\n",
    "- 🏙️ **Ciudades más grandes** como Tandil y Olavarría muestran mayor presencia web y mejor completitud de datos.\n",
    "- 🏪 **Categorías como Tienda de Ropa y Agencia Inmobiliaria** lideran en registros completos y presencia digital.\n",
    "- 🌐 **Dominio Propio** representa más del 50% de los sitios web, lo que indica inversión en identidad digital.\n",
    "- 📱 **Instagram y Facebook** son las redes sociales más utilizadas, aunque con menor peso que los sitios personalizados.\n",
    "- 📈 **Puntajes de calificación** se concentran entre 4.0 y 4.5, con un pico en 5.0, lo que refleja una percepción positiva general.\n",
    "- ⚠️ **Más del 30% de los comercios no están calificados**, lo que sugiere falta de información en muchos casos.\n",
    "\n",
    "> En conjunto, los datos muestran una cultura digital en crecimiento, pero con brechas claras que deben ser atendidas para lograr una digitalización más equitativa y robusta.\n",
    "\n",
    "</div>"
   ]
  },
  {
   "cell_type": "markdown",
   "id": "0b1e9180",
   "metadata": {},
   "source": [
    "<div style=\"font-family: 'JetBrains Mono', monospace; font-size: 14px; color: #e2dbdbff; line-height: 1.6;\">\n",
    "\n",
    "\n",
    "</div>"
   ]
  }
 ],
 "metadata": {
  "kernelspec": {
   "display_name": ".venv (3.13.7)",
   "language": "python",
   "name": "python3"
  },
  "language_info": {
   "codemirror_mode": {
    "name": "ipython",
    "version": 3
   },
   "file_extension": ".py",
   "mimetype": "text/x-python",
   "name": "python",
   "nbconvert_exporter": "python",
   "pygments_lexer": "ipython3",
   "version": "3.13.7"
  }
 },
 "nbformat": 4,
 "nbformat_minor": 5
}
