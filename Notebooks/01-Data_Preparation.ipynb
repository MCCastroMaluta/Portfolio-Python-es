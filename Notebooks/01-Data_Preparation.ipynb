{
 "cells": [
  {
   "cell_type": "markdown",
   "id": "cafe4ed2",
   "metadata": {},
   "source": [
    "<div style=\"font-family: 'JetBrains Mono', monospace; font-size: 14px; color: #e2dbdbff; line-height: 1.6;\">\n",
    "\n",
    "## 1. 🚀 Introducción y Contexto\n",
    "\n",
    "### 🛠️ La Historia que Motivó este Análisis\n",
    "\n",
    "Era un día cualquiera en **Tandil** cuando mi bordeadora STIHL FSE60 decidió rendirse. Necesitaba un repuesto específico y, como cualquier persona del siglo XXI, mi primer instinto fue buscarlo **online**.\n",
    "\n",
    "🔍 **Google:** Nada en la ciudad  \n",
    "🛒 **MercadoLibre:** ¡Disponible! Pero a **350 km** y con 1 día de espera\n",
    "\n",
    "Decidí intentar la búsqueda física. Después de **un día completo** recorriendo comercios...\n",
    "\n",
    "💡 **¡EUREKA!** Un comercio finalmente sabía dónde conseguirlo. Estaba a **10 cuadras de casa**.\n",
    "\n",
    "#### 🤔 La Pregunta que Cambió Todo\n",
    "\n",
    "> **\"Si este comercio lo tenía, ¿por qué no apareció en mis búsquedas online?\"**\n",
    "\n",
    "---\n",
    "\n",
    "### 🎯 Objetivos del Análisis\n",
    "\n",
    "**🔍 Objetivo Principal:** Analizar el estado de la digitalización comercial en 5 ciudades del centro de la Provincia de Buenos Aires.\n",
    "\n",
    "**📊 Preguntas de Investigación:**\n",
    "- ¿Qué porcentaje de comercios tiene **datos completos** en Google Maps?\n",
    "- ¿Cuántos tienen **sitio web** o **redes sociales** registradas?\n",
    "- ¿El **tamaño de la ciudad** influye en la digitalización?\n",
    "\n",
    "**💡 Meta:** Transformar una experiencia personal en insights útiles para comerciantes locales.\n",
    "\n",
    "</div>"
   ]
  },
  {
   "cell_type": "markdown",
   "id": "5ff0f830",
   "metadata": {},
   "source": [
    "<div style=\"font-family: 'JetBrains Mono', monospace; font-size: 14px; color: #e2dbdbff; line-height: 1.6;\">\n",
    "\n",
    "## 2. 🔧 Preparación de Datos\n",
    "\n",
    "📊 Importación y Limpieza\n",
    "\n",
    "**🔄 Procesamiento:** Carga de múltiples archivos CSV por ciudad, selección de columnas relevantes y corrección de valores erróneos.\n",
    "\n",
    "**🔗 Consolidación:** Concatenación de datasets individuales en archivo único 'Regional' con estandarización de teléfonos, tratamiento de missing values y eliminación de duplicados.\n",
    "\n",
    "**🧹 Normalización:** Limpieza de nombres comerciales (comillas, asteriscos, emoticones) y estandarización de formato.\n",
    "\n",
    "</div>"
   ]
  },
  {
   "cell_type": "markdown",
   "id": "57adf3bb",
   "metadata": {},
   "source": [
    "<div style=\"font-family: 'JetBrains Mono', monospace; font-size: 14px; color: #e2dbdbff; line-height: 1.6;\">\n",
    "\n",
    "### 🛠️ Tratamiento de Valores Nulos como Datos Informativos\n",
    "\n",
    "**Decisión:** Reemplazar valores nulos con \"Incomplete\" en lugar de eliminarlos\n",
    "\n",
    "**Justificación:** Los datos \"faltantes\" son en realidad información valiosa sobre la digitalización comercial:\n",
    "- Un comercio sin website = información sobre su nivel de digitalización\n",
    "- Un comercio sin teléfono registrado = dato sobre completitud de su presencia online\n",
    "- Estos \"vacíos\" son parte del análisis: miden la brecha digital\n",
    "\n",
    "**Impacto en el análisis:** Nos permite calcular porcentajes de comercios con:\n",
    "- Presencia web completa vs incompleta\n",
    "- Información de contacto disponible vs no disponible\n",
    "- Nivel de digitalización por ciudad\n",
    "</div>"
   ]
  },
  {
   "cell_type": "markdown",
   "id": "25c601cc",
   "metadata": {},
   "source": [
    "<div style=\"font-family: 'JetBrains Mono', monospace; font-size: 14px; color: #e2dbdbff; line-height: 1.6;\">\n",
    "\n",
    "### 🛠️ Normalización de Datos de Ubicación\n",
    "\n",
    "**Problema identificado:** Google Maps devuelve inconsistencias:\n",
    "- Códigos postales en lugar de nombres de ciudad\n",
    "- \"Buenos Aires\" genérico para comercios locales\n",
    "- Abreviaciones no estándar (CJV, GEV, etc.)\n",
    "\n",
    "**Solución:** Corrección manual basada en:\n",
    "- Conocimiento local de las ciudades del estudio\n",
    "\n",
    "</div>"
   ]
  },
  {
   "cell_type": "markdown",
   "id": "9ed9e333",
   "metadata": {},
   "source": [
    "<div style=\"font-family: 'JetBrains Mono', monospace; font-size: 14px; color: #e2dbdbff; line-height: 1.6;\">\n",
    "\n",
    "### 🛠️ Criterios para Identificación de Duplicados\n",
    "\n",
    "**Campos utilizados:** title, city, street, location/lat, location/lng\n",
    "\n",
    "**Lógica:** Un negocio es el mismo si tiene:\n",
    "- Mismo nombre comercial\n",
    "- Misma ubicación física (calle + coordenadas)\n",
    "- Misma ciudad\n",
    "\n",
    "**Casos especiales considerados:**\n",
    "- Franquicias con mismo nombre pero distintas ubicaciones = NO duplicados\n",
    "- Mismo comercio con pequeñas variaciones de nombre = SÍ duplicados\n",
    "</div>"
   ]
  },
  {
   "cell_type": "markdown",
   "id": "275d3d18",
   "metadata": {},
   "source": [
    "<div style=\"font-family: 'JetBrains Mono', monospace; font-size: 14px; color: #e2dbdbff; line-height: 1.6;\">\n",
    "\n",
    "### 💡 Contexto: El Problema de la Visibilidad Digital\n",
    "\n",
    "**Situación real:** Un comercio local tenía el repuesto que necesitaba, pero no aparecía en búsquedas online.\n",
    "\n",
    "**Pregunta de investigación:** ¿Qué tan común es este problema en ciudades del interior?\n",
    "\n",
    "**Métricas que buscaremos:**\n",
    "- % de comercios sin presencia web\n",
    "- % con información de contacto incompleta\n",
    "- Diferencias entre ciudades grandes vs pequeñas\n",
    "\n",
    "</div>"
   ]
  },
  {
   "cell_type": "markdown",
   "id": "c8d42df9",
   "metadata": {},
   "source": [
    "<div style=\"font-family: 'JetBrains Mono', monospace; font-size: 14px; color: #e2dbdbff; line-height: 1.6;\">\n",
    "\n",
    "### 💡 Limitaciones y Supuestos del Estudio\n",
    "\n",
    "**Limitaciones de los datos:**\n",
    "- Solo incluye comercios registrados en Google Maps\n",
    "- Sesgado hacia comercios con algún nivel de presencia digital\n",
    "- No incluye comercios que operan únicamente offline\n",
    "\n",
    "**Supuestos realizados:**\n",
    "- Google Maps es representativo de la presencia digital local\n",
    "- Las 5 ciudades seleccionadas son representativas del interior bonaerense\n",
    "- Los datos de scraping reflejan el estado actual (no histórico)\n",
    "\n",
    "</div>"
   ]
  },
  {
   "cell_type": "code",
   "execution_count": 64,
   "id": "06b3f050",
   "metadata": {},
   "outputs": [],
   "source": [
    "# Se importan las librerías para la carga y manipulación de los datos.\n",
    "# pandas: manejo y limpieza de datos\n",
    "# numpy: operaciones numéricas\n",
    "# glob, os: manipulación de archivos y carpetas\n",
    "\n",
    "import pandas as pd\n",
    "import os\n",
    "import numpy as np\n",
    "from glob import glob\n",
    "import glob\n",
    "\n",
    "# Configura pandas para mostrar todas las columnas del DataFrame, sin recorte visual.\n",
    "pd.set_option('display.max_columns', None) \n"
   ]
  },
  {
   "cell_type": "code",
   "execution_count": 65,
   "id": "17206384",
   "metadata": {},
   "outputs": [
    {
     "data": {
      "text/plain": [
       "['../Datasets/azul_dataset_google-maps-extractor_2025-05-19_00-03-31-957.csv',\n",
       " '../Datasets/azul_dataset_crawler-google-places_2025-07-30_14-54-37-400.csv',\n",
       " '../Datasets/azul_dataset_crawler-google-places_2025-06-15_22-59-32-816.csv']"
      ]
     },
     "execution_count": 65,
     "metadata": {},
     "output_type": "execute_result"
    }
   ],
   "source": [
    "# Búsqueda de los archivos .csv en el directorio\n",
    "glob.glob('../Datasets/*azul*.csv')"
   ]
  },
  {
   "cell_type": "code",
   "execution_count": 66,
   "id": "090b6aef",
   "metadata": {},
   "outputs": [
    {
     "data": {
      "text/plain": [
       "Index(['additionalInfo/Accesibilidad/0/Entrada accesible para personas en silla de ruedas',\n",
       "       'additionalInfo/Accesibilidad/0/Estacionamiento accesible para personas en silla de ruedas',\n",
       "       'additionalInfo/Accesibilidad/1/Espacio accesible para personas en silla de ruedas',\n",
       "       'additionalInfo/Accesibilidad/1/Estacionamiento accesible para personas en silla de ruedas',\n",
       "       'additionalInfo/Accesibilidad/2/Estacionamiento accesible para personas en silla de ruedas',\n",
       "       'additionalInfo/Accesibilidad/3/Sanitarios accesibles para personas en silla de ruedas',\n",
       "       'additionalInfo/Ambiente/0/A la moda',\n",
       "       'additionalInfo/Ambiente/1/Agradable',\n",
       "       'additionalInfo/Ambiente/2/Informal',\n",
       "       'additionalInfo/Ambiente/3/Relajado',\n",
       "       ...\n",
       "       'phonesUncertain/54', 'pinterests/0', 'reviews', 'tiktoks/0',\n",
       "       'twitters/0', 'youtubes/0', 'youtubes/1', 'youtubes/2', 'youtubes/3',\n",
       "       'youtubes/4'],\n",
       "      dtype='object', length=555)"
      ]
     },
     "execution_count": 66,
     "metadata": {},
     "output_type": "execute_result"
    }
   ],
   "source": [
    "# Lectura de todos los archivos CSV de la carpeta y se combinan en un único DataFrame con 'pd.concat()' \n",
    "# y se reestablece el índice con 'reset_index(drop=True)'.\n",
    "# Se listan las columnas del DataFrame resultante.\n",
    "df = pd.concat(map(pd.read_csv, glob.glob('../Datasets/*azul*.csv'))).reset_index(drop=True)\n",
    "df.columns"
   ]
  },
  {
   "cell_type": "code",
   "execution_count": 67,
   "id": "48d6b069",
   "metadata": {},
   "outputs": [
    {
     "data": {
      "application/vnd.microsoft.datawrangler.viewer.v0+json": {
       "columns": [
        {
         "name": "index",
         "rawType": "int64",
         "type": "integer"
        },
        {
         "name": "title",
         "rawType": "object",
         "type": "string"
        },
        {
         "name": "categoryName",
         "rawType": "object",
         "type": "string"
        },
        {
         "name": "website",
         "rawType": "object",
         "type": "unknown"
        },
        {
         "name": "street",
         "rawType": "object",
         "type": "string"
        },
        {
         "name": "phone",
         "rawType": "object",
         "type": "unknown"
        },
        {
         "name": "city",
         "rawType": "object",
         "type": "string"
        },
        {
         "name": "state",
         "rawType": "object",
         "type": "string"
        },
        {
         "name": "location/lat",
         "rawType": "float64",
         "type": "float"
        },
        {
         "name": "location/lng",
         "rawType": "float64",
         "type": "float"
        },
        {
         "name": "totalScore",
         "rawType": "float64",
         "type": "float"
        },
        {
         "name": "rank",
         "rawType": "int64",
         "type": "integer"
        },
        {
         "name": "imageUrl",
         "rawType": "object",
         "type": "unknown"
        },
        {
         "name": "imagesCount",
         "rawType": "float64",
         "type": "float"
        },
        {
         "name": "reviewsCount",
         "rawType": "int64",
         "type": "integer"
        },
        {
         "name": "scrapedAt",
         "rawType": "object",
         "type": "string"
        },
        {
         "name": "searchString",
         "rawType": "object",
         "type": "string"
        }
       ],
       "ref": "c4f67e3e-70bb-4b91-9413-e59b6713aed5",
       "rows": [
        [
         "0",
         "La Casa de los Trofeos",
         "Comercio",
         null,
         "Rivadavia 496",
         null,
         "Azul",
         "Provincia de Buenos Aires",
         "-36.7746611",
         "-59.8626234",
         null,
         "1",
         null,
         null,
         "0",
         "2025-05-19T00:03:00.547Z",
         "Comercio"
        ],
        [
         "1",
         "La Escoba Loca",
         "Tienda de artículos para el hogar",
         null,
         "Colón Nte. 117",
         "+54 2281 50-2996",
         "Azul",
         "Provincia de Buenos Aires",
         "-36.7672813",
         "-59.851848",
         "4.8",
         "1",
         "https://lh3.googleusercontent.com/gps-cs-s/AC9h4nrQAaOmvZ2z1z4lvQMpA2KLuyQFp5o7mGWzDytv5YF0PQfwP7XAE6kj-TlUSNLzb_IKC7RiPbPlQmsIhl80ixI-u75r5xA2BufhbZirEShz8aLrep1Ejb9JV3W-W_GeTpQtjyyg=w408-h544-k-no",
         "44.0",
         "73",
         "2025-05-19T00:03:02.157Z",
         "Comercio"
        ],
        [
         "2",
         "Artículos magali",
         "Tienda general",
         null,
         "Monseñor Caneva Nte. 160",
         "+54 2281 31-0611",
         "Azul",
         "Provincia de Buenos Aires",
         "-36.7743527",
         "-59.8418982",
         "4.3",
         "2",
         null,
         null,
         "12",
         "2025-05-19T00:03:02.157Z",
         "Comercio"
        ],
        [
         "3",
         "Autoservicio San Jorge",
         "Comercio",
         null,
         "Burgos Nte. 100",
         "+54 2281 42-3119",
         "Azul",
         "Provincia de Buenos Aires",
         "-36.7681448",
         "-59.8513049",
         "4.6",
         "3",
         "https://lh3.googleusercontent.com/p/AF1QipPV0VYkVvn3zfCgualFjP9POsmAYza7YT0ETBJ_=w426-h240-k-no",
         "6.0",
         "127",
         "2025-05-19T00:03:02.157Z",
         "Comercio"
        ],
        [
         "4",
         "Asociacion Latina de Exportacion SA",
         "Comercio",
         null,
         "Julio Argentino Roca 846",
         "+54 2281 43-0338",
         "Azul",
         "Provincia de Buenos Aires",
         "-36.7850672",
         "-59.8592544",
         "3.3",
         "4",
         "https://streetviewpixels-pa.googleapis.com/v1/thumbnail?panoid=WQnGTmaSbHhcH7RNl-Hcog&cb_client=search.gws-prod.gps&w=408&h=240&yaw=50.672348&pitch=0&thumbfov=100",
         "1.0",
         "4",
         "2025-05-19T00:03:02.158Z",
         "Comercio"
        ]
       ],
       "shape": {
        "columns": 16,
        "rows": 5
       }
      },
      "text/html": [
       "<div>\n",
       "<style scoped>\n",
       "    .dataframe tbody tr th:only-of-type {\n",
       "        vertical-align: middle;\n",
       "    }\n",
       "\n",
       "    .dataframe tbody tr th {\n",
       "        vertical-align: top;\n",
       "    }\n",
       "\n",
       "    .dataframe thead th {\n",
       "        text-align: right;\n",
       "    }\n",
       "</style>\n",
       "<table border=\"1\" class=\"dataframe\">\n",
       "  <thead>\n",
       "    <tr style=\"text-align: right;\">\n",
       "      <th></th>\n",
       "      <th>title</th>\n",
       "      <th>categoryName</th>\n",
       "      <th>website</th>\n",
       "      <th>street</th>\n",
       "      <th>phone</th>\n",
       "      <th>city</th>\n",
       "      <th>state</th>\n",
       "      <th>location/lat</th>\n",
       "      <th>location/lng</th>\n",
       "      <th>totalScore</th>\n",
       "      <th>rank</th>\n",
       "      <th>imageUrl</th>\n",
       "      <th>imagesCount</th>\n",
       "      <th>reviewsCount</th>\n",
       "      <th>scrapedAt</th>\n",
       "      <th>searchString</th>\n",
       "    </tr>\n",
       "  </thead>\n",
       "  <tbody>\n",
       "    <tr>\n",
       "      <th>0</th>\n",
       "      <td>La Casa de los Trofeos</td>\n",
       "      <td>Comercio</td>\n",
       "      <td>NaN</td>\n",
       "      <td>Rivadavia 496</td>\n",
       "      <td>NaN</td>\n",
       "      <td>Azul</td>\n",
       "      <td>Provincia de Buenos Aires</td>\n",
       "      <td>-36.774661</td>\n",
       "      <td>-59.862623</td>\n",
       "      <td>NaN</td>\n",
       "      <td>1</td>\n",
       "      <td>NaN</td>\n",
       "      <td>NaN</td>\n",
       "      <td>0</td>\n",
       "      <td>2025-05-19T00:03:00.547Z</td>\n",
       "      <td>Comercio</td>\n",
       "    </tr>\n",
       "    <tr>\n",
       "      <th>1</th>\n",
       "      <td>La Escoba Loca</td>\n",
       "      <td>Tienda de artículos para el hogar</td>\n",
       "      <td>NaN</td>\n",
       "      <td>Colón Nte. 117</td>\n",
       "      <td>+54 2281 50-2996</td>\n",
       "      <td>Azul</td>\n",
       "      <td>Provincia de Buenos Aires</td>\n",
       "      <td>-36.767281</td>\n",
       "      <td>-59.851848</td>\n",
       "      <td>4.8</td>\n",
       "      <td>1</td>\n",
       "      <td>https://lh3.googleusercontent.com/gps-cs-s/AC9...</td>\n",
       "      <td>44.0</td>\n",
       "      <td>73</td>\n",
       "      <td>2025-05-19T00:03:02.157Z</td>\n",
       "      <td>Comercio</td>\n",
       "    </tr>\n",
       "    <tr>\n",
       "      <th>2</th>\n",
       "      <td>Artículos magali</td>\n",
       "      <td>Tienda general</td>\n",
       "      <td>NaN</td>\n",
       "      <td>Monseñor Caneva Nte. 160</td>\n",
       "      <td>+54 2281 31-0611</td>\n",
       "      <td>Azul</td>\n",
       "      <td>Provincia de Buenos Aires</td>\n",
       "      <td>-36.774353</td>\n",
       "      <td>-59.841898</td>\n",
       "      <td>4.3</td>\n",
       "      <td>2</td>\n",
       "      <td>NaN</td>\n",
       "      <td>NaN</td>\n",
       "      <td>12</td>\n",
       "      <td>2025-05-19T00:03:02.157Z</td>\n",
       "      <td>Comercio</td>\n",
       "    </tr>\n",
       "    <tr>\n",
       "      <th>3</th>\n",
       "      <td>Autoservicio San Jorge</td>\n",
       "      <td>Comercio</td>\n",
       "      <td>NaN</td>\n",
       "      <td>Burgos Nte. 100</td>\n",
       "      <td>+54 2281 42-3119</td>\n",
       "      <td>Azul</td>\n",
       "      <td>Provincia de Buenos Aires</td>\n",
       "      <td>-36.768145</td>\n",
       "      <td>-59.851305</td>\n",
       "      <td>4.6</td>\n",
       "      <td>3</td>\n",
       "      <td>https://lh3.googleusercontent.com/p/AF1QipPV0V...</td>\n",
       "      <td>6.0</td>\n",
       "      <td>127</td>\n",
       "      <td>2025-05-19T00:03:02.157Z</td>\n",
       "      <td>Comercio</td>\n",
       "    </tr>\n",
       "    <tr>\n",
       "      <th>4</th>\n",
       "      <td>Asociacion Latina de Exportacion SA</td>\n",
       "      <td>Comercio</td>\n",
       "      <td>NaN</td>\n",
       "      <td>Julio Argentino Roca 846</td>\n",
       "      <td>+54 2281 43-0338</td>\n",
       "      <td>Azul</td>\n",
       "      <td>Provincia de Buenos Aires</td>\n",
       "      <td>-36.785067</td>\n",
       "      <td>-59.859254</td>\n",
       "      <td>3.3</td>\n",
       "      <td>4</td>\n",
       "      <td>https://streetviewpixels-pa.googleapis.com/v1/...</td>\n",
       "      <td>1.0</td>\n",
       "      <td>4</td>\n",
       "      <td>2025-05-19T00:03:02.158Z</td>\n",
       "      <td>Comercio</td>\n",
       "    </tr>\n",
       "  </tbody>\n",
       "</table>\n",
       "</div>"
      ],
      "text/plain": [
       "                                 title                       categoryName  \\\n",
       "0               La Casa de los Trofeos                           Comercio   \n",
       "1                       La Escoba Loca  Tienda de artículos para el hogar   \n",
       "2                     Artículos magali                     Tienda general   \n",
       "3               Autoservicio San Jorge                           Comercio   \n",
       "4  Asociacion Latina de Exportacion SA                           Comercio   \n",
       "\n",
       "  website                    street             phone  city  \\\n",
       "0     NaN             Rivadavia 496               NaN  Azul   \n",
       "1     NaN            Colón Nte. 117  +54 2281 50-2996  Azul   \n",
       "2     NaN  Monseñor Caneva Nte. 160  +54 2281 31-0611  Azul   \n",
       "3     NaN           Burgos Nte. 100  +54 2281 42-3119  Azul   \n",
       "4     NaN  Julio Argentino Roca 846  +54 2281 43-0338  Azul   \n",
       "\n",
       "                       state  location/lat  location/lng  totalScore  rank  \\\n",
       "0  Provincia de Buenos Aires    -36.774661    -59.862623         NaN     1   \n",
       "1  Provincia de Buenos Aires    -36.767281    -59.851848         4.8     1   \n",
       "2  Provincia de Buenos Aires    -36.774353    -59.841898         4.3     2   \n",
       "3  Provincia de Buenos Aires    -36.768145    -59.851305         4.6     3   \n",
       "4  Provincia de Buenos Aires    -36.785067    -59.859254         3.3     4   \n",
       "\n",
       "                                            imageUrl  imagesCount  \\\n",
       "0                                                NaN          NaN   \n",
       "1  https://lh3.googleusercontent.com/gps-cs-s/AC9...         44.0   \n",
       "2                                                NaN          NaN   \n",
       "3  https://lh3.googleusercontent.com/p/AF1QipPV0V...          6.0   \n",
       "4  https://streetviewpixels-pa.googleapis.com/v1/...          1.0   \n",
       "\n",
       "   reviewsCount                 scrapedAt searchString  \n",
       "0             0  2025-05-19T00:03:00.547Z     Comercio  \n",
       "1            73  2025-05-19T00:03:02.157Z     Comercio  \n",
       "2            12  2025-05-19T00:03:02.157Z     Comercio  \n",
       "3           127  2025-05-19T00:03:02.157Z     Comercio  \n",
       "4             4  2025-05-19T00:03:02.158Z     Comercio  "
      ]
     },
     "execution_count": 67,
     "metadata": {},
     "output_type": "execute_result"
    }
   ],
   "source": [
    "# Selección de columnas relevantes\n",
    "df = df[[\n",
    "        'title',\n",
    "        'categoryName',\n",
    "        'website',\n",
    "        'street',\n",
    "        'phone',\n",
    "        'city',\n",
    "        'state',\n",
    "        'location/lat', \n",
    "        'location/lng',\n",
    "        'totalScore',\n",
    "        'rank',\n",
    "        'imageUrl',\n",
    "        'imagesCount',       \n",
    "        'reviewsCount', \n",
    "        'scrapedAt',\n",
    "        'searchString']]\n",
    "df.head()"
   ]
  },
  {
   "cell_type": "code",
   "execution_count": 68,
   "id": "5f22fe99",
   "metadata": {},
   "outputs": [
    {
     "name": "stdout",
     "output_type": "stream",
     "text": [
      "<class 'pandas.core.frame.DataFrame'>\n",
      "RangeIndex: 1730 entries, 0 to 1729\n",
      "Data columns (total 16 columns):\n",
      " #   Column        Non-Null Count  Dtype  \n",
      "---  ------        --------------  -----  \n",
      " 0   title         1730 non-null   object \n",
      " 1   categoryName  1699 non-null   object \n",
      " 2   website       377 non-null    object \n",
      " 3   street        1584 non-null   object \n",
      " 4   phone         1107 non-null   object \n",
      " 5   city          1716 non-null   object \n",
      " 6   state         1717 non-null   object \n",
      " 7   location/lat  1730 non-null   float64\n",
      " 8   location/lng  1730 non-null   float64\n",
      " 9   totalScore    1278 non-null   float64\n",
      " 10  rank          1730 non-null   int64  \n",
      " 11  imageUrl      1678 non-null   object \n",
      " 12  imagesCount   1676 non-null   float64\n",
      " 13  reviewsCount  1730 non-null   int64  \n",
      " 14  scrapedAt     1730 non-null   object \n",
      " 15  searchString  1730 non-null   object \n",
      "dtypes: float64(4), int64(2), object(10)\n",
      "memory usage: 216.4+ KB\n"
     ]
    }
   ],
   "source": [
    "# Información del DataFrame seleccionado a través del método .info() : \n",
    "# Número de filas y columnas\n",
    "# Nombres y tipos de datos de las columnas\n",
    "# Valores no nulos en cada columna\n",
    "# Uso de memoria\n",
    "df.info()"
   ]
  },
  {
   "cell_type": "code",
   "execution_count": 69,
   "id": "ea35f9dc",
   "metadata": {},
   "outputs": [],
   "source": [
    "# Rellenar valores faltantes en la columna 'city' con valor 'Azul'\n",
    "df['city'] = df['city'].fillna('Azul')"
   ]
  },
  {
   "cell_type": "code",
   "execution_count": 70,
   "id": "2204d569",
   "metadata": {},
   "outputs": [
    {
     "data": {
      "application/vnd.microsoft.datawrangler.viewer.v0+json": {
       "columns": [
        {
         "name": "city",
         "rawType": "object",
         "type": "string"
        },
        {
         "name": "count",
         "rawType": "int64",
         "type": "integer"
        }
       ],
       "ref": "bebb4c89-4644-4b00-b5db-cf5e05ebab12",
       "rows": [
        [
         "Azul",
         "1698"
        ],
        [
         "Buenos Aires",
         "11"
        ],
        [
         "CJV",
         "3"
        ],
        [
         "GEV",
         "3"
        ],
        [
         "B7300GEU",
         "3"
        ],
        [
         "FRU",
         "2"
        ],
        [
         "CJU",
         "2"
        ],
        [
         "FAD",
         "2"
        ],
        [
         "CKA",
         "2"
        ],
        [
         "FVW",
         "1"
        ],
        [
         "CKE",
         "1"
        ],
        [
         "ILF",
         "1"
        ],
        [
         "Caleufú",
         "1"
        ]
       ],
       "shape": {
        "columns": 1,
        "rows": 13
       }
      },
      "text/plain": [
       "city\n",
       "Azul            1698\n",
       "Buenos Aires      11\n",
       "CJV                3\n",
       "GEV                3\n",
       "B7300GEU           3\n",
       "FRU                2\n",
       "CJU                2\n",
       "FAD                2\n",
       "CKA                2\n",
       "FVW                1\n",
       "CKE                1\n",
       "ILF                1\n",
       "Caleufú            1\n",
       "Name: count, dtype: int64"
      ]
     },
     "execution_count": 70,
     "metadata": {},
     "output_type": "execute_result"
    }
   ],
   "source": [
    "# Cuenta cuántas veces aparece cada registro de ciudad.\n",
    "df['city'].value_counts()"
   ]
  },
  {
   "cell_type": "code",
   "execution_count": 71,
   "id": "918a6730",
   "metadata": {},
   "outputs": [],
   "source": [
    "# Se reemplazan los datos de la columna 'city' que no son correctos\n",
    "df['city'] = df['city'].replace({\n",
    "    'Buenos Aires': 'Azul',\n",
    "    'FRU' : 'Azul',\n",
    "    'FAD' : 'Azul',\n",
    "    'B7300GEU' : 'Azul',\n",
    "    'CJV' : 'Azul',\n",
    "    'GEV' : 'Azul',\n",
    "    'CJU' : 'Azul',\n",
    "    'FVW' : 'Azul',\n",
    "    'CKE' : 'Azul',\n",
    "    'ILF' : 'Azul',\n",
    "    'CKA' : 'Azul',\n",
    "    'Caleufú' : 'Azul'\n",
    "})"
   ]
  },
  {
   "cell_type": "code",
   "execution_count": 72,
   "id": "757d6070",
   "metadata": {},
   "outputs": [],
   "source": [
    "# Se guarda el archivo principal de la ciudad\n",
    "df.to_csv('../CleanData/AzulMain.csv', index=False)"
   ]
  },
  {
   "cell_type": "code",
   "execution_count": 73,
   "id": "67590d27",
   "metadata": {},
   "outputs": [
    {
     "data": {
      "text/plain": [
       "['../Datasets/juarez_dataset_crawler-google-places_2025-06-15_23-27-55-877.csv',\n",
       " '../Datasets/juarez_dataset_crawler-google-places_2025-07-30_15-23-16-317.csv',\n",
       " '../Datasets/juarez_dataset_crawler-google-places_2025-05-29_00-54-32-651.csv']"
      ]
     },
     "execution_count": 73,
     "metadata": {},
     "output_type": "execute_result"
    }
   ],
   "source": [
    "# Búsqueda de los archivos .csv en el directorio\n",
    "glob.glob('../Datasets/*juarez*.csv')"
   ]
  },
  {
   "cell_type": "code",
   "execution_count": 74,
   "id": "4a9051e2",
   "metadata": {},
   "outputs": [],
   "source": [
    "# Se carga y concatenan todos los archivos CSV que contengan 'juarez' en su nombre y reestablece el índice del DataFrame resultante.\n",
    "df = pd.concat(map(pd.read_csv, glob.glob('../Datasets/*juarez*.csv'))).reset_index(drop=True)"
   ]
  },
  {
   "cell_type": "code",
   "execution_count": 75,
   "id": "99863164",
   "metadata": {},
   "outputs": [
    {
     "data": {
      "application/vnd.microsoft.datawrangler.viewer.v0+json": {
       "columns": [
        {
         "name": "index",
         "rawType": "int64",
         "type": "integer"
        },
        {
         "name": "title",
         "rawType": "object",
         "type": "string"
        },
        {
         "name": "categoryName",
         "rawType": "object",
         "type": "string"
        },
        {
         "name": "website",
         "rawType": "object",
         "type": "unknown"
        },
        {
         "name": "street",
         "rawType": "object",
         "type": "unknown"
        },
        {
         "name": "phone",
         "rawType": "object",
         "type": "unknown"
        },
        {
         "name": "city",
         "rawType": "object",
         "type": "string"
        },
        {
         "name": "state",
         "rawType": "object",
         "type": "string"
        },
        {
         "name": "location/lat",
         "rawType": "float64",
         "type": "float"
        },
        {
         "name": "location/lng",
         "rawType": "float64",
         "type": "float"
        },
        {
         "name": "totalScore",
         "rawType": "float64",
         "type": "float"
        },
        {
         "name": "rank",
         "rawType": "int64",
         "type": "integer"
        },
        {
         "name": "imageUrl",
         "rawType": "object",
         "type": "string"
        },
        {
         "name": "imagesCount",
         "rawType": "float64",
         "type": "float"
        },
        {
         "name": "reviewsCount",
         "rawType": "int64",
         "type": "integer"
        },
        {
         "name": "scrapedAt",
         "rawType": "object",
         "type": "string"
        },
        {
         "name": "searchString",
         "rawType": "object",
         "type": "string"
        }
       ],
       "ref": "c6dc7724-2d31-4fd4-9b14-76cf843bda90",
       "rows": [
        [
         "0",
         "Agronomia y Vivero FANTINI",
         "Ingeniero agrónomo",
         "http://www.fantinihnos.com.ar/",
         "Ruta 86 y, Av. Constitución",
         "+54 2281 40-8509",
         "Benito Juárez",
         "Provincia de Buenos Aires",
         "-37.6780794",
         "-59.8207548",
         "5.0",
         "13",
         "https://lh3.googleusercontent.com/p/AF1QipOVmHkXN91RQi5QLABbtqpqu-MV1CyxWIpV-02u=w408-h306-k-no",
         "3.0",
         "2",
         "2025-06-15T23:27:13.052Z",
         "maquinaria"
        ],
        [
         "1",
         "Lo de rosa",
         "Kiosco",
         null,
         "Palacio 164",
         null,
         "Benito Juárez",
         "Provincia de Buenos Aires",
         "-37.675689",
         "-59.7942867",
         null,
         "40",
         "https://lh3.googleusercontent.com/p/AF1QipPaXld_BLLTWc_u9a0SEW4JG_owVodQD5ZHzZZj=w408-h542-k-no",
         "8.0",
         "0",
         "2025-06-15T23:27:17.780Z",
         "tienda"
        ],
        [
         "2",
         "Distribuidora MAGICA",
         "Tienda de alimentación",
         null,
         null,
         null,
         "Benito Juárez",
         "Provincia de Buenos Aires",
         "-37.677326",
         "-59.8047054",
         null,
         "39",
         "https://streetviewpixels-pa.googleapis.com/v1/thumbnail?panoid=ZGJS7ZAQE2rg6MLpvGBW1w&cb_client=search.gws-prod.gps&w=408&h=240&yaw=233.7666&pitch=0&thumbfov=100",
         "1.0",
         "0",
         "2025-06-15T23:27:17.780Z",
         "tienda"
        ],
        [
         "3",
         "Diaz Martin J",
         "Carnicería",
         null,
         "Chacabuco 290",
         "+54 2292 45-3300",
         "Benito Juárez",
         "Provincia de Buenos Aires",
         "-37.6764386",
         "-59.7984998",
         "4.0",
         "60",
         "https://lh3.googleusercontent.com/gps-cs-s/AC9h4nqRu8SkPfvpIS-e7l_tCl7k34zR83JTgIUOrdh9PksbYqv9LDKbm6RpNlvcNYIP_chJryOHc17BNBh8JafBXDILJYDS2G9lY-mr4897D3l5hYS1Go26bAu1JmRWndYvcQyM8jWZ=w408-h544-k-no",
         "16.0",
         "1",
         "2025-06-15T23:27:19.011Z",
         "tienda"
        ],
        [
         "4",
         "Elegante sport",
         "Tienda de ropa de deportes",
         "https://www.instagram.com/elegante_sport_bj?igsh=MWVwY3NoOGc4aWM1NA==",
         "Ameghino 25",
         "+54 2281 30-1465",
         "Benito Juárez",
         "Provincia de Buenos Aires",
         "-37.6817221",
         "-59.8157086",
         null,
         "59",
         "https://lh3.googleusercontent.com/p/AF1QipPPZN8u8l-N_miIEf4iAEN3EEzXcArZ7F8mkCCM=w408-h306-k-no",
         "2.0",
         "0",
         "2025-06-15T23:27:19.011Z",
         "tienda"
        ]
       ],
       "shape": {
        "columns": 16,
        "rows": 5
       }
      },
      "text/html": [
       "<div>\n",
       "<style scoped>\n",
       "    .dataframe tbody tr th:only-of-type {\n",
       "        vertical-align: middle;\n",
       "    }\n",
       "\n",
       "    .dataframe tbody tr th {\n",
       "        vertical-align: top;\n",
       "    }\n",
       "\n",
       "    .dataframe thead th {\n",
       "        text-align: right;\n",
       "    }\n",
       "</style>\n",
       "<table border=\"1\" class=\"dataframe\">\n",
       "  <thead>\n",
       "    <tr style=\"text-align: right;\">\n",
       "      <th></th>\n",
       "      <th>title</th>\n",
       "      <th>categoryName</th>\n",
       "      <th>website</th>\n",
       "      <th>street</th>\n",
       "      <th>phone</th>\n",
       "      <th>city</th>\n",
       "      <th>state</th>\n",
       "      <th>location/lat</th>\n",
       "      <th>location/lng</th>\n",
       "      <th>totalScore</th>\n",
       "      <th>rank</th>\n",
       "      <th>imageUrl</th>\n",
       "      <th>imagesCount</th>\n",
       "      <th>reviewsCount</th>\n",
       "      <th>scrapedAt</th>\n",
       "      <th>searchString</th>\n",
       "    </tr>\n",
       "  </thead>\n",
       "  <tbody>\n",
       "    <tr>\n",
       "      <th>0</th>\n",
       "      <td>Agronomia y Vivero FANTINI</td>\n",
       "      <td>Ingeniero agrónomo</td>\n",
       "      <td>http://www.fantinihnos.com.ar/</td>\n",
       "      <td>Ruta 86 y, Av. Constitución</td>\n",
       "      <td>+54 2281 40-8509</td>\n",
       "      <td>Benito Juárez</td>\n",
       "      <td>Provincia de Buenos Aires</td>\n",
       "      <td>-37.678079</td>\n",
       "      <td>-59.820755</td>\n",
       "      <td>5.0</td>\n",
       "      <td>13</td>\n",
       "      <td>https://lh3.googleusercontent.com/p/AF1QipOVmH...</td>\n",
       "      <td>3.0</td>\n",
       "      <td>2</td>\n",
       "      <td>2025-06-15T23:27:13.052Z</td>\n",
       "      <td>maquinaria</td>\n",
       "    </tr>\n",
       "    <tr>\n",
       "      <th>1</th>\n",
       "      <td>Lo de rosa</td>\n",
       "      <td>Kiosco</td>\n",
       "      <td>NaN</td>\n",
       "      <td>Palacio 164</td>\n",
       "      <td>NaN</td>\n",
       "      <td>Benito Juárez</td>\n",
       "      <td>Provincia de Buenos Aires</td>\n",
       "      <td>-37.675689</td>\n",
       "      <td>-59.794287</td>\n",
       "      <td>NaN</td>\n",
       "      <td>40</td>\n",
       "      <td>https://lh3.googleusercontent.com/p/AF1QipPaXl...</td>\n",
       "      <td>8.0</td>\n",
       "      <td>0</td>\n",
       "      <td>2025-06-15T23:27:17.780Z</td>\n",
       "      <td>tienda</td>\n",
       "    </tr>\n",
       "    <tr>\n",
       "      <th>2</th>\n",
       "      <td>Distribuidora MAGICA</td>\n",
       "      <td>Tienda de alimentación</td>\n",
       "      <td>NaN</td>\n",
       "      <td>NaN</td>\n",
       "      <td>NaN</td>\n",
       "      <td>Benito Juárez</td>\n",
       "      <td>Provincia de Buenos Aires</td>\n",
       "      <td>-37.677326</td>\n",
       "      <td>-59.804705</td>\n",
       "      <td>NaN</td>\n",
       "      <td>39</td>\n",
       "      <td>https://streetviewpixels-pa.googleapis.com/v1/...</td>\n",
       "      <td>1.0</td>\n",
       "      <td>0</td>\n",
       "      <td>2025-06-15T23:27:17.780Z</td>\n",
       "      <td>tienda</td>\n",
       "    </tr>\n",
       "    <tr>\n",
       "      <th>3</th>\n",
       "      <td>Diaz Martin J</td>\n",
       "      <td>Carnicería</td>\n",
       "      <td>NaN</td>\n",
       "      <td>Chacabuco 290</td>\n",
       "      <td>+54 2292 45-3300</td>\n",
       "      <td>Benito Juárez</td>\n",
       "      <td>Provincia de Buenos Aires</td>\n",
       "      <td>-37.676439</td>\n",
       "      <td>-59.798500</td>\n",
       "      <td>4.0</td>\n",
       "      <td>60</td>\n",
       "      <td>https://lh3.googleusercontent.com/gps-cs-s/AC9...</td>\n",
       "      <td>16.0</td>\n",
       "      <td>1</td>\n",
       "      <td>2025-06-15T23:27:19.011Z</td>\n",
       "      <td>tienda</td>\n",
       "    </tr>\n",
       "    <tr>\n",
       "      <th>4</th>\n",
       "      <td>Elegante sport</td>\n",
       "      <td>Tienda de ropa de deportes</td>\n",
       "      <td>https://www.instagram.com/elegante_sport_bj?ig...</td>\n",
       "      <td>Ameghino 25</td>\n",
       "      <td>+54 2281 30-1465</td>\n",
       "      <td>Benito Juárez</td>\n",
       "      <td>Provincia de Buenos Aires</td>\n",
       "      <td>-37.681722</td>\n",
       "      <td>-59.815709</td>\n",
       "      <td>NaN</td>\n",
       "      <td>59</td>\n",
       "      <td>https://lh3.googleusercontent.com/p/AF1QipPPZN...</td>\n",
       "      <td>2.0</td>\n",
       "      <td>0</td>\n",
       "      <td>2025-06-15T23:27:19.011Z</td>\n",
       "      <td>tienda</td>\n",
       "    </tr>\n",
       "  </tbody>\n",
       "</table>\n",
       "</div>"
      ],
      "text/plain": [
       "                        title                categoryName  \\\n",
       "0  Agronomia y Vivero FANTINI          Ingeniero agrónomo   \n",
       "1                  Lo de rosa                      Kiosco   \n",
       "2        Distribuidora MAGICA      Tienda de alimentación   \n",
       "3               Diaz Martin J                  Carnicería   \n",
       "4              Elegante sport  Tienda de ropa de deportes   \n",
       "\n",
       "                                             website  \\\n",
       "0                     http://www.fantinihnos.com.ar/   \n",
       "1                                                NaN   \n",
       "2                                                NaN   \n",
       "3                                                NaN   \n",
       "4  https://www.instagram.com/elegante_sport_bj?ig...   \n",
       "\n",
       "                        street             phone           city  \\\n",
       "0  Ruta 86 y, Av. Constitución  +54 2281 40-8509  Benito Juárez   \n",
       "1                  Palacio 164               NaN  Benito Juárez   \n",
       "2                          NaN               NaN  Benito Juárez   \n",
       "3                Chacabuco 290  +54 2292 45-3300  Benito Juárez   \n",
       "4                  Ameghino 25  +54 2281 30-1465  Benito Juárez   \n",
       "\n",
       "                       state  location/lat  location/lng  totalScore  rank  \\\n",
       "0  Provincia de Buenos Aires    -37.678079    -59.820755         5.0    13   \n",
       "1  Provincia de Buenos Aires    -37.675689    -59.794287         NaN    40   \n",
       "2  Provincia de Buenos Aires    -37.677326    -59.804705         NaN    39   \n",
       "3  Provincia de Buenos Aires    -37.676439    -59.798500         4.0    60   \n",
       "4  Provincia de Buenos Aires    -37.681722    -59.815709         NaN    59   \n",
       "\n",
       "                                            imageUrl  imagesCount  \\\n",
       "0  https://lh3.googleusercontent.com/p/AF1QipOVmH...          3.0   \n",
       "1  https://lh3.googleusercontent.com/p/AF1QipPaXl...          8.0   \n",
       "2  https://streetviewpixels-pa.googleapis.com/v1/...          1.0   \n",
       "3  https://lh3.googleusercontent.com/gps-cs-s/AC9...         16.0   \n",
       "4  https://lh3.googleusercontent.com/p/AF1QipPPZN...          2.0   \n",
       "\n",
       "   reviewsCount                 scrapedAt searchString  \n",
       "0             2  2025-06-15T23:27:13.052Z   maquinaria  \n",
       "1             0  2025-06-15T23:27:17.780Z       tienda  \n",
       "2             0  2025-06-15T23:27:17.780Z       tienda  \n",
       "3             1  2025-06-15T23:27:19.011Z       tienda  \n",
       "4             0  2025-06-15T23:27:19.011Z       tienda  "
      ]
     },
     "execution_count": 75,
     "metadata": {},
     "output_type": "execute_result"
    }
   ],
   "source": [
    "df = df[[\n",
    "        'title',\n",
    "        'categoryName',\n",
    "        'website',\n",
    "        'street',\n",
    "        'phone',\n",
    "        'city',\n",
    "        'state',\n",
    "        'location/lat', \n",
    "        'location/lng',\n",
    "        'totalScore',\n",
    "        'rank',\n",
    "        'imageUrl',\n",
    "        'imagesCount',       \n",
    "        'reviewsCount', \n",
    "        'scrapedAt',\n",
    "        'searchString']]\n",
    "df.head()"
   ]
  },
  {
   "cell_type": "code",
   "execution_count": 76,
   "id": "dafce2ed",
   "metadata": {},
   "outputs": [
    {
     "name": "stdout",
     "output_type": "stream",
     "text": [
      "<class 'pandas.core.frame.DataFrame'>\n",
      "RangeIndex: 704 entries, 0 to 703\n",
      "Data columns (total 16 columns):\n",
      " #   Column        Non-Null Count  Dtype  \n",
      "---  ------        --------------  -----  \n",
      " 0   title         704 non-null    object \n",
      " 1   categoryName  686 non-null    object \n",
      " 2   website       125 non-null    object \n",
      " 3   street        655 non-null    object \n",
      " 4   phone         430 non-null    object \n",
      " 5   city          701 non-null    object \n",
      " 6   state         701 non-null    object \n",
      " 7   location/lat  704 non-null    float64\n",
      " 8   location/lng  704 non-null    float64\n",
      " 9   totalScore    451 non-null    float64\n",
      " 10  rank          704 non-null    int64  \n",
      " 11  imageUrl      681 non-null    object \n",
      " 12  imagesCount   681 non-null    float64\n",
      " 13  reviewsCount  704 non-null    int64  \n",
      " 14  scrapedAt     704 non-null    object \n",
      " 15  searchString  704 non-null    object \n",
      "dtypes: float64(4), int64(2), object(10)\n",
      "memory usage: 88.1+ KB\n"
     ]
    }
   ],
   "source": [
    "df.info()"
   ]
  },
  {
   "cell_type": "code",
   "execution_count": 77,
   "id": "17c0cfb8",
   "metadata": {},
   "outputs": [],
   "source": [
    "# Rellenar valores faltantes en la columna 'city'\n",
    "df['city'] = df['city'].fillna('Benito Juárez')"
   ]
  },
  {
   "cell_type": "code",
   "execution_count": 78,
   "id": "b60e7fa1",
   "metadata": {},
   "outputs": [
    {
     "data": {
      "application/vnd.microsoft.datawrangler.viewer.v0+json": {
       "columns": [
        {
         "name": "city",
         "rawType": "object",
         "type": "string"
        },
        {
         "name": "count",
         "rawType": "int64",
         "type": "integer"
        }
       ],
       "ref": "d440396f-fbc6-48cd-90f1-1925dae8727e",
       "rows": [
        [
         "Benito Juárez",
         "690"
        ],
        [
         "Buenos Aires",
         "6"
        ],
        [
         "Henderson",
         "3"
        ],
        [
         "alberti",
         "2"
        ],
        [
         "BENITO JUAREZ",
         "2"
        ],
        [
         "BAB",
         "1"
        ]
       ],
       "shape": {
        "columns": 1,
        "rows": 6
       }
      },
      "text/plain": [
       "city\n",
       "Benito Juárez    690\n",
       "Buenos Aires       6\n",
       "Henderson          3\n",
       "alberti            2\n",
       "BENITO JUAREZ      2\n",
       "BAB                1\n",
       "Name: count, dtype: int64"
      ]
     },
     "execution_count": 78,
     "metadata": {},
     "output_type": "execute_result"
    }
   ],
   "source": [
    "# Se cuenta la frecuencia de los registros de la columna 'city'\n",
    "df['city'].value_counts()"
   ]
  },
  {
   "cell_type": "code",
   "execution_count": 79,
   "id": "eb46c998",
   "metadata": {},
   "outputs": [
    {
     "data": {
      "application/vnd.microsoft.datawrangler.viewer.v0+json": {
       "columns": [
        {
         "name": "city",
         "rawType": "object",
         "type": "string"
        },
        {
         "name": "count",
         "rawType": "int64",
         "type": "integer"
        }
       ],
       "ref": "ed7cd17a-cb4e-4728-b7a7-8c957fbe1bd5",
       "rows": [
        [
         "Benito Juárez",
         "704"
        ]
       ],
       "shape": {
        "columns": 1,
        "rows": 1
       }
      },
      "text/plain": [
       "city\n",
       "Benito Juárez    704\n",
       "Name: count, dtype: int64"
      ]
     },
     "execution_count": 79,
     "metadata": {},
     "output_type": "execute_result"
    }
   ],
   "source": [
    "df['city'] = df['city'].replace({\n",
    "    'Buenos Aires': 'Benito Juárez',\n",
    "    'Henderson' : 'Benito Juárez',\n",
    "    'BENITO JUAREZ' : 'Benito Juárez',\n",
    "    'BAB' : 'Benito Juárez',\n",
    "    'alberti' : 'Benito Juárez'\n",
    "})\n",
    "df['city'].value_counts()"
   ]
  },
  {
   "cell_type": "code",
   "execution_count": 80,
   "id": "a7a3d38e",
   "metadata": {},
   "outputs": [],
   "source": [
    "# Se guarda el archivo principal de la ciudad\n",
    "df.to_csv('../CleanData/JuarezMain.csv', index=False)"
   ]
  },
  {
   "cell_type": "code",
   "execution_count": 81,
   "id": "c6f32ba8",
   "metadata": {},
   "outputs": [
    {
     "data": {
      "text/plain": [
       "['../Datasets/olavarria_dataset_crawler-google-places_2025-06-15_23-35-08-815.csv',\n",
       " '../Datasets/olavarria_dataset_crawler-google-places_2025-07-30_14-43-37-977.csv',\n",
       " '../Datasets/olavarria_dataset_crawler-google-places_2025-05-29_00-56-36-905.csv',\n",
       " '../Datasets/olavarria_dataset_crawler-google-places_2025-06-11_18-14-26-674.csv']"
      ]
     },
     "execution_count": 81,
     "metadata": {},
     "output_type": "execute_result"
    }
   ],
   "source": [
    "# Búsqueda de los archivos .csv en el directorio\n",
    "glob.glob('../Datasets/*olavarria*.csv')"
   ]
  },
  {
   "cell_type": "code",
   "execution_count": 82,
   "id": "92025fe5",
   "metadata": {},
   "outputs": [],
   "source": [
    "# Carga y concatena todos los archivos CSV que contengan 'olavarria' en su nombre.\n",
    "df = pd.concat(map(pd.read_csv, glob.glob('../Datasets/*olavarria*.csv'))).reset_index(drop=True)"
   ]
  },
  {
   "cell_type": "code",
   "execution_count": 83,
   "id": "7816afbb",
   "metadata": {},
   "outputs": [
    {
     "data": {
      "application/vnd.microsoft.datawrangler.viewer.v0+json": {
       "columns": [
        {
         "name": "index",
         "rawType": "int64",
         "type": "integer"
        },
        {
         "name": "title",
         "rawType": "object",
         "type": "string"
        },
        {
         "name": "categoryName",
         "rawType": "object",
         "type": "string"
        },
        {
         "name": "website",
         "rawType": "object",
         "type": "unknown"
        },
        {
         "name": "street",
         "rawType": "object",
         "type": "string"
        },
        {
         "name": "phone",
         "rawType": "object",
         "type": "unknown"
        },
        {
         "name": "city",
         "rawType": "object",
         "type": "string"
        },
        {
         "name": "state",
         "rawType": "object",
         "type": "string"
        },
        {
         "name": "location/lat",
         "rawType": "float64",
         "type": "float"
        },
        {
         "name": "location/lng",
         "rawType": "float64",
         "type": "float"
        },
        {
         "name": "totalScore",
         "rawType": "float64",
         "type": "float"
        },
        {
         "name": "rank",
         "rawType": "int64",
         "type": "integer"
        },
        {
         "name": "imageUrl",
         "rawType": "object",
         "type": "string"
        },
        {
         "name": "imagesCount",
         "rawType": "float64",
         "type": "float"
        },
        {
         "name": "reviewsCount",
         "rawType": "int64",
         "type": "integer"
        },
        {
         "name": "scrapedAt",
         "rawType": "object",
         "type": "string"
        },
        {
         "name": "searchString",
         "rawType": "object",
         "type": "string"
        }
       ],
       "ref": "4de8673d-8309-44b5-8bf9-cffee4dc0038",
       "rows": [
        [
         "0",
         "Alto Salame Olavarria",
         "Tienda de alimentación",
         null,
         "Av. Domingo Faustino Sarmiento 2130",
         "+54 2284 62-2206",
         "Olavarría",
         "Provincia de Buenos Aires",
         "-36.8814092",
         "-60.3179388",
         null,
         "20",
         "https://streetviewpixels-pa.googleapis.com/v1/thumbnail?panoid=9lp0kzDOI3g9eW789Du4mA&cb_client=search.gws-prod.gps&w=408&h=240&yaw=231.19724&pitch=0&thumbfov=100",
         "1.0",
         "0",
         "2025-06-15T23:31:30.165Z",
         "comercio"
        ],
        [
         "1",
         "Frutería y Verdulería \"El Nuevo Galpón\"",
         "Frutería",
         null,
         "Av. de los Trabajadores 4312",
         "+54 9 2284 35-5136",
         "Olavarría",
         "Provincia de Buenos Aires",
         "-36.8921936",
         "-60.2947181",
         "4.5",
         "19",
         "https://lh3.googleusercontent.com/gps-cs-s/AC9h4noz8L_P6lNa3G3m4wgSVd5Yhbjax-zY0o8si62g6Jq4yjgZbyq-f4UnVsmZTg8X8kecx9LM9E_05-OzXG3_pCNnqv5hp5NozmEdKiuj7t-mZF3JUd7UHn3OqJ5UITqxzKP3zsH0nQ=w408-h544-k-no",
         "18.0",
         "15",
         "2025-06-15T23:31:30.165Z",
         "comercio"
        ],
        [
         "2",
         "Despensa Bauti",
         "Tienda de alimentación",
         null,
         "Cerrito 4300",
         "+54 9 2284 23-8406",
         "Olavarría",
         "Provincia de Buenos Aires",
         "-36.8794795",
         "-60.3147907",
         null,
         "18",
         "https://lh3.googleusercontent.com/gps-proxy/ALd4DhGGpPvlkGeCTNGDfuILRPXGEM9AJ_dB7ZmvcwSnRqhzKc9OxDgfPcdxcsDu-VZtQLyrHVsL6pUks1xIqOVzR-RGlsuOqBPt4pB2zbQnqpGqbtBAg6YSL3sufAVUona6KYaDEyvKxpHCOoGMNCTv9SQ10br1-MUDJil1CEXn-Q5ueGHkhMkg286F1rxUEcHFEwmDTsI=w408-h306-k-no",
         "4.0",
         "0",
         "2025-06-15T23:31:30.165Z",
         "comercio"
        ],
        [
         "3",
         "Toxica",
         "Tienda de ropa de mujer",
         null,
         "Necochea 2757",
         null,
         "Olavarría",
         "Provincia de Buenos Aires",
         "-36.8914707",
         "-60.3201646",
         "5.0",
         "66",
         "https://lh3.googleusercontent.com/gps-cs-s/AC9h4nqRMcc0uCrXaPNiV4O9mj4eE5fx3FeHZV-6CCN8gVGcXULrvLPFkv3zyvxi0k5KvtL6VnZdEjiWWWS5NV5GpV-BD5vD63dNZrunefwO72HyT7o7Kb83bCsnhv7KqkSTTyjSJT0pXQ=w426-h240-k-no",
         "2.0",
         "1",
         "2025-06-15T23:31:33.614Z",
         "comercio"
        ],
        [
         "4",
         "Kiosco \"El Quijote\"",
         "Quiosco",
         null,
         "Lavalle 2880",
         null,
         "Olavarría",
         "Provincia de Buenos Aires",
         "-36.8913305",
         "-60.3240351",
         "5.0",
         "65",
         "https://streetviewpixels-pa.googleapis.com/v1/thumbnail?panoid=nu5K4llAxXX4vBr7M0bHfw&cb_client=search.gws-prod.gps&w=408&h=240&yaw=132.77924&pitch=0&thumbfov=100",
         "1.0",
         "2",
         "2025-06-15T23:31:33.614Z",
         "comercio"
        ]
       ],
       "shape": {
        "columns": 16,
        "rows": 5
       }
      },
      "text/html": [
       "<div>\n",
       "<style scoped>\n",
       "    .dataframe tbody tr th:only-of-type {\n",
       "        vertical-align: middle;\n",
       "    }\n",
       "\n",
       "    .dataframe tbody tr th {\n",
       "        vertical-align: top;\n",
       "    }\n",
       "\n",
       "    .dataframe thead th {\n",
       "        text-align: right;\n",
       "    }\n",
       "</style>\n",
       "<table border=\"1\" class=\"dataframe\">\n",
       "  <thead>\n",
       "    <tr style=\"text-align: right;\">\n",
       "      <th></th>\n",
       "      <th>title</th>\n",
       "      <th>categoryName</th>\n",
       "      <th>website</th>\n",
       "      <th>street</th>\n",
       "      <th>phone</th>\n",
       "      <th>city</th>\n",
       "      <th>state</th>\n",
       "      <th>location/lat</th>\n",
       "      <th>location/lng</th>\n",
       "      <th>totalScore</th>\n",
       "      <th>rank</th>\n",
       "      <th>imageUrl</th>\n",
       "      <th>imagesCount</th>\n",
       "      <th>reviewsCount</th>\n",
       "      <th>scrapedAt</th>\n",
       "      <th>searchString</th>\n",
       "    </tr>\n",
       "  </thead>\n",
       "  <tbody>\n",
       "    <tr>\n",
       "      <th>0</th>\n",
       "      <td>Alto Salame Olavarria</td>\n",
       "      <td>Tienda de alimentación</td>\n",
       "      <td>NaN</td>\n",
       "      <td>Av. Domingo Faustino Sarmiento 2130</td>\n",
       "      <td>+54 2284 62-2206</td>\n",
       "      <td>Olavarría</td>\n",
       "      <td>Provincia de Buenos Aires</td>\n",
       "      <td>-36.881409</td>\n",
       "      <td>-60.317939</td>\n",
       "      <td>NaN</td>\n",
       "      <td>20</td>\n",
       "      <td>https://streetviewpixels-pa.googleapis.com/v1/...</td>\n",
       "      <td>1.0</td>\n",
       "      <td>0</td>\n",
       "      <td>2025-06-15T23:31:30.165Z</td>\n",
       "      <td>comercio</td>\n",
       "    </tr>\n",
       "    <tr>\n",
       "      <th>1</th>\n",
       "      <td>Frutería y Verdulería \"El Nuevo Galpón\"</td>\n",
       "      <td>Frutería</td>\n",
       "      <td>NaN</td>\n",
       "      <td>Av. de los Trabajadores 4312</td>\n",
       "      <td>+54 9 2284 35-5136</td>\n",
       "      <td>Olavarría</td>\n",
       "      <td>Provincia de Buenos Aires</td>\n",
       "      <td>-36.892194</td>\n",
       "      <td>-60.294718</td>\n",
       "      <td>4.5</td>\n",
       "      <td>19</td>\n",
       "      <td>https://lh3.googleusercontent.com/gps-cs-s/AC9...</td>\n",
       "      <td>18.0</td>\n",
       "      <td>15</td>\n",
       "      <td>2025-06-15T23:31:30.165Z</td>\n",
       "      <td>comercio</td>\n",
       "    </tr>\n",
       "    <tr>\n",
       "      <th>2</th>\n",
       "      <td>Despensa Bauti</td>\n",
       "      <td>Tienda de alimentación</td>\n",
       "      <td>NaN</td>\n",
       "      <td>Cerrito 4300</td>\n",
       "      <td>+54 9 2284 23-8406</td>\n",
       "      <td>Olavarría</td>\n",
       "      <td>Provincia de Buenos Aires</td>\n",
       "      <td>-36.879480</td>\n",
       "      <td>-60.314791</td>\n",
       "      <td>NaN</td>\n",
       "      <td>18</td>\n",
       "      <td>https://lh3.googleusercontent.com/gps-proxy/AL...</td>\n",
       "      <td>4.0</td>\n",
       "      <td>0</td>\n",
       "      <td>2025-06-15T23:31:30.165Z</td>\n",
       "      <td>comercio</td>\n",
       "    </tr>\n",
       "    <tr>\n",
       "      <th>3</th>\n",
       "      <td>Toxica</td>\n",
       "      <td>Tienda de ropa de mujer</td>\n",
       "      <td>NaN</td>\n",
       "      <td>Necochea 2757</td>\n",
       "      <td>NaN</td>\n",
       "      <td>Olavarría</td>\n",
       "      <td>Provincia de Buenos Aires</td>\n",
       "      <td>-36.891471</td>\n",
       "      <td>-60.320165</td>\n",
       "      <td>5.0</td>\n",
       "      <td>66</td>\n",
       "      <td>https://lh3.googleusercontent.com/gps-cs-s/AC9...</td>\n",
       "      <td>2.0</td>\n",
       "      <td>1</td>\n",
       "      <td>2025-06-15T23:31:33.614Z</td>\n",
       "      <td>comercio</td>\n",
       "    </tr>\n",
       "    <tr>\n",
       "      <th>4</th>\n",
       "      <td>Kiosco \"El Quijote\"</td>\n",
       "      <td>Quiosco</td>\n",
       "      <td>NaN</td>\n",
       "      <td>Lavalle 2880</td>\n",
       "      <td>NaN</td>\n",
       "      <td>Olavarría</td>\n",
       "      <td>Provincia de Buenos Aires</td>\n",
       "      <td>-36.891331</td>\n",
       "      <td>-60.324035</td>\n",
       "      <td>5.0</td>\n",
       "      <td>65</td>\n",
       "      <td>https://streetviewpixels-pa.googleapis.com/v1/...</td>\n",
       "      <td>1.0</td>\n",
       "      <td>2</td>\n",
       "      <td>2025-06-15T23:31:33.614Z</td>\n",
       "      <td>comercio</td>\n",
       "    </tr>\n",
       "  </tbody>\n",
       "</table>\n",
       "</div>"
      ],
      "text/plain": [
       "                                     title             categoryName website  \\\n",
       "0                    Alto Salame Olavarria   Tienda de alimentación     NaN   \n",
       "1  Frutería y Verdulería \"El Nuevo Galpón\"                 Frutería     NaN   \n",
       "2                           Despensa Bauti   Tienda de alimentación     NaN   \n",
       "3                                   Toxica  Tienda de ropa de mujer     NaN   \n",
       "4                      Kiosco \"El Quijote\"                  Quiosco     NaN   \n",
       "\n",
       "                                street               phone       city  \\\n",
       "0  Av. Domingo Faustino Sarmiento 2130    +54 2284 62-2206  Olavarría   \n",
       "1         Av. de los Trabajadores 4312  +54 9 2284 35-5136  Olavarría   \n",
       "2                         Cerrito 4300  +54 9 2284 23-8406  Olavarría   \n",
       "3                        Necochea 2757                 NaN  Olavarría   \n",
       "4                         Lavalle 2880                 NaN  Olavarría   \n",
       "\n",
       "                       state  location/lat  location/lng  totalScore  rank  \\\n",
       "0  Provincia de Buenos Aires    -36.881409    -60.317939         NaN    20   \n",
       "1  Provincia de Buenos Aires    -36.892194    -60.294718         4.5    19   \n",
       "2  Provincia de Buenos Aires    -36.879480    -60.314791         NaN    18   \n",
       "3  Provincia de Buenos Aires    -36.891471    -60.320165         5.0    66   \n",
       "4  Provincia de Buenos Aires    -36.891331    -60.324035         5.0    65   \n",
       "\n",
       "                                            imageUrl  imagesCount  \\\n",
       "0  https://streetviewpixels-pa.googleapis.com/v1/...          1.0   \n",
       "1  https://lh3.googleusercontent.com/gps-cs-s/AC9...         18.0   \n",
       "2  https://lh3.googleusercontent.com/gps-proxy/AL...          4.0   \n",
       "3  https://lh3.googleusercontent.com/gps-cs-s/AC9...          2.0   \n",
       "4  https://streetviewpixels-pa.googleapis.com/v1/...          1.0   \n",
       "\n",
       "   reviewsCount                 scrapedAt searchString  \n",
       "0             0  2025-06-15T23:31:30.165Z     comercio  \n",
       "1            15  2025-06-15T23:31:30.165Z     comercio  \n",
       "2             0  2025-06-15T23:31:30.165Z     comercio  \n",
       "3             1  2025-06-15T23:31:33.614Z     comercio  \n",
       "4             2  2025-06-15T23:31:33.614Z     comercio  "
      ]
     },
     "execution_count": 83,
     "metadata": {},
     "output_type": "execute_result"
    }
   ],
   "source": [
    "# Selección de columnas relevantes\n",
    "df = df[[\n",
    "        'title',\n",
    "        'categoryName',\n",
    "        'website',\n",
    "        'street',\n",
    "        'phone',\n",
    "        'city',\n",
    "        'state',\n",
    "        'location/lat', \n",
    "        'location/lng',\n",
    "        'totalScore',\n",
    "        'rank',\n",
    "        'imageUrl',\n",
    "        'imagesCount',       \n",
    "        'reviewsCount', \n",
    "        'scrapedAt',\n",
    "        'searchString']]\n",
    "df.head()"
   ]
  },
  {
   "cell_type": "code",
   "execution_count": 84,
   "id": "b26d27ca",
   "metadata": {},
   "outputs": [
    {
     "name": "stdout",
     "output_type": "stream",
     "text": [
      "<class 'pandas.core.frame.DataFrame'>\n",
      "RangeIndex: 2341 entries, 0 to 2340\n",
      "Data columns (total 16 columns):\n",
      " #   Column        Non-Null Count  Dtype  \n",
      "---  ------        --------------  -----  \n",
      " 0   title         2341 non-null   object \n",
      " 1   categoryName  2293 non-null   object \n",
      " 2   website       774 non-null    object \n",
      " 3   street        2253 non-null   object \n",
      " 4   phone         1797 non-null   object \n",
      " 5   city          2335 non-null   object \n",
      " 6   state         2335 non-null   object \n",
      " 7   location/lat  2341 non-null   float64\n",
      " 8   location/lng  2341 non-null   float64\n",
      " 9   totalScore    1867 non-null   float64\n",
      " 10  rank          2341 non-null   int64  \n",
      " 11  imageUrl      2289 non-null   object \n",
      " 12  imagesCount   2289 non-null   float64\n",
      " 13  reviewsCount  2341 non-null   int64  \n",
      " 14  scrapedAt     2341 non-null   object \n",
      " 15  searchString  2341 non-null   object \n",
      "dtypes: float64(4), int64(2), object(10)\n",
      "memory usage: 292.8+ KB\n"
     ]
    }
   ],
   "source": [
    "df.info()"
   ]
  },
  {
   "cell_type": "code",
   "execution_count": 85,
   "id": "505acfb1",
   "metadata": {},
   "outputs": [],
   "source": [
    "# Rellenar valores faltantes en la columna 'city'\n",
    "df['city'] = df['city'].fillna('Olavarría')"
   ]
  },
  {
   "cell_type": "markdown",
   "id": "be6dd920",
   "metadata": {},
   "source": [
    "<style>\n",
    ".rendered_html {\n",
    "    font-family: 'Comic Sans MS', cursive !important;\n",
    "    font-size: 18px !important;\n",
    "    color: red !important;\n",
    "}\n",
    "</style>"
   ]
  },
  {
   "cell_type": "code",
   "execution_count": 86,
   "id": "0694fa51",
   "metadata": {},
   "outputs": [
    {
     "data": {
      "application/vnd.microsoft.datawrangler.viewer.v0+json": {
       "columns": [
        {
         "name": "city",
         "rawType": "object",
         "type": "string"
        },
        {
         "name": "count",
         "rawType": "int64",
         "type": "integer"
        }
       ],
       "ref": "934043b3-dfc5-45df-86c4-7bbaddec6003",
       "rows": [
        [
         "Olavarría",
         "2225"
        ],
        [
         "Gran Buenos Aires",
         "57"
        ],
        [
         "KKJ",
         "4"
        ],
        [
         "DFE",
         "4"
        ],
        [
         "Buenos Aires",
         "4"
        ],
        [
         "CVQ",
         "3"
        ],
        [
         "COO",
         "3"
        ],
        [
         "IDH",
         "3"
        ],
        [
         "B7400LCX",
         "3"
        ],
        [
         "KCI",
         "3"
        ],
        [
         "DAS",
         "2"
        ],
        [
         "Caseros",
         "2"
        ],
        [
         "CZY",
         "2"
        ],
        [
         "DJY",
         "2"
        ],
        [
         "Moreno",
         "2"
        ],
        [
         "Colon",
         "2"
        ],
        [
         "JZB",
         "2"
        ],
        [
         "CUV",
         "1"
        ],
        [
         "B7400JWP",
         "1"
        ],
        [
         "CWP",
         "1"
        ],
        [
         "CUR",
         "1"
        ],
        [
         "LNM",
         "1"
        ],
        [
         "DTO",
         "1"
        ],
        [
         "CABA",
         "1"
        ],
        [
         "JUE",
         "1"
        ],
        [
         "DRL",
         "1"
        ],
        [
         "DSN",
         "1"
        ],
        [
         "DJQ",
         "1"
        ],
        [
         "DRQ",
         "1"
        ],
        [
         "CUC",
         "1"
        ],
        [
         "CRB",
         "1"
        ],
        [
         "KKM",
         "1"
        ],
        [
         "DSC",
         "1"
        ],
        [
         "CUG",
         "1"
        ],
        [
         "LLD",
         "1"
        ]
       ],
       "shape": {
        "columns": 1,
        "rows": 35
       }
      },
      "text/plain": [
       "city\n",
       "Olavarría            2225\n",
       "Gran Buenos Aires      57\n",
       "KKJ                     4\n",
       "DFE                     4\n",
       "Buenos Aires            4\n",
       "CVQ                     3\n",
       "COO                     3\n",
       "IDH                     3\n",
       "B7400LCX                3\n",
       "KCI                     3\n",
       "DAS                     2\n",
       "Caseros                 2\n",
       "CZY                     2\n",
       "DJY                     2\n",
       "Moreno                  2\n",
       "Colon                   2\n",
       "JZB                     2\n",
       "CUV                     1\n",
       "B7400JWP                1\n",
       "CWP                     1\n",
       "CUR                     1\n",
       "LNM                     1\n",
       "DTO                     1\n",
       "CABA                    1\n",
       "JUE                     1\n",
       "DRL                     1\n",
       "DSN                     1\n",
       "DJQ                     1\n",
       "DRQ                     1\n",
       "CUC                     1\n",
       "CRB                     1\n",
       "KKM                     1\n",
       "DSC                     1\n",
       "CUG                     1\n",
       "LLD                     1\n",
       "Name: count, dtype: int64"
      ]
     },
     "execution_count": 86,
     "metadata": {},
     "output_type": "execute_result"
    }
   ],
   "source": [
    "df['city'].value_counts()"
   ]
  },
  {
   "cell_type": "code",
   "execution_count": 87,
   "id": "01315329",
   "metadata": {},
   "outputs": [],
   "source": [
    "df['city'] = df['city'].replace({\n",
    "    'Gran Buenos Aires': 'Olavarría',\n",
    "    'DFE' : 'Olavarría',\n",
    "    'Buenos Aires' : 'Olavarría',\n",
    "    'KKJ' : 'Olavarría',\n",
    "    'KCI' : 'Olavarría',\n",
    "    'B7400LCX' : 'Olavarría',\n",
    "    'COO' : 'Olavarría',\n",
    "    'CVQ' : 'Olavarría',\n",
    "    'IDH' : 'Olavarría',\n",
    "    'Caseros' : 'Olavarría',\n",
    "    'DAS' : 'Olavarría',\n",
    "    'Colon' : 'Olavarría',\n",
    "    'Moreno' : 'Olavarría',\n",
    "    'CZY' : 'Olavarría',\n",
    "    'DJY' : 'Olavarría',\n",
    "    'JZB' : 'Olavarría',\n",
    "    'DRQ' : 'Olavarría',\n",
    "    'B7400JWP' : 'Olavarría',\n",
    "    'CUV' : 'Olavarría',\n",
    "    'CUG' : 'Olavarría',\n",
    "    'DSC' : 'Olavarría',\n",
    "    'KKM' : 'Olavarría',\n",
    "    'CRB' : 'Olavarría',\n",
    "    'CUC' : 'Olavarría',\n",
    "    'JUE' : 'Olavarría',\n",
    "    'DJQ' : 'Olavarría',\n",
    "    'DSN' : 'Olavarría',\n",
    "    'DRL' : 'Olavarría',\n",
    "    'CWP' : 'Olavarría',\n",
    "    'CUR' : 'Olavarría',\n",
    "    'LNM' : 'Olavarría',\n",
    "    'DTO' : 'Olavarría',\n",
    "    'LLD' : 'Olavarría',\n",
    "    'CABA' : 'Olavarría'\n",
    "})"
   ]
  },
  {
   "cell_type": "code",
   "execution_count": 88,
   "id": "42312361",
   "metadata": {},
   "outputs": [],
   "source": [
    "# Exporta el DataFrame a .CSV sin incluir la columna del índice\n",
    "df.to_csv('../CleanData/OlavarriaMain.csv', index=False)"
   ]
  },
  {
   "cell_type": "code",
   "execution_count": 89,
   "id": "e8d31698",
   "metadata": {},
   "outputs": [
    {
     "data": {
      "text/plain": [
       "['../Datasets/rauch_dataset_google-maps-extractor_2025-05-19_00-06-21-606.csv',\n",
       " '../Datasets/rauch_dataset_crawler-google-places_2025-06-15_22-41-11-472.csv',\n",
       " '../Datasets/rauch_ dataset_crawler-google-places_2025-05-29_00-49-55-809.csv',\n",
       " '../Datasets/rauch_dataset_crawler-google-places_2025-07-30_15-11-01-826.csv']"
      ]
     },
     "execution_count": 89,
     "metadata": {},
     "output_type": "execute_result"
    }
   ],
   "source": [
    "\n",
    "glob.glob('../Datasets/*rauch*.csv')"
   ]
  },
  {
   "cell_type": "code",
   "execution_count": 90,
   "id": "31b4f339",
   "metadata": {},
   "outputs": [],
   "source": [
    "df = pd.concat(map(pd.read_csv, glob.glob('../Datasets/*rauch*.csv'))).reset_index(drop=True)"
   ]
  },
  {
   "cell_type": "code",
   "execution_count": 91,
   "id": "a7e88dfb",
   "metadata": {},
   "outputs": [
    {
     "data": {
      "application/vnd.microsoft.datawrangler.viewer.v0+json": {
       "columns": [
        {
         "name": "index",
         "rawType": "int64",
         "type": "integer"
        },
        {
         "name": "title",
         "rawType": "object",
         "type": "string"
        },
        {
         "name": "categoryName",
         "rawType": "object",
         "type": "string"
        },
        {
         "name": "website",
         "rawType": "object",
         "type": "unknown"
        },
        {
         "name": "street",
         "rawType": "object",
         "type": "unknown"
        },
        {
         "name": "phone",
         "rawType": "object",
         "type": "string"
        },
        {
         "name": "city",
         "rawType": "object",
         "type": "string"
        },
        {
         "name": "state",
         "rawType": "object",
         "type": "string"
        },
        {
         "name": "location/lat",
         "rawType": "float64",
         "type": "float"
        },
        {
         "name": "location/lng",
         "rawType": "float64",
         "type": "float"
        },
        {
         "name": "totalScore",
         "rawType": "float64",
         "type": "float"
        },
        {
         "name": "rank",
         "rawType": "int64",
         "type": "integer"
        },
        {
         "name": "imageUrl",
         "rawType": "object",
         "type": "string"
        },
        {
         "name": "imagesCount",
         "rawType": "float64",
         "type": "float"
        },
        {
         "name": "reviewsCount",
         "rawType": "int64",
         "type": "integer"
        },
        {
         "name": "scrapedAt",
         "rawType": "object",
         "type": "string"
        },
        {
         "name": "searchString",
         "rawType": "object",
         "type": "string"
        }
       ],
       "ref": "b16e748a-30fc-4d98-9c7d-54492a39206d",
       "rows": [
        [
         "0",
         "Despensa y anexo belen \"lo de jhonny\"",
         "Comercio",
         null,
         "Barrio Flucho Casa 23",
         "+54 9 249 448-5829",
         "Rauch",
         "Provincia de Buenos Aires",
         "-36.7809488",
         "-59.0787255",
         "5.0",
         "1",
         "https://lh3.googleusercontent.com/p/AF1QipN4p-lhS9O4aIyZYxcbKosrUPUrRD6O36ewvgdt=w408-h306-k-no",
         "33.0",
         "9",
         "2025-05-19T00:05:29.686Z",
         "Comercio"
        ],
        [
         "1",
         "El Viejo Almacén",
         "Comercio",
         null,
         null,
         "+54 2297 44-2351",
         "Rauch",
         "Provincia de Buenos Aires",
         "-36.7770906",
         "-59.0885116",
         "4.5",
         "2",
         "https://streetviewpixels-pa.googleapis.com/v1/thumbnail?panoid=h49PUrmrDeSsD9ycaKYi_w&cb_client=search.gws-prod.gps&w=408&h=240&yaw=71.76222&pitch=0&thumbfov=100",
         "1.0",
         "2",
         "2025-05-19T00:05:29.688Z",
         "Comercio"
        ],
        [
         "2",
         "Campos Julian - Contenedores",
         "Comercio",
         null,
         "Av. Belgrano 573",
         "+54 2297 44-2714",
         "Rauch",
         "Provincia de Buenos Aires",
         "-36.7796401",
         "-59.081616",
         "4.8",
         "3",
         "https://lh3.googleusercontent.com/gps-cs-s/AC9h4nrD2UHnJl03ZL61XMJtn-W8yA95RiYQDo07GagEsuI8GCN63jx7-5pC4cmVmT5n_Jvfgs7eWnsuJRD9X0Q7yh_H854nrSJHSkDEyLOS0TDlkIX8Y6szIPf-k2hKLcg_5Ap-MvLr_g=w408-h306-k-no",
         "3.0",
         "4",
         "2025-05-19T00:05:29.688Z",
         "Comercio"
        ],
        [
         "3",
         "Arturo E Dualde",
         "Comercio",
         null,
         "Av. San Martín 1060",
         "+54 2297 44-0384",
         "Rauch",
         "Provincia de Buenos Aires",
         "-36.7716727",
         "-59.0850317",
         "4.5",
         "4",
         "https://lh3.googleusercontent.com/gps-cs-s/AC9h4npgoh57cMpBRuM7swHXXd7NX0eWs3UrOFVllGhH9xHnZv00tD28Pq1rX44DkuNkTgH3NDTx12a7Wctedn_dHrSoHMV-LRZsNTLigcI1T0qkSkFAVAdVf5eJEHjgD0apv86mMEGc1g=w408-h725-k-no",
         "3.0",
         "2",
         "2025-05-19T00:05:29.688Z",
         "Comercio"
        ],
        [
         "4",
         "Miguel A Siervo",
         "Comercio",
         null,
         "ABB, 9 de Julio 62",
         "+54 2297 44-0451",
         "Rauch",
         "Provincia de Buenos Aires",
         "-36.7767021",
         "-59.0926493",
         "5.0",
         "5",
         "https://streetviewpixels-pa.googleapis.com/v1/thumbnail?panoid=Gf08FzRRG00Ziir6a1s30w&cb_client=search.gws-prod.gps&w=408&h=240&yaw=70.55017&pitch=0&thumbfov=100",
         "1.0",
         "1",
         "2025-05-19T00:05:29.691Z",
         "Comercio"
        ]
       ],
       "shape": {
        "columns": 16,
        "rows": 5
       }
      },
      "text/html": [
       "<div>\n",
       "<style scoped>\n",
       "    .dataframe tbody tr th:only-of-type {\n",
       "        vertical-align: middle;\n",
       "    }\n",
       "\n",
       "    .dataframe tbody tr th {\n",
       "        vertical-align: top;\n",
       "    }\n",
       "\n",
       "    .dataframe thead th {\n",
       "        text-align: right;\n",
       "    }\n",
       "</style>\n",
       "<table border=\"1\" class=\"dataframe\">\n",
       "  <thead>\n",
       "    <tr style=\"text-align: right;\">\n",
       "      <th></th>\n",
       "      <th>title</th>\n",
       "      <th>categoryName</th>\n",
       "      <th>website</th>\n",
       "      <th>street</th>\n",
       "      <th>phone</th>\n",
       "      <th>city</th>\n",
       "      <th>state</th>\n",
       "      <th>location/lat</th>\n",
       "      <th>location/lng</th>\n",
       "      <th>totalScore</th>\n",
       "      <th>rank</th>\n",
       "      <th>imageUrl</th>\n",
       "      <th>imagesCount</th>\n",
       "      <th>reviewsCount</th>\n",
       "      <th>scrapedAt</th>\n",
       "      <th>searchString</th>\n",
       "    </tr>\n",
       "  </thead>\n",
       "  <tbody>\n",
       "    <tr>\n",
       "      <th>0</th>\n",
       "      <td>Despensa y anexo belen \"lo de jhonny\"</td>\n",
       "      <td>Comercio</td>\n",
       "      <td>NaN</td>\n",
       "      <td>Barrio Flucho Casa 23</td>\n",
       "      <td>+54 9 249 448-5829</td>\n",
       "      <td>Rauch</td>\n",
       "      <td>Provincia de Buenos Aires</td>\n",
       "      <td>-36.780949</td>\n",
       "      <td>-59.078725</td>\n",
       "      <td>5.0</td>\n",
       "      <td>1</td>\n",
       "      <td>https://lh3.googleusercontent.com/p/AF1QipN4p-...</td>\n",
       "      <td>33.0</td>\n",
       "      <td>9</td>\n",
       "      <td>2025-05-19T00:05:29.686Z</td>\n",
       "      <td>Comercio</td>\n",
       "    </tr>\n",
       "    <tr>\n",
       "      <th>1</th>\n",
       "      <td>El Viejo Almacén</td>\n",
       "      <td>Comercio</td>\n",
       "      <td>NaN</td>\n",
       "      <td>NaN</td>\n",
       "      <td>+54 2297 44-2351</td>\n",
       "      <td>Rauch</td>\n",
       "      <td>Provincia de Buenos Aires</td>\n",
       "      <td>-36.777091</td>\n",
       "      <td>-59.088512</td>\n",
       "      <td>4.5</td>\n",
       "      <td>2</td>\n",
       "      <td>https://streetviewpixels-pa.googleapis.com/v1/...</td>\n",
       "      <td>1.0</td>\n",
       "      <td>2</td>\n",
       "      <td>2025-05-19T00:05:29.688Z</td>\n",
       "      <td>Comercio</td>\n",
       "    </tr>\n",
       "    <tr>\n",
       "      <th>2</th>\n",
       "      <td>Campos Julian - Contenedores</td>\n",
       "      <td>Comercio</td>\n",
       "      <td>NaN</td>\n",
       "      <td>Av. Belgrano 573</td>\n",
       "      <td>+54 2297 44-2714</td>\n",
       "      <td>Rauch</td>\n",
       "      <td>Provincia de Buenos Aires</td>\n",
       "      <td>-36.779640</td>\n",
       "      <td>-59.081616</td>\n",
       "      <td>4.8</td>\n",
       "      <td>3</td>\n",
       "      <td>https://lh3.googleusercontent.com/gps-cs-s/AC9...</td>\n",
       "      <td>3.0</td>\n",
       "      <td>4</td>\n",
       "      <td>2025-05-19T00:05:29.688Z</td>\n",
       "      <td>Comercio</td>\n",
       "    </tr>\n",
       "    <tr>\n",
       "      <th>3</th>\n",
       "      <td>Arturo E Dualde</td>\n",
       "      <td>Comercio</td>\n",
       "      <td>NaN</td>\n",
       "      <td>Av. San Martín 1060</td>\n",
       "      <td>+54 2297 44-0384</td>\n",
       "      <td>Rauch</td>\n",
       "      <td>Provincia de Buenos Aires</td>\n",
       "      <td>-36.771673</td>\n",
       "      <td>-59.085032</td>\n",
       "      <td>4.5</td>\n",
       "      <td>4</td>\n",
       "      <td>https://lh3.googleusercontent.com/gps-cs-s/AC9...</td>\n",
       "      <td>3.0</td>\n",
       "      <td>2</td>\n",
       "      <td>2025-05-19T00:05:29.688Z</td>\n",
       "      <td>Comercio</td>\n",
       "    </tr>\n",
       "    <tr>\n",
       "      <th>4</th>\n",
       "      <td>Miguel A Siervo</td>\n",
       "      <td>Comercio</td>\n",
       "      <td>NaN</td>\n",
       "      <td>ABB, 9 de Julio 62</td>\n",
       "      <td>+54 2297 44-0451</td>\n",
       "      <td>Rauch</td>\n",
       "      <td>Provincia de Buenos Aires</td>\n",
       "      <td>-36.776702</td>\n",
       "      <td>-59.092649</td>\n",
       "      <td>5.0</td>\n",
       "      <td>5</td>\n",
       "      <td>https://streetviewpixels-pa.googleapis.com/v1/...</td>\n",
       "      <td>1.0</td>\n",
       "      <td>1</td>\n",
       "      <td>2025-05-19T00:05:29.691Z</td>\n",
       "      <td>Comercio</td>\n",
       "    </tr>\n",
       "  </tbody>\n",
       "</table>\n",
       "</div>"
      ],
      "text/plain": [
       "                                   title categoryName website  \\\n",
       "0  Despensa y anexo belen \"lo de jhonny\"     Comercio     NaN   \n",
       "1                       El Viejo Almacén     Comercio     NaN   \n",
       "2           Campos Julian - Contenedores     Comercio     NaN   \n",
       "3                        Arturo E Dualde     Comercio     NaN   \n",
       "4                        Miguel A Siervo     Comercio     NaN   \n",
       "\n",
       "                  street               phone   city  \\\n",
       "0  Barrio Flucho Casa 23  +54 9 249 448-5829  Rauch   \n",
       "1                    NaN    +54 2297 44-2351  Rauch   \n",
       "2       Av. Belgrano 573    +54 2297 44-2714  Rauch   \n",
       "3    Av. San Martín 1060    +54 2297 44-0384  Rauch   \n",
       "4     ABB, 9 de Julio 62    +54 2297 44-0451  Rauch   \n",
       "\n",
       "                       state  location/lat  location/lng  totalScore  rank  \\\n",
       "0  Provincia de Buenos Aires    -36.780949    -59.078725         5.0     1   \n",
       "1  Provincia de Buenos Aires    -36.777091    -59.088512         4.5     2   \n",
       "2  Provincia de Buenos Aires    -36.779640    -59.081616         4.8     3   \n",
       "3  Provincia de Buenos Aires    -36.771673    -59.085032         4.5     4   \n",
       "4  Provincia de Buenos Aires    -36.776702    -59.092649         5.0     5   \n",
       "\n",
       "                                            imageUrl  imagesCount  \\\n",
       "0  https://lh3.googleusercontent.com/p/AF1QipN4p-...         33.0   \n",
       "1  https://streetviewpixels-pa.googleapis.com/v1/...          1.0   \n",
       "2  https://lh3.googleusercontent.com/gps-cs-s/AC9...          3.0   \n",
       "3  https://lh3.googleusercontent.com/gps-cs-s/AC9...          3.0   \n",
       "4  https://streetviewpixels-pa.googleapis.com/v1/...          1.0   \n",
       "\n",
       "   reviewsCount                 scrapedAt searchString  \n",
       "0             9  2025-05-19T00:05:29.686Z     Comercio  \n",
       "1             2  2025-05-19T00:05:29.688Z     Comercio  \n",
       "2             4  2025-05-19T00:05:29.688Z     Comercio  \n",
       "3             2  2025-05-19T00:05:29.688Z     Comercio  \n",
       "4             1  2025-05-19T00:05:29.691Z     Comercio  "
      ]
     },
     "execution_count": 91,
     "metadata": {},
     "output_type": "execute_result"
    }
   ],
   "source": [
    "df = df[[\n",
    "        'title',\n",
    "        'categoryName',\n",
    "        'website',\n",
    "        'street',\n",
    "        'phone',\n",
    "        'city',\n",
    "        'state',\n",
    "        'location/lat', \n",
    "        'location/lng',\n",
    "        'totalScore',\n",
    "        'rank',\n",
    "        'imageUrl',\n",
    "        'imagesCount',       \n",
    "        'reviewsCount', \n",
    "        'scrapedAt',\n",
    "        'searchString']]\n",
    "df.head()"
   ]
  },
  {
   "cell_type": "code",
   "execution_count": 92,
   "id": "c0646fe6",
   "metadata": {},
   "outputs": [
    {
     "name": "stdout",
     "output_type": "stream",
     "text": [
      "<class 'pandas.core.frame.DataFrame'>\n",
      "RangeIndex: 826 entries, 0 to 825\n",
      "Data columns (total 16 columns):\n",
      " #   Column        Non-Null Count  Dtype  \n",
      "---  ------        --------------  -----  \n",
      " 0   title         826 non-null    object \n",
      " 1   categoryName  806 non-null    object \n",
      " 2   website       147 non-null    object \n",
      " 3   street        746 non-null    object \n",
      " 4   phone         455 non-null    object \n",
      " 5   city          820 non-null    object \n",
      " 6   state         821 non-null    object \n",
      " 7   location/lat  826 non-null    float64\n",
      " 8   location/lng  826 non-null    float64\n",
      " 9   totalScore    527 non-null    float64\n",
      " 10  rank          826 non-null    int64  \n",
      " 11  imageUrl      802 non-null    object \n",
      " 12  imagesCount   802 non-null    float64\n",
      " 13  reviewsCount  826 non-null    int64  \n",
      " 14  scrapedAt     826 non-null    object \n",
      " 15  searchString  826 non-null    object \n",
      "dtypes: float64(4), int64(2), object(10)\n",
      "memory usage: 103.4+ KB\n"
     ]
    }
   ],
   "source": [
    "df.info()"
   ]
  },
  {
   "cell_type": "code",
   "execution_count": 93,
   "id": "df4224b7",
   "metadata": {},
   "outputs": [],
   "source": [
    "df['city'] = df['city'].fillna('Rauch')"
   ]
  },
  {
   "cell_type": "code",
   "execution_count": 94,
   "id": "b6c1d915",
   "metadata": {},
   "outputs": [
    {
     "data": {
      "application/vnd.microsoft.datawrangler.viewer.v0+json": {
       "columns": [
        {
         "name": "city",
         "rawType": "object",
         "type": "string"
        },
        {
         "name": "count",
         "rawType": "int64",
         "type": "integer"
        }
       ],
       "ref": "a8ef036b-b50f-41bd-aea4-fe6768be267d",
       "rows": [
        [
         "Rauch",
         "722"
        ],
        [
         "BPQ",
         "24"
        ],
        [
         "Buenos Aires",
         "6"
        ],
        [
         "ADB",
         "6"
        ],
        [
         "ACF",
         "4"
        ],
        [
         "AEX",
         "4"
        ],
        [
         "BBP",
         "4"
        ],
        [
         "ASJ",
         "4"
        ],
        [
         "ACD",
         "4"
        ],
        [
         "BPR",
         "4"
        ],
        [
         "BID",
         "4"
        ],
        [
         "BPJ",
         "4"
        ],
        [
         "AQH",
         "4"
        ],
        [
         "BPO",
         "3"
        ],
        [
         "ABD",
         "3"
        ],
        [
         "BQC",
         "3"
        ],
        [
         "ATQ",
         "3"
        ],
        [
         "AQJ",
         "3"
        ],
        [
         "AKG",
         "3"
        ],
        [
         "BCB",
         "2"
        ],
        [
         "BPP",
         "2"
        ],
        [
         "BPK",
         "2"
        ],
        [
         "BPI",
         "2"
        ],
        [
         "AQE",
         "1"
        ],
        [
         "BMT",
         "1"
        ],
        [
         "AQF",
         "1"
        ],
        [
         "AAI",
         "1"
        ],
        [
         "BJF",
         "1"
        ],
        [
         "AQB",
         "1"
        ]
       ],
       "shape": {
        "columns": 1,
        "rows": 29
       }
      },
      "text/plain": [
       "city\n",
       "Rauch           722\n",
       "BPQ              24\n",
       "Buenos Aires      6\n",
       "ADB               6\n",
       "ACF               4\n",
       "AEX               4\n",
       "BBP               4\n",
       "ASJ               4\n",
       "ACD               4\n",
       "BPR               4\n",
       "BID               4\n",
       "BPJ               4\n",
       "AQH               4\n",
       "BPO               3\n",
       "ABD               3\n",
       "BQC               3\n",
       "ATQ               3\n",
       "AQJ               3\n",
       "AKG               3\n",
       "BCB               2\n",
       "BPP               2\n",
       "BPK               2\n",
       "BPI               2\n",
       "AQE               1\n",
       "BMT               1\n",
       "AQF               1\n",
       "AAI               1\n",
       "BJF               1\n",
       "AQB               1\n",
       "Name: count, dtype: int64"
      ]
     },
     "execution_count": 94,
     "metadata": {},
     "output_type": "execute_result"
    }
   ],
   "source": [
    "df['city'].value_counts()"
   ]
  },
  {
   "cell_type": "code",
   "execution_count": 95,
   "id": "7cff3dae",
   "metadata": {},
   "outputs": [],
   "source": [
    "df['city'] = df['city'].replace({\n",
    "    'Buenos Aires': 'Rauch',\n",
    "    'BPQ' : 'Rauch',\n",
    "    'ADB' : 'Rauch',\n",
    "    'ASJ' : 'Rauch',\n",
    "    'BPR' : 'Rauch',\n",
    "    'BBP' : 'Rauch',\n",
    "    'ACD' : 'Rauch',\n",
    "    'BPJ' : 'Rauch',\n",
    "    'AEX' : 'Rauch',\n",
    "    'BID' : 'Rauch',\n",
    "    'ACF' : 'Rauch',\n",
    "    'AQH' : 'Rauch',\n",
    "    'BPO' : 'Rauch',\n",
    "    'ATQ' : 'Rauch',\n",
    "    'AQJ' : 'Rauch',\n",
    "    'ABD' : 'Rauch',\n",
    "    'BQC' : 'Rauch',    \n",
    "    'AKG' : 'Rauch',\n",
    "    'BCB' : 'Rauch',\n",
    "    'BPP' : 'Rauch',\n",
    "    'BPK' : 'Rauch',\n",
    "    'BPI' : 'Rauch',\n",
    "    'AQE' : 'Rauch',\n",
    "    'BMT' : 'Rauch',\n",
    "    'AQF' : 'Rauch',\n",
    "    'AAI' : 'Rauch',\n",
    "    'BJF' : 'Rauch',\n",
    "    'AQB' : 'Rauch'\n",
    "})"
   ]
  },
  {
   "cell_type": "code",
   "execution_count": 96,
   "id": "1ce638de",
   "metadata": {},
   "outputs": [],
   "source": [
    "#Exportación del DataFrame a un archivo CSV\n",
    "df.to_csv('../CleanData/RauchMain.csv', index=False)"
   ]
  },
  {
   "cell_type": "code",
   "execution_count": 97,
   "id": "e6147c2c",
   "metadata": {},
   "outputs": [
    {
     "data": {
      "text/plain": [
       "['../Datasets/tandil_dataset_crawler-google-places_2025-06-11_18-03-13-154.csv',\n",
       " '../Datasets/tandil_dataset_crawler-google-places_2025-05-28_23-37-49-506.csv',\n",
       " '../Datasets/tandil_dataset_crawler-google-places_2025-05-29_00-18-14-608.csv',\n",
       " '../Datasets/tandil _dataset_google-maps-extractor_2025-05-04_16-09-01-070.csv',\n",
       " '../Datasets/tandil_dataset_crawler-google-places_2025-06-15_23-39-41-132.csv',\n",
       " '../Datasets/tandil_dataset_crawler-google-places_2025-07-30_15-45-22-219.csv',\n",
       " '../Datasets/tandil_dataset_crawler-google-places_2025-05-28_23-44-51-919.csv']"
      ]
     },
     "execution_count": 97,
     "metadata": {},
     "output_type": "execute_result"
    }
   ],
   "source": [
    "glob.glob('../Datasets/*tandil*.csv')"
   ]
  },
  {
   "cell_type": "code",
   "execution_count": 98,
   "id": "ec2afd8a",
   "metadata": {},
   "outputs": [],
   "source": [
    "df = pd.concat(map(pd.read_csv, glob.glob('../Datasets/*tandil*.csv'))).reset_index(drop=True)\n"
   ]
  },
  {
   "cell_type": "code",
   "execution_count": 99,
   "id": "6d451a92",
   "metadata": {},
   "outputs": [
    {
     "data": {
      "application/vnd.microsoft.datawrangler.viewer.v0+json": {
       "columns": [
        {
         "name": "index",
         "rawType": "int64",
         "type": "integer"
        },
        {
         "name": "title",
         "rawType": "object",
         "type": "string"
        },
        {
         "name": "categoryName",
         "rawType": "object",
         "type": "string"
        },
        {
         "name": "website",
         "rawType": "object",
         "type": "unknown"
        },
        {
         "name": "street",
         "rawType": "object",
         "type": "string"
        },
        {
         "name": "phone",
         "rawType": "object",
         "type": "unknown"
        },
        {
         "name": "city",
         "rawType": "object",
         "type": "string"
        },
        {
         "name": "state",
         "rawType": "object",
         "type": "string"
        },
        {
         "name": "location/lat",
         "rawType": "float64",
         "type": "float"
        },
        {
         "name": "location/lng",
         "rawType": "float64",
         "type": "float"
        },
        {
         "name": "totalScore",
         "rawType": "float64",
         "type": "float"
        },
        {
         "name": "rank",
         "rawType": "int64",
         "type": "integer"
        },
        {
         "name": "imageUrl",
         "rawType": "object",
         "type": "string"
        },
        {
         "name": "imagesCount",
         "rawType": "float64",
         "type": "float"
        },
        {
         "name": "reviewsCount",
         "rawType": "int64",
         "type": "integer"
        },
        {
         "name": "scrapedAt",
         "rawType": "object",
         "type": "string"
        },
        {
         "name": "searchString",
         "rawType": "object",
         "type": "string"
        }
       ],
       "ref": "6ad93e86-795f-47d3-89c1-c3bba126fe8d",
       "rows": [
        [
         "0",
         "Marcovecchio Bikes",
         "Tienda de bicicletas",
         "https://marcovecchiobikes.com/",
         "Astor Piazzola 160 Entre Ijurco y, Cesar Milstein",
         "+54 249 401-9991",
         "Tandil",
         "Provincia de Buenos Aires",
         "-37.2820658",
         "-59.1020403",
         "4.9",
         "1",
         "https://lh3.googleusercontent.com/p/AF1QipNLaf4Di01uM7xSyNkrUgkEtmqtvcIXT9kOLEFR=w408-h272-k-no",
         "76.0",
         "371",
         "2025-06-11T18:01:49.484Z",
         "venta online"
        ],
        [
         "1",
         "El Ultimo Recurso",
         "Comercio",
         null,
         "Ijurco 2243",
         null,
         "Tandil",
         "Provincia de Buenos Aires",
         "-37.2949014",
         "-59.1158551",
         "5.0",
         "1",
         "https://lh3.googleusercontent.com/gps-cs-s/AC9h4nr1kjxiY6EBamSmabuQ4W677ieov276dJBezfPzeGxuk2ph7_P0PZlLInFayfN1GYD0tq-HgdNH7LWL1Aqn1aTT2mKf50ufYGVa5bifCQdrlYFQOOxRaXSnmWZNpbx5nF4_aRbtpwA2W_Sf=w408-h544-k-no",
         "2.0",
         "1",
         "2025-06-11T18:01:50.668Z",
         "comercio"
        ],
        [
         "2",
         "Enever tandil",
         "Comercio",
         "https://www.instagram.com/enever_tandil?igsh=a2k5dm42anVuaXBw&utm_source=qr",
         "pasaje interno 1850 ENTRE LA CALLE IJURCO, Juárez Y",
         "+54 249 428-7471",
         "Tandil",
         "Provincia de Buenos Aires",
         "-37.2989358",
         "-59.1201442",
         "5.0",
         "2",
         "https://lh3.googleusercontent.com/p/AF1QipP2TlUHotjLhUSAj7xfyP1AIGqeBXOSLRmCeIMi=w408-h544-k-no",
         "6.0",
         "1",
         "2025-06-11T18:01:50.668Z",
         "comercio"
        ],
        [
         "3",
         "El Surtidor Tandil",
         "Comercio",
         "https://sites.google.com/view/el-surtidor-tandil/contacto",
         "Darragueira, Ijurco 1999",
         "+54 249 462-2606",
         "Tandil",
         "Provincia de Buenos Aires",
         "-37.3008453",
         "-59.1232752",
         "4.4",
         "3",
         "https://lh3.googleusercontent.com/p/AF1QipNqjAwwO2b1Moo8jpBkGbDOru9Q2tmw6Tv6tnEY=w408-h326-k-no",
         "18.0",
         "280",
         "2025-06-11T18:01:50.668Z",
         "comercio"
        ],
        [
         "4",
         "A limpiar",
         "Comercio",
         null,
         "Ijurco 1883",
         "+54 249 464-4277",
         "Tandil",
         "Provincia de Buenos Aires",
         "-37.2982871",
         "-59.1200489",
         "4.3",
         "4",
         "https://lh3.googleusercontent.com/p/AF1QipMcYBqdjcLbF7L7MuO-VQlRv6AYOk2vhljHRN7Z=w408-h906-k-no",
         "39.0",
         "47",
         "2025-06-11T18:01:50.668Z",
         "comercio"
        ]
       ],
       "shape": {
        "columns": 16,
        "rows": 5
       }
      },
      "text/html": [
       "<div>\n",
       "<style scoped>\n",
       "    .dataframe tbody tr th:only-of-type {\n",
       "        vertical-align: middle;\n",
       "    }\n",
       "\n",
       "    .dataframe tbody tr th {\n",
       "        vertical-align: top;\n",
       "    }\n",
       "\n",
       "    .dataframe thead th {\n",
       "        text-align: right;\n",
       "    }\n",
       "</style>\n",
       "<table border=\"1\" class=\"dataframe\">\n",
       "  <thead>\n",
       "    <tr style=\"text-align: right;\">\n",
       "      <th></th>\n",
       "      <th>title</th>\n",
       "      <th>categoryName</th>\n",
       "      <th>website</th>\n",
       "      <th>street</th>\n",
       "      <th>phone</th>\n",
       "      <th>city</th>\n",
       "      <th>state</th>\n",
       "      <th>location/lat</th>\n",
       "      <th>location/lng</th>\n",
       "      <th>totalScore</th>\n",
       "      <th>rank</th>\n",
       "      <th>imageUrl</th>\n",
       "      <th>imagesCount</th>\n",
       "      <th>reviewsCount</th>\n",
       "      <th>scrapedAt</th>\n",
       "      <th>searchString</th>\n",
       "    </tr>\n",
       "  </thead>\n",
       "  <tbody>\n",
       "    <tr>\n",
       "      <th>0</th>\n",
       "      <td>Marcovecchio Bikes</td>\n",
       "      <td>Tienda de bicicletas</td>\n",
       "      <td>https://marcovecchiobikes.com/</td>\n",
       "      <td>Astor Piazzola 160 Entre Ijurco y, Cesar Milstein</td>\n",
       "      <td>+54 249 401-9991</td>\n",
       "      <td>Tandil</td>\n",
       "      <td>Provincia de Buenos Aires</td>\n",
       "      <td>-37.282066</td>\n",
       "      <td>-59.102040</td>\n",
       "      <td>4.9</td>\n",
       "      <td>1</td>\n",
       "      <td>https://lh3.googleusercontent.com/p/AF1QipNLaf...</td>\n",
       "      <td>76.0</td>\n",
       "      <td>371</td>\n",
       "      <td>2025-06-11T18:01:49.484Z</td>\n",
       "      <td>venta online</td>\n",
       "    </tr>\n",
       "    <tr>\n",
       "      <th>1</th>\n",
       "      <td>El Ultimo Recurso</td>\n",
       "      <td>Comercio</td>\n",
       "      <td>NaN</td>\n",
       "      <td>Ijurco 2243</td>\n",
       "      <td>NaN</td>\n",
       "      <td>Tandil</td>\n",
       "      <td>Provincia de Buenos Aires</td>\n",
       "      <td>-37.294901</td>\n",
       "      <td>-59.115855</td>\n",
       "      <td>5.0</td>\n",
       "      <td>1</td>\n",
       "      <td>https://lh3.googleusercontent.com/gps-cs-s/AC9...</td>\n",
       "      <td>2.0</td>\n",
       "      <td>1</td>\n",
       "      <td>2025-06-11T18:01:50.668Z</td>\n",
       "      <td>comercio</td>\n",
       "    </tr>\n",
       "    <tr>\n",
       "      <th>2</th>\n",
       "      <td>Enever tandil</td>\n",
       "      <td>Comercio</td>\n",
       "      <td>https://www.instagram.com/enever_tandil?igsh=a...</td>\n",
       "      <td>pasaje interno 1850 ENTRE LA CALLE IJURCO, Juá...</td>\n",
       "      <td>+54 249 428-7471</td>\n",
       "      <td>Tandil</td>\n",
       "      <td>Provincia de Buenos Aires</td>\n",
       "      <td>-37.298936</td>\n",
       "      <td>-59.120144</td>\n",
       "      <td>5.0</td>\n",
       "      <td>2</td>\n",
       "      <td>https://lh3.googleusercontent.com/p/AF1QipP2Tl...</td>\n",
       "      <td>6.0</td>\n",
       "      <td>1</td>\n",
       "      <td>2025-06-11T18:01:50.668Z</td>\n",
       "      <td>comercio</td>\n",
       "    </tr>\n",
       "    <tr>\n",
       "      <th>3</th>\n",
       "      <td>El Surtidor Tandil</td>\n",
       "      <td>Comercio</td>\n",
       "      <td>https://sites.google.com/view/el-surtidor-tand...</td>\n",
       "      <td>Darragueira, Ijurco 1999</td>\n",
       "      <td>+54 249 462-2606</td>\n",
       "      <td>Tandil</td>\n",
       "      <td>Provincia de Buenos Aires</td>\n",
       "      <td>-37.300845</td>\n",
       "      <td>-59.123275</td>\n",
       "      <td>4.4</td>\n",
       "      <td>3</td>\n",
       "      <td>https://lh3.googleusercontent.com/p/AF1QipNqjA...</td>\n",
       "      <td>18.0</td>\n",
       "      <td>280</td>\n",
       "      <td>2025-06-11T18:01:50.668Z</td>\n",
       "      <td>comercio</td>\n",
       "    </tr>\n",
       "    <tr>\n",
       "      <th>4</th>\n",
       "      <td>A limpiar</td>\n",
       "      <td>Comercio</td>\n",
       "      <td>NaN</td>\n",
       "      <td>Ijurco 1883</td>\n",
       "      <td>+54 249 464-4277</td>\n",
       "      <td>Tandil</td>\n",
       "      <td>Provincia de Buenos Aires</td>\n",
       "      <td>-37.298287</td>\n",
       "      <td>-59.120049</td>\n",
       "      <td>4.3</td>\n",
       "      <td>4</td>\n",
       "      <td>https://lh3.googleusercontent.com/p/AF1QipMcYB...</td>\n",
       "      <td>39.0</td>\n",
       "      <td>47</td>\n",
       "      <td>2025-06-11T18:01:50.668Z</td>\n",
       "      <td>comercio</td>\n",
       "    </tr>\n",
       "  </tbody>\n",
       "</table>\n",
       "</div>"
      ],
      "text/plain": [
       "                title          categoryName  \\\n",
       "0  Marcovecchio Bikes  Tienda de bicicletas   \n",
       "1   El Ultimo Recurso              Comercio   \n",
       "2       Enever tandil              Comercio   \n",
       "3  El Surtidor Tandil              Comercio   \n",
       "4           A limpiar              Comercio   \n",
       "\n",
       "                                             website  \\\n",
       "0                     https://marcovecchiobikes.com/   \n",
       "1                                                NaN   \n",
       "2  https://www.instagram.com/enever_tandil?igsh=a...   \n",
       "3  https://sites.google.com/view/el-surtidor-tand...   \n",
       "4                                                NaN   \n",
       "\n",
       "                                              street             phone  \\\n",
       "0  Astor Piazzola 160 Entre Ijurco y, Cesar Milstein  +54 249 401-9991   \n",
       "1                                        Ijurco 2243               NaN   \n",
       "2  pasaje interno 1850 ENTRE LA CALLE IJURCO, Juá...  +54 249 428-7471   \n",
       "3                           Darragueira, Ijurco 1999  +54 249 462-2606   \n",
       "4                                        Ijurco 1883  +54 249 464-4277   \n",
       "\n",
       "     city                      state  location/lat  location/lng  totalScore  \\\n",
       "0  Tandil  Provincia de Buenos Aires    -37.282066    -59.102040         4.9   \n",
       "1  Tandil  Provincia de Buenos Aires    -37.294901    -59.115855         5.0   \n",
       "2  Tandil  Provincia de Buenos Aires    -37.298936    -59.120144         5.0   \n",
       "3  Tandil  Provincia de Buenos Aires    -37.300845    -59.123275         4.4   \n",
       "4  Tandil  Provincia de Buenos Aires    -37.298287    -59.120049         4.3   \n",
       "\n",
       "   rank                                           imageUrl  imagesCount  \\\n",
       "0     1  https://lh3.googleusercontent.com/p/AF1QipNLaf...         76.0   \n",
       "1     1  https://lh3.googleusercontent.com/gps-cs-s/AC9...          2.0   \n",
       "2     2  https://lh3.googleusercontent.com/p/AF1QipP2Tl...          6.0   \n",
       "3     3  https://lh3.googleusercontent.com/p/AF1QipNqjA...         18.0   \n",
       "4     4  https://lh3.googleusercontent.com/p/AF1QipMcYB...         39.0   \n",
       "\n",
       "   reviewsCount                 scrapedAt  searchString  \n",
       "0           371  2025-06-11T18:01:49.484Z  venta online  \n",
       "1             1  2025-06-11T18:01:50.668Z      comercio  \n",
       "2             1  2025-06-11T18:01:50.668Z      comercio  \n",
       "3           280  2025-06-11T18:01:50.668Z      comercio  \n",
       "4            47  2025-06-11T18:01:50.668Z      comercio  "
      ]
     },
     "execution_count": 99,
     "metadata": {},
     "output_type": "execute_result"
    }
   ],
   "source": [
    "df = df[[\n",
    "        'title',\n",
    "        'categoryName',\n",
    "        'website',\n",
    "        'street',\n",
    "        'phone',\n",
    "        'city',\n",
    "        'state',\n",
    "        'location/lat', \n",
    "        'location/lng',\n",
    "        'totalScore',\n",
    "        'rank',\n",
    "        'imageUrl',\n",
    "        'imagesCount',       \n",
    "        'reviewsCount', \n",
    "        'scrapedAt',\n",
    "        'searchString']]\n",
    "df.head()"
   ]
  },
  {
   "cell_type": "code",
   "execution_count": 100,
   "id": "c39adebe",
   "metadata": {},
   "outputs": [
    {
     "name": "stdout",
     "output_type": "stream",
     "text": [
      "<class 'pandas.core.frame.DataFrame'>\n",
      "RangeIndex: 3577 entries, 0 to 3576\n",
      "Data columns (total 16 columns):\n",
      " #   Column        Non-Null Count  Dtype  \n",
      "---  ------        --------------  -----  \n",
      " 0   title         3577 non-null   object \n",
      " 1   categoryName  3498 non-null   object \n",
      " 2   website       1360 non-null   object \n",
      " 3   street        3450 non-null   object \n",
      " 4   phone         2746 non-null   object \n",
      " 5   city          3543 non-null   object \n",
      " 6   state         3555 non-null   object \n",
      " 7   location/lat  3577 non-null   float64\n",
      " 8   location/lng  3577 non-null   float64\n",
      " 9   totalScore    2966 non-null   float64\n",
      " 10  rank          3577 non-null   int64  \n",
      " 11  imageUrl      3486 non-null   object \n",
      " 12  imagesCount   3485 non-null   float64\n",
      " 13  reviewsCount  3577 non-null   int64  \n",
      " 14  scrapedAt     3577 non-null   object \n",
      " 15  searchString  3577 non-null   object \n",
      "dtypes: float64(4), int64(2), object(10)\n",
      "memory usage: 447.3+ KB\n"
     ]
    }
   ],
   "source": [
    "df.info()"
   ]
  },
  {
   "cell_type": "code",
   "execution_count": 101,
   "id": "e5609c3a",
   "metadata": {},
   "outputs": [],
   "source": [
    "df['city'] = df['city'].fillna('Tandil')"
   ]
  },
  {
   "cell_type": "code",
   "execution_count": 102,
   "id": "c383d353",
   "metadata": {},
   "outputs": [
    {
     "data": {
      "application/vnd.microsoft.datawrangler.viewer.v0+json": {
       "columns": [
        {
         "name": "city",
         "rawType": "object",
         "type": "string"
        },
        {
         "name": "count",
         "rawType": "int64",
         "type": "integer"
        }
       ],
       "ref": "1d5d1aef-a0de-4009-8f13-26d0be6bf978",
       "rows": [
        [
         "Tandil",
         "3486"
        ],
        [
         "Gran Buenos Aires",
         "21"
        ],
        [
         "Buenos Aires",
         "11"
        ],
        [
         "FTE",
         "4"
        ],
        [
         "HXG",
         "4"
        ],
        [
         "IRK",
         "4"
        ],
        [
         "BGA",
         "4"
        ],
        [
         "GRS",
         "3"
        ],
        [
         "GZY",
         "3"
        ],
        [
         "GKP",
         "3"
        ],
        [
         "AOX",
         "2"
        ],
        [
         "AOS",
         "2"
        ],
        [
         "FSW",
         "2"
        ],
        [
         "AQX",
         "2"
        ],
        [
         "ATN",
         "2"
        ],
        [
         "IRL",
         "2"
        ],
        [
         "BKB",
         "2"
        ],
        [
         "AZR",
         "1"
        ],
        [
         "AHM",
         "1"
        ],
        [
         "AZG",
         "1"
        ],
        [
         "BWH",
         "1"
        ],
        [
         "GMM",
         "1"
        ],
        [
         "AZC",
         "1"
        ],
        [
         "AZD",
         "1"
        ],
        [
         "AOV",
         "1"
        ],
        [
         "AEK",
         "1"
        ],
        [
         "AOO",
         "1"
        ],
        [
         "AOP",
         "1"
        ],
        [
         "GVL",
         "1"
        ],
        [
         "GQQ",
         "1"
        ],
        [
         "GKR",
         "1"
        ],
        [
         "Gutiérrez",
         "1"
        ],
        [
         "BJD",
         "1"
        ],
        [
         "Ciudad Autónoma de Buenos Aires",
         "1"
        ],
        [
         "EAC",
         "1"
        ],
        [
         "AQO",
         "1"
        ],
        [
         "HEU",
         "1"
        ]
       ],
       "shape": {
        "columns": 1,
        "rows": 37
       }
      },
      "text/plain": [
       "city\n",
       "Tandil                             3486\n",
       "Gran Buenos Aires                    21\n",
       "Buenos Aires                         11\n",
       "FTE                                   4\n",
       "HXG                                   4\n",
       "IRK                                   4\n",
       "BGA                                   4\n",
       "GRS                                   3\n",
       "GZY                                   3\n",
       "GKP                                   3\n",
       "AOX                                   2\n",
       "AOS                                   2\n",
       "FSW                                   2\n",
       "AQX                                   2\n",
       "ATN                                   2\n",
       "IRL                                   2\n",
       "BKB                                   2\n",
       "AZR                                   1\n",
       "AHM                                   1\n",
       "AZG                                   1\n",
       "BWH                                   1\n",
       "GMM                                   1\n",
       "AZC                                   1\n",
       "AZD                                   1\n",
       "AOV                                   1\n",
       "AEK                                   1\n",
       "AOO                                   1\n",
       "AOP                                   1\n",
       "GVL                                   1\n",
       "GQQ                                   1\n",
       "GKR                                   1\n",
       "Gutiérrez                             1\n",
       "BJD                                   1\n",
       "Ciudad Autónoma de Buenos Aires       1\n",
       "EAC                                   1\n",
       "AQO                                   1\n",
       "HEU                                   1\n",
       "Name: count, dtype: int64"
      ]
     },
     "execution_count": 102,
     "metadata": {},
     "output_type": "execute_result"
    }
   ],
   "source": [
    "df['city'].value_counts()"
   ]
  },
  {
   "cell_type": "code",
   "execution_count": 103,
   "id": "acbc0c31",
   "metadata": {},
   "outputs": [],
   "source": [
    "df['city'] = df['city'].replace({\n",
    "    'Gran Buenos Aires': 'Tandil',\n",
    "    'Buenos Aires': 'Tandil',\n",
    "    'HXG': 'Tandil',\n",
    "    'IRK': 'Tandil',\n",
    "    'BGA': 'Tandil',\n",
    "    'FTE': 'Tandil',\n",
    "    'GRS': 'Tandil',\n",
    "    'GZY': 'Tandil',\n",
    "    'GKP': 'Tandil',\n",
    "    'ATN': 'Tandil',\n",
    "    'BWH': 'Tandil',\n",
    "    'BKB': 'Tandil',\n",
    "    'AOS': 'Tandil',\n",
    "    'AQX': 'Tandil',\n",
    "    'AOX': 'Tandil',\n",
    "    'FSW': 'Tandil',\n",
    "    'IRL': 'Tandil',\n",
    "    'AHM': 'Tandil',\n",
    "    'AQO': 'Tandil',\n",
    "    'HEU': 'Tandil',\n",
    "    'BJD': 'Tandil',\n",
    "    'Gutiérrez': 'Tandil',\n",
    "    'AZR': 'Tandil',\n",
    "    'AZG': 'Tandil',\n",
    "    'EAC': 'Tandil',\n",
    "    'GKR': 'Tandil',\n",
    "    'GQQ': 'Tandil',\n",
    "    'AOP': 'Tandil',\n",
    "    'AOO': 'Tandil',\n",
    "    'AEK': 'Tandil',\n",
    "    'GVL': 'Tandil',\n",
    "    'GMM': 'Tandil',\n",
    "    'AZC': 'Tandil',\n",
    "    'AZD': 'Tandil',\n",
    "    'AOV': 'Tandil',\n",
    "    'Ciudad Autónoma de Buenos Aires': 'Tandil'\n",
    "})"
   ]
  },
  {
   "cell_type": "code",
   "execution_count": 104,
   "id": "22061281",
   "metadata": {},
   "outputs": [],
   "source": [
    "#Exportación del DataFrame a un archivo CSV\n",
    "df.to_csv('../CleanData/TandilMain.csv', index=False)"
   ]
  },
  {
   "cell_type": "code",
   "execution_count": 105,
   "id": "cfce6fe0",
   "metadata": {},
   "outputs": [
    {
     "data": {
      "text/plain": [
       "['../CleanData/AzulMain.csv',\n",
       " '../CleanData/OlavarriaMain.csv',\n",
       " '../CleanData/JuarezMain.csv',\n",
       " '../CleanData/TandilMain.csv',\n",
       " '../CleanData/RauchMain.csv']"
      ]
     },
     "execution_count": 105,
     "metadata": {},
     "output_type": "execute_result"
    }
   ],
   "source": [
    "# Búsqueda de los archivos .csv en el directorio\n",
    "glob.glob('../CleanData/*Main*.csv')"
   ]
  },
  {
   "cell_type": "code",
   "execution_count": 106,
   "id": "47430193",
   "metadata": {},
   "outputs": [],
   "source": [
    "# Lectura y unión de archivos CSV\n",
    "df = pd.concat(map(pd.read_csv, glob.glob('../CleanData/*Main*.csv'))).reset_index(drop=True)"
   ]
  },
  {
   "cell_type": "code",
   "execution_count": 107,
   "id": "a10d76d8",
   "metadata": {},
   "outputs": [
    {
     "name": "stdout",
     "output_type": "stream",
     "text": [
      "<class 'pandas.core.frame.DataFrame'>\n",
      "RangeIndex: 9178 entries, 0 to 9177\n",
      "Data columns (total 16 columns):\n",
      " #   Column        Non-Null Count  Dtype  \n",
      "---  ------        --------------  -----  \n",
      " 0   title         9178 non-null   object \n",
      " 1   categoryName  8982 non-null   object \n",
      " 2   website       2783 non-null   object \n",
      " 3   street        8688 non-null   object \n",
      " 4   phone         6535 non-null   object \n",
      " 5   city          9178 non-null   object \n",
      " 6   state         9129 non-null   object \n",
      " 7   location/lat  9178 non-null   float64\n",
      " 8   location/lng  9178 non-null   float64\n",
      " 9   totalScore    7089 non-null   float64\n",
      " 10  rank          9178 non-null   int64  \n",
      " 11  imageUrl      8936 non-null   object \n",
      " 12  imagesCount   8933 non-null   float64\n",
      " 13  reviewsCount  9178 non-null   int64  \n",
      " 14  scrapedAt     9178 non-null   object \n",
      " 15  searchString  9178 non-null   object \n",
      "dtypes: float64(4), int64(2), object(10)\n",
      "memory usage: 1.1+ MB\n"
     ]
    }
   ],
   "source": [
    "# Información del DataFrame a través del método .info() : \n",
    "# Número de filas y columnas\n",
    "# Nombres y tipos de datos de las columnas\n",
    "# Valores no nulos en cada columna\n",
    "# Uso de memoria\n",
    "df.info()"
   ]
  },
  {
   "cell_type": "code",
   "execution_count": 108,
   "id": "1c7ef56e",
   "metadata": {},
   "outputs": [],
   "source": [
    "# Se verifica si hay valores nulos en la columna 'state'\n",
    "df['state'] = df['state'].fillna('Provincia de Buenos Aires')"
   ]
  },
  {
   "cell_type": "code",
   "execution_count": 109,
   "id": "a40a9fe1",
   "metadata": {},
   "outputs": [
    {
     "data": {
      "application/vnd.microsoft.datawrangler.viewer.v0+json": {
       "columns": [
        {
         "name": "state",
         "rawType": "object",
         "type": "string"
        },
        {
         "name": "count",
         "rawType": "int64",
         "type": "integer"
        }
       ],
       "ref": "2bc6fe2f-2d1d-4215-854f-bc53e2e0a1ea",
       "rows": [
        [
         "Provincia de Buenos Aires",
         "9163"
        ],
        [
         "Ciudad Autónoma de Buenos Aires",
         "6"
        ],
        [
         "Buenos Aires Sur",
         "4"
        ],
        [
         "de Buenos Aires",
         "2"
        ],
        [
         "San Juan",
         "1"
        ],
        [
         "La Pampa",
         "1"
        ],
        [
         "CABA",
         "1"
        ]
       ],
       "shape": {
        "columns": 1,
        "rows": 7
       }
      },
      "text/plain": [
       "state\n",
       "Provincia de Buenos Aires          9163\n",
       "Ciudad Autónoma de Buenos Aires       6\n",
       "Buenos Aires Sur                      4\n",
       "de Buenos Aires                       2\n",
       "San Juan                              1\n",
       "La Pampa                              1\n",
       "CABA                                  1\n",
       "Name: count, dtype: int64"
      ]
     },
     "execution_count": 109,
     "metadata": {},
     "output_type": "execute_result"
    }
   ],
   "source": [
    "# Este código cuenta la frecuencia de cada registro en la columna 'state'\n",
    "df['state'].value_counts()"
   ]
  },
  {
   "cell_type": "code",
   "execution_count": 110,
   "id": "59a9d88e",
   "metadata": {},
   "outputs": [],
   "source": [
    "# Se reemplazan los datos de la columna 'state' que no son correctos\n",
    "df['state'] = df['state'].replace({\n",
    "    'San Juan': 'Provincia de Buenos Aires',\n",
    "    'La Pampa': 'Provincia de Buenos Aires',\n",
    "    'Ciudad Autónoma de Buenos Aires': 'Provincia de Buenos Aires',\n",
    "    'de Buenos Aires': 'Provincia de Buenos Aires',\n",
    "    'Ciudad Autónoma de Buenos Aires': 'Provincia de Buenos Aires',\n",
    "    'CABA': 'Provincia de Buenos Aires',\n",
    "    'Buenos Aires Sur' : 'Provincia de Buenos Aires' \n",
    "})\n"
   ]
  },
  {
   "cell_type": "code",
   "execution_count": 111,
   "id": "056c880a",
   "metadata": {},
   "outputs": [],
   "source": [
    "# Define qué strings deben ser tratados como nulos en las columnas seleccionadas.\n",
    "nulls = ['', ' ', 'N/A', 'nan', 'NaN', 'None']\n",
    "# Define las columnas a las que quieres aplicar este proceso.\n",
    "col = ['title', 'categoryName', 'website', 'street', 'phone', 'city', 'state', 'imageUrl']\n",
    "# Itera sobre cada columna y aplica la lógica.\n",
    "for col in col:\n",
    "    df.loc[:, col] = df[col].replace(nulls, np.nan) # Estandariza a np.nan\n",
    "    df.loc[:, col] = df[col].fillna('Incomplete') # Reemplaza nulos con 'Incomplete'\n"
   ]
  },
  {
   "cell_type": "code",
   "execution_count": 112,
   "id": "66f8148e",
   "metadata": {},
   "outputs": [],
   "source": [
    "# Define las columnas a las que se aplica este proceso.\n",
    "colnum = ['location/lat' ,'location/lng', 'totalScore', 'imagesCount', 'rank', 'reviewsCount']\n",
    "# Itera sobre cada columna y aplica la lógica.\n",
    "for colnum in colnum:\n",
    "    df.loc[:, colnum] = df[colnum].replace(nulls, np.nan) # Estandariza a np.nan\n",
    "    df.loc[:, colnum] = df[colnum].fillna(0) # Reemplaza nulos con 0"
   ]
  },
  {
   "cell_type": "code",
   "execution_count": 113,
   "id": "25ef1aca",
   "metadata": {},
   "outputs": [
    {
     "data": {
      "application/vnd.microsoft.datawrangler.viewer.v0+json": {
       "columns": [
        {
         "name": "index",
         "rawType": "object",
         "type": "string"
        },
        {
         "name": "0",
         "rawType": "int64",
         "type": "integer"
        }
       ],
       "ref": "169bcdb2-ae2e-451d-8bca-1888fd7aab25",
       "rows": [
        [
         "title",
         "0"
        ],
        [
         "categoryName",
         "0"
        ],
        [
         "website",
         "0"
        ],
        [
         "street",
         "0"
        ],
        [
         "phone",
         "0"
        ],
        [
         "city",
         "0"
        ],
        [
         "state",
         "0"
        ],
        [
         "location/lat",
         "0"
        ],
        [
         "location/lng",
         "0"
        ],
        [
         "totalScore",
         "0"
        ],
        [
         "rank",
         "0"
        ],
        [
         "imageUrl",
         "0"
        ],
        [
         "imagesCount",
         "0"
        ],
        [
         "reviewsCount",
         "0"
        ],
        [
         "scrapedAt",
         "0"
        ],
        [
         "searchString",
         "0"
        ]
       ],
       "shape": {
        "columns": 1,
        "rows": 16
       }
      },
      "text/plain": [
       "title           0\n",
       "categoryName    0\n",
       "website         0\n",
       "street          0\n",
       "phone           0\n",
       "city            0\n",
       "state           0\n",
       "location/lat    0\n",
       "location/lng    0\n",
       "totalScore      0\n",
       "rank            0\n",
       "imageUrl        0\n",
       "imagesCount     0\n",
       "reviewsCount    0\n",
       "scrapedAt       0\n",
       "searchString    0\n",
       "dtype: int64"
      ]
     },
     "execution_count": 113,
     "metadata": {},
     "output_type": "execute_result"
    }
   ],
   "source": [
    "# Verifica si hay valores nulos en el DataFrame.\n",
    "df.isna().sum()"
   ]
  },
  {
   "cell_type": "code",
   "execution_count": 114,
   "id": "5c4e2d42",
   "metadata": {},
   "outputs": [
    {
     "name": "stdout",
     "output_type": "stream",
     "text": [
      "<class 'pandas.core.frame.DataFrame'>\n",
      "RangeIndex: 9178 entries, 0 to 9177\n",
      "Data columns (total 16 columns):\n",
      " #   Column        Non-Null Count  Dtype  \n",
      "---  ------        --------------  -----  \n",
      " 0   title         9178 non-null   object \n",
      " 1   categoryName  9178 non-null   object \n",
      " 2   website       9178 non-null   object \n",
      " 3   street        9178 non-null   object \n",
      " 4   phone         9178 non-null   object \n",
      " 5   city          9178 non-null   object \n",
      " 6   state         9178 non-null   object \n",
      " 7   location/lat  9178 non-null   float64\n",
      " 8   location/lng  9178 non-null   float64\n",
      " 9   totalScore    9178 non-null   float64\n",
      " 10  rank          9178 non-null   int64  \n",
      " 11  imageUrl      9178 non-null   object \n",
      " 12  imagesCount   9178 non-null   float64\n",
      " 13  reviewsCount  9178 non-null   int64  \n",
      " 14  scrapedAt     9178 non-null   object \n",
      " 15  searchString  9178 non-null   object \n",
      "dtypes: float64(4), int64(2), object(10)\n",
      "memory usage: 1.1+ MB\n"
     ]
    }
   ],
   "source": [
    "df.info()"
   ]
  },
  {
   "cell_type": "code",
   "execution_count": 115,
   "id": "bb2b0a7e",
   "metadata": {},
   "outputs": [
    {
     "name": "stdout",
     "output_type": "stream",
     "text": [
      "Hay 3319 filas duplicadas en el DataFrame.\n"
     ]
    }
   ],
   "source": [
    "# Detecta y cuenta filas duplicadas basadas en título, ciudad, calle y coordenadas\n",
    "dup = df.duplicated(subset=['title','city','street','location/lat','location/lng']).sum()\n",
    "dup.sum()\n",
    "print(f\"Hay {dup} filas duplicadas en el DataFrame.\")"
   ]
  },
  {
   "cell_type": "code",
   "execution_count": 116,
   "id": "23457504",
   "metadata": {},
   "outputs": [],
   "source": [
    "# Quita duplicados según campos clave (título, ciudad, calle y coordenadas), reinicia el índice y \n",
    "# guarda una copia limpia del DataFrame.\n",
    "df = df.loc[~df.duplicated(subset=['title','city','street','location/lat','location/lng'])] \\\n",
    "    .reset_index(drop=True).copy()"
   ]
  },
  {
   "cell_type": "code",
   "execution_count": 117,
   "id": "b994a5ce",
   "metadata": {},
   "outputs": [
    {
     "name": "stdout",
     "output_type": "stream",
     "text": [
      "<class 'pandas.core.frame.DataFrame'>\n",
      "RangeIndex: 5859 entries, 0 to 5858\n",
      "Data columns (total 16 columns):\n",
      " #   Column        Non-Null Count  Dtype  \n",
      "---  ------        --------------  -----  \n",
      " 0   title         5859 non-null   object \n",
      " 1   categoryName  5859 non-null   object \n",
      " 2   website       5859 non-null   object \n",
      " 3   street        5859 non-null   object \n",
      " 4   phone         5859 non-null   object \n",
      " 5   city          5859 non-null   object \n",
      " 6   state         5859 non-null   object \n",
      " 7   location/lat  5859 non-null   float64\n",
      " 8   location/lng  5859 non-null   float64\n",
      " 9   totalScore    5859 non-null   float64\n",
      " 10  rank          5859 non-null   int64  \n",
      " 11  imageUrl      5859 non-null   object \n",
      " 12  imagesCount   5859 non-null   float64\n",
      " 13  reviewsCount  5859 non-null   int64  \n",
      " 14  scrapedAt     5859 non-null   object \n",
      " 15  searchString  5859 non-null   object \n",
      "dtypes: float64(4), int64(2), object(10)\n",
      "memory usage: 732.5+ KB\n"
     ]
    }
   ],
   "source": [
    "# Verifica estructura, cuenta de filas y columnas, tipos y valores faltantes\n",
    "# tras limpieza de duplicados y modificación de tipo de dato\n",
    "df.info()"
   ]
  },
  {
   "cell_type": "code",
   "execution_count": 118,
   "id": "0da8b038",
   "metadata": {},
   "outputs": [
    {
     "data": {
      "application/vnd.microsoft.datawrangler.viewer.v0+json": {
       "columns": [
        {
         "name": "index",
         "rawType": "int64",
         "type": "integer"
        },
        {
         "name": "phone",
         "rawType": "object",
         "type": "string"
        }
       ],
       "ref": "20ca188a-36b4-4279-95d5-77529a9bc318",
       "rows": [
        [
         "0",
         "Incomplete"
        ],
        [
         "1",
         "+54 2281 50-2996"
        ],
        [
         "2",
         "+54 2281 31-0611"
        ],
        [
         "3",
         "+54 2281 42-3119"
        ],
        [
         "4",
         "+54 2281 43-0338"
        ],
        [
         "5",
         "Incomplete"
        ],
        [
         "6",
         "+54 2281 43-0966"
        ],
        [
         "7",
         "+54 2281 49-3233"
        ],
        [
         "8",
         "Incomplete"
        ],
        [
         "9",
         "Incomplete"
        ],
        [
         "10",
         "Incomplete"
        ],
        [
         "11",
         "Incomplete"
        ],
        [
         "12",
         "Incomplete"
        ],
        [
         "13",
         "+54 2281 57-3224"
        ],
        [
         "14",
         "Incomplete"
        ],
        [
         "15",
         "Incomplete"
        ],
        [
         "16",
         "Incomplete"
        ],
        [
         "17",
         "+54 2281 40-0191"
        ],
        [
         "18",
         "+54 2281 68-0841"
        ],
        [
         "19",
         "+54 2281 43-4710"
        ],
        [
         "20",
         "Incomplete"
        ],
        [
         "21",
         "+54 2281 42-9620"
        ],
        [
         "22",
         "+54 2281 56-7256"
        ],
        [
         "23",
         "+54 2281 42-2516"
        ],
        [
         "24",
         "+54 2281 42-5598"
        ],
        [
         "25",
         "Incomplete"
        ],
        [
         "26",
         "Incomplete"
        ],
        [
         "27",
         "Incomplete"
        ],
        [
         "28",
         "Incomplete"
        ],
        [
         "29",
         "+54 2281 41-7979"
        ],
        [
         "30",
         "+54 2281 43-6060"
        ],
        [
         "31",
         "Incomplete"
        ],
        [
         "32",
         "+54 2281 43-4509"
        ],
        [
         "33",
         "Incomplete"
        ],
        [
         "34",
         "+54 2281 50-9728"
        ],
        [
         "35",
         "+54 2281 43-1939"
        ],
        [
         "36",
         "Incomplete"
        ],
        [
         "37",
         "+54 2281 53-7036"
        ],
        [
         "38",
         "Incomplete"
        ],
        [
         "39",
         "Incomplete"
        ],
        [
         "40",
         "Incomplete"
        ],
        [
         "41",
         "Incomplete"
        ],
        [
         "42",
         "Incomplete"
        ],
        [
         "43",
         "+54 221 592-7482"
        ],
        [
         "44",
         "+54 2281 42-4699"
        ],
        [
         "45",
         "Incomplete"
        ],
        [
         "46",
         "Incomplete"
        ],
        [
         "47",
         "+54 2281 49-3057"
        ],
        [
         "48",
         "Incomplete"
        ],
        [
         "49",
         "Incomplete"
        ]
       ],
       "shape": {
        "columns": 1,
        "rows": 5859
       }
      },
      "text/plain": [
       "0             Incomplete\n",
       "1       +54 2281 50-2996\n",
       "2       +54 2281 31-0611\n",
       "3       +54 2281 42-3119\n",
       "4       +54 2281 43-0338\n",
       "              ...       \n",
       "5854    +54 2297 44-2572\n",
       "5855    +54 249 469-4342\n",
       "5856    +54 2297 44-0468\n",
       "5857    +54 249 435-9904\n",
       "5858    +54 249 421-6088\n",
       "Name: phone, Length: 5859, dtype: object"
      ]
     },
     "execution_count": 118,
     "metadata": {},
     "output_type": "execute_result"
    }
   ],
   "source": [
    "# Limpia y estandariza números internacionales (+54) removiendo dígito “9” extra antes del código local\n",
    "df['phone'] = df['phone'].astype(str).str.replace(r'\\+54\\s*9\\s*(\\d+)', r'+54 \\1', regex=True)\n",
    "df['phone']"
   ]
  },
  {
   "cell_type": "code",
   "execution_count": 119,
   "id": "7ea4c693",
   "metadata": {},
   "outputs": [
    {
     "data": {
      "application/vnd.microsoft.datawrangler.viewer.v0+json": {
       "columns": [
        {
         "name": "index",
         "rawType": "int64",
         "type": "integer"
        },
        {
         "name": "phone",
         "rawType": "object",
         "type": "string"
        }
       ],
       "ref": "0d313334-beb1-46dd-9b9f-b8b20f9875cf",
       "rows": [
        [
         "0",
         "Incomplete"
        ],
        [
         "1",
         "+54 9 2281 50-2996"
        ],
        [
         "2",
         "+54 9 2281 31-0611"
        ],
        [
         "3",
         "+54 9 2281 42-3119"
        ],
        [
         "4",
         "+54 9 2281 43-0338"
        ],
        [
         "5",
         "Incomplete"
        ],
        [
         "6",
         "+54 9 2281 43-0966"
        ],
        [
         "7",
         "+54 9 2281 49-3233"
        ],
        [
         "8",
         "Incomplete"
        ],
        [
         "9",
         "Incomplete"
        ],
        [
         "10",
         "Incomplete"
        ],
        [
         "11",
         "Incomplete"
        ],
        [
         "12",
         "Incomplete"
        ],
        [
         "13",
         "+54 9 2281 57-3224"
        ],
        [
         "14",
         "Incomplete"
        ],
        [
         "15",
         "Incomplete"
        ],
        [
         "16",
         "Incomplete"
        ],
        [
         "17",
         "+54 9 2281 40-0191"
        ],
        [
         "18",
         "+54 9 2281 68-0841"
        ],
        [
         "19",
         "+54 9 2281 43-4710"
        ],
        [
         "20",
         "Incomplete"
        ],
        [
         "21",
         "+54 9 2281 42-9620"
        ],
        [
         "22",
         "+54 9 2281 56-7256"
        ],
        [
         "23",
         "+54 9 2281 42-2516"
        ],
        [
         "24",
         "+54 9 2281 42-5598"
        ],
        [
         "25",
         "Incomplete"
        ],
        [
         "26",
         "Incomplete"
        ],
        [
         "27",
         "Incomplete"
        ],
        [
         "28",
         "Incomplete"
        ],
        [
         "29",
         "+54 9 2281 41-7979"
        ],
        [
         "30",
         "+54 9 2281 43-6060"
        ],
        [
         "31",
         "Incomplete"
        ],
        [
         "32",
         "+54 9 2281 43-4509"
        ],
        [
         "33",
         "Incomplete"
        ],
        [
         "34",
         "+54 9 2281 50-9728"
        ],
        [
         "35",
         "+54 9 2281 43-1939"
        ],
        [
         "36",
         "Incomplete"
        ],
        [
         "37",
         "+54 9 2281 53-7036"
        ],
        [
         "38",
         "Incomplete"
        ],
        [
         "39",
         "Incomplete"
        ],
        [
         "40",
         "Incomplete"
        ],
        [
         "41",
         "Incomplete"
        ],
        [
         "42",
         "Incomplete"
        ],
        [
         "43",
         "+54 9 221 592-7482"
        ],
        [
         "44",
         "+54 9 2281 42-4699"
        ],
        [
         "45",
         "Incomplete"
        ],
        [
         "46",
         "Incomplete"
        ],
        [
         "47",
         "+54 9 2281 49-3057"
        ],
        [
         "48",
         "Incomplete"
        ],
        [
         "49",
         "Incomplete"
        ]
       ],
       "shape": {
        "columns": 1,
        "rows": 5859
       }
      },
      "text/plain": [
       "0               Incomplete\n",
       "1       +54 9 2281 50-2996\n",
       "2       +54 9 2281 31-0611\n",
       "3       +54 9 2281 42-3119\n",
       "4       +54 9 2281 43-0338\n",
       "               ...        \n",
       "5854    +54 9 2297 44-2572\n",
       "5855    +54 9 249 469-4342\n",
       "5856    +54 9 2297 44-0468\n",
       "5857    +54 9 249 435-9904\n",
       "5858    +54 9 249 421-6088\n",
       "Name: phone, Length: 5859, dtype: object"
      ]
     },
     "execution_count": 119,
     "metadata": {},
     "output_type": "execute_result"
    }
   ],
   "source": [
    "# Estándariza números telefónicos agregando ‘9’ después del +54 si falta, asegurando el formato internacional correcto.\n",
    "df['phone'] = df['phone'].str.replace(\n",
    "    r'^\\+54\\s*(?!9\\s*[\\d(])(.+)$', \n",
    "    r'+54 9 \\1',                   \n",
    "    regex=True\n",
    ")\n",
    "df['phone']"
   ]
  },
  {
   "cell_type": "code",
   "execution_count": 120,
   "id": "f80f2022",
   "metadata": {},
   "outputs": [
    {
     "data": {
      "application/vnd.microsoft.datawrangler.viewer.v0+json": {
       "columns": [
        {
         "name": "index",
         "rawType": "int64",
         "type": "integer"
        },
        {
         "name": "title",
         "rawType": "object",
         "type": "string"
        },
        {
         "name": "categoryName",
         "rawType": "object",
         "type": "string"
        },
        {
         "name": "website",
         "rawType": "object",
         "type": "string"
        },
        {
         "name": "street",
         "rawType": "object",
         "type": "string"
        },
        {
         "name": "phone",
         "rawType": "object",
         "type": "string"
        },
        {
         "name": "city",
         "rawType": "object",
         "type": "string"
        },
        {
         "name": "state",
         "rawType": "object",
         "type": "string"
        },
        {
         "name": "location/lat",
         "rawType": "float64",
         "type": "float"
        },
        {
         "name": "location/lng",
         "rawType": "float64",
         "type": "float"
        },
        {
         "name": "totalScore",
         "rawType": "float64",
         "type": "float"
        },
        {
         "name": "rank",
         "rawType": "int64",
         "type": "integer"
        },
        {
         "name": "imageUrl",
         "rawType": "object",
         "type": "string"
        },
        {
         "name": "imagesCount",
         "rawType": "float64",
         "type": "float"
        },
        {
         "name": "reviewsCount",
         "rawType": "int64",
         "type": "integer"
        },
        {
         "name": "scrapedAt",
         "rawType": "object",
         "type": "string"
        },
        {
         "name": "searchString",
         "rawType": "object",
         "type": "string"
        }
       ],
       "ref": "e770cd9e-8c82-438a-9b66-608043797759",
       "rows": [
        [
         "0",
         "La Casa de los Trofeos",
         "Comercio",
         "Incomplete",
         "Rivadavia 496",
         "Incomplete",
         "Azul",
         "Provincia de Buenos Aires",
         "-36.7746611",
         "-59.8626234",
         "0.0",
         "1",
         "Incomplete",
         "0.0",
         "0",
         "2025-05-19T00:03:00.547Z",
         "Comercio"
        ],
        [
         "1",
         "La Escoba Loca",
         "Tienda de artículos para el hogar",
         "Incomplete",
         "Colón Nte. 117",
         "+54 9 2281 50-2996",
         "Azul",
         "Provincia de Buenos Aires",
         "-36.7672813",
         "-59.851848",
         "4.8",
         "1",
         "https://lh3.googleusercontent.com/gps-cs-s/AC9h4nrQAaOmvZ2z1z4lvQMpA2KLuyQFp5o7mGWzDytv5YF0PQfwP7XAE6kj-TlUSNLzb_IKC7RiPbPlQmsIhl80ixI-u75r5xA2BufhbZirEShz8aLrep1Ejb9JV3W-W_GeTpQtjyyg=w408-h544-k-no",
         "44.0",
         "73",
         "2025-05-19T00:03:02.157Z",
         "Comercio"
        ],
        [
         "2",
         "Artículos magali",
         "Tienda general",
         "Incomplete",
         "Monseñor Caneva Nte. 160",
         "+54 9 2281 31-0611",
         "Azul",
         "Provincia de Buenos Aires",
         "-36.7743527",
         "-59.8418982",
         "4.3",
         "2",
         "Incomplete",
         "0.0",
         "12",
         "2025-05-19T00:03:02.157Z",
         "Comercio"
        ],
        [
         "3",
         "Autoservicio San Jorge",
         "Comercio",
         "Incomplete",
         "Burgos Nte. 100",
         "+54 9 2281 42-3119",
         "Azul",
         "Provincia de Buenos Aires",
         "-36.7681448",
         "-59.8513049",
         "4.6",
         "3",
         "https://lh3.googleusercontent.com/p/AF1QipPV0VYkVvn3zfCgualFjP9POsmAYza7YT0ETBJ_=w426-h240-k-no",
         "6.0",
         "127",
         "2025-05-19T00:03:02.157Z",
         "Comercio"
        ],
        [
         "4",
         "Asociacion Latina de Exportacion SA",
         "Comercio",
         "Incomplete",
         "Julio Argentino Roca 846",
         "+54 9 2281 43-0338",
         "Azul",
         "Provincia de Buenos Aires",
         "-36.7850672",
         "-59.8592544",
         "3.3",
         "4",
         "https://streetviewpixels-pa.googleapis.com/v1/thumbnail?panoid=WQnGTmaSbHhcH7RNl-Hcog&cb_client=search.gws-prod.gps&w=408&h=240&yaw=50.672348&pitch=0&thumbfov=100",
         "1.0",
         "4",
         "2025-05-19T00:03:02.158Z",
         "Comercio"
        ]
       ],
       "shape": {
        "columns": 16,
        "rows": 5
       }
      },
      "text/html": [
       "<div>\n",
       "<style scoped>\n",
       "    .dataframe tbody tr th:only-of-type {\n",
       "        vertical-align: middle;\n",
       "    }\n",
       "\n",
       "    .dataframe tbody tr th {\n",
       "        vertical-align: top;\n",
       "    }\n",
       "\n",
       "    .dataframe thead th {\n",
       "        text-align: right;\n",
       "    }\n",
       "</style>\n",
       "<table border=\"1\" class=\"dataframe\">\n",
       "  <thead>\n",
       "    <tr style=\"text-align: right;\">\n",
       "      <th></th>\n",
       "      <th>title</th>\n",
       "      <th>categoryName</th>\n",
       "      <th>website</th>\n",
       "      <th>street</th>\n",
       "      <th>phone</th>\n",
       "      <th>city</th>\n",
       "      <th>state</th>\n",
       "      <th>location/lat</th>\n",
       "      <th>location/lng</th>\n",
       "      <th>totalScore</th>\n",
       "      <th>rank</th>\n",
       "      <th>imageUrl</th>\n",
       "      <th>imagesCount</th>\n",
       "      <th>reviewsCount</th>\n",
       "      <th>scrapedAt</th>\n",
       "      <th>searchString</th>\n",
       "    </tr>\n",
       "  </thead>\n",
       "  <tbody>\n",
       "    <tr>\n",
       "      <th>0</th>\n",
       "      <td>La Casa de los Trofeos</td>\n",
       "      <td>Comercio</td>\n",
       "      <td>Incomplete</td>\n",
       "      <td>Rivadavia 496</td>\n",
       "      <td>Incomplete</td>\n",
       "      <td>Azul</td>\n",
       "      <td>Provincia de Buenos Aires</td>\n",
       "      <td>-36.774661</td>\n",
       "      <td>-59.862623</td>\n",
       "      <td>0.0</td>\n",
       "      <td>1</td>\n",
       "      <td>Incomplete</td>\n",
       "      <td>0.0</td>\n",
       "      <td>0</td>\n",
       "      <td>2025-05-19T00:03:00.547Z</td>\n",
       "      <td>Comercio</td>\n",
       "    </tr>\n",
       "    <tr>\n",
       "      <th>1</th>\n",
       "      <td>La Escoba Loca</td>\n",
       "      <td>Tienda de artículos para el hogar</td>\n",
       "      <td>Incomplete</td>\n",
       "      <td>Colón Nte. 117</td>\n",
       "      <td>+54 9 2281 50-2996</td>\n",
       "      <td>Azul</td>\n",
       "      <td>Provincia de Buenos Aires</td>\n",
       "      <td>-36.767281</td>\n",
       "      <td>-59.851848</td>\n",
       "      <td>4.8</td>\n",
       "      <td>1</td>\n",
       "      <td>https://lh3.googleusercontent.com/gps-cs-s/AC9...</td>\n",
       "      <td>44.0</td>\n",
       "      <td>73</td>\n",
       "      <td>2025-05-19T00:03:02.157Z</td>\n",
       "      <td>Comercio</td>\n",
       "    </tr>\n",
       "    <tr>\n",
       "      <th>2</th>\n",
       "      <td>Artículos magali</td>\n",
       "      <td>Tienda general</td>\n",
       "      <td>Incomplete</td>\n",
       "      <td>Monseñor Caneva Nte. 160</td>\n",
       "      <td>+54 9 2281 31-0611</td>\n",
       "      <td>Azul</td>\n",
       "      <td>Provincia de Buenos Aires</td>\n",
       "      <td>-36.774353</td>\n",
       "      <td>-59.841898</td>\n",
       "      <td>4.3</td>\n",
       "      <td>2</td>\n",
       "      <td>Incomplete</td>\n",
       "      <td>0.0</td>\n",
       "      <td>12</td>\n",
       "      <td>2025-05-19T00:03:02.157Z</td>\n",
       "      <td>Comercio</td>\n",
       "    </tr>\n",
       "    <tr>\n",
       "      <th>3</th>\n",
       "      <td>Autoservicio San Jorge</td>\n",
       "      <td>Comercio</td>\n",
       "      <td>Incomplete</td>\n",
       "      <td>Burgos Nte. 100</td>\n",
       "      <td>+54 9 2281 42-3119</td>\n",
       "      <td>Azul</td>\n",
       "      <td>Provincia de Buenos Aires</td>\n",
       "      <td>-36.768145</td>\n",
       "      <td>-59.851305</td>\n",
       "      <td>4.6</td>\n",
       "      <td>3</td>\n",
       "      <td>https://lh3.googleusercontent.com/p/AF1QipPV0V...</td>\n",
       "      <td>6.0</td>\n",
       "      <td>127</td>\n",
       "      <td>2025-05-19T00:03:02.157Z</td>\n",
       "      <td>Comercio</td>\n",
       "    </tr>\n",
       "    <tr>\n",
       "      <th>4</th>\n",
       "      <td>Asociacion Latina de Exportacion SA</td>\n",
       "      <td>Comercio</td>\n",
       "      <td>Incomplete</td>\n",
       "      <td>Julio Argentino Roca 846</td>\n",
       "      <td>+54 9 2281 43-0338</td>\n",
       "      <td>Azul</td>\n",
       "      <td>Provincia de Buenos Aires</td>\n",
       "      <td>-36.785067</td>\n",
       "      <td>-59.859254</td>\n",
       "      <td>3.3</td>\n",
       "      <td>4</td>\n",
       "      <td>https://streetviewpixels-pa.googleapis.com/v1/...</td>\n",
       "      <td>1.0</td>\n",
       "      <td>4</td>\n",
       "      <td>2025-05-19T00:03:02.158Z</td>\n",
       "      <td>Comercio</td>\n",
       "    </tr>\n",
       "  </tbody>\n",
       "</table>\n",
       "</div>"
      ],
      "text/plain": [
       "                                 title                       categoryName  \\\n",
       "0               La Casa de los Trofeos                           Comercio   \n",
       "1                       La Escoba Loca  Tienda de artículos para el hogar   \n",
       "2                     Artículos magali                     Tienda general   \n",
       "3               Autoservicio San Jorge                           Comercio   \n",
       "4  Asociacion Latina de Exportacion SA                           Comercio   \n",
       "\n",
       "      website                    street               phone  city  \\\n",
       "0  Incomplete             Rivadavia 496          Incomplete  Azul   \n",
       "1  Incomplete            Colón Nte. 117  +54 9 2281 50-2996  Azul   \n",
       "2  Incomplete  Monseñor Caneva Nte. 160  +54 9 2281 31-0611  Azul   \n",
       "3  Incomplete           Burgos Nte. 100  +54 9 2281 42-3119  Azul   \n",
       "4  Incomplete  Julio Argentino Roca 846  +54 9 2281 43-0338  Azul   \n",
       "\n",
       "                       state  location/lat  location/lng  totalScore  rank  \\\n",
       "0  Provincia de Buenos Aires    -36.774661    -59.862623         0.0     1   \n",
       "1  Provincia de Buenos Aires    -36.767281    -59.851848         4.8     1   \n",
       "2  Provincia de Buenos Aires    -36.774353    -59.841898         4.3     2   \n",
       "3  Provincia de Buenos Aires    -36.768145    -59.851305         4.6     3   \n",
       "4  Provincia de Buenos Aires    -36.785067    -59.859254         3.3     4   \n",
       "\n",
       "                                            imageUrl  imagesCount  \\\n",
       "0                                         Incomplete          0.0   \n",
       "1  https://lh3.googleusercontent.com/gps-cs-s/AC9...         44.0   \n",
       "2                                         Incomplete          0.0   \n",
       "3  https://lh3.googleusercontent.com/p/AF1QipPV0V...          6.0   \n",
       "4  https://streetviewpixels-pa.googleapis.com/v1/...          1.0   \n",
       "\n",
       "   reviewsCount                 scrapedAt searchString  \n",
       "0             0  2025-05-19T00:03:00.547Z     Comercio  \n",
       "1            73  2025-05-19T00:03:02.157Z     Comercio  \n",
       "2            12  2025-05-19T00:03:02.157Z     Comercio  \n",
       "3           127  2025-05-19T00:03:02.157Z     Comercio  \n",
       "4             4  2025-05-19T00:03:02.158Z     Comercio  "
      ]
     },
     "execution_count": 120,
     "metadata": {},
     "output_type": "execute_result"
    }
   ],
   "source": [
    "# Limpia los nombres de comercios eliminando comillas, asteriscos, signos de interrogación y emoticones.\n",
    "df['title'] = df['title'].str.replace('\"', '', regex=False) \\\n",
    "    .str.replace('*', '', regex=False) \\\n",
    "    .str.replace('?', '', regex=False) \\\n",
    "    .str.replace(\"'\", '', regex=False) \\\n",
    "    .str.replace(\"👬\", '', regex=False) \\\n",
    "    .str.replace(\"✨\", '', regex=False) \\\n",
    "    .str.replace(\"⚽️\", '', regex=False) \\\n",
    "    .str.replace(\"💖\", '', regex=False) \\\n",
    "    .str.replace(\"♓\", '', regex=False) \\\n",
    "    .str.replace(\"°\", '', regex=False) \\\n",
    "    .str.replace(\"❣️\", '', regex=False) \\\n",
    "    .str.replace(\"!\", '', regex=False) \\\n",
    "    .str.replace(\"🔥\", '', regex=False) \\\n",
    "    .str.replace(\"🪽\", '', regex=False)\t  \n",
    "df.head(5)"
   ]
  },
  {
   "cell_type": "code",
   "execution_count": 121,
   "id": "b36f2e89",
   "metadata": {},
   "outputs": [
    {
     "data": {
      "application/vnd.microsoft.datawrangler.viewer.v0+json": {
       "columns": [
        {
         "name": "index",
         "rawType": "int64",
         "type": "integer"
        },
        {
         "name": "title",
         "rawType": "object",
         "type": "string"
        },
        {
         "name": "searchString",
         "rawType": "object",
         "type": "string"
        },
        {
         "name": "categoryName",
         "rawType": "object",
         "type": "string"
        }
       ],
       "ref": "a382b09c-1712-4a82-89f9-06e5a373c2f9",
       "rows": [
        [
         "0",
         "La Casa De Los Trofeos",
         "Comercio",
         "Comercio"
        ],
        [
         "1",
         "La Escoba Loca",
         "Comercio",
         "Tienda De Artículos Para El Hogar"
        ],
        [
         "2",
         "Artículos Magali",
         "Comercio",
         "Tienda General"
        ],
        [
         "3",
         "Autoservicio San Jorge",
         "Comercio",
         "Comercio"
        ],
        [
         "4",
         "Asociacion Latina De Exportacion Sa",
         "Comercio",
         "Comercio"
        ],
        [
         "5",
         "Jaque Mate",
         "Comercio",
         "Comercio"
        ],
        [
         "6",
         "Eco System Sa",
         "Comercio",
         "Comercio"
        ],
        [
         "7",
         "Despensa Y Anexos Biyo",
         "Comercio",
         "Tienda De Alimentación"
        ],
        [
         "8",
         "El Trueque Azul",
         "Comercio",
         "Comercio"
        ],
        [
         "9",
         "La Fiambreria",
         "Comercio",
         "Carnicería"
        ],
        [
         "10",
         "Empleados De Comercio",
         "Comercio",
         "Incomplete"
        ],
        [
         "11",
         "Empleado De Comercio Edificio",
         "Comercio",
         "Edificio De Apartamentos"
        ],
        [
         "12",
         "Remates En Azul",
         "Comercio",
         "Comercio"
        ],
        [
         "13",
         "Salamanca",
         "Comercio",
         "Tienda De Alimentación"
        ],
        [
         "14",
         "Ensemble S.R.L.",
         "Comercio",
         "Comercio"
        ],
        [
         "15",
         "Despensa El Comienzo",
         "Comercio",
         "Tienda De Alimentación"
        ],
        [
         "16",
         "Cb Indumentaria",
         "Comercio",
         "Tienda De Ropa"
        ],
        [
         "17",
         "Polirrubro Chiky",
         "Comercio",
         "Kiosco"
        ],
        [
         "18",
         "Como A Vos Te Guste Accesorios",
         "Comercio",
         "Tienda De Accesorios De Moda"
        ],
        [
         "19",
         "Sederia Marion",
         "Comercio",
         "Comercio"
        ],
        [
         "20",
         "Drugstore Center Azul 2",
         "Comercio",
         "Kiosco"
        ],
        [
         "21",
         "Marcos N Tonel",
         "Comercio",
         "Comercio"
        ],
        [
         "22",
         "Suttò Piedras Y Aromas",
         "Comercio",
         "Comercio"
        ],
        [
         "23",
         "Yannibelli Anibal",
         "Comercio",
         "Comercio"
        ],
        [
         "24",
         "Autoservicio Burbujas",
         "Comercio",
         "Comercio"
        ],
        [
         "25",
         "El Arca",
         "Comercio",
         "Supermercado"
        ],
        [
         "26",
         "Minimercado Lo De Barba",
         "Comercio",
         "Tienda De Alimentación"
        ],
        [
         "27",
         "Minimercado La Esquina De Alejandro Y Silvina",
         "Comercio",
         "Comercio"
        ],
        [
         "28",
         "El Arca",
         "Comercio",
         "Supermercado"
        ],
        [
         "29",
         "Lubricentro Y Gomeria El Tucu",
         "Comercio",
         "Comercio"
        ],
        [
         "30",
         "Oroquieta Hector Marcelo",
         "Comercio",
         "Comercio"
        ],
        [
         "31",
         "Minimarket",
         "Comercio",
         "Supermercado"
        ],
        [
         "32",
         "Asociacion Civil Rinconcito Del Carmen",
         "Comercio",
         "Comercio"
        ],
        [
         "33",
         "Venden Y Permutas",
         "Comercio",
         "Tienda General"
        ],
        [
         "34",
         "Almíbar",
         "Comercio",
         "Tienda De Alimentación"
        ],
        [
         "35",
         "Victor R Mori",
         "Comercio",
         "Tienda De Alimentación"
        ],
        [
         "36",
         "Futuro",
         "Comercio",
         "Comercio"
        ],
        [
         "37",
         "Vidrieria 25 De Mayo De Jose Canalicchio",
         "Comercio",
         "Comercio"
        ],
        [
         "38",
         "Despensa El Vasco",
         "Comercio",
         "Tienda De Alimentación"
        ],
        [
         "39",
         "Polirrubro Yanilen",
         "Comercio",
         "Comercio"
        ],
        [
         "40",
         "Leñera Las 3 Niñas",
         "Comercio",
         "Comercio"
        ],
        [
         "41",
         "Verdu De Conte",
         "Comercio",
         "Tienda De Alimentación"
        ],
        [
         "42",
         "Distribuidora El Galpón ( Gaseosas Secco Y Alimentos Balanceados",
         "Comercio",
         "Tienda De Alimentación"
        ],
        [
         "43",
         "Despensa Del Barrio",
         "Comercio",
         "Tienda De Alimentación"
        ],
        [
         "44",
         "Lavadero De Ropa Bolivar Entrega A Domicilio",
         "Comercio",
         "Comercio"
        ],
        [
         "45",
         "Autoservicio Panchito",
         "Comercio",
         "Supermercado"
        ],
        [
         "46",
         "Vinos Galan",
         "Comercio",
         "Comercio"
        ],
        [
         "47",
         "Hecha Percha",
         "Comercio",
         "Mercería"
        ],
        [
         "48",
         "Forrajería Y Todo Suelto El Amanecer",
         "Comercio",
         "Tienda De Alimentación"
        ],
        [
         "49",
         "El Botón Mercería",
         "Comercio",
         "Mercería"
        ]
       ],
       "shape": {
        "columns": 3,
        "rows": 5859
       }
      },
      "text/html": [
       "<div>\n",
       "<style scoped>\n",
       "    .dataframe tbody tr th:only-of-type {\n",
       "        vertical-align: middle;\n",
       "    }\n",
       "\n",
       "    .dataframe tbody tr th {\n",
       "        vertical-align: top;\n",
       "    }\n",
       "\n",
       "    .dataframe thead th {\n",
       "        text-align: right;\n",
       "    }\n",
       "</style>\n",
       "<table border=\"1\" class=\"dataframe\">\n",
       "  <thead>\n",
       "    <tr style=\"text-align: right;\">\n",
       "      <th></th>\n",
       "      <th>title</th>\n",
       "      <th>searchString</th>\n",
       "      <th>categoryName</th>\n",
       "    </tr>\n",
       "  </thead>\n",
       "  <tbody>\n",
       "    <tr>\n",
       "      <th>0</th>\n",
       "      <td>La Casa De Los Trofeos</td>\n",
       "      <td>Comercio</td>\n",
       "      <td>Comercio</td>\n",
       "    </tr>\n",
       "    <tr>\n",
       "      <th>1</th>\n",
       "      <td>La Escoba Loca</td>\n",
       "      <td>Comercio</td>\n",
       "      <td>Tienda De Artículos Para El Hogar</td>\n",
       "    </tr>\n",
       "    <tr>\n",
       "      <th>2</th>\n",
       "      <td>Artículos Magali</td>\n",
       "      <td>Comercio</td>\n",
       "      <td>Tienda General</td>\n",
       "    </tr>\n",
       "    <tr>\n",
       "      <th>3</th>\n",
       "      <td>Autoservicio San Jorge</td>\n",
       "      <td>Comercio</td>\n",
       "      <td>Comercio</td>\n",
       "    </tr>\n",
       "    <tr>\n",
       "      <th>4</th>\n",
       "      <td>Asociacion Latina De Exportacion Sa</td>\n",
       "      <td>Comercio</td>\n",
       "      <td>Comercio</td>\n",
       "    </tr>\n",
       "    <tr>\n",
       "      <th>...</th>\n",
       "      <td>...</td>\n",
       "      <td>...</td>\n",
       "      <td>...</td>\n",
       "    </tr>\n",
       "    <tr>\n",
       "      <th>5854</th>\n",
       "      <td>Cerrajeria Hugo</td>\n",
       "      <td>Construccion</td>\n",
       "      <td>Cerrajero</td>\n",
       "    </tr>\n",
       "    <tr>\n",
       "      <th>5855</th>\n",
       "      <td>Signos Arte Grafico</td>\n",
       "      <td>Construccion</td>\n",
       "      <td>Servicios De Diseño</td>\n",
       "    </tr>\n",
       "    <tr>\n",
       "      <th>5856</th>\n",
       "      <td>Registro Nacional De La Propiedad Del Automotor</td>\n",
       "      <td>Vehiculos</td>\n",
       "      <td>Agencia De Registro De Automóviles</td>\n",
       "    </tr>\n",
       "    <tr>\n",
       "      <th>5857</th>\n",
       "      <td>Carpintería Tedesco Hermanos</td>\n",
       "      <td>Construccion</td>\n",
       "      <td>Carpintero</td>\n",
       "    </tr>\n",
       "    <tr>\n",
       "      <th>5858</th>\n",
       "      <td>Zapatería Tofi</td>\n",
       "      <td>Tienda</td>\n",
       "      <td>Zapatero</td>\n",
       "    </tr>\n",
       "  </tbody>\n",
       "</table>\n",
       "<p>5859 rows × 3 columns</p>\n",
       "</div>"
      ],
      "text/plain": [
       "                                                title  searchString  \\\n",
       "0                              La Casa De Los Trofeos      Comercio   \n",
       "1                                      La Escoba Loca      Comercio   \n",
       "2                                    Artículos Magali      Comercio   \n",
       "3                              Autoservicio San Jorge      Comercio   \n",
       "4                 Asociacion Latina De Exportacion Sa      Comercio   \n",
       "...                                               ...           ...   \n",
       "5854                                  Cerrajeria Hugo  Construccion   \n",
       "5855                              Signos Arte Grafico  Construccion   \n",
       "5856  Registro Nacional De La Propiedad Del Automotor     Vehiculos   \n",
       "5857                     Carpintería Tedesco Hermanos  Construccion   \n",
       "5858                                   Zapatería Tofi        Tienda   \n",
       "\n",
       "                            categoryName  \n",
       "0                               Comercio  \n",
       "1      Tienda De Artículos Para El Hogar  \n",
       "2                         Tienda General  \n",
       "3                               Comercio  \n",
       "4                               Comercio  \n",
       "...                                  ...  \n",
       "5854                           Cerrajero  \n",
       "5855                 Servicios De Diseño  \n",
       "5856  Agencia De Registro De Automóviles  \n",
       "5857                          Carpintero  \n",
       "5858                            Zapatero  \n",
       "\n",
       "[5859 rows x 3 columns]"
      ]
     },
     "execution_count": 121,
     "metadata": {},
     "output_type": "execute_result"
    }
   ],
   "source": [
    "# Estandariza title, searchString y categoryName aplicando formato de título.\n",
    "df['title'] = df['title'].str.title()\n",
    "df['searchString'] = df['searchString'].str.title()\n",
    "df['categoryName'] = df['categoryName'].str.title()\n",
    "df[['title', 'searchString', 'categoryName']]"
   ]
  },
  {
   "cell_type": "code",
   "execution_count": 122,
   "id": "54efce16",
   "metadata": {},
   "outputs": [],
   "source": [
    "# Elimina el prefijo '/url?q=' de las URLs en la columna 'website' y conserva solo la URL base.\n",
    "df['website'] = df['website'].str.replace(\n",
    "    r'^\\s*/url\\?q=(https?://.*)',\n",
    "    r'\\1',\n",
    "    regex=True\n",
    ")"
   ]
  },
  {
   "cell_type": "code",
   "execution_count": 123,
   "id": "cdbd4f95",
   "metadata": {},
   "outputs": [
    {
     "data": {
      "application/vnd.microsoft.datawrangler.viewer.v0+json": {
       "columns": [
        {
         "name": "website",
         "rawType": "object",
         "type": "string"
        },
        {
         "name": "count",
         "rawType": "int64",
         "type": "integer"
        }
       ],
       "ref": "976579e1-3e91-44d1-ac92-c8ce16e8839b",
       "rows": [
        [
         "Incomplete",
         "4109"
        ],
        [
         "https://argentina.gridohelado.com/",
         "6"
        ],
        [
         "http://www.cooperativaobrera.coop/",
         "5"
        ],
        [
         "http://www.luz-azul.com.ar/",
         "5"
        ],
        [
         "http://www.ypf.com/",
         "4"
        ],
        [
         "https://www.gpstaller.com.ar/",
         "4"
        ],
        [
         "http://www.golopolis.com.ar/",
         "4"
        ],
        [
         "http://www.imposa.com.ar/",
         "3"
        ],
        [
         "https://www.tiendadash.com.ar/",
         "3"
        ],
        [
         "http://www.roas.com.ar/",
         "3"
        ],
        [
         "http://www.mimo.com.ar/",
         "3"
        ],
        [
         "http://www.cheeky.com.ar/",
         "3"
        ],
        [
         "https://canelapinturerias.com.ar/",
         "3"
        ],
        [
         "http://www.opensports.com.ar/",
         "3"
        ],
        [
         "http://www.lacasiana.com/",
         "3"
        ],
        [
         "https://diaonline.supermercadosdia.com.ar/",
         "3"
        ],
        [
         "https://www.facebook.com/share/1WoxmBF5Cx/",
         "3"
        ],
        [
         "https://www.carrefour.com.ar/",
         "3"
        ],
        [
         "http://www.casasilvia.com/",
         "2"
        ],
        [
         "http://www.kevingston.com/",
         "2"
        ],
        [
         "https://www.prestigio.com.ar/?utm_source=botonTienda&utm_medium=gbp&utm_id=gbp",
         "2"
        ],
        [
         "http://miwok.com.ar/",
         "2"
        ],
        [
         "https://m.facebook.com/pages/FAMULARO-SA/159162330949584",
         "2"
        ],
        [
         "http://catrielmapu.com.ar/",
         "2"
        ],
        [
         "https://laofi.inmo.co/",
         "2"
        ],
        [
         "https://www.arredo.com.ar/",
         "2"
        ],
        [
         "http://www.polipez.com.ar/",
         "2"
        ],
        [
         "http://www.tripstore.com.ar/",
         "2"
        ],
        [
         "http://elpra.com.ar/",
         "2"
        ],
        [
         "https://www.bringerihogar.com.ar/",
         "2"
        ],
        [
         "https://www.salvatandil.com.ar/",
         "2"
        ],
        [
         "http://www.magher.com.ar/",
         "2"
        ],
        [
         "https://ar.todomoda.com/",
         "2"
        ],
        [
         "https://bossanova.com.ar/",
         "2"
        ],
        [
         "http://tripodichapas.com/",
         "2"
        ],
        [
         "http://www.todosistema.com/",
         "2"
        ],
        [
         "http://www.martinezescalada.com.ar/",
         "2"
        ],
        [
         "https://www.nuevashogar.com.ar/",
         "2"
        ],
        [
         "https://www.ypf.com/",
         "2"
        ],
        [
         "https://www.instagram.com/inmobiliariasacconepropiedades/",
         "2"
        ],
        [
         "https://gorostidiinmobiliaria.com.ar/",
         "2"
        ],
        [
         "https://www.instagram.com/megacompras_oficial/?hl=es-la",
         "2"
        ],
        [
         "http://www.desdelaraiz.com.ar/",
         "2"
        ],
        [
         "http://www.gba.gob.ar/",
         "2"
        ],
        [
         "https://sinergiamax.com.ar/",
         "2"
        ],
        [
         "https://www.finning.com/es_AR/contact/branch-locator/sucursal-olavarria.html",
         "2"
        ],
        [
         "http://www.xn--cabaaspiedracaliza-q0b.com.ar/",
         "2"
        ],
        [
         "https://chimueloropainterior.empretienda.com.ar/",
         "2"
        ],
        [
         "https://www.goldenbike.com.ar/",
         "2"
        ],
        [
         "https://www.naldo.com.ar/",
         "2"
        ]
       ],
       "shape": {
        "columns": 1,
        "rows": 1657
       }
      },
      "text/plain": [
       "website\n",
       "Incomplete                                     4109\n",
       "https://argentina.gridohelado.com/                6\n",
       "http://www.cooperativaobrera.coop/                5\n",
       "http://www.luz-azul.com.ar/                       5\n",
       "http://www.ypf.com/                               4\n",
       "                                               ... \n",
       "http://www.zucchiattipropiedades.com.ar/          1\n",
       "https://www.millenniumpropiedades.com/            1\n",
       "http://www.alvarezneumaticos.com/                 1\n",
       "http://www.plastigas.com.ar/                      1\n",
       "https://www.instagram.com/benditoolavarria/       1\n",
       "Name: count, Length: 1657, dtype: int64"
      ]
     },
     "execution_count": 123,
     "metadata": {},
     "output_type": "execute_result"
    }
   ],
   "source": [
    "# Contar cuántas veces aparece cada valor en la columna 'website'\n",
    "df['website'].value_counts()"
   ]
  },
  {
   "cell_type": "code",
   "execution_count": 124,
   "id": "8b0c2bd6",
   "metadata": {},
   "outputs": [
    {
     "name": "stdout",
     "output_type": "stream",
     "text": [
      "Los comercios están registrados en un total de 621 categorías distintas\n"
     ]
    }
   ],
   "source": [
    "# Se cuentan las distintas categorías\n",
    "category = df['categoryName'].nunique()\n",
    "print(f\"Los comercios están registrados en un total de {category} categorías distintas\")"
   ]
  },
  {
   "cell_type": "code",
   "execution_count": 125,
   "id": "318048ea",
   "metadata": {},
   "outputs": [
    {
     "data": {
      "application/vnd.microsoft.datawrangler.viewer.v0+json": {
       "columns": [
        {
         "name": "categoryName",
         "rawType": "object",
         "type": "string"
        },
        {
         "name": "count",
         "rawType": "int64",
         "type": "integer"
        }
       ],
       "ref": "c64db3f0-acac-4daf-bf91-a211e16b1737",
       "rows": [
        [
         "Tienda De Ropa",
         "464"
        ],
        [
         "Tienda De Alimentación",
         "366"
        ],
        [
         "Comercio",
         "333"
        ],
        [
         "Agencia Inmobiliaria",
         "180"
        ],
        [
         "Incomplete",
         "142"
        ],
        [
         "Taller De Reparación De Automóviles",
         "141"
        ],
        [
         "Tienda De Repuestos Para Automóviles",
         "140"
        ],
        [
         "Tienda De Ropa De Mujer",
         "115"
        ],
        [
         "Tienda De Materiales Para La Construcción",
         "103"
        ],
        [
         "Carnicería",
         "101"
        ],
        [
         "Tienda De Artículos Para El Hogar",
         "97"
        ],
        [
         "Supermercado",
         "93"
        ],
        [
         "Panadería",
         "90"
        ],
        [
         "Concesionario De Automóviles",
         "83"
        ],
        [
         "Taller Mecánico",
         "81"
        ],
        [
         "Tienda De Muebles",
         "68"
        ],
        [
         "Empresa Constructora",
         "66"
        ],
        [
         "Club Deportivo",
         "66"
        ],
        [
         "Ferretería",
         "60"
        ],
        [
         "Frutería",
         "59"
        ],
        [
         "Kiosco",
         "57"
        ],
        [
         "Tienda General",
         "53"
        ],
        [
         "Farmacia",
         "48"
        ],
        [
         "Tienda De Pinturas",
         "47"
        ],
        [
         "Tienda De Informática",
         "46"
        ],
        [
         "Tienda De Regalos",
         "45"
        ],
        [
         "Librería",
         "43"
        ],
        [
         "Tienda De Ropa Infantil",
         "38"
        ],
        [
         "Heladería",
         "35"
        ],
        [
         "Tienda De Electrónica",
         "34"
        ],
        [
         "Tienda De Móviles",
         "34"
        ],
        [
         "Taller De Automóviles",
         "33"
        ],
        [
         "Tienda De Neumáticos",
         "33"
        ],
        [
         "Tienda De Ropa De Hombre",
         "31"
        ],
        [
         "Tienda De Ropa Para Bebés",
         "31"
        ],
        [
         "Agentes Inmobiliarios",
         "29"
        ],
        [
         "Urbanización",
         "28"
        ],
        [
         "Cafetería",
         "28"
        ],
        [
         "Tienda De Herramientas",
         "28"
        ],
        [
         "Tienda De Lencería",
         "28"
        ],
        [
         "Tienda De Alimentos Naturales",
         "26"
        ],
        [
         "Tienda De Ropa De Deportes",
         "26"
        ],
        [
         "Diseñador De Sitios Web",
         "26"
        ],
        [
         "Zapatería",
         "26"
        ],
        [
         "Proveedor De Materiales De Construcción",
         "25"
        ],
        [
         "Gasolinera",
         "22"
        ],
        [
         "Servicio De Cambio De Aceite",
         "22"
        ],
        [
         "Tienda De Alimentos Para Animales",
         "21"
        ],
        [
         "Establecimiento De Venta De Madera",
         "21"
        ],
        [
         "Electricista",
         "20"
        ]
       ],
       "shape": {
        "columns": 1,
        "rows": 621
       }
      },
      "text/plain": [
       "categoryName\n",
       "Tienda De Ropa                   464\n",
       "Tienda De Alimentación           366\n",
       "Comercio                         333\n",
       "Agencia Inmobiliaria             180\n",
       "Incomplete                       142\n",
       "                                ... \n",
       "Escuela De Artes Marciales         1\n",
       "Tienda De Cristales Y Espejos      1\n",
       "Complejo De Viviendas              1\n",
       "Cerrajero                          1\n",
       "Zapatero                           1\n",
       "Name: count, Length: 621, dtype: int64"
      ]
     },
     "execution_count": 125,
     "metadata": {},
     "output_type": "execute_result"
    }
   ],
   "source": [
    "# Se cuentan las categorías y se muestran las más frecuentes.\n",
    "df['categoryName'].value_counts()"
   ]
  },
  {
   "cell_type": "code",
   "execution_count": 126,
   "id": "4911a209",
   "metadata": {},
   "outputs": [],
   "source": [
    "# Se exporta el DataFrame Regional limpio a un archivo CSV sin incluir la columna del índice.\n",
    "df.to_csv('../CleanData/Regional.csv', index=False)"
   ]
  },
  {
   "cell_type": "markdown",
   "id": "66f62ec3",
   "metadata": {},
   "source": [
    "<div style=\"font-family: 'JetBrains Mono', monospace; font-size: 14px; color: #e2dbdbff; line-height: 1.6;\">\n",
    "✅ Conclusión\n",
    "\n",
    "Se obtuvo un dataset unificado, sin duplicados y con valores nulos tratados.\n",
    "El archivo está limpio y preparado para el análisis exploratorio.\n",
    "\n",
    "</div>"
   ]
  }
 ],
 "metadata": {
  "kernelspec": {
   "display_name": ".venv (3.13.7)",
   "language": "python",
   "name": "python3"
  },
  "language_info": {
   "codemirror_mode": {
    "name": "ipython",
    "version": 3
   },
   "file_extension": ".py",
   "mimetype": "text/x-python",
   "name": "python",
   "nbconvert_exporter": "python",
   "pygments_lexer": "ipython3",
   "version": "3.13.7"
  }
 },
 "nbformat": 4,
 "nbformat_minor": 5
}
